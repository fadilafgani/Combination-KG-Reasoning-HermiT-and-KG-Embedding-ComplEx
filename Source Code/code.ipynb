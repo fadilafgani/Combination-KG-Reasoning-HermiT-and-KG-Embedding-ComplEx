{
  "nbformat": 4,
  "nbformat_minor": 0,
  "metadata": {
    "colab": {
      "provenance": [],
      "toc_visible": true
    },
    "kernelspec": {
      "name": "python3",
      "display_name": "Python 3"
    },
    "language_info": {
      "name": "python"
    }
  },
  "cells": [
    {
      "cell_type": "code",
      "execution_count": null,
      "metadata": {
        "colab": {
          "base_uri": "https://localhost:8080/"
        },
        "id": "NLYNvJkehw5k",
        "outputId": "39fab05b-faa1-49e1-9722-b2efa8ab5be8"
      },
      "outputs": [
        {
          "output_type": "stream",
          "name": "stdout",
          "text": [
            "Collecting rdflib\n",
            "  Downloading rdflib-7.0.0-py3-none-any.whl (531 kB)\n",
            "\u001b[2K     \u001b[90m━━━━━━━━━━━━━━━━━━━━━━━━━━━━━━━━━━━━━━━━\u001b[0m \u001b[32m531.9/531.9 kB\u001b[0m \u001b[31m3.5 MB/s\u001b[0m eta \u001b[36m0:00:00\u001b[0m\n",
            "\u001b[?25hCollecting isodate<0.7.0,>=0.6.0 (from rdflib)\n",
            "  Downloading isodate-0.6.1-py2.py3-none-any.whl (41 kB)\n",
            "\u001b[2K     \u001b[90m━━━━━━━━━━━━━━━━━━━━━━━━━━━━━━━━━━━━━━━━\u001b[0m \u001b[32m41.7/41.7 kB\u001b[0m \u001b[31m4.2 MB/s\u001b[0m eta \u001b[36m0:00:00\u001b[0m\n",
            "\u001b[?25hRequirement already satisfied: pyparsing<4,>=2.1.0 in /usr/local/lib/python3.10/dist-packages (from rdflib) (3.1.1)\n",
            "Requirement already satisfied: six in /usr/local/lib/python3.10/dist-packages (from isodate<0.7.0,>=0.6.0->rdflib) (1.16.0)\n",
            "Installing collected packages: isodate, rdflib\n",
            "Successfully installed isodate-0.6.1 rdflib-7.0.0\n"
          ]
        }
      ],
      "source": [
        "pip install rdflib"
      ]
    },
    {
      "cell_type": "markdown",
      "source": [
        "#**Ekstrak dan save tripple knowledge graph**"
      ],
      "metadata": {
        "id": "Tw-ZPPtXh_9t"
      }
    },
    {
      "cell_type": "code",
      "source": [
        "import rdflib\n",
        "\n",
        "# Membuat graf RDF\n",
        "g = rdflib.Graph()\n",
        "\n",
        "# Lokasi file RDF Turtle\n",
        "file_path = '/content/SpeckledBand - new.ttl'\n",
        "\n",
        "# Parsing file RDF Turtle\n",
        "g.parse(file_path, format='turtle')\n",
        "\n",
        "# SPARQL Query untuk mendapatkan semua triplet <subject, predicate, object>\n",
        "query = \"\"\"\n",
        "SELECT DISTINCT ?subject ?predicate ?object\n",
        "WHERE {\n",
        "    ?subject ?predicate ?object .\n",
        "}\n",
        "\"\"\"\n",
        "\n",
        "# Menjalankan query\n",
        "results = g.query(query)\n",
        "\n",
        "# Lokasi file teks untuk menyimpan hasil\n",
        "output_file_path = 'triple_individual_SpeckledBand.txt'\n",
        "\n",
        "# Menyimpan hasil ke dalam file teks\n",
        "with open(output_file_path, 'w') as output_file:\n",
        "    for row in results:\n",
        "        output_file.write(f\"{row.subject}, {row.predicate}, {row.object}\\n\")\n",
        "\n",
        "print(f\"Triplets telah disimpan di {output_file_path}\")\n"
      ],
      "metadata": {
        "colab": {
          "base_uri": "https://localhost:8080/"
        },
        "id": "5iufmZuBiG-T",
        "outputId": "588fe274-9db8-4779-8bf5-6420be6152db"
      },
      "execution_count": null,
      "outputs": [
        {
          "output_type": "stream",
          "name": "stdout",
          "text": [
            "Triplets telah disimpan di triple_individual_SpeckledBand.txt\n"
          ]
        }
      ]
    },
    {
      "cell_type": "markdown",
      "source": [
        "#**Ekstrak dan save tripple knowledge graph hasil reasoning - 1**"
      ],
      "metadata": {
        "id": "ugfK_uV8DDhn"
      }
    },
    {
      "cell_type": "code",
      "source": [
        "import rdflib\n",
        "\n",
        "# Membuat graf RDF\n",
        "g = rdflib.Graph()\n",
        "\n",
        "# Lokasi file RDF Turtle\n",
        "file_path = '/content/reasoner_1_no_ontology.ttl'\n",
        "\n",
        "# Parsing file RDF Turtle\n",
        "g.parse(file_path, format='turtle')\n",
        "\n",
        "# SPARQL Query untuk mendapatkan semua triplet <subject, predicate, object>\n",
        "query = \"\"\"\n",
        "SELECT DISTINCT ?subject ?predicate ?object\n",
        "WHERE {\n",
        "    ?subject ?predicate ?object .\n",
        "}\n",
        "\"\"\"\n",
        "\n",
        "# Menjalankan query\n",
        "results = g.query(query)\n",
        "\n",
        "# Lokasi file teks untuk menyimpan hasil\n",
        "output_file_path = 'triple_individual_reasoner_1_no_ontology.txt'\n",
        "\n",
        "# Menyimpan hasil ke dalam file teks\n",
        "with open(output_file_path, 'w') as output_file:\n",
        "    for row in results:\n",
        "        output_file.write(f\"{row.subject}, {row.predicate}, {row.object}\\n\")\n",
        "\n",
        "print(f\"Triplets telah disimpan di {output_file_path}\")\n"
      ],
      "metadata": {
        "colab": {
          "base_uri": "https://localhost:8080/"
        },
        "id": "Sy8O3OLmib-R",
        "outputId": "2ea6fb75-393f-4639-9ee6-16140f24da1b"
      },
      "execution_count": null,
      "outputs": [
        {
          "output_type": "stream",
          "name": "stdout",
          "text": [
            "Triplets telah disimpan di triple_individual_reasoner_1_no_ontology.txt\n"
          ]
        }
      ]
    },
    {
      "cell_type": "markdown",
      "source": [
        "#**Cek dan save new triple reasoning - 1**"
      ],
      "metadata": {
        "id": "WwQbcceKDPKM"
      }
    },
    {
      "cell_type": "code",
      "source": [
        "# Membaca isi dari kedua file teks\n",
        "file_path_sb = '/content/triple_individual_SpeckledBand.txt'\n",
        "file_path_reasoner = '/content/triple_individual_reasoner_1_no_ontology.txt'\n",
        "\n",
        "def read_triplets(file_path):\n",
        "    \"\"\" Membaca file teks dan mengembalikan set dari triplets. \"\"\"\n",
        "    with open(file_path, 'r') as file:\n",
        "        return set(file.readlines())\n",
        "\n",
        "# Membaca triplets dari kedua file\n",
        "triplets_sb = read_triplets(file_path_sb)\n",
        "triplets_reasoner = read_triplets(file_path_reasoner)\n",
        "\n",
        "# Mencari triplets baru yang unik di triplets_output_reasoner_1\n",
        "new_triplets = triplets_reasoner - triplets_sb\n",
        "\n",
        "# Jumlah new triplets\n",
        "len(new_triplets), list(new_triplets)[:10]  # Menampilkan 10 contoh triplets baru\n",
        "\n"
      ],
      "metadata": {
        "colab": {
          "base_uri": "https://localhost:8080/"
        },
        "id": "ID1gjQ_Riip-",
        "outputId": "eac88065-50e5-4f8f-b142-aed577d8583a"
      },
      "execution_count": null,
      "outputs": [
        {
          "output_type": "execute_result",
          "data": {
            "text/plain": [
              "(5432,\n",
              " ['http://kgc.knowledge-graph.jp/data/SpeckledBand/373, http://www.w3.org/1999/02/22-rdf-syntax-ns#type, http://kgc.knowledge-graph.jp/ontology/kgc.owl#Scene\\n',\n",
              "  'http://kgc.knowledge-graph.jp/data/SpeckledBand/398, http://kgc.knowledge-graph.jp/ontology/kgc.owl#hasPart, http://kgc.knowledge-graph.jp/data/SpeckledBand/snake\\n',\n",
              "  'http://kgc.knowledge-graph.jp/data/SpeckledBand/370, http://www.w3.org/1999/02/22-rdf-syntax-ns#type, http://kgc.knowledge-graph.jp/ontology/kgc.owl#Scene\\n',\n",
              "  'http://kgc.knowledge-graph.jp/data/SpeckledBand/89, http://kgc.knowledge-graph.jp/ontology/kgc.owl#SceneObjectProperty, http://kgc.knowledge-graph.jp/data/SpeckledBand/death_day_of_Julia\\n',\n",
              "  'http://kgc.knowledge-graph.jp/data/SpeckledBand/269, http://kgc.knowledge-graph.jp/ontology/kgc.owl#LocationProperty, http://kgc.knowledge-graph.jp/data/SpeckledBand/Crown_Inn\\n',\n",
              "  'http://kgc.knowledge-graph.jp/data/SpeckledBand/229, http://www.w3.org/1999/02/22-rdf-syntax-ns#type, http://kgc.knowledge-graph.jp/ontology/kgc.owl#Scene\\n',\n",
              "  'http://kgc.knowledge-graph.jp/data/SpeckledBand/26, http://kgc.knowledge-graph.jp/ontology/kgc.owl#TargetObjProperty, http://kgc.knowledge-graph.jp/data/SpeckledBand/Roma\\n',\n",
              "  'http://kgc.knowledge-graph.jp/data/SpeckledBand/197, http://kgc.knowledge-graph.jp/ontology/kgc.owl#TargetObjProperty, http://kgc.knowledge-graph.jp/data/SpeckledBand/low_celling\\n',\n",
              "  'http://kgc.knowledge-graph.jp/data/SpeckledBand/227, http://kgc.knowledge-graph.jp/ontology/kgc.owl#SceneProperty, http://kgc.knowledge-graph.jp/data/SpeckledBand/231\\n',\n",
              "  'http://kgc.knowledge-graph.jp/data/SpeckledBand/door_of_safe, http://kgc.knowledge-graph.jp/ontology/kgc.owl#TargetObjProperty, http://kgc.knowledge-graph.jp/data/SpeckledBand/safe\\n'])"
            ]
          },
          "metadata": {},
          "execution_count": 4
        }
      ]
    },
    {
      "cell_type": "code",
      "source": [
        "# Lokasi file teks baru untuk menyimpan triplet baru\n",
        "new_triplets_file_path = 'new_triple_reasoner_1_no_ontology.txt'\n",
        "\n",
        "# Menyimpan triplet baru ke dalam file teks\n",
        "with open(new_triplets_file_path, 'w') as new_file:\n",
        "    for triplet in new_triplets:\n",
        "        new_file.write(triplet)\n",
        "\n",
        "new_triplets_file_path"
      ],
      "metadata": {
        "colab": {
          "base_uri": "https://localhost:8080/",
          "height": 36
        },
        "id": "lJeftepDjdQX",
        "outputId": "5ee0cea8-3d1a-42a4-fa7e-543ba34268ad"
      },
      "execution_count": null,
      "outputs": [
        {
          "output_type": "execute_result",
          "data": {
            "text/plain": [
              "'new_triple_reasoner_1_no_ontology.txt'"
            ],
            "application/vnd.google.colaboratory.intrinsic+json": {
              "type": "string"
            }
          },
          "metadata": {},
          "execution_count": 5
        }
      ]
    },
    {
      "cell_type": "markdown",
      "source": [
        "#**Embedding complex - 1**"
      ],
      "metadata": {
        "id": "T8gAZraZmVEU"
      }
    },
    {
      "cell_type": "code",
      "source": [
        "# Lokasi file triplets\n",
        "file_path = '/content/triple_individual_SpeckledBand.txt'\n",
        "\n",
        "# Fungsi untuk membaca triplets dari file teks\n",
        "def read_triplets(file_path):\n",
        "    with open(file_path, 'r') as file:\n",
        "        triples = []\n",
        "        for line in file:\n",
        "            parts = line.strip().split(', ')\n",
        "            if len(parts) == 3:\n",
        "                triples.append(tuple(parts))\n",
        "    return triples\n",
        "\n",
        "# Membaca triplets dari file\n",
        "triples = read_triplets(file_path)\n",
        "triples[:10]  # Menampilkan 5 triples pertama untuk contoh\n"
      ],
      "metadata": {
        "colab": {
          "base_uri": "https://localhost:8080/"
        },
        "id": "FI0vtO8VmXd4",
        "outputId": "1d267133-8350-4c96-8f93-667d20bf75c4"
      },
      "execution_count": null,
      "outputs": [
        {
          "output_type": "execute_result",
          "data": {
            "text/plain": [
              "[('http://kgc.knowledge-graph.jp/data/SpeckledBand/362',\n",
              "  'http://www.w3.org/1999/02/22-rdf-syntax-ns#type',\n",
              "  'http://kgc.knowledge-graph.jp/ontology/kgc.owl#Situation'),\n",
              " ('http://kgc.knowledge-graph.jp/data/SpeckledBand/328',\n",
              "  'http://kgc.knowledge-graph.jp/ontology/kgc.owl#subject',\n",
              "  'http://kgc.knowledge-graph.jp/data/SpeckledBand/Watson'),\n",
              " ('http://kgc.knowledge-graph.jp/data/SpeckledBand/191',\n",
              "  'http://kgc.knowledge-graph.jp/ontology/kgc.owl#subject',\n",
              "  'http://kgc.knowledge-graph.jp/data/SpeckledBand/hinges_of_shutter'),\n",
              " ('http://kgc.knowledge-graph.jp/data/SpeckledBand/knee_of_Roylott',\n",
              "  'http://www.w3.org/1999/02/22-rdf-syntax-ns#type',\n",
              "  'http://kgc.knowledge-graph.jp/ontology/kgc.owl#OFobj'),\n",
              " ('http://kgc.knowledge-graph.jp/data/SpeckledBand/61',\n",
              "  'http://www.w3.org/1999/02/22-rdf-syntax-ns#type',\n",
              "  'http://kgc.knowledge-graph.jp/ontology/kgc.owl#Situation'),\n",
              " ('http://kgc.knowledge-graph.jp/data/SpeckledBand/106',\n",
              "  'http://kgc.knowledge-graph.jp/ontology/kgc.owl#subject',\n",
              "  'http://kgc.knowledge-graph.jp/data/SpeckledBand/Julia'),\n",
              " ('http://kgc.knowledge-graph.jp/data/SpeckledBand/227',\n",
              "  'http://kgc.knowledge-graph.jp/ontology/kgc.owl#why',\n",
              "  'http://kgc.knowledge-graph.jp/data/SpeckledBand/231'),\n",
              " ('http://kgc.knowledge-graph.jp/data/SpeckledBand/265',\n",
              "  'http://www.w3.org/1999/02/22-rdf-syntax-ns#type',\n",
              "  'http://kgc.knowledge-graph.jp/ontology/kgc.owl#Thought'),\n",
              " ('http://kgc.knowledge-graph.jp/data/SpeckledBand/56',\n",
              "  'http://kgc.knowledge-graph.jp/ontology/kgc.owl#subject',\n",
              "  'http://kgc.knowledge-graph.jp/data/SpeckledBand/Helen'),\n",
              " ('http://kgc.knowledge-graph.jp/data/SpeckledBand/147',\n",
              "  'http://kgc.knowledge-graph.jp/ontology/kgc.owl#subject',\n",
              "  'http://kgc.knowledge-graph.jp/data/SpeckledBand/Roylott')]"
            ]
          },
          "metadata": {},
          "execution_count": 17
        }
      ]
    },
    {
      "cell_type": "code",
      "source": [
        "from collections import defaultdict\n",
        "import torch\n",
        "\n",
        "# Fungsi untuk mengonversi triples ke dalam bentuk indeks\n",
        "def convert_to_indices(triples, entity2idx, relation2idx):\n",
        "    triples_idx = []\n",
        "    for (h, r, t) in triples:\n",
        "        h_idx = entity2idx[h]\n",
        "        r_idx = relation2idx[r]\n",
        "        t_idx = entity2idx[t]\n",
        "        triples_idx.append((h_idx, r_idx, t_idx))\n",
        "    return triples_idx\n",
        "\n",
        "# Membuat indeks untuk entitas dan relasi\n",
        "entity2idx = defaultdict(lambda: len(entity2idx))\n",
        "relation2idx = defaultdict(lambda: len(relation2idx))\n",
        "\n",
        "for (h, r, t) in triples:\n",
        "    entity2idx[h]\n",
        "    entity2idx[t]\n",
        "    relation2idx[r]\n",
        "\n",
        "# Mengonversi triples ke dalam bentuk indeks\n",
        "triples_idx = convert_to_indices(triples, entity2idx, relation2idx)\n",
        "\n",
        "# Cek jumlah entitas dan relasi\n",
        "num_entities = len(entity2idx)\n",
        "num_relations = len(relation2idx)\n",
        "\n",
        "num_entities, num_relations, triples_idx[:5]  # Menampilkan beberapa informasi dan 5 triples indeks pertama\n"
      ],
      "metadata": {
        "colab": {
          "base_uri": "https://localhost:8080/"
        },
        "id": "_PXa2xG2mzI0",
        "outputId": "5fbd0ebc-cef8-4752-c69d-2b5da0baade6"
      },
      "execution_count": null,
      "outputs": [
        {
          "output_type": "execute_result",
          "data": {
            "text/plain": [
              "(1803, 42, [(0, 0, 1), (2, 1, 3), (4, 1, 5), (6, 0, 7), (8, 0, 1)])"
            ]
          },
          "metadata": {},
          "execution_count": 18
        }
      ]
    },
    {
      "cell_type": "code",
      "source": [
        "import torch.nn as nn\n",
        "import torch.nn.functional as F\n",
        "\n",
        "class ComplEx(nn.Module):\n",
        "    def __init__(self, num_entities, num_relations, embedding_dim):\n",
        "        super(ComplEx, self).__init__()\n",
        "        self.embedding_dim = embedding_dim\n",
        "        self.ent_embeddings = nn.Embedding(num_entities, embedding_dim, padding_idx=0)\n",
        "        self.rel_embeddings = nn.Embedding(num_relations, embedding_dim, padding_idx=0)\n",
        "\n",
        "        # Inisialisasi bobot\n",
        "        nn.init.xavier_uniform_(self.ent_embeddings.weight.data)\n",
        "        nn.init.xavier_uniform_(self.rel_embeddings.weight.data)\n",
        "\n",
        "    def forward(self, triplets):\n",
        "        # Mendapatkan embeddings\n",
        "        h = self.ent_embeddings(triplets[:, 0])\n",
        "        r = self.rel_embeddings(triplets[:, 1])\n",
        "        t = self.ent_embeddings(triplets[:, 2])\n",
        "\n",
        "        # Skor menggunakan rumus ComplEx\n",
        "        score = torch.sum(h * r * t, dim=1)\n",
        "        return score\n",
        "\n",
        "# Parameter model\n",
        "embedding_dim = 100  # Dimensi embedding\n",
        "\n",
        "# Inisialisasi model\n",
        "model = ComplEx(num_entities, num_relations, embedding_dim)\n",
        "model\n",
        "\n"
      ],
      "metadata": {
        "colab": {
          "base_uri": "https://localhost:8080/"
        },
        "id": "_f4XqQ5Hnsw8",
        "outputId": "7abace9a-5fe4-4b0c-8066-3289802efe93"
      },
      "execution_count": null,
      "outputs": [
        {
          "output_type": "execute_result",
          "data": {
            "text/plain": [
              "ComplEx(\n",
              "  (ent_embeddings): Embedding(1803, 100, padding_idx=0)\n",
              "  (rel_embeddings): Embedding(42, 100, padding_idx=0)\n",
              ")"
            ]
          },
          "metadata": {},
          "execution_count": 19
        }
      ]
    },
    {
      "cell_type": "code",
      "source": [
        "from torch.optim import Adam\n",
        "from torch.utils.data import DataLoader, TensorDataset\n",
        "\n",
        "# Fungsi untuk menghasilkan negative samples\n",
        "def generate_negative_samples(triples, num_entities, num_samples=1):\n",
        "    negatives = []\n",
        "    for (h, r, t) in triples:\n",
        "        for _ in range(num_samples):\n",
        "            negative_t = torch.randint(num_entities, (1,))\n",
        "            negatives.append((h, r, negative_t.item()))\n",
        "    return negatives\n",
        "\n",
        "# Mengonversi triples ke tensor\n",
        "triples_tensor = torch.LongTensor(triples_idx)\n",
        "\n",
        "# Negative sampling\n",
        "negative_samples = generate_negative_samples(triples_idx, num_entities, num_samples=1)\n",
        "negative_samples_tensor = torch.LongTensor(negative_samples)\n",
        "\n",
        "# Menyiapkan data loader\n",
        "batch_size = 32\n",
        "dataset = TensorDataset(triples_tensor, negative_samples_tensor)\n",
        "data_loader = DataLoader(dataset, batch_size=batch_size, shuffle=True)\n",
        "\n",
        "# Inisialisasi optimizer\n",
        "optimizer = Adam(model.parameters(), lr=0.001)\n",
        "\n",
        "# Fungsi loss\n",
        "def complex_loss(positive_scores, negative_scores):\n",
        "    return F.softplus(-positive_scores).mean() + F.softplus(negative_scores).mean()\n",
        "\n",
        "# Loop pelatihan\n",
        "num_epochs = 50  # Contoh jumlah epoch\n",
        "\n",
        "for epoch in range(num_epochs):\n",
        "    model.train()\n",
        "    running_loss = 0.0\n",
        "\n",
        "    for positive_triplets, negative_triplets in data_loader:\n",
        "        positive_scores = model(positive_triplets)\n",
        "        negative_scores = model(negative_triplets)\n",
        "\n",
        "        # Hitung loss\n",
        "        loss = complex_loss(positive_scores, negative_scores)\n",
        "\n",
        "        # Backpropagation\n",
        "        optimizer.zero_grad()\n",
        "        loss.backward()\n",
        "        optimizer.step()\n",
        "\n",
        "        running_loss += loss.item()\n",
        "\n",
        "    print(f\"Epoch {epoch + 1}/{num_epochs}, Loss: {running_loss / len(data_loader)}\")\n",
        "\n"
      ],
      "metadata": {
        "colab": {
          "base_uri": "https://localhost:8080/"
        },
        "id": "cAKZe4-4oI_7",
        "outputId": "175bfed2-05cb-4c3d-b017-f9ad9be330ce"
      },
      "execution_count": null,
      "outputs": [
        {
          "output_type": "stream",
          "name": "stdout",
          "text": [
            "Epoch 1/50, Loss: 1.3862869135538738\n",
            "Epoch 2/50, Loss: 1.3831085928281148\n",
            "Epoch 3/50, Loss: 1.3713593395551045\n",
            "Epoch 4/50, Loss: 1.3282346526781719\n",
            "Epoch 5/50, Loss: 1.2221823708216348\n",
            "Epoch 6/50, Loss: 1.0546581482887267\n",
            "Epoch 7/50, Loss: 0.869502154191335\n",
            "Epoch 8/50, Loss: 0.7090798155466715\n",
            "Epoch 9/50, Loss: 0.588780240615209\n",
            "Epoch 10/50, Loss: 0.5020179176330566\n",
            "Epoch 11/50, Loss: 0.4393308711051941\n",
            "Epoch 12/50, Loss: 0.39234896540641784\n",
            "Epoch 13/50, Loss: 0.3565957775712013\n",
            "Epoch 14/50, Loss: 0.32762424061695733\n",
            "Epoch 15/50, Loss: 0.3035654214521249\n",
            "Epoch 16/50, Loss: 0.2841878628730774\n",
            "Epoch 17/50, Loss: 0.2666680854558945\n",
            "Epoch 18/50, Loss: 0.25144176016251246\n",
            "Epoch 19/50, Loss: 0.23762940774361294\n",
            "Epoch 20/50, Loss: 0.22417925670742989\n",
            "Epoch 21/50, Loss: 0.21190996572375298\n",
            "Epoch 22/50, Loss: 0.20057247286041577\n",
            "Epoch 23/50, Loss: 0.1896813747783502\n",
            "Epoch 24/50, Loss: 0.17955112541715304\n",
            "Epoch 25/50, Loss: 0.16943471843997637\n",
            "Epoch 26/50, Loss: 0.15965682193636893\n",
            "Epoch 27/50, Loss: 0.15055619073410828\n",
            "Epoch 28/50, Loss: 0.14175643742084504\n",
            "Epoch 29/50, Loss: 0.1330934484799703\n",
            "Epoch 30/50, Loss: 0.1251049713542064\n",
            "Epoch 31/50, Loss: 0.11705734019478162\n",
            "Epoch 32/50, Loss: 0.10995172915359339\n",
            "Epoch 33/50, Loss: 0.10263390712440014\n",
            "Epoch 34/50, Loss: 0.09577858038246631\n",
            "Epoch 35/50, Loss: 0.08943966582417488\n",
            "Epoch 36/50, Loss: 0.08310996450483799\n",
            "Epoch 37/50, Loss: 0.0775816472992301\n",
            "Epoch 38/50, Loss: 0.07204832725226878\n",
            "Epoch 39/50, Loss: 0.06714291171481213\n",
            "Epoch 40/50, Loss: 0.06225098501890898\n",
            "Epoch 41/50, Loss: 0.057776332385838035\n",
            "Epoch 42/50, Loss: 0.053502840846776964\n",
            "Epoch 43/50, Loss: 0.049674759010473885\n",
            "Epoch 44/50, Loss: 0.04596305761486292\n",
            "Epoch 45/50, Loss: 0.042644386366009715\n",
            "Epoch 46/50, Loss: 0.03958614153166612\n",
            "Epoch 47/50, Loss: 0.03653148504905403\n",
            "Epoch 48/50, Loss: 0.03387524381279945\n",
            "Epoch 49/50, Loss: 0.03147481290002664\n",
            "Epoch 50/50, Loss: 0.02909037135541439\n"
          ]
        }
      ]
    },
    {
      "cell_type": "code",
      "source": [
        "import numpy as np\n",
        "import random\n",
        "def evaluate_model(model, triples, all_entities, num_samples=1000, k=10):\n",
        "    # Memilih subset acak dari triples untuk evaluasi\n",
        "    evaluation_triples = random.sample(triples, num_samples)\n",
        "\n",
        "    mrr_sum = 0.0\n",
        "    hits_at_k_sum = 0\n",
        "\n",
        "    for h, r, t in evaluation_triples:\n",
        "        # Menghasilkan kandidat prediksi dengan mengganti tail\n",
        "        candidate_triples = [(h, r, tail) for tail in all_entities]\n",
        "\n",
        "        # Menghitung skor untuk setiap kandidat\n",
        "        candidate_triples_tensor = torch.LongTensor(candidate_triples)\n",
        "        with torch.no_grad():\n",
        "            candidate_scores = model(candidate_triples_tensor).numpy()\n",
        "\n",
        "        # Mendapatkan peringkat entitas yang benar\n",
        "        correct_entity_score = candidate_scores[all_entities.index(t)]\n",
        "        ranked_scores = sorted(candidate_scores, reverse=True)\n",
        "        rank = ranked_scores.index(correct_entity_score) + 1\n",
        "\n",
        "        # Menghitung MRR dan Hits@K\n",
        "        mrr_sum += 1.0 / rank\n",
        "        if rank <= k:\n",
        "            hits_at_k_sum += 1\n",
        "\n",
        "    # Menghitung rata-rata MRR dan Hits@K\n",
        "    mrr = mrr_sum / num_samples\n",
        "    hits_at_k = hits_at_k_sum / num_samples\n",
        "\n",
        "    return mrr, hits_at_k\n",
        "\n",
        "# Mengumpulkan semua entitas sebagai daftar\n",
        "all_entities_list = list(range(num_entities))\n",
        "\n",
        "# Menjalankan evaluasi model\n",
        "mrr, hits_at_10 = evaluate_model(model, triples_idx, all_entities_list, num_samples=1000, k=10)\n",
        "\n",
        "mrr, hits_at_10\n",
        "\n"
      ],
      "metadata": {
        "colab": {
          "base_uri": "https://localhost:8080/"
        },
        "id": "OIupo1uvoMT_",
        "outputId": "e19e5a35-ac2b-43f2-f8b2-774932bf89fb"
      },
      "execution_count": null,
      "outputs": [
        {
          "output_type": "execute_result",
          "data": {
            "text/plain": [
              "(0.496386337398526, 0.886)"
            ]
          },
          "metadata": {},
          "execution_count": 21
        }
      ]
    },
    {
      "cell_type": "code",
      "source": [
        "# Mendapatkan embeddings dari model\n",
        "entity_embeddings = model.ent_embeddings.weight.data.numpy()\n",
        "relation_embeddings = model.rel_embeddings.weight.data.numpy()\n",
        "\n",
        "# Menampilkan sebagian dari embeddings\n",
        "# Kita akan menampilkan 5 embeddings pertama untuk entitas dan relasi\n",
        "print(\"Entity Embeddings (5 first embeddings):\")\n",
        "print(entity_embeddings[:5])\n",
        "print(\"\\nRelation Embeddings (5 first embeddings):\")\n",
        "print(relation_embeddings[:5])\n",
        "\n"
      ],
      "metadata": {
        "colab": {
          "base_uri": "https://localhost:8080/"
        },
        "id": "95RcA1RVp2sQ",
        "outputId": "972c0a98-8ad2-44da-97a9-a8aec78df8e8"
      },
      "execution_count": null,
      "outputs": [
        {
          "output_type": "stream",
          "name": "stdout",
          "text": [
            "Entity Embeddings (5 first embeddings):\n",
            "[[-5.20549677e-02 -2.79316436e-02  4.51811366e-02  4.44808304e-02\n",
            "  -9.47943237e-03 -3.72797647e-03  2.41791680e-02 -3.23150470e-03\n",
            "   1.64469928e-02  1.26701454e-02  3.60831320e-02  2.05381364e-02\n",
            "  -1.63750688e-03  6.60677021e-03  4.93830815e-02  2.28153132e-02\n",
            "   1.26037104e-02  2.92477850e-02 -3.89256179e-02 -3.47204544e-02\n",
            "   2.97262911e-02  2.38869544e-02  4.68782037e-02  1.01205017e-02\n",
            "   3.37007716e-02 -2.61625126e-02  1.01935165e-02  5.41150197e-02\n",
            "  -1.96474381e-02 -4.23960090e-02  3.57706025e-02  3.90424319e-02\n",
            "   4.83267149e-03 -5.38638094e-03  4.44617532e-02 -2.84566637e-02\n",
            "  -1.78985950e-02  5.34757785e-03 -5.48254363e-02 -3.74800488e-02\n",
            "  -1.03838854e-02  1.35436803e-02  1.75821781e-02  2.43193470e-02\n",
            "  -1.12155508e-02  5.03800213e-02 -3.92904989e-02 -5.09021245e-02\n",
            "  -3.41771729e-02 -2.52595656e-02  3.52592431e-02  7.45379087e-03\n",
            "  -2.87041292e-02  3.89344022e-02 -2.43393276e-02  4.71796691e-02\n",
            "  -2.04648003e-02 -2.25591660e-02 -1.37558375e-02 -1.09216440e-02\n",
            "   3.99140194e-02  1.76409222e-02  2.92505026e-02 -2.05870736e-02\n",
            "   2.35930346e-02 -3.42736915e-02 -4.83265147e-04  1.38264417e-03\n",
            "   4.74147312e-02 -3.25402245e-02  2.24687606e-02  2.97996607e-02\n",
            "   9.28935129e-03  4.84058224e-02  1.31226527e-02  4.26015183e-02\n",
            "   1.00774206e-02 -3.95473838e-02  5.34677459e-03 -2.58215815e-02\n",
            "   4.07903381e-02 -3.77256274e-02 -2.76392959e-02 -2.23262981e-02\n",
            "  -1.21142599e-03  3.73510681e-02 -5.00597730e-02  4.38857637e-02\n",
            "   3.90878675e-04 -2.89743152e-02  4.83849160e-02  2.20925473e-02\n",
            "  -3.30870785e-02 -4.22976306e-03  3.68615016e-02 -3.53322849e-02\n",
            "  -4.84371595e-02  3.72609566e-03 -3.07977200e-04 -2.72792894e-02]\n",
            " [-1.82591963e+00 -2.02192378e+00 -1.89206445e+00  1.13228667e+00\n",
            "   3.76508795e-02 -2.65572834e+00 -2.65380669e+00 -6.39695227e-01\n",
            "   2.04958582e+00  1.74196601e+00  2.49323726e+00  1.01179850e+00\n",
            "   1.66451478e+00  2.39278134e-02  5.50511777e-02 -8.99808630e-02\n",
            "  -1.61959720e+00 -2.62607789e+00  1.85738242e+00 -2.40330553e+00\n",
            "  -1.47293437e+00 -2.70087689e-01 -2.78607893e+00 -2.85524964e+00\n",
            "   2.41696000e+00  3.07114273e-01 -1.85414597e-01 -2.63980460e+00\n",
            "  -2.55545640e+00  2.48824787e+00 -1.73264027e+00 -1.49263430e+00\n",
            "  -5.95453322e-01  5.21997631e-01  1.80697560e+00  2.74061894e+00\n",
            "  -5.94885647e-01 -1.91312313e-01  5.92781663e-01  1.13410532e+00\n",
            "   5.13991773e-01  4.83076841e-01  2.27046549e-01  1.27121389e+00\n",
            "   1.46265674e+00  1.46944857e+00 -2.81242466e+00  1.57942784e+00\n",
            "   1.32501042e+00 -2.37700367e+00 -2.40323091e+00  2.07397118e-01\n",
            "   9.94093120e-02 -2.84229726e-01 -1.33618343e+00  8.26989021e-03\n",
            "   1.55906594e+00 -1.01256108e+00 -2.32479334e+00 -4.63148385e-01\n",
            "  -3.04545069e+00 -8.91922489e-02 -2.43500805e+00 -2.05712914e+00\n",
            "   2.86922288e+00 -4.79367495e-01 -2.41802049e+00  2.71403265e+00\n",
            "  -1.78326249e-01 -2.02646089e+00  1.50179994e+00 -7.65890300e-01\n",
            "   1.68667093e-01 -3.06610852e-01 -9.56043601e-01 -4.92595807e-02\n",
            "  -1.33334517e-01  1.12469304e+00  1.82626522e+00 -2.10272193e+00\n",
            "  -2.37655401e+00 -8.26649517e-02 -2.88094878e-01  8.68599951e-01\n",
            "  -1.27180469e+00  2.48656821e+00 -2.59574795e+00 -2.62820333e-01\n",
            "  -3.04286242e+00  2.66094732e+00  6.13820851e-01  2.22324729e+00\n",
            "   1.78453243e+00 -1.65863454e+00 -9.10995424e-01 -4.83116806e-01\n",
            "  -3.28690380e-01 -1.59585845e+00 -7.86353469e-01  2.99987245e+00]\n",
            " [-1.22772865e-01 -6.59465551e-01 -2.93327898e-01 -4.44207370e-01\n",
            "   3.84965748e-01  8.98479283e-01  9.33662534e-01 -6.06922626e-01\n",
            "   2.36816928e-01  4.95014906e-01 -5.13769329e-01  2.48909026e-01\n",
            "  -7.86329687e-01  6.21691823e-01 -1.01786248e-01  6.49469256e-01\n",
            "  -8.24080765e-01  3.31611574e-01 -6.90322816e-01  8.13183427e-01\n",
            "  -2.28606477e-01 -2.48904809e-01  6.82851851e-01  7.44080961e-01\n",
            "  -5.18764913e-01  4.58810896e-01 -1.57179505e-01 -1.44304961e-01\n",
            "  -2.79585510e-01 -6.09846234e-01 -7.35291541e-01 -3.29097867e-01\n",
            "  -5.47732770e-01 -2.50904262e-01  2.36282751e-01  8.46378803e-02\n",
            "  -7.56125569e-01  1.60061389e-01 -3.85059327e-01  4.05952126e-01\n",
            "  -6.25192881e-01  3.25799465e-01  2.39895150e-01  8.91685367e-01\n",
            "  -8.99302661e-01  5.41526318e-01  4.59625363e-01 -7.87714601e-01\n",
            "  -6.59276783e-01 -4.57709730e-02 -5.02960861e-01 -4.46222156e-01\n",
            "  -1.85663208e-01 -1.59862548e-01 -7.75914431e-01 -5.84209740e-01\n",
            "   3.41774642e-01 -1.63282886e-01 -7.95915306e-01  4.86518472e-01\n",
            "   8.29716563e-01 -6.37371123e-01  4.53175664e-01 -3.96405220e-01\n",
            "   2.19791621e-01  8.49336684e-01 -7.57607877e-01 -7.30013177e-02\n",
            "  -2.45460466e-01  3.83747041e-01 -2.70852029e-01 -4.29471374e-01\n",
            "   4.90550250e-01  2.59869218e-01  3.57355736e-02  7.23560214e-01\n",
            "   4.84659046e-01  9.28835869e-02  2.12304350e-02  7.81326234e-01\n",
            "   8.92964974e-02  1.50614724e-01  2.15303391e-01 -3.71326864e-01\n",
            "  -3.93309966e-02 -8.60846639e-01  3.35163385e-01  5.99493086e-01\n",
            "   7.32622862e-01  6.65770769e-02  1.51765374e-02 -2.75438309e-01\n",
            "   2.93498755e-01  7.51147687e-01 -6.82332635e-01 -3.40882421e-01\n",
            "   3.60810727e-01 -9.52782258e-02 -5.82593381e-01 -7.13141680e-01]\n",
            " [ 1.02634716e+00 -6.09188318e-01 -3.18367183e-01 -5.70228219e-01\n",
            "   4.30222154e-02  6.11602187e-01  1.26131862e-01  5.25958598e-01\n",
            "  -7.49262512e-01  8.82345200e-01  6.56384788e-03 -3.64309788e-01\n",
            "   3.09435185e-02  6.78072572e-01 -2.08209455e-01 -3.61019783e-02\n",
            "  -1.77507132e-01 -7.27528095e-01 -7.83822417e-01  5.21662176e-01\n",
            "   8.07654917e-01 -2.87131578e-01  9.03330863e-01  1.22631824e+00\n",
            "  -6.15363419e-01 -2.89971203e-01 -6.43393025e-02 -8.89379144e-01\n",
            "   8.36582601e-01 -9.72911343e-02  5.36863983e-01  6.05558872e-01\n",
            "   2.45543480e-01  3.18286717e-01  5.05466342e-01 -9.56768930e-01\n",
            "   6.83955848e-01 -2.48888746e-01  7.33201265e-01  2.17568010e-01\n",
            "  -8.11207950e-01  4.76718217e-01 -1.34566739e-01  4.71254326e-02\n",
            "  -5.67623496e-01  2.45687708e-01  9.19337034e-01 -4.74975049e-01\n",
            "  -1.30923748e-01  9.61008191e-01 -5.67001760e-01 -6.98196590e-01\n",
            "  -1.18797943e-01 -1.75206020e-01  3.92106235e-01  5.06086767e-01\n",
            "   8.42567503e-01 -5.08388102e-01  1.10713947e+00  7.62483060e-01\n",
            "   1.25685978e+00 -2.29276523e-01  3.50324750e-01 -3.15171719e-01\n",
            "  -1.04393971e+00 -1.64006040e-01 -7.63824403e-01 -1.09833515e+00\n",
            "   3.40092301e-01  6.98961794e-01 -1.91843420e-01 -9.70123887e-01\n",
            "   4.91008729e-01  7.21016705e-01  2.02860326e-01  2.35095054e-01\n",
            "   4.77507472e-01 -6.83266163e-01 -8.20459545e-01  4.56333667e-01\n",
            "   3.11543077e-01  6.64844632e-01 -3.09834089e-02  7.09846020e-01\n",
            "  -7.16941237e-01 -9.05944780e-02 -3.68838429e-01  1.31618813e-01\n",
            "   1.18576634e+00 -7.44996905e-01 -3.02077770e-01 -2.61996418e-01\n",
            "   1.08918798e+00 -1.90621242e-01 -8.89602482e-01 -6.84273303e-01\n",
            "   1.00725338e-01 -3.60021979e-01 -9.51825142e-01  1.48820564e-01]\n",
            " [ 5.31510115e-01 -1.05403543e+00  4.10838991e-01  1.59422711e-01\n",
            "  -7.34462380e-01  5.18769681e-01  5.85648596e-01 -6.43875301e-02\n",
            "  -3.72709602e-01  2.87510335e-01 -5.67009389e-01 -1.37630582e-01\n",
            "  -2.72113740e-01  5.66868246e-01 -3.33162636e-01  4.31983858e-01\n",
            "  -8.05781424e-01 -1.31351158e-01 -3.17268193e-01  6.80967331e-01\n",
            "   7.86888182e-01 -4.88140613e-01  5.39134555e-02  6.45919681e-01\n",
            "  -4.67905581e-01  3.45726877e-01  3.85827363e-01 -5.68585992e-01\n",
            "  -1.58617664e-02 -1.67614341e-01 -6.25003874e-01  3.71110998e-02\n",
            "  -1.44062027e-01 -5.92579365e-01 -2.26015486e-02 -8.15956295e-01\n",
            "   4.91030574e-01 -2.62202173e-01  2.50105619e-01  7.52278745e-01\n",
            "   7.73055911e-01  3.85210395e-01  3.84725809e-01  7.38856345e-02\n",
            "  -4.59696501e-01  6.43669724e-01 -5.28033435e-01 -6.09930575e-01\n",
            "   1.38426661e-01 -5.88649154e-01 -2.38938272e-01  2.37681940e-01\n",
            "   4.83949333e-02 -5.72801411e-01 -5.30293025e-02  4.53933358e-01\n",
            "   6.98733449e-01 -7.63659000e-01  1.74090236e-01 -2.88030058e-01\n",
            "   8.07262301e-01 -6.60730779e-01  7.61996746e-01 -3.76362026e-01\n",
            "  -1.01330948e+00 -9.32021916e-01 -4.93174881e-01  7.49278605e-01\n",
            "  -3.25510353e-02  1.00250065e+00  2.59957798e-02  3.09748918e-01\n",
            "   3.83623272e-01 -6.02980971e-01 -1.80164143e-01 -5.40979981e-01\n",
            "  -2.34969929e-01 -1.46924540e-01 -5.06363511e-01  8.62536848e-01\n",
            "   4.21396613e-01 -2.57780552e-02 -5.12852371e-01 -3.70793015e-01\n",
            "   6.11368775e-01  6.15143180e-01 -2.14647740e-01 -5.53134441e-01\n",
            "   7.86422193e-01  6.31189585e-01  2.96925724e-01  6.10474348e-01\n",
            "  -5.72588861e-01  8.30363154e-01 -6.17064476e-01 -9.82876658e-01\n",
            "   2.34911546e-01  7.12957680e-01 -5.20623028e-01 -8.77511322e-01]]\n",
            "\n",
            "Relation Embeddings (5 first embeddings):\n",
            "[[-1.19197167e-01  9.68180895e-02 -9.43243876e-02 -3.81062292e-02\n",
            "   8.75555500e-02 -1.44749686e-01 -1.21498875e-01  1.48927048e-01\n",
            "  -6.56581521e-02  5.42757064e-02 -1.15036957e-01 -3.77427563e-02\n",
            "  -1.27416626e-01 -4.63672029e-03 -4.28236416e-03 -1.15836896e-01\n",
            "   1.84540614e-01  1.68100566e-01 -9.46680829e-02 -2.02225193e-01\n",
            "  -1.50009602e-01 -1.42298674e-03 -8.59122947e-02 -1.48821875e-01\n",
            "  -1.48653761e-01 -5.48335947e-02 -8.95777659e-04  1.78279042e-01\n",
            "   1.86559081e-01 -1.51273012e-01  1.75792322e-01  1.64321139e-02\n",
            "   1.51779369e-01 -4.18162718e-02  1.01120867e-01 -1.92440927e-01\n",
            "   1.31157547e-01  6.88425079e-03  9.04129967e-02  1.50534049e-01\n",
            "   1.33842304e-01  1.93911009e-02  1.88094191e-02  1.50840193e-01\n",
            "  -1.34574860e-01  8.08168352e-02  1.64919347e-01 -1.77431852e-01\n",
            "  -4.41030823e-02  2.03834504e-01  1.78276122e-01 -2.88001969e-02\n",
            "   1.48730800e-02  2.89231353e-02  7.55186230e-02 -1.33686652e-02\n",
            "   1.23767823e-01  1.64995447e-01  1.59567147e-01 -5.81831578e-03\n",
            "  -1.79609939e-01 -1.22306362e-01 -1.79959565e-01  9.92761627e-02\n",
            "  -1.40802294e-01  9.00176913e-02  1.87771469e-01  1.35169849e-01\n",
            "   2.39239726e-02 -1.43384859e-01 -5.99260963e-02  3.06895003e-02\n",
            "   2.41702888e-02  7.98713565e-02  3.75676751e-02  6.83571547e-02\n",
            "  -2.12843996e-02  9.05367136e-02 -1.63440704e-01 -2.02575237e-01\n",
            "  -1.21124797e-01  7.32803270e-02  3.01037263e-02 -6.80715069e-02\n",
            "  -5.50944433e-02 -1.05454296e-01  1.80350244e-01 -5.63519541e-03\n",
            "  -2.02234864e-01  1.01341330e-01  1.93502530e-02  5.46324402e-02\n",
            "   1.84666783e-01 -8.94585997e-02  8.15559030e-02  1.54599890e-01\n",
            "   5.26711671e-03  1.42306373e-01  1.66981786e-01 -1.90887466e-01]\n",
            " [-1.49803901e+00 -9.99558747e-01  1.52566910e+00  1.87811077e+00\n",
            "  -1.97115612e+00 -1.15682364e+00 -1.37042153e+00 -4.00483340e-01\n",
            "   1.54067993e+00  1.64124334e+00 -1.72590983e+00 -1.35596049e+00\n",
            "  -1.55858934e+00  1.38278103e+00 -1.69986773e+00  1.82844222e+00\n",
            "  -1.66069925e+00  1.37469172e+00  1.66373634e+00  3.45431447e-01\n",
            "  -1.73875546e+00  1.72228670e+00  1.73367679e+00  1.58471060e+00\n",
            "  -1.35535073e+00  1.14287078e+00 -1.29388034e+00  1.35095668e+00\n",
            "  -1.65705514e+00 -1.86571729e+00 -1.76363003e+00 -1.72364843e+00\n",
            "  -1.67376029e+00 -1.77662539e+00  2.06552339e+00  1.63310027e+00\n",
            "   1.71635664e+00 -1.66102231e+00 -1.82219338e+00  1.55804646e+00\n",
            "  -1.27868783e+00 -1.30721617e+00 -1.19906068e+00 -8.53137136e-01\n",
            "  -1.78658259e+00 -1.86840236e+00 -1.85729730e+00  1.67858088e+00\n",
            "   1.17557752e+00 -2.04534221e+00  1.30733049e+00  1.86607778e+00\n",
            "  -1.93489587e+00 -1.66690576e+00 -1.71343815e+00 -1.83952546e+00\n",
            "   1.56064188e+00 -1.50925899e+00 -1.86958468e+00  1.80384600e+00\n",
            "   1.91151702e+00 -1.56672823e+00 -1.49585557e+00  6.15855455e-01\n",
            "   3.52517590e-02 -6.52520061e-01  1.27920866e+00 -1.75839281e+00\n",
            "   1.61748981e+00  1.25742650e+00 -1.74937642e+00  1.62770104e+00\n",
            "   1.65510666e+00 -1.69228709e+00  1.77705920e+00 -1.96375310e+00\n",
            "   8.21194291e-01 -1.59418714e+00 -8.28188002e-01 -1.49891102e+00\n",
            "  -1.41610980e+00 -1.33080912e+00 -1.98636997e+00 -1.95606303e+00\n",
            "  -1.69071591e+00 -1.61617291e+00  1.90470016e+00 -1.78525651e+00\n",
            "   1.45759070e+00 -1.32637489e+00 -9.64514613e-01  1.96438622e+00\n",
            "   1.55517876e+00 -1.80869246e+00  1.66693747e+00  2.05404305e+00\n",
            "   1.73874772e+00 -1.86795127e+00  1.82068086e+00 -1.94543350e+00]\n",
            " [ 1.12442732e+00 -1.12873435e+00  1.39413691e+00 -1.03100348e+00\n",
            "   1.20832181e+00 -7.72071838e-01  8.84277463e-01  1.17902219e+00\n",
            "   1.11157477e+00  1.17777908e+00  7.27503359e-01 -3.45975310e-01\n",
            "   4.87972319e-01 -8.79682600e-01 -3.23780656e-01 -1.22312176e+00\n",
            "  -9.97506618e-01  1.21539366e+00 -8.07727456e-01  8.60115349e-01\n",
            "   1.08906162e+00 -4.80582923e-01  4.73542511e-01  1.01803553e+00\n",
            "  -7.59546697e-01 -7.74293900e-01  1.35223651e+00  6.82837903e-01\n",
            "   1.08165133e+00 -9.41734433e-01 -6.52804077e-01 -3.49762112e-01\n",
            "   9.30054963e-01  2.33124733e-01 -1.85332432e-01 -3.97133306e-02\n",
            "   7.21174121e-01 -8.92874002e-01  1.47708809e+00 -1.01478887e+00\n",
            "   1.06917071e+00  5.22731602e-01  1.02258050e+00 -6.13368332e-01\n",
            "   1.02694464e+00  8.11564326e-01 -3.70472312e-01 -1.13801289e+00\n",
            "  -1.13626802e+00  1.27772009e+00  7.49742389e-01  4.48684216e-01\n",
            "   1.22999537e+00 -8.78581464e-01 -9.36627269e-01 -1.10392416e+00\n",
            "   1.37883890e+00  3.03871751e-01  1.03129411e+00 -9.67376411e-01\n",
            "  -6.23534858e-01 -9.18878078e-01 -8.88010502e-01  8.42626512e-01\n",
            "  -1.20407932e-01 -8.09961617e-01  1.11299133e+00  8.46916199e-01\n",
            "   3.71535927e-01  6.79448307e-01 -1.10696030e+00 -1.16011596e+00\n",
            "  -1.08185089e+00  6.13312781e-01  8.21470916e-01  5.46067238e-01\n",
            "   9.38894033e-01 -4.38465834e-01 -8.41304362e-01  1.13779426e+00\n",
            "   7.16176391e-01  7.55527079e-01  2.00030476e-01 -1.08946359e+00\n",
            "  -9.01162982e-01  1.31807935e+00  7.74979115e-01  6.59211159e-01\n",
            "   1.02049637e+00 -7.01888263e-01 -1.11300242e+00  8.78433049e-01\n",
            "  -7.13455021e-01  1.48502767e+00 -9.27154660e-01 -8.31943691e-01\n",
            "   1.26273036e+00  1.03400981e+00 -1.46080816e+00 -8.54414403e-01]\n",
            " [-1.99017119e+00 -2.02505755e+00 -2.05805540e+00  1.82921255e+00\n",
            "   1.73862398e+00 -1.92201173e+00 -1.79613638e+00 -1.85347044e+00\n",
            "   1.93799710e+00  2.06470466e+00  1.97911131e+00  2.03611469e+00\n",
            "  -1.96948552e+00 -1.64637983e+00 -1.84857547e+00 -1.93565702e+00\n",
            "   1.57705212e+00 -1.04228854e+00 -1.34606564e+00  1.80880129e+00\n",
            "   1.66114986e+00 -2.11327958e+00  1.34694135e+00 -1.76979363e+00\n",
            "  -1.87605107e+00 -1.55218422e+00  1.56729090e+00  4.12578762e-01\n",
            "  -3.39325890e-02 -1.45459294e+00 -1.86270261e+00 -2.04442406e+00\n",
            "  -2.10083103e+00  2.00848198e+00 -1.84210098e+00  1.91385508e+00\n",
            "  -1.72705829e+00 -1.97319877e+00 -1.79123628e+00 -1.73211825e+00\n",
            "  -2.12097859e+00 -1.84135640e+00 -2.09796286e+00 -1.32130790e+00\n",
            "   1.62708962e+00  1.91596842e+00 -1.73099113e+00 -1.88844311e+00\n",
            "   1.38379180e+00 -1.75608802e+00 -1.82635069e+00 -2.00051212e+00\n",
            "  -1.89453280e+00 -1.67777860e+00  1.92412186e+00 -2.05131245e+00\n",
            "   1.55494857e+00  1.82382178e+00 -1.80840313e+00 -1.87432730e+00\n",
            "  -1.47310150e+00  2.03156018e+00 -1.83981240e+00 -1.97470462e+00\n",
            "  -1.99254274e+00  1.86075926e+00 -1.96437097e+00  1.78462005e+00\n",
            "  -2.15282488e+00  1.97956586e+00 -1.27537310e+00 -2.07044220e+00\n",
            "  -1.93429661e+00  1.75504005e+00 -1.80850101e+00  2.15757465e+00\n",
            "   1.76597297e+00  1.99074316e+00 -1.69282269e+00  8.16779375e-01\n",
            "  -1.38483202e+00 -1.27512157e+00  1.66467607e+00 -1.94290006e+00\n",
            "   2.00398350e+00  1.92612529e+00  5.89054465e-01 -1.95866144e+00\n",
            "   1.61597598e+00  1.53876662e+00 -1.63861692e+00  1.97927237e+00\n",
            "  -1.93207884e+00 -1.97441590e+00  1.77504289e+00 -2.00667572e+00\n",
            "   2.11934447e+00  1.97427082e+00 -1.78877914e+00  1.78786445e+00]\n",
            " [-1.01596403e+00  1.22775328e+00  1.04407120e+00 -1.62638462e+00\n",
            "  -7.77659595e-01 -1.21137297e+00  9.49674487e-01  1.76543379e+00\n",
            "  -1.13285661e+00  5.06352723e-01 -6.75686240e-01  1.57234108e+00\n",
            "   4.62641031e-01 -1.62777972e+00 -9.89862323e-01 -9.54420209e-01\n",
            "   9.38663006e-01 -1.06682527e+00  9.93963540e-01 -9.79033947e-01\n",
            "  -1.67459559e+00  1.41689849e+00  1.30892384e+00  1.10705972e+00\n",
            "   9.57990944e-01  1.38022745e+00  1.18473983e+00  1.41614580e+00\n",
            "  -1.22654819e+00 -1.51293516e+00 -1.00041044e+00  1.04048228e+00\n",
            "   3.24605554e-01  1.75684905e+00 -1.39688754e+00 -1.25595939e+00\n",
            "   9.27512646e-01  4.33686912e-01 -1.33931935e+00  8.50585222e-01\n",
            "  -1.38316727e+00 -1.66645122e+00  1.14259982e+00 -1.32627881e+00\n",
            "  -1.04663634e+00 -1.14902365e+00  1.49637592e+00  1.09872830e+00\n",
            "   1.76477945e+00 -1.03306961e+00  1.12883115e+00  1.56779850e+00\n",
            "   1.23855996e+00 -8.13841403e-01  1.44929039e+00 -1.55903816e+00\n",
            "   1.59396839e+00 -1.30843973e+00  3.51253152e-01  1.37232137e+00\n",
            "   3.47780079e-01 -9.32743073e-01 -1.15647340e+00  1.64310968e+00\n",
            "   1.09297717e+00  1.67275500e+00  1.18434477e+00  1.07455468e+00\n",
            "  -1.23888588e+00 -1.43974578e+00 -1.46527576e+00 -1.31197691e+00\n",
            "   4.89842266e-01 -1.41215825e+00  1.22275174e+00  1.22361481e+00\n",
            "   1.05873191e+00  1.69851875e+00  1.53289497e+00  1.08804071e+00\n",
            "  -1.32691872e+00  1.45133173e+00  1.06654835e+00 -8.49102914e-01\n",
            "  -1.23610806e+00 -4.24894363e-01 -1.25937450e+00  6.43704236e-01\n",
            "   5.94558597e-01  1.47134066e+00 -1.69342637e+00  1.57268536e+00\n",
            "   1.45743906e+00 -2.55155861e-01 -1.35539556e+00  1.19066155e+00\n",
            "   1.24840271e+00 -9.78777334e-02 -1.18434393e+00 -1.91474751e-01]]\n"
          ]
        }
      ]
    },
    {
      "cell_type": "code",
      "source": [
        "# Batch size untuk proses prediksi\n",
        "batch_size_pred = 32\n",
        "\n",
        "# Mengumpulkan semua entitas sebagai daftar\n",
        "all_entities_list = list(range(num_entities))\n",
        "\n",
        "# Menyiapkan dataset untuk proses prediksi\n",
        "prediction_dataset = TensorDataset(triples_tensor)\n",
        "prediction_loader = DataLoader(prediction_dataset, batch_size=batch_size_pred, shuffle=False)\n",
        "\n",
        "# Fungsi untuk memprediksi triples menggunakan model\n",
        "def predict_triples(model, data_loader):\n",
        "    model.eval()  # Set model ke mode evaluasi\n",
        "    predicted_triples = []\n",
        "\n",
        "    with torch.no_grad():\n",
        "        for triplets in data_loader:\n",
        "            scores = model(triplets[0])\n",
        "            predicted_triples.extend(scores.tolist())\n",
        "\n",
        "    return predicted_triples\n",
        "\n",
        "# Prediksi triples\n",
        "predicted_triples = predict_triples(model, prediction_loader)\n",
        "predicted_triples[:5]"
      ],
      "metadata": {
        "colab": {
          "base_uri": "https://localhost:8080/"
        },
        "id": "cpcAneAIp5PE",
        "outputId": "7d15e6b8-93ef-4924-c8d9-5acb95045fa9"
      },
      "execution_count": null,
      "outputs": [
        {
          "output_type": "execute_result",
          "data": {
            "text/plain": [
              "[0.05992783233523369,\n",
              " 15.403585433959961,\n",
              " 12.449283599853516,\n",
              " 6.2232985496521,\n",
              " 7.373783588409424]"
            ]
          },
          "metadata": {},
          "execution_count": 23
        }
      ]
    },
    {
      "cell_type": "code",
      "source": [
        "# Fungsi untuk memetakan kembali indeks ke URI\n",
        "def map_indices_to_uris(triples_idx, entity2idx, relation2idx):\n",
        "    # Membuat reverse mapping dari indeks ke URI\n",
        "    idx2entity = {idx: uri for uri, idx in entity2idx.items()}\n",
        "    idx2relation = {idx: uri for uri, idx in relation2idx.items()}\n",
        "\n",
        "    # Memetakan kembali indeks ke URI\n",
        "    triples_uri = [(idx2entity[h], idx2relation[r], idx2entity[t]) for h, r, t in triples_idx]\n",
        "    return triples_uri\n",
        "\n",
        "# Memetakan kembali triples indeks ke URI\n",
        "triples_uri = map_indices_to_uris(triples_idx, entity2idx, relation2idx)\n",
        "\n",
        "# Menyimpan triples URI dalam file teks\n",
        "output_file_path = 'predicted_triples_1_no_ontology.txt'\n",
        "with open(output_file_path, 'w') as file:\n",
        "    for triple in triples_uri:\n",
        "        file.write(f\"{triple[0]}, {triple[1]}, {triple[2]}\\n\")\n",
        "\n",
        "output_file_path\n"
      ],
      "metadata": {
        "colab": {
          "base_uri": "https://localhost:8080/",
          "height": 36
        },
        "id": "Xekc4ieOp8hD",
        "outputId": "1d62f081-59e4-49b6-996b-5ff41ac46cfd"
      },
      "execution_count": null,
      "outputs": [
        {
          "output_type": "execute_result",
          "data": {
            "text/plain": [
              "'predicted_triples_1_no_ontology.txt'"
            ],
            "application/vnd.google.colaboratory.intrinsic+json": {
              "type": "string"
            }
          },
          "metadata": {},
          "execution_count": 24
        }
      ]
    },
    {
      "cell_type": "markdown",
      "source": [
        "# **Ubah string ke URI-1**"
      ],
      "metadata": {
        "id": "ZCixy3-FqDSs"
      }
    },
    {
      "cell_type": "code",
      "source": [
        "# Membaca file\n",
        "file_path = '/content/predicted_triples_1_no_ontology.txt'\n",
        "\n",
        "with open(file_path, 'r') as file:\n",
        "    sample_lines = [next(file) for _ in range(5)]\n",
        "\n",
        "sample_lines\n"
      ],
      "metadata": {
        "colab": {
          "base_uri": "https://localhost:8080/"
        },
        "id": "WmYcSXUSqDhS",
        "outputId": "47743384-bdfe-47f7-ea51-b368f94c3506"
      },
      "execution_count": null,
      "outputs": [
        {
          "output_type": "execute_result",
          "data": {
            "text/plain": [
              "['http://kgc.knowledge-graph.jp/data/SpeckledBand/362, http://www.w3.org/1999/02/22-rdf-syntax-ns#type, http://kgc.knowledge-graph.jp/ontology/kgc.owl#Situation\\n',\n",
              " 'http://kgc.knowledge-graph.jp/data/SpeckledBand/328, http://kgc.knowledge-graph.jp/ontology/kgc.owl#subject, http://kgc.knowledge-graph.jp/data/SpeckledBand/Watson\\n',\n",
              " 'http://kgc.knowledge-graph.jp/data/SpeckledBand/191, http://kgc.knowledge-graph.jp/ontology/kgc.owl#subject, http://kgc.knowledge-graph.jp/data/SpeckledBand/hinges_of_shutter\\n',\n",
              " 'http://kgc.knowledge-graph.jp/data/SpeckledBand/knee_of_Roylott, http://www.w3.org/1999/02/22-rdf-syntax-ns#type, http://kgc.knowledge-graph.jp/ontology/kgc.owl#OFobj\\n',\n",
              " 'http://kgc.knowledge-graph.jp/data/SpeckledBand/61, http://www.w3.org/1999/02/22-rdf-syntax-ns#type, http://kgc.knowledge-graph.jp/ontology/kgc.owl#Situation\\n']"
            ]
          },
          "metadata": {},
          "execution_count": 25
        }
      ]
    },
    {
      "cell_type": "code",
      "source": [
        "import re\n",
        "\n",
        "# base URI yang digunakan\n",
        "base_uri = \"http://kgc.knowledge-graph.jp/data/SpeckledBand/\"\n",
        "\n",
        "import re\n",
        "def is_uri(s):\n",
        "    return s.startswith('http://') or s.startswith('https://')\n",
        "\n",
        "def convert_to_uri(s, base_uri):\n",
        "    return base_uri + re.sub(r'\\s+', '_', s.strip())\n",
        "def process_triples_corrected(input_file_path, output_file_path, base_uri):\n",
        "    with open(input_file_path, 'r') as input_file, open(output_file_path, 'w') as output_file:\n",
        "        for line in input_file:\n",
        "            parts = line.split(',', maxsplit=2)\n",
        "            if len(parts) == 3:\n",
        "                subject, predicate, obj = [part.strip() for part in parts]\n",
        "\n",
        "                # Hanya mengubah menjadi URI jika belum dalam format URI\n",
        "                if not is_uri(subject):\n",
        "                    subject = convert_to_uri(subject, base_uri)\n",
        "                if not is_uri(predicate):\n",
        "                    predicate = convert_to_uri(predicate, base_uri)\n",
        "                if not is_uri(obj):\n",
        "                    obj = convert_to_uri(obj, base_uri)\n",
        "\n",
        "                output_file.write(f\"{subject}, {predicate}, {obj}\\n\")\n",
        "            else:\n",
        "                print(f\"Invalid line format: {line}\")\n",
        "\n",
        "process_triples_corrected('predicted_triples_1_no_ontology.txt', 'processed_triples_1_no_ontology.txt', base_uri)\n",
        "\n"
      ],
      "metadata": {
        "id": "9N4az6WOqHm5"
      },
      "execution_count": null,
      "outputs": []
    },
    {
      "cell_type": "code",
      "source": [
        "def check_for_non_uri_entities(file_path, base_uri):\n",
        "    non_uri_entities = set()\n",
        "\n",
        "    with open(file_path, 'r') as file:\n",
        "        for line in file:\n",
        "            parts = line.split(',', maxsplit=2)\n",
        "            if len(parts) == 3:\n",
        "                subject, predicate, obj = [part.strip() for part in parts]\n",
        "\n",
        "                # Cek apakah subject, predicate, dan object sudah dalam format URI\n",
        "                if not is_uri(subject):\n",
        "                    non_uri_entities.add(subject)\n",
        "                if not is_uri(predicate):\n",
        "                    non_uri_entities.add(predicate)\n",
        "                if not is_uri(obj):\n",
        "                    non_uri_entities.add(obj)\n",
        "\n",
        "    return non_uri_entities\n",
        "\n",
        "# Menetapkan jalur file output yang benar\n",
        "corrected_output_file_path = '/content/processed_triples_1_no_ontology.txt'\n",
        "\n",
        "# Menjalankan fungsi untuk mengecek file yang telah diproses\n",
        "non_uri_entities_in_corrected_file = check_for_non_uri_entities(corrected_output_file_path, base_uri)\n",
        "non_uri_entities_in_corrected_file\n",
        "\n",
        "\n",
        "\n"
      ],
      "metadata": {
        "colab": {
          "base_uri": "https://localhost:8080/"
        },
        "id": "dVpqiutyrCLT",
        "outputId": "fb538c45-ddbb-4431-cf16-702ebe3aaf86"
      },
      "execution_count": null,
      "outputs": [
        {
          "output_type": "execute_result",
          "data": {
            "text/plain": [
              "set()"
            ]
          },
          "metadata": {},
          "execution_count": 27
        }
      ]
    },
    {
      "cell_type": "markdown",
      "source": [
        "# **Gabungkan hasil embedding ke new tripple - 1**"
      ],
      "metadata": {
        "id": "xiM1Y4RkrU48"
      }
    },
    {
      "cell_type": "code",
      "source": [
        "# Membaca file file hasil embedding\n",
        "file_path = '/content/processed_triples_1_no_ontology.txt'\n",
        "\n",
        "with open(file_path, 'r') as file:\n",
        "    processed_triples_content = file.read()\n",
        "\n",
        "# Menanpilkan data\n",
        "print(processed_triples_content[:500])  # Menampilkan preview 500 karakter\n"
      ],
      "metadata": {
        "colab": {
          "base_uri": "https://localhost:8080/"
        },
        "id": "jv2i12plrQWg",
        "outputId": "e702b1ca-0509-48d4-a445-ccbab3ea0ded"
      },
      "execution_count": null,
      "outputs": [
        {
          "output_type": "stream",
          "name": "stdout",
          "text": [
            "http://kgc.knowledge-graph.jp/data/SpeckledBand/362, http://www.w3.org/1999/02/22-rdf-syntax-ns#type, http://kgc.knowledge-graph.jp/ontology/kgc.owl#Situation\n",
            "http://kgc.knowledge-graph.jp/data/SpeckledBand/328, http://kgc.knowledge-graph.jp/ontology/kgc.owl#subject, http://kgc.knowledge-graph.jp/data/SpeckledBand/Watson\n",
            "http://kgc.knowledge-graph.jp/data/SpeckledBand/191, http://kgc.knowledge-graph.jp/ontology/kgc.owl#subject, http://kgc.knowledge-graph.jp/data/SpeckledBand/hinges_of_shutter\n",
            "ht\n"
          ]
        }
      ]
    },
    {
      "cell_type": "code",
      "source": [
        "# Lokasi file teks\n",
        "file_path_1 = 'processed_triples_1_no_ontology.txt'\n",
        "file_path_2 = 'new_triple_reasoner_1_no_ontology.txt'\n",
        "\n",
        "# Fungsi untuk membaca isi file\n",
        "def read_file(file_path):\n",
        "    with open(file_path, 'r') as file:\n",
        "        return file.readlines()\n",
        "\n",
        "# Baca kedua file\n",
        "content_1 = read_file(file_path_1)\n",
        "content_2 = read_file(file_path_2)\n",
        "\n",
        "# Gabungkan konten\n",
        "combined_content = content_1 + content_2\n",
        "\n",
        "# Lokasi file output\n",
        "output_file_path = 'combined_triples_1_no_ontology.txt'\n",
        "\n",
        "# Menulis konten gabungan ke file baru\n",
        "with open(output_file_path, 'w') as output_file:\n",
        "    output_file.writelines(combined_content)\n",
        "\n",
        "output_file_path\n"
      ],
      "metadata": {
        "colab": {
          "base_uri": "https://localhost:8080/",
          "height": 36
        },
        "id": "1kAUUohnsLjb",
        "outputId": "66d69b33-6f42-45c7-a4dc-c62dea9f0ed3"
      },
      "execution_count": null,
      "outputs": [
        {
          "output_type": "execute_result",
          "data": {
            "text/plain": [
              "'combined_triples_1_no_ontology.txt'"
            ],
            "application/vnd.google.colaboratory.intrinsic+json": {
              "type": "string"
            }
          },
          "metadata": {},
          "execution_count": 29
        }
      ]
    },
    {
      "cell_type": "code",
      "source": [
        "# Lokasi file teks\n",
        "file_path = 'combined_triples_1_no_ontology.txt'\n",
        "\n",
        "# Fungsi untuk membaca isi file dan memeriksa duplikasi\n",
        "def check_for_duplicates(file_path):\n",
        "    with open(file_path, 'r') as file:\n",
        "        triples = [line.strip() for line in file]\n",
        "\n",
        "    triples_set = set(triples)\n",
        "    return len(triples), len(triples_set), len(triples) != len(triples_set)\n",
        "\n",
        "# Memeriksa duplikasi\n",
        "total_triples, unique_triples, has_duplicates = check_for_duplicates(file_path)\n",
        "\n",
        "print(f\"Total Triplets: {total_triples}\")\n",
        "print(f\"Unique Triplets: {unique_triples}\")\n",
        "print(f\"Apakah ada duplikat? {'Ya' if has_duplicates else 'Tidak'}\")\n"
      ],
      "metadata": {
        "colab": {
          "base_uri": "https://localhost:8080/"
        },
        "id": "zKSxnoWmtajV",
        "outputId": "6e28ca86-f21b-47c0-f23e-1a3764639190"
      },
      "execution_count": null,
      "outputs": [
        {
          "output_type": "stream",
          "name": "stdout",
          "text": [
            "Total Triplets: 10216\n",
            "Unique Triplets: 10216\n",
            "Apakah ada duplikat? Tidak\n"
          ]
        }
      ]
    },
    {
      "cell_type": "markdown",
      "source": [
        "# **Gabungkan hasil combined ke triple knowledge graph - 1**"
      ],
      "metadata": {
        "id": "0HCspdLkGBt7"
      }
    },
    {
      "cell_type": "code",
      "source": [
        "# Lokasi file teks\n",
        "file_path_1 = 'combined_triples_1_no_ontology.txt'\n",
        "file_path_2 = '/content/triple_individual_SpeckledBand.txt'\n",
        "\n",
        "# Fungsi untuk membaca isi file\n",
        "def read_file(file_path):\n",
        "    with open(file_path, 'r') as file:\n",
        "        return file.readlines()\n",
        "\n",
        "# Baca kedua file\n",
        "content_1 = read_file(file_path_1)\n",
        "content_2 = read_file(file_path_2)\n",
        "\n",
        "# Gabungkan konten\n",
        "combined_content = content_1 + content_2\n",
        "\n",
        "# Lokasi file output\n",
        "output_file_path = 'triples_updated_1_no_ontology.txt'\n",
        "\n",
        "# Menulis konten gabungan ke file baru\n",
        "with open(output_file_path, 'w') as output_file:\n",
        "    output_file.writelines(combined_content)\n",
        "\n",
        "output_file_path\n"
      ],
      "metadata": {
        "colab": {
          "base_uri": "https://localhost:8080/",
          "height": 36
        },
        "id": "9HmPStAwvCUo",
        "outputId": "6cb0eb28-3917-4726-afbd-0c1946124f69"
      },
      "execution_count": null,
      "outputs": [
        {
          "output_type": "execute_result",
          "data": {
            "text/plain": [
              "'triples_updated_1_no_ontology.txt'"
            ],
            "application/vnd.google.colaboratory.intrinsic+json": {
              "type": "string"
            }
          },
          "metadata": {},
          "execution_count": 31
        }
      ]
    },
    {
      "cell_type": "code",
      "source": [
        "# Lokasi file teks\n",
        "file_path = 'triples_updated_1_no_ontology.txt'\n",
        "\n",
        "# Fungsi untuk membaca isi file dan memeriksa duplikasi\n",
        "def check_for_duplicates(file_path):\n",
        "    with open(file_path, 'r') as file:\n",
        "        triples = [line.strip() for line in file]\n",
        "\n",
        "    triples_set = set(triples)\n",
        "    return len(triples), len(triples_set), len(triples) != len(triples_set)\n",
        "\n",
        "# Memeriksa duplikasi\n",
        "total_triples, unique_triples, has_duplicates = check_for_duplicates(file_path)\n",
        "\n",
        "print(f\"Total Triplets: {total_triples}\")\n",
        "print(f\"Unique Triplets: {unique_triples}\")\n",
        "print(f\"Apakah ada duplikat? {'Ya' if has_duplicates else 'Tidak'}\")\n"
      ],
      "metadata": {
        "colab": {
          "base_uri": "https://localhost:8080/"
        },
        "id": "jgdrwPgfwCA7",
        "outputId": "84223b54-cfe5-4747-8338-d60e9678a704"
      },
      "execution_count": null,
      "outputs": [
        {
          "output_type": "stream",
          "name": "stdout",
          "text": [
            "Total Triplets: 15044\n",
            "Unique Triplets: 11188\n",
            "Apakah ada duplikat? Ya\n"
          ]
        }
      ]
    },
    {
      "cell_type": "code",
      "source": [
        "# Lokasi file teks\n",
        "file_path = 'triples_updated_1_no_ontology.txt'\n",
        "\n",
        "# Fungsi untuk membaca isi file dan menemukan duplikasi\n",
        "def find_duplicates(file_path):\n",
        "    with open(file_path, 'r') as file:\n",
        "        triples = [line.strip() for line in file]\n",
        "\n",
        "    # Menemukan dan mengembalikan duplikasi\n",
        "    seen = set()\n",
        "    duplicates = set()\n",
        "    for triplet in triples:\n",
        "        if triplet in seen:\n",
        "            duplicates.add(triplet)\n",
        "        seen.add(triplet)\n",
        "\n",
        "    return duplicates\n",
        "\n",
        "# Menemukan duplikasi\n",
        "duplicates = find_duplicates(file_path)\n",
        "\n",
        "# Tampilkan beberapa duplikasi\n",
        "list(duplicates)[:10]  # Tampilkan 10 duplikasi pertama\n",
        "\n"
      ],
      "metadata": {
        "colab": {
          "base_uri": "https://localhost:8080/"
        },
        "id": "zuuga-qhwapm",
        "outputId": "b3b7b2aa-091a-447a-95cb-d44514de2db3"
      },
      "execution_count": null,
      "outputs": [
        {
          "output_type": "execute_result",
          "data": {
            "text/plain": [
              "['http://kgc.knowledge-graph.jp/data/SpeckledBand/burned, http://www.w3.org/1999/02/22-rdf-syntax-ns#type, http://kgc.knowledge-graph.jp/ontology/kgc.owl#Property',\n",
              " 'http://kgc.knowledge-graph.jp/data/SpeckledBand/first_floor_of_one_building_of_mansion_of_Roylott, http://www.w3.org/1999/02/22-rdf-syntax-ns#type, http://kgc.knowledge-graph.jp/ontology/kgc.owl#Place',\n",
              " 'http://kgc.knowledge-graph.jp/data/SpeckledBand/wakeUp, http://www.w3.org/1999/02/22-rdf-syntax-ns#type, http://www.w3.org/2002/07/owl#NamedIndividual',\n",
              " 'http://kgc.knowledge-graph.jp/data/SpeckledBand/poison_of_snake, http://www.w3.org/1999/02/22-rdf-syntax-ns#type, http://kgc.knowledge-graph.jp/ontology/kgc.owl#OFobj',\n",
              " 'http://kgc.knowledge-graph.jp/data/SpeckledBand/bookshelf, http://www.w3.org/1999/02/22-rdf-syntax-ns#type, http://kgc.knowledge-graph.jp/ontology/kgc.owl#Object',\n",
              " 'http://kgc.knowledge-graph.jp/data/SpeckledBand/doctor_of_Stoke_Moran, http://kgc.knowledge-graph.jp/ontology/kgc.owl#ofPart, http://kgc.knowledge-graph.jp/data/SpeckledBand/doctor',\n",
              " 'http://kgc.knowledge-graph.jp/data/SpeckledBand/167, http://www.w3.org/1999/02/22-rdf-syntax-ns#type, http://kgc.knowledge-graph.jp/ontology/kgc.owl#Situation',\n",
              " 'http://kgc.knowledge-graph.jp/data/SpeckledBand/219, http://www.w3.org/1999/02/22-rdf-syntax-ns#type, http://kgc.knowledge-graph.jp/ontology/kgc.owl#Situation',\n",
              " 'http://kgc.knowledge-graph.jp/ontology/kgc.owl#left, http://www.w3.org/1999/02/22-rdf-syntax-ns#type, http://www.w3.org/2002/07/owl#ObjectProperty',\n",
              " 'http://kgc.knowledge-graph.jp/data/SpeckledBand/272, http://kgc.knowledge-graph.jp/ontology/kgc.owl#hasProperty, http://kgc.knowledge-graph.jp/data/SpeckledBand/small']"
            ]
          },
          "metadata": {},
          "execution_count": 33
        }
      ]
    },
    {
      "cell_type": "code",
      "source": [
        "# Lokasi file teks\n",
        "input_file_path = 'triples_updated_1_no_ontology.txt'\n",
        "output_file_path = 'triples_removed_duplicate_1_no_ontology.txt'\n",
        "\n",
        "# Fungsi untuk membaca file dan menghilangkan duplikasi\n",
        "def remove_duplicates(input_file_path, output_file_path):\n",
        "    with open(input_file_path, 'r') as file:\n",
        "        unique_triples = set(file.readlines())\n",
        "\n",
        "    with open(output_file_path, 'w') as file:\n",
        "        file.writelines(unique_triples)\n",
        "\n",
        "    return output_file_path\n",
        "\n",
        "# Menghapus duplikasi dan menyimpan hasilnya\n",
        "unique_file_path = remove_duplicates(input_file_path, output_file_path)\n",
        "unique_file_path\n"
      ],
      "metadata": {
        "colab": {
          "base_uri": "https://localhost:8080/",
          "height": 36
        },
        "id": "VQj8K0OTwg0H",
        "outputId": "0b75250a-1028-440e-8f70-8cb39d49877f"
      },
      "execution_count": null,
      "outputs": [
        {
          "output_type": "execute_result",
          "data": {
            "text/plain": [
              "'triples_removed_duplicate_1_no_ontology.txt'"
            ],
            "application/vnd.google.colaboratory.intrinsic+json": {
              "type": "string"
            }
          },
          "metadata": {},
          "execution_count": 34
        }
      ]
    },
    {
      "cell_type": "code",
      "source": [
        "# Lokasi file teks\n",
        "file_path = 'triples_removed_duplicate_1_no_ontology.txt'\n",
        "\n",
        "# Fungsi untuk membaca isi file dan memeriksa duplikasi\n",
        "def check_for_duplicates(file_path):\n",
        "    with open(file_path, 'r') as file:\n",
        "        triples = [line.strip() for line in file]\n",
        "\n",
        "    triples_set = set(triples)\n",
        "    return len(triples), len(triples_set), len(triples) != len(triples_set)\n",
        "\n",
        "# Memeriksa duplikasi\n",
        "total_triples, unique_triples, has_duplicates = check_for_duplicates(file_path)\n",
        "\n",
        "print(f\"Total Triplets: {total_triples}\")\n",
        "print(f\"Unique Triplets: {unique_triples}\")\n",
        "print(f\"Apakah ada duplikat? {'Ya' if has_duplicates else 'Tidak'}\")\n"
      ],
      "metadata": {
        "colab": {
          "base_uri": "https://localhost:8080/"
        },
        "id": "IzUAvSZBw4_P",
        "outputId": "2a77090f-7cad-48eb-b24b-e007dc5e2950"
      },
      "execution_count": null,
      "outputs": [
        {
          "output_type": "stream",
          "name": "stdout",
          "text": [
            "Total Triplets: 11188\n",
            "Unique Triplets: 11188\n",
            "Apakah ada duplikat? Tidak\n"
          ]
        }
      ]
    },
    {
      "cell_type": "markdown",
      "source": [
        "#**Bandingkan merged result dan hasil ekstraksi tripple knowledge graph -1**"
      ],
      "metadata": {
        "id": "30MuhWuhxYbU"
      }
    },
    {
      "cell_type": "code",
      "source": [
        "# Membaca isi dari kedua file teks\n",
        "file_path_sb = '/content/triple_individual_SpeckledBand.txt'\n",
        "file_path_merged_result = 'triples_removed_duplicate_1_no_ontology.txt'\n",
        "def read_triplets(file_path):\n",
        "    \"\"\" Membaca file teks dan mengembalikan set dari triplets. \"\"\"\n",
        "    with open(file_path, 'r') as file:\n",
        "        return set(file.readlines())\n",
        "\n",
        "# Membaca triplets dari kedua file\n",
        "triplets_sb = read_triplets(file_path_sb)\n",
        "triplets_merged_result = read_triplets(file_path_merged_result)\n",
        "\n",
        "# Mencari triplets baru yang unik di merged_result\n",
        "new_triplets = triplets_merged_result - triplets_sb\n",
        "\n",
        "# Jumlah new triplets\n",
        "len(new_triplets), list(new_triplets)[:10]  # Menampilkan 10 contoh triplets baru\n",
        "\n"
      ],
      "metadata": {
        "colab": {
          "base_uri": "https://localhost:8080/"
        },
        "id": "e8DO_H8Rxj0I",
        "outputId": "064a9fce-d02d-4286-9079-6650c7ff3d60"
      },
      "execution_count": null,
      "outputs": [
        {
          "output_type": "execute_result",
          "data": {
            "text/plain": [
              "(6360,\n",
              " ['http://kgc.knowledge-graph.jp/data/SpeckledBand/373, http://www.w3.org/1999/02/22-rdf-syntax-ns#type, http://kgc.knowledge-graph.jp/ontology/kgc.owl#Scene\\n',\n",
              "  'http://kgc.knowledge-graph.jp/data/SpeckledBand/398, http://kgc.knowledge-graph.jp/ontology/kgc.owl#hasPart, http://kgc.knowledge-graph.jp/data/SpeckledBand/snake\\n',\n",
              "  'http://kgc.knowledge-graph.jp/data/SpeckledBand/370, http://www.w3.org/1999/02/22-rdf-syntax-ns#type, http://kgc.knowledge-graph.jp/ontology/kgc.owl#Scene\\n',\n",
              "  'http://kgc.knowledge-graph.jp/data/SpeckledBand/89, http://kgc.knowledge-graph.jp/ontology/kgc.owl#SceneObjectProperty, http://kgc.knowledge-graph.jp/data/SpeckledBand/death_day_of_Julia\\n',\n",
              "  'http://kgc.knowledge-graph.jp/data/SpeckledBand/269, http://kgc.knowledge-graph.jp/ontology/kgc.owl#LocationProperty, http://kgc.knowledge-graph.jp/data/SpeckledBand/Crown_Inn\\n',\n",
              "  'http://kgc.knowledge-graph.jp/data/SpeckledBand/229, http://www.w3.org/1999/02/22-rdf-syntax-ns#type, http://kgc.knowledge-graph.jp/ontology/kgc.owl#Scene\\n',\n",
              "  'http://kgc.knowledge-graph.jp/data/SpeckledBand/26, http://kgc.knowledge-graph.jp/ontology/kgc.owl#TargetObjProperty, http://kgc.knowledge-graph.jp/data/SpeckledBand/Roma\\n',\n",
              "  'http://kgc.knowledge-graph.jp/data/SpeckledBand/pay, http://www.w3.org/2000/01/rdf-schema#label, http://kgc.knowledge-graph.jp/data/SpeckledBand/pay\\n',\n",
              "  'http://kgc.knowledge-graph.jp/data/SpeckledBand/197, http://kgc.knowledge-graph.jp/ontology/kgc.owl#TargetObjProperty, http://kgc.knowledge-graph.jp/data/SpeckledBand/low_celling\\n',\n",
              "  'http://kgc.knowledge-graph.jp/data/SpeckledBand/227, http://kgc.knowledge-graph.jp/ontology/kgc.owl#SceneProperty, http://kgc.knowledge-graph.jp/data/SpeckledBand/231\\n'])"
            ]
          },
          "metadata": {},
          "execution_count": 36
        }
      ]
    },
    {
      "cell_type": "markdown",
      "source": [
        "#**Memasukan merged result ke knowledge graph - 1**"
      ],
      "metadata": {
        "id": "AGzTgVJXyaqc"
      }
    },
    {
      "cell_type": "code",
      "source": [
        "from rdflib import Graph, URIRef, Literal, Namespace\n",
        "\n",
        "# Lokasi file\n",
        "file_txt_path = 'triples_removed_duplicate_1_no_ontology.txt'\n",
        "file_ttl_path = 'SpeckledBand - new.ttl'\n",
        "file_ttl_output_path = 'SpeckledBand_updated_1.ttl'\n",
        "\n",
        "# Membuat graf RDF dari file Turtle\n",
        "graph = Graph()\n",
        "graph.parse(file_ttl_path, format='ttl')\n",
        "\n",
        "# Membaca file teks dan menambahkan triplets\n",
        "with open(file_txt_path, 'r') as file:\n",
        "    for line in file:\n",
        "        parts = line.strip().split(', ')\n",
        "        if len(parts) >= 3:\n",
        "            s = parts[0]\n",
        "            p = parts[1]\n",
        "            o = ', '.join(parts[2:])  # Menggabungkan kembali bagian objek\n",
        "            # Membuat triple dengan format yang sesuai\n",
        "            subject = URIRef(s)\n",
        "            predicate = URIRef(p)\n",
        "            object = URIRef(o) if o.startswith('http') else Literal(o)\n",
        "            graph.add((subject, predicate, object))\n",
        "\n",
        "# Menyimpan graf yang telah diperbarui ke dalam file Turtle baru\n",
        "graph.serialize(destination=file_ttl_output_path, format='turtle')\n",
        "\n",
        "file_ttl_output_path\n"
      ],
      "metadata": {
        "colab": {
          "base_uri": "https://localhost:8080/",
          "height": 36
        },
        "id": "eeK5mInGyjbZ",
        "outputId": "72579c25-ce7d-44ce-b4ab-6f5f90fccdb9"
      },
      "execution_count": null,
      "outputs": [
        {
          "output_type": "execute_result",
          "data": {
            "text/plain": [
              "'SpeckledBand_updated_1.ttl'"
            ],
            "application/vnd.google.colaboratory.intrinsic+json": {
              "type": "string"
            }
          },
          "metadata": {},
          "execution_count": 37
        }
      ]
    },
    {
      "cell_type": "markdown",
      "source": [
        "#**Ekstrak dan save tripple knowledge graph hasil reasoning - 2**"
      ],
      "metadata": {
        "id": "tYyLezx25AGa"
      }
    },
    {
      "cell_type": "code",
      "source": [
        "import rdflib\n",
        "\n",
        "# Membuat graf RDF\n",
        "g = rdflib.Graph()\n",
        "\n",
        "# Lokasi file RDF Turtle\n",
        "file_path = '/content/reasoner_2_no_ontology.ttl'\n",
        "\n",
        "# Parsing file RDF Turtle\n",
        "g.parse(file_path, format='turtle')\n",
        "\n",
        "# SPARQL Query untuk mendapatkan semua triplet <subject, predicate, object>\n",
        "query = \"\"\"\n",
        "SELECT DISTINCT ?subject ?predicate ?object\n",
        "WHERE {\n",
        "    ?subject ?predicate ?object .\n",
        "}\n",
        "\"\"\"\n",
        "\n",
        "# Menjalankan query\n",
        "results = g.query(query)\n",
        "\n",
        "# Lokasi file teks untuk menyimpan hasil\n",
        "output_file_path = 'triples_output_reasoner_2_no_ontology.txt'\n",
        "\n",
        "# Menyimpan hasil ke dalam file teks\n",
        "with open(output_file_path, 'w') as output_file:\n",
        "    for row in results:\n",
        "        output_file.write(f\"{row.subject}, {row.predicate}, {row.object}\\n\")\n",
        "\n",
        "print(f\"Triplets telah disimpan di {output_file_path}\")\n"
      ],
      "metadata": {
        "colab": {
          "base_uri": "https://localhost:8080/"
        },
        "id": "rit93EFV3xuJ",
        "outputId": "3c72bc03-345e-4978-90b7-49e2adb84be5"
      },
      "execution_count": null,
      "outputs": [
        {
          "output_type": "stream",
          "name": "stdout",
          "text": [
            "Triplets telah disimpan di triples_output_reasoner_2_no_ontology.txt\n"
          ]
        }
      ]
    },
    {
      "cell_type": "markdown",
      "source": [
        "#**Cek dan save new triple reasoning - 2**"
      ],
      "metadata": {
        "id": "WSF39MGMH8EA"
      }
    },
    {
      "cell_type": "code",
      "source": [
        "# Untuk clean URI jika ada URI yg salah\n",
        "\n",
        "import urllib.parse\n",
        "\n",
        "# Lokasi file teks\n",
        "input_file_path = 'triples_output_reasoner_2.txt'\n",
        "output_file_path = 'triples_output_reasoner_2_cleaned.txt'\n",
        "\n",
        "# String yang ingin dihapus\n",
        "string_to_remove = \"file:/C:/Users/Fadil%20Al%20Afgani/Downloads/\"\n",
        "\n",
        "# Fungsi untuk membersihkan file\n",
        "def clean_file(input_file_path, output_file_path, string_to_remove):\n",
        "    with open(input_file_path, 'r') as input_file, open(output_file_path, 'w') as output_file:\n",
        "        for line in input_file:\n",
        "            # Decode URL-encoded string\n",
        "            decoded_line = urllib.parse.unquote(line)\n",
        "            # Mengganti string yang diinginkan dengan string kosong\n",
        "            cleaned_line = decoded_line.replace(string_to_remove, '')\n",
        "            output_file.write(cleaned_line)\n",
        "\n",
        "# Membersihkan file\n",
        "clean_file(input_file_path, output_file_path, string_to_remove)\n",
        "\n",
        "output_file_path"
      ],
      "metadata": {
        "id": "asr4QxPYOZ8T"
      },
      "execution_count": null,
      "outputs": []
    },
    {
      "cell_type": "code",
      "source": [
        "# Membaca isi dari kedua file teks\n",
        "file_path_sb = '/content/combined_triples_1_no_ontology.txt'\n",
        "file_path_reasoner = 'triples_output_reasoner_2_no_ontology.txt'\n",
        "\n",
        "def read_triplets(file_path):\n",
        "    \"\"\" Membaca file teks dan mengembalikan set dari triplets. \"\"\"\n",
        "    with open(file_path, 'r') as file:\n",
        "        return set(file.readlines())\n",
        "\n",
        "# Membaca triplets dari kedua file\n",
        "triplets_sb = read_triplets(file_path_sb)\n",
        "triplets_reasoner = read_triplets(file_path_reasoner)\n",
        "\n",
        "# Mencari triplets baru yang unik di triplets_output_reasoner_1\n",
        "new_triplets = triplets_reasoner - triplets_sb\n",
        "\n",
        "# Jumlah new triplets\n",
        "len(new_triplets), list(new_triplets)[:10]  # Menampilkan 10 contoh triplets baru\n",
        "\n"
      ],
      "metadata": {
        "colab": {
          "base_uri": "https://localhost:8080/"
        },
        "id": "GTqxILao5c8P",
        "outputId": "f0d32c38-91b8-409a-dea6-3a84ddea026c"
      },
      "execution_count": null,
      "outputs": [
        {
          "output_type": "execute_result",
          "data": {
            "text/plain": [
              "(1027,\n",
              " ['http://kgc.knowledge-graph.jp/data/SpeckledBand/knee, http://www.w3.org/2000/01/rdf-schema#label, knee\\n',\n",
              "  'http://kgc.knowledge-graph.jp/data/SpeckledBand/115, http://kgc.knowledge-graph.jp/ontology/kgc.owl#source, There was a hole in the wall of bedroom of Helen.\\n',\n",
              "  'http://kgc.knowledge-graph.jp/data/SpeckledBand/78, http://kgc.knowledge-graph.jp/ontology/kgc.owl#time, 1881-12-02T00:00:00\\n',\n",
              "  'http://kgc.knowledge-graph.jp/data/SpeckledBand/61, http://kgc.knowledge-graph.jp/ontology/kgc.owl#source, Helen is sleeping\\n',\n",
              "  'http://kgc.knowledge-graph.jp/data/SpeckledBand/suspect, http://www.w3.org/2000/01/rdf-schema#label, suspect\\n',\n",
              "  'http://kgc.knowledge-graph.jp/data/SpeckledBand/1883-04-01T18:00:00, http://www.w3.org/1999/02/22-rdf-syntax-ns#type, http://www.w3.org/2001/XMLSchema#DateTime\\n',\n",
              "  'http://kgc.knowledge-graph.jp/data/SpeckledBand/poison_of_snake, http://www.w3.org/2000/01/rdf-schema#label, poison of snake\\n',\n",
              "  'http://kgc.knowledge-graph.jp/data/SpeckledBand/canSee, http://www.w3.org/2000/01/rdf-schema#label, canSee\\n',\n",
              "  'http://kgc.knowledge-graph.jp/data/SpeckledBand/neck, http://www.w3.org/2000/01/rdf-schema#label, neck\\n',\n",
              "  'http://kgc.knowledge-graph.jp/data/SpeckledBand/48, http://kgc.knowledge-graph.jp/ontology/kgc.owl#source, All the bedrooms are connected to the hallway\\n'])"
            ]
          },
          "metadata": {},
          "execution_count": 40
        }
      ]
    },
    {
      "cell_type": "code",
      "source": [
        "# Lokasi file teks baru untuk menyimpan triplet baru\n",
        "new_triplets_file_path = 'new_triplets_reasoner_2_no_ontology.txt'\n",
        "\n",
        "# Menyimpan triplet baru ke dalam file teks\n",
        "with open(new_triplets_file_path, 'w') as new_file:\n",
        "    for triplet in new_triplets:\n",
        "        new_file.write(triplet)\n",
        "\n",
        "new_triplets_file_path"
      ],
      "metadata": {
        "colab": {
          "base_uri": "https://localhost:8080/",
          "height": 36
        },
        "id": "JB_XGlli5ubA",
        "outputId": "3da7aabc-e361-42c6-c7a8-04e22929b13d"
      },
      "execution_count": null,
      "outputs": [
        {
          "output_type": "execute_result",
          "data": {
            "text/plain": [
              "'new_triplets_reasoner_2_no_ontology.txt'"
            ],
            "application/vnd.google.colaboratory.intrinsic+json": {
              "type": "string"
            }
          },
          "metadata": {},
          "execution_count": 41
        }
      ]
    },
    {
      "cell_type": "markdown",
      "source": [
        "#**Embedding complex - 2**"
      ],
      "metadata": {
        "id": "MqbUSsw953uY"
      }
    },
    {
      "cell_type": "code",
      "source": [
        "# Lokasi file triplets\n",
        "file_path = '/content/triples_removed_duplicate_1_no_ontology.txt'\n",
        "\n",
        "# Fungsi untuk membaca triplets dari file teks\n",
        "def read_triplets(file_path):\n",
        "    with open(file_path, 'r') as file:\n",
        "        triples = []\n",
        "        for line in file:\n",
        "            parts = line.strip().split(', ')\n",
        "            if len(parts) == 3:\n",
        "                triples.append(tuple(parts))\n",
        "    return triples\n",
        "\n",
        "# Membaca triplets dari file\n",
        "triples = read_triplets(file_path)\n",
        "triples[:10]  # Menampilkan 5 triples pertama untuk contoh\n"
      ],
      "metadata": {
        "colab": {
          "base_uri": "https://localhost:8080/"
        },
        "id": "fu8F3f-U56BG",
        "outputId": "d761338f-e1ee-4e67-89f1-50de69d2c451"
      },
      "execution_count": null,
      "outputs": [
        {
          "output_type": "execute_result",
          "data": {
            "text/plain": [
              "[('http://kgc.knowledge-graph.jp/data/SpeckledBand/283',\n",
              "  'http://kgc.knowledge-graph.jp/ontology/kgc.owl#hasPredicate',\n",
              "  'http://kgc.knowledge-graph.jp/data/SpeckledBand/sleep'),\n",
              " ('http://kgc.knowledge-graph.jp/data/SpeckledBand/373',\n",
              "  'http://www.w3.org/1999/02/22-rdf-syntax-ns#type',\n",
              "  'http://kgc.knowledge-graph.jp/ontology/kgc.owl#Scene'),\n",
              " ('http://kgc.knowledge-graph.jp/data/SpeckledBand/398',\n",
              "  'http://kgc.knowledge-graph.jp/ontology/kgc.owl#hasPart',\n",
              "  'http://kgc.knowledge-graph.jp/data/SpeckledBand/snake'),\n",
              " ('http://kgc.knowledge-graph.jp/data/SpeckledBand/370',\n",
              "  'http://www.w3.org/1999/02/22-rdf-syntax-ns#type',\n",
              "  'http://kgc.knowledge-graph.jp/ontology/kgc.owl#Scene'),\n",
              " ('http://kgc.knowledge-graph.jp/data/SpeckledBand/death_day_of_mother_of_Helen',\n",
              "  'http://kgc.knowledge-graph.jp/ontology/kgc.owl#ofWhole',\n",
              "  'http://kgc.knowledge-graph.jp/data/SpeckledBand/mother'),\n",
              " ('http://kgc.knowledge-graph.jp/data/SpeckledBand/89',\n",
              "  'http://kgc.knowledge-graph.jp/ontology/kgc.owl#SceneObjectProperty',\n",
              "  'http://kgc.knowledge-graph.jp/data/SpeckledBand/death_day_of_Julia'),\n",
              " ('http://kgc.knowledge-graph.jp/data/SpeckledBand/269',\n",
              "  'http://kgc.knowledge-graph.jp/ontology/kgc.owl#LocationProperty',\n",
              "  'http://kgc.knowledge-graph.jp/data/SpeckledBand/Crown_Inn'),\n",
              " ('http://kgc.knowledge-graph.jp/data/SpeckledBand/367',\n",
              "  'http://kgc.knowledge-graph.jp/ontology/kgc.owl#source',\n",
              "  'Holmes locked the snake in the safe with a whip.'),\n",
              " ('http://kgc.knowledge-graph.jp/data/SpeckledBand/229',\n",
              "  'http://www.w3.org/1999/02/22-rdf-syntax-ns#type',\n",
              "  'http://kgc.knowledge-graph.jp/ontology/kgc.owl#Scene'),\n",
              " ('http://kgc.knowledge-graph.jp/data/SpeckledBand/26',\n",
              "  'http://kgc.knowledge-graph.jp/ontology/kgc.owl#TargetObjProperty',\n",
              "  'http://kgc.knowledge-graph.jp/data/SpeckledBand/Roma')]"
            ]
          },
          "metadata": {},
          "execution_count": 42
        }
      ]
    },
    {
      "cell_type": "code",
      "source": [
        "from collections import defaultdict\n",
        "import torch\n",
        "\n",
        "# Fungsi untuk mengonversi triples ke dalam bentuk indeks\n",
        "def convert_to_indices(triples, entity2idx, relation2idx):\n",
        "    triples_idx = []\n",
        "    for (h, r, t) in triples:\n",
        "        h_idx = entity2idx[h]\n",
        "        r_idx = relation2idx[r]\n",
        "        t_idx = entity2idx[t]\n",
        "        triples_idx.append((h_idx, r_idx, t_idx))\n",
        "    return triples_idx\n",
        "\n",
        "# Membuat indeks untuk entitas dan relasi\n",
        "entity2idx = defaultdict(lambda: len(entity2idx))\n",
        "relation2idx = defaultdict(lambda: len(relation2idx))\n",
        "\n",
        "for (h, r, t) in triples:\n",
        "    entity2idx[h]\n",
        "    entity2idx[t]\n",
        "    relation2idx[r]\n",
        "\n",
        "# Mengonversi triples ke dalam bentuk indeks\n",
        "triples_idx = convert_to_indices(triples, entity2idx, relation2idx)\n",
        "\n",
        "# Cek jumlah entitas dan relasi\n",
        "num_entities = len(entity2idx)\n",
        "num_relations = len(relation2idx)\n",
        "\n",
        "num_entities, num_relations, triples_idx[:5]  # Menampilkan beberapa informasi dan 5 triples indeks pertama\n"
      ],
      "metadata": {
        "colab": {
          "base_uri": "https://localhost:8080/"
        },
        "id": "wqNfacO46vGQ",
        "outputId": "b34add97-f487-4a5e-a15f-e83e4e51f776"
      },
      "execution_count": null,
      "outputs": [
        {
          "output_type": "execute_result",
          "data": {
            "text/plain": [
              "(2189, 48, [(0, 0, 1), (2, 1, 3), (4, 2, 5), (6, 1, 3), (7, 3, 8)])"
            ]
          },
          "metadata": {},
          "execution_count": 43
        }
      ]
    },
    {
      "cell_type": "code",
      "source": [
        "import torch.nn as nn\n",
        "import torch.nn.functional as F\n",
        "\n",
        "class ComplEx(nn.Module):\n",
        "    def __init__(self, num_entities, num_relations, embedding_dim):\n",
        "        super(ComplEx, self).__init__()\n",
        "        self.embedding_dim = embedding_dim\n",
        "        self.ent_embeddings = nn.Embedding(num_entities, embedding_dim, padding_idx=0)\n",
        "        self.rel_embeddings = nn.Embedding(num_relations, embedding_dim, padding_idx=0)\n",
        "\n",
        "        # Inisialisasi bobot\n",
        "        nn.init.xavier_uniform_(self.ent_embeddings.weight.data)\n",
        "        nn.init.xavier_uniform_(self.rel_embeddings.weight.data)\n",
        "\n",
        "    def forward(self, triplets):\n",
        "        # Mendapatkan embeddings\n",
        "        h = self.ent_embeddings(triplets[:, 0])\n",
        "        r = self.rel_embeddings(triplets[:, 1])\n",
        "        t = self.ent_embeddings(triplets[:, 2])\n",
        "\n",
        "        # Skor menggunakan rumus ComplEx\n",
        "        score = torch.sum(h * r * t, dim=1)\n",
        "        return score\n",
        "\n",
        "# Parameter model\n",
        "embedding_dim = 100  # Dimensi embedding\n",
        "\n",
        "# Inisialisasi model\n",
        "model = ComplEx(num_entities, num_relations, embedding_dim)\n",
        "model\n",
        "\n"
      ],
      "metadata": {
        "colab": {
          "base_uri": "https://localhost:8080/"
        },
        "id": "-GYt1eRL6yWv",
        "outputId": "30711a0a-b5c8-4d6c-899c-8dc67b4db838"
      },
      "execution_count": null,
      "outputs": [
        {
          "output_type": "execute_result",
          "data": {
            "text/plain": [
              "ComplEx(\n",
              "  (ent_embeddings): Embedding(2189, 100, padding_idx=0)\n",
              "  (rel_embeddings): Embedding(48, 100, padding_idx=0)\n",
              ")"
            ]
          },
          "metadata": {},
          "execution_count": 44
        }
      ]
    },
    {
      "cell_type": "code",
      "source": [
        "from torch.optim import Adam\n",
        "from torch.utils.data import DataLoader, TensorDataset\n",
        "\n",
        "# Fungsi untuk menghasilkan negative samples\n",
        "def generate_negative_samples(triples, num_entities, num_samples=1):\n",
        "    negatives = []\n",
        "    for (h, r, t) in triples:\n",
        "        for _ in range(num_samples):\n",
        "            negative_t = torch.randint(num_entities, (1,))\n",
        "            negatives.append((h, r, negative_t.item()))\n",
        "    return negatives\n",
        "\n",
        "# Mengonversi triples ke tensor\n",
        "triples_tensor = torch.LongTensor(triples_idx)\n",
        "\n",
        "# Negative sampling\n",
        "negative_samples = generate_negative_samples(triples_idx, num_entities, num_samples=1)\n",
        "negative_samples_tensor = torch.LongTensor(negative_samples)\n",
        "\n",
        "# Menyiapkan data loader\n",
        "batch_size = 32\n",
        "dataset = TensorDataset(triples_tensor, negative_samples_tensor)\n",
        "data_loader = DataLoader(dataset, batch_size=batch_size, shuffle=True)\n",
        "\n",
        "# Inisialisasi optimizer\n",
        "optimizer = Adam(model.parameters(), lr=0.001)\n",
        "\n",
        "# Fungsi loss\n",
        "def complex_loss(positive_scores, negative_scores):\n",
        "    return F.softplus(-positive_scores).mean() + F.softplus(negative_scores).mean()\n",
        "\n",
        "# Loop pelatihan\n",
        "num_epochs = 50  # Contoh jumlah epoch\n",
        "\n",
        "for epoch in range(num_epochs):\n",
        "    model.train()\n",
        "    running_loss = 0.0\n",
        "\n",
        "    for positive_triplets, negative_triplets in data_loader:\n",
        "        positive_scores = model(positive_triplets)\n",
        "        negative_scores = model(negative_triplets)\n",
        "\n",
        "        # Hitung loss\n",
        "        loss = complex_loss(positive_scores, negative_scores)\n",
        "\n",
        "        # Backpropagation\n",
        "        optimizer.zero_grad()\n",
        "        loss.backward()\n",
        "        optimizer.step()\n",
        "\n",
        "        running_loss += loss.item()\n",
        "\n",
        "    print(f\"Epoch {epoch + 1}/{num_epochs}, Loss: {running_loss / len(data_loader)}\")\n",
        "\n"
      ],
      "metadata": {
        "colab": {
          "base_uri": "https://localhost:8080/"
        },
        "id": "C281QYzR63xv",
        "outputId": "7f5ce351-5b50-4bb8-ed58-c107d2349fd8"
      },
      "execution_count": null,
      "outputs": [
        {
          "output_type": "stream",
          "name": "stdout",
          "text": [
            "Epoch 1/50, Loss: 1.385855656298662\n",
            "Epoch 2/50, Loss: 1.3323252327462665\n",
            "Epoch 3/50, Loss: 1.0080136515008002\n",
            "Epoch 4/50, Loss: 0.693537913028012\n",
            "Epoch 5/50, Loss: 0.4546388228848192\n",
            "Epoch 6/50, Loss: 0.29394834879305437\n",
            "Epoch 7/50, Loss: 0.19723704224585803\n",
            "Epoch 8/50, Loss: 0.14025936230889022\n",
            "Epoch 9/50, Loss: 0.10625293299043417\n",
            "Epoch 10/50, Loss: 0.0851418793409593\n",
            "Epoch 11/50, Loss: 0.07072504965540416\n",
            "Epoch 12/50, Loss: 0.06065476123232896\n",
            "Epoch 13/50, Loss: 0.05354045787799495\n",
            "Epoch 14/50, Loss: 0.048121446211232585\n",
            "Epoch 15/50, Loss: 0.04415137810768682\n",
            "Epoch 16/50, Loss: 0.04024889609672364\n",
            "Epoch 17/50, Loss: 0.03730372245420827\n",
            "Epoch 18/50, Loss: 0.03473101165259049\n",
            "Epoch 19/50, Loss: 0.032477311675075206\n",
            "Epoch 20/50, Loss: 0.03017569947147203\n",
            "Epoch 21/50, Loss: 0.028181946306038423\n",
            "Epoch 22/50, Loss: 0.026256504987818816\n",
            "Epoch 23/50, Loss: 0.02454893748460399\n",
            "Epoch 24/50, Loss: 0.02296348197441041\n",
            "Epoch 25/50, Loss: 0.02143373875945465\n",
            "Epoch 26/50, Loss: 0.020067744721080787\n",
            "Epoch 27/50, Loss: 0.018534558047188572\n",
            "Epoch 28/50, Loss: 0.017255714140918484\n",
            "Epoch 29/50, Loss: 0.01602820778308709\n",
            "Epoch 30/50, Loss: 0.01490843031135285\n",
            "Epoch 31/50, Loss: 0.013915717697385125\n",
            "Epoch 32/50, Loss: 0.013051724049465679\n",
            "Epoch 33/50, Loss: 0.0119975773084604\n",
            "Epoch 34/50, Loss: 0.011324191680281035\n",
            "Epoch 35/50, Loss: 0.010626956393338187\n",
            "Epoch 36/50, Loss: 0.009871641352813909\n",
            "Epoch 37/50, Loss: 0.009293604692745708\n",
            "Epoch 38/50, Loss: 0.008752604632747097\n",
            "Epoch 39/50, Loss: 0.008223048306478076\n",
            "Epoch 40/50, Loss: 0.007897063640558973\n",
            "Epoch 41/50, Loss: 0.007469795042041442\n",
            "Epoch 42/50, Loss: 0.00713829661405509\n",
            "Epoch 43/50, Loss: 0.006698510145757442\n",
            "Epoch 44/50, Loss: 0.00644906654975331\n",
            "Epoch 45/50, Loss: 0.0062331213333966925\n",
            "Epoch 46/50, Loss: 0.006043376654798863\n",
            "Epoch 47/50, Loss: 0.005742968117845438\n",
            "Epoch 48/50, Loss: 0.0056225563628954775\n",
            "Epoch 49/50, Loss: 0.005451743952754079\n",
            "Epoch 50/50, Loss: 0.005329030930675358\n"
          ]
        }
      ]
    },
    {
      "cell_type": "code",
      "source": [
        "import numpy as np\n",
        "import random\n",
        "def evaluate_model(model, triples, all_entities, num_samples=1000, k=10):\n",
        "    # Memilih subset acak dari triples untuk evaluasi\n",
        "    evaluation_triples = random.sample(triples, num_samples)\n",
        "\n",
        "    mrr_sum = 0.0\n",
        "    hits_at_k_sum = 0\n",
        "\n",
        "    for h, r, t in evaluation_triples:\n",
        "        # Menghasilkan kandidat prediksi dengan mengganti tail\n",
        "        candidate_triples = [(h, r, tail) for tail in all_entities]\n",
        "\n",
        "        # Menghitung skor untuk setiap kandidat\n",
        "        candidate_triples_tensor = torch.LongTensor(candidate_triples)\n",
        "        with torch.no_grad():\n",
        "            candidate_scores = model(candidate_triples_tensor).numpy()\n",
        "\n",
        "        # Mendapatkan peringkat entitas yang benar\n",
        "        correct_entity_score = candidate_scores[all_entities.index(t)]\n",
        "        ranked_scores = sorted(candidate_scores, reverse=True)\n",
        "        rank = ranked_scores.index(correct_entity_score) + 1\n",
        "\n",
        "        # Menghitung MRR dan Hits@K\n",
        "        mrr_sum += 1.0 / rank\n",
        "        if rank <= k:\n",
        "            hits_at_k_sum += 1\n",
        "\n",
        "    # Menghitung rata-rata MRR dan Hits@K\n",
        "    mrr = mrr_sum / num_samples\n",
        "    hits_at_k = hits_at_k_sum / num_samples\n",
        "\n",
        "    return mrr, hits_at_k\n",
        "\n",
        "# Mengumpulkan semua entitas sebagai daftar\n",
        "all_entities_list = list(range(num_entities))\n",
        "\n",
        "# Menjalankan evaluasi model\n",
        "mrr, hits_at_10 = evaluate_model(model, triples_idx, all_entities_list, num_samples=1000, k=10)\n",
        "\n",
        "mrr, hits_at_10\n",
        "\n"
      ],
      "metadata": {
        "colab": {
          "base_uri": "https://localhost:8080/"
        },
        "id": "Z7jBKjbn67yv",
        "outputId": "a76b8a9a-5192-4036-ee6c-1ca687621f15"
      },
      "execution_count": null,
      "outputs": [
        {
          "output_type": "execute_result",
          "data": {
            "text/plain": [
              "(0.33964508281880834, 0.705)"
            ]
          },
          "metadata": {},
          "execution_count": 51
        }
      ]
    },
    {
      "cell_type": "code",
      "source": [
        "# Mendapatkan embeddings dari model\n",
        "entity_embeddings = model.ent_embeddings.weight.data.numpy()\n",
        "relation_embeddings = model.rel_embeddings.weight.data.numpy()\n",
        "\n",
        "# Menampilkan sebagian dari embeddings\n",
        "# Kita akan menampilkan 5 embeddings pertama untuk entitas dan relasi\n",
        "print(\"Entity Embeddings (5 first embeddings):\")\n",
        "print(entity_embeddings[:5])\n",
        "print(\"\\nRelation Embeddings (5 first embeddings):\")\n",
        "print(relation_embeddings[:5])\n",
        "\n"
      ],
      "metadata": {
        "colab": {
          "base_uri": "https://localhost:8080/"
        },
        "id": "iFfGCWCSBN8F",
        "outputId": "1ca734f2-550b-4a88-8ed6-fb7f00249bdb"
      },
      "execution_count": null,
      "outputs": [
        {
          "output_type": "stream",
          "name": "stdout",
          "text": [
            "Entity Embeddings (5 first embeddings):\n",
            "[[-3.21767516e-02 -3.94007750e-02  4.05591205e-02  4.89392877e-02\n",
            "   3.57511453e-02 -1.71418544e-02 -2.24096328e-03 -4.62527797e-02\n",
            "   2.75657270e-02 -3.49357277e-02 -1.52602466e-02 -4.01233546e-02\n",
            "   2.45612320e-02  3.99803035e-02 -1.69006363e-02 -4.09742147e-02\n",
            "  -1.70597974e-02  3.33165675e-02  2.11917553e-02 -1.28843763e-03\n",
            "   3.74404155e-02  2.84683947e-02 -4.49235402e-02  2.36080717e-02\n",
            "  -3.16552375e-03 -3.26015498e-03  1.87531009e-03 -2.19125096e-02\n",
            "  -4.26411107e-02 -1.48651758e-02  2.70405468e-02  3.49209905e-02\n",
            "   2.65201880e-03  3.05550247e-02  4.58988063e-02  5.79016935e-03\n",
            "  -3.39699048e-03 -7.27066491e-03 -4.74168397e-02  5.00752032e-02\n",
            "  -3.79708521e-02 -4.12401669e-02  2.49697128e-04 -3.17639969e-02\n",
            "  -2.68229097e-03 -2.67417543e-02 -2.80431490e-02  4.88017015e-02\n",
            "   2.91376980e-03  2.89034732e-02 -4.04973812e-02  2.37886440e-02\n",
            "   4.93675172e-02 -3.76412719e-02  1.68733299e-02  3.29767540e-02\n",
            "   9.45254881e-03  3.84862046e-03 -4.84063551e-02  2.29208563e-02\n",
            "   1.19536277e-03  4.35705744e-02 -2.30527651e-02  2.63284845e-03\n",
            "  -7.94750545e-03  1.14874775e-02  4.46197391e-02 -3.16468142e-02\n",
            "  -5.09977937e-02  4.64242809e-02  4.57612090e-02  1.69939492e-02\n",
            "   3.77414338e-02  1.50509775e-02 -2.10260022e-02  4.59279083e-02\n",
            "  -2.13787053e-02  4.48406823e-02 -3.71959135e-02 -3.76757514e-03\n",
            "   2.93499585e-02 -3.04181725e-02 -3.85450386e-02 -3.59980240e-02\n",
            "   3.45282927e-02 -4.97042947e-02  4.75938693e-02 -4.59304266e-03\n",
            "   1.63093805e-02 -4.82458398e-02  2.94196093e-03  1.95063557e-02\n",
            "  -4.46383730e-02 -1.05546899e-02  3.63107584e-02 -2.74880324e-02\n",
            "   3.63418274e-02  1.91760212e-02  3.11940201e-02  5.05318828e-02]\n",
            " [ 3.18880647e-01  6.05185509e-01 -7.34359801e-01  2.76928216e-01\n",
            "   3.36625874e-02 -2.41113305e-01  8.02946508e-01  1.10280347e+00\n",
            "   1.06069088e+00 -1.33794641e+00  3.58850569e-01 -5.24915636e-01\n",
            "   1.07926631e+00 -8.73819888e-02 -1.42952099e-01 -1.81741163e-01\n",
            "  -6.45154119e-02  7.27836728e-01 -1.12888861e+00 -3.01383585e-01\n",
            "  -4.19379234e-01 -1.82264820e-01  5.05593538e-01  3.78244489e-01\n",
            "  -9.90183890e-01  6.19532883e-01  9.02853549e-01 -7.06679761e-01\n",
            "   3.05322498e-01  8.73931527e-01  4.34800178e-01  5.79470158e-01\n",
            "   2.61168480e-01  1.09986758e+00 -1.13336551e+00 -1.95997581e-01\n",
            "  -4.36809212e-01 -7.92646468e-01 -8.46602440e-01 -9.67381120e-01\n",
            "  -1.21751940e+00  6.23937190e-01 -3.68725359e-01  7.53021240e-01\n",
            "  -5.38167953e-01  4.95251685e-01 -3.41725409e-01 -9.56993043e-01\n",
            "   2.35217467e-01 -1.04686344e+00  4.61624473e-01 -7.80098420e-03\n",
            "   9.78598475e-01 -1.87495381e-01 -1.10198593e+00  9.47807252e-01\n",
            "  -3.74589890e-01 -1.67715192e-01 -1.91779420e-01 -4.95109588e-01\n",
            "  -1.22630501e+00  9.05952454e-01  9.95525792e-02 -6.84596300e-01\n",
            "   4.33494091e-01 -4.08275157e-01  4.22425747e-01 -1.06472075e+00\n",
            "   2.60330975e-01  4.17306006e-01 -1.06988728e+00  8.83363858e-02\n",
            "   5.54634213e-01  2.22491458e-01  2.97786206e-01 -8.02533865e-01\n",
            "  -9.21587408e-01 -7.01197386e-01 -2.01692536e-01 -3.68313193e-01\n",
            "  -9.35007036e-01  2.76802294e-02 -7.08045363e-01  4.74947661e-01\n",
            "   9.41849828e-01  7.33198166e-01  1.92584023e-01 -1.12935150e+00\n",
            "   4.30406839e-01 -7.96744704e-01 -6.97553575e-01 -6.66081429e-01\n",
            "  -6.74571753e-01  5.47927082e-01 -2.41625239e-03  5.17182529e-01\n",
            "  -1.02201724e+00  1.00709114e-03 -1.21960092e+00  5.78342080e-01]\n",
            " [-8.30467269e-02  3.13032389e-01 -3.02286476e-01  1.87482446e-01\n",
            "  -2.12054372e-01 -4.40064222e-01  4.28450495e-01  9.23418030e-02\n",
            "  -5.88186324e-01 -2.31131718e-01 -6.03754520e-01 -3.98831703e-02\n",
            "   2.97321737e-01 -1.12890340e-02  3.58599275e-01  3.02098274e-01\n",
            "  -3.41952592e-02 -3.04508004e-02 -1.07111685e-01 -2.61635095e-01\n",
            "   2.46899977e-01  2.10479856e-01 -6.16188288e-01  5.32616526e-02\n",
            "   2.15869665e-01  2.29787663e-01 -5.57433844e-01 -5.38960025e-02\n",
            "  -3.73914023e-03 -4.15627152e-01 -5.30617684e-02  2.46426255e-01\n",
            "   4.96931151e-02 -1.25907175e-02 -1.22978404e-01 -1.02236755e-01\n",
            "  -6.85562491e-01  9.46149006e-02 -2.13572234e-01 -1.40784860e-01\n",
            "  -1.96435809e-01 -4.51471776e-01 -2.27785751e-01 -2.81536669e-01\n",
            "   4.97399829e-03  4.21105295e-01  9.20329392e-01  4.29875664e-02\n",
            "   1.51719660e-01 -1.83239996e-01 -1.09028794e-01 -2.67213196e-01\n",
            "  -1.12559900e-01 -1.52587727e-01 -3.69710088e-01  4.92364764e-01\n",
            "   1.35258371e-02 -5.48673928e-01 -5.67166328e-01  1.83357090e-01\n",
            "   4.53652531e-01  5.63553929e-01 -1.18894719e-01 -2.61907522e-02\n",
            "   1.57159753e-02  1.30286021e-03  4.35527451e-02 -1.06035149e+00\n",
            "  -1.00455977e-01  4.96392608e-01  1.00850090e-01 -1.86818540e-01\n",
            "  -5.94400465e-02 -4.29055274e-01  3.20894152e-01 -1.51314020e-01\n",
            "   1.22020088e-01 -2.29800403e-01 -5.73294759e-01  5.66419005e-01\n",
            "  -2.38517419e-01 -1.11471444e-01 -1.37384823e-02 -1.78228483e-01\n",
            "   1.61520675e-01  2.78820723e-01  3.18996787e-01 -5.36365551e-04\n",
            "  -4.19409201e-02 -6.18228674e-01 -1.72567219e-01  2.77712077e-01\n",
            "  -6.05664216e-03 -3.97553295e-01 -1.11292735e-01 -2.36885622e-01\n",
            "   1.76834002e-01  1.44290134e-01  2.12403163e-01 -6.68067709e-02]\n",
            " [ 4.65987712e-01 -3.65682065e-01  1.24833095e+00 -1.18222892e+00\n",
            "  -3.43585759e-01  2.82595128e-01  1.00686587e-01  8.25748503e-01\n",
            "  -3.36192667e-01  1.28126073e+00  8.57646823e-01  1.41292048e+00\n",
            "  -4.49347496e-01 -4.15103287e-01 -4.42443699e-01  1.15604138e+00\n",
            "   1.04114905e-01  7.68992752e-02 -3.65791589e-01 -1.97252184e-01\n",
            "  -2.13740379e-01 -4.16956812e-01 -7.07501829e-01  9.19588625e-01\n",
            "  -1.83500320e-01 -5.93611598e-01 -2.34639347e-01 -2.43929610e-01\n",
            "  -1.25148714e-01  8.16704631e-01  5.72940826e-01  1.79415122e-01\n",
            "  -2.61907816e-01 -1.47485840e+00 -6.62974954e-01  7.21315742e-01\n",
            "   3.64900321e-01 -1.09917986e+00  1.35871685e+00  1.37662005e+00\n",
            "  -1.11353648e+00  1.18290341e+00 -1.13344871e-01 -1.53094435e+00\n",
            "  -2.98359275e-01  1.09382391e+00 -3.64275038e-01 -1.10450149e+00\n",
            "  -1.24126399e+00 -1.83885191e-02 -1.36780655e+00 -7.92158902e-01\n",
            "   1.01308143e+00 -5.50414085e-01 -6.32110238e-01 -9.25498366e-01\n",
            "  -5.08350506e-02 -5.93528375e-02 -4.58118528e-01 -3.55752409e-01\n",
            "  -3.54025781e-01  8.92814279e-01  1.34604657e+00  4.23463285e-01\n",
            "  -2.66584307e-01 -3.05614788e-02 -1.41752720e+00 -1.09018993e+00\n",
            "   1.06883550e+00 -4.56551790e-01  1.52567375e+00 -5.29161453e-01\n",
            "  -7.57034242e-01  6.21047318e-01 -7.45809019e-01 -3.90402645e-01\n",
            "  -7.89519131e-01 -6.58487022e-01  2.40828216e-01  3.85458916e-01\n",
            "   1.42329443e+00 -2.67915517e-01 -6.19848967e-01  1.31543875e+00\n",
            "   4.59114224e-01  1.14545353e-01 -2.51541674e-01  9.86494541e-01\n",
            "   3.79354030e-01 -3.78364742e-01  6.40371084e-01 -1.18859991e-01\n",
            "   1.32733107e+00  2.39365086e-01  9.50253010e-01  1.25605911e-01\n",
            "   2.65366018e-01 -4.84906942e-01 -8.89945865e-01  1.18863113e-01]\n",
            " [ 1.06005776e+00  4.87719238e-01  4.34107095e-01  6.79329932e-01\n",
            "   1.28112778e-01 -6.91062808e-01  7.11984277e-01 -9.65151489e-01\n",
            "  -6.99065924e-01 -1.31184971e+00 -5.20418048e-01 -3.02365214e-01\n",
            "   9.43432510e-01  5.83831489e-01  1.14658296e+00  5.90397000e-01\n",
            "   9.53087211e-01 -7.02891529e-01 -1.08980167e+00 -7.06517339e-01\n",
            "  -8.77433777e-01  1.00170624e+00  3.08542192e-01  9.65254247e-01\n",
            "   5.32947481e-01 -6.36012137e-01  9.00177002e-01  9.88807321e-01\n",
            "   9.76052463e-01  3.59792978e-01 -7.10662603e-01 -2.07685292e-01\n",
            "  -7.22925439e-02  7.26520181e-01  3.40877533e-01 -6.74727559e-01\n",
            "  -7.07373083e-01  4.55427200e-01 -4.94008273e-01  3.48441422e-01\n",
            "  -6.57619298e-01 -1.09355605e+00  3.70112509e-01 -6.87249959e-01\n",
            "   5.66842377e-01  5.27289152e-01  4.15644646e-01  1.33406115e+00\n",
            "   8.01206753e-02 -1.08770096e+00 -8.05326343e-01 -3.13602805e-01\n",
            "   4.63847458e-01  5.54958403e-01 -2.98056483e-01 -2.29149356e-01\n",
            "  -1.36886090e-01 -7.30193377e-01  9.37503517e-01 -3.95779610e-01\n",
            "   8.40102434e-01 -6.94508314e-01 -7.20459580e-01 -7.20085919e-01\n",
            "   2.92715967e-01 -8.86326849e-01 -5.70755780e-01 -8.30020189e-01\n",
            "  -1.18517244e+00  8.39726806e-01  5.80337882e-01 -6.23052955e-01\n",
            "  -3.90885800e-01 -1.02021611e+00 -1.02238047e+00 -4.90117878e-01\n",
            "  -9.90726650e-01 -2.60650873e-01 -9.59831834e-01  6.48402348e-02\n",
            "  -8.37389052e-01  9.48153913e-01 -5.77036381e-01 -7.43080020e-01\n",
            "  -8.93770099e-01 -1.83405668e-01  3.02560866e-01  9.14858758e-01\n",
            "  -7.40373135e-01 -7.54922152e-01 -7.29955375e-01  4.55085367e-01\n",
            "   4.37508792e-01  4.61277962e-01 -8.93418550e-01  1.90286458e-01\n",
            "   5.15187025e-01  8.32415819e-01  2.17805728e-01 -1.37222633e-01]]\n",
            "\n",
            "Relation Embeddings (5 first embeddings):\n",
            "[[ 1.70790285e-01  9.68637243e-02 -6.52319789e-02  1.27223939e-01\n",
            "   1.35135874e-01 -8.96044523e-02  7.84066096e-02 -6.93647116e-02\n",
            "   9.01174843e-02  1.80797100e-01  1.91837877e-01 -4.47328351e-02\n",
            "   4.53507304e-02 -5.43785170e-02 -1.59410238e-01 -4.87165153e-02\n",
            "   1.12889431e-01 -1.11063786e-01 -1.36488840e-01 -2.28337329e-02\n",
            "  -1.60575598e-01  1.28561184e-01  5.51726632e-02  8.10012445e-02\n",
            "  -1.38572901e-01 -1.21907257e-01  1.69398308e-01  4.51879948e-02\n",
            "  -1.97827026e-01 -9.60302874e-02 -1.79826394e-01  3.21059860e-02\n",
            "  -1.76096469e-01  1.35584503e-01 -7.01878511e-04 -9.99699682e-02\n",
            "   3.34235504e-02 -6.65044636e-02  9.58949849e-02 -9.45572108e-02\n",
            "   1.06834367e-01 -1.04031920e-01  2.70569343e-02 -8.94796401e-02\n",
            "  -5.56853507e-03  1.64173633e-01 -3.96086834e-02  8.09501484e-02\n",
            "  -3.38945235e-03  1.31688356e-01 -1.45510823e-01 -8.41566026e-02\n",
            "   3.53595838e-02 -1.98679671e-01 -1.28033370e-01 -1.04360156e-01\n",
            "   1.53621957e-01  6.95336908e-02  1.81641415e-01 -4.24192194e-03\n",
            "   1.32897913e-01 -1.33990645e-01 -2.45208619e-03  6.75048083e-02\n",
            "   2.01219529e-01  1.97288871e-01 -7.72086754e-02  1.72785029e-01\n",
            "   7.05855489e-02  5.94150880e-03 -2.35402435e-02 -7.78400600e-02\n",
            "  -2.35531330e-02  1.36472598e-01 -1.46173164e-01  2.84021478e-02\n",
            "   1.77289605e-01  8.75223894e-03 -1.16275072e-01 -1.00889355e-01\n",
            "  -1.49441525e-01 -7.53031448e-02  1.34092107e-01 -1.73863500e-01\n",
            "  -1.29974827e-01  1.59148172e-01  1.02684908e-01  1.44471258e-01\n",
            "  -4.40018177e-02  1.96426436e-01 -1.16213337e-01  4.40321118e-02\n",
            "  -5.09700067e-02 -2.92163827e-02 -1.64938733e-01  1.17516257e-01\n",
            "  -2.87467265e-03 -8.24524537e-02 -8.27196017e-02  2.05252059e-02]\n",
            " [-1.31619632e+00  2.10507083e+00  1.20030630e+00 -2.90708017e+00\n",
            "   2.08768272e+00 -2.28773546e+00 -2.70457417e-01 -2.72295809e+00\n",
            "  -9.11537886e-01 -2.26853514e+00 -1.61354649e+00 -2.49529290e+00\n",
            "   1.80130863e+00 -2.60555720e+00 -2.28719735e+00 -2.01089072e+00\n",
            "   1.52550507e+00 -2.04050779e+00 -2.86436367e+00  2.79110312e+00\n",
            "   1.74566138e+00 -1.08390629e+00  2.57418942e+00  1.68091273e+00\n",
            "   1.46877873e+00 -1.76608562e+00  1.05352151e+00 -1.95650613e+00\n",
            "  -2.44085956e+00 -1.33626246e+00 -2.25304461e+00 -1.70030689e+00\n",
            "   2.14738917e+00 -1.96618211e+00 -2.60206461e+00 -1.98420560e+00\n",
            "  -2.41241217e+00  2.33538437e+00 -2.25952077e+00  1.06610942e+00\n",
            "   2.27606678e+00 -2.96357799e+00  1.11015177e+00  1.12307167e+00\n",
            "   2.70270371e+00 -2.45770550e+00  7.02628255e-01 -2.07260156e+00\n",
            "  -1.98209393e+00 -3.16367054e+00  2.18664742e+00 -2.86384439e+00\n",
            "   1.52313018e+00  2.57031155e+00  9.71823514e-01 -8.96490693e-01\n",
            "   1.87201524e+00 -3.83347422e-01  2.53572059e+00 -2.52245903e+00\n",
            "  -1.91777372e+00  2.18378997e+00 -3.15754771e+00 -2.42625284e+00\n",
            "   2.58264256e+00  2.44961786e+00 -2.41382122e+00  2.93411165e-01\n",
            "  -2.07941103e+00 -1.80827069e+00  1.30506670e+00  1.10780036e+00\n",
            "  -2.85376883e+00  1.01186645e+00  2.14065671e+00  1.45529056e+00\n",
            "   1.99709213e+00  1.06705678e+00 -1.14030254e+00  5.36342382e-01\n",
            "   1.87834477e+00  2.37075281e+00  2.17510128e+00 -3.27478719e+00\n",
            "   2.14219069e+00 -2.12790895e+00 -2.12009335e+00 -2.45212770e+00\n",
            "   2.33369017e+00  2.46170425e+00 -2.27989459e+00  1.81272423e+00\n",
            "  -2.18937731e+00 -9.08321083e-01  1.68388474e+00  7.96003044e-01\n",
            "   2.47096229e+00 -1.39831042e+00 -2.01767087e+00 -1.87831676e+00]\n",
            " [-1.76469767e+00 -2.25210762e+00 -1.89008343e+00 -2.05507946e+00\n",
            "   1.49310756e+00  1.30347824e+00 -2.15733886e+00 -1.34365904e+00\n",
            "  -1.84398079e+00  1.42611885e+00 -1.55984449e+00  7.31550753e-01\n",
            "   6.83418334e-01  5.81847131e-01 -2.21806121e+00  1.89246511e+00\n",
            "  -7.17543185e-01  4.42540556e-01  1.31723690e+00  2.90907491e-02\n",
            "  -1.61201417e+00 -1.99259162e+00 -9.15371776e-01  1.99323750e+00\n",
            "  -2.14834642e+00  1.02803504e+00 -2.31067443e+00  1.18930650e+00\n",
            "  -2.08485365e+00 -2.22153044e+00 -1.36158919e+00  1.61785448e+00\n",
            "   2.12710810e+00  1.14359689e+00 -1.93500614e+00  1.26627934e+00\n",
            "  -8.23585272e-01  8.39258134e-01  1.04776132e+00 -2.14945173e+00\n",
            "   1.70214939e+00 -2.20161438e+00 -1.93219912e+00 -1.52831674e+00\n",
            "  -1.71271610e+00  1.94110179e+00  2.69627810e+00 -1.17971766e+00\n",
            "   1.25932813e+00 -2.96445513e+00  1.53095543e+00  1.53227842e+00\n",
            "   2.05129027e+00  6.24218166e-01 -1.96551263e+00 -1.42654884e+00\n",
            "   1.16232717e+00 -1.97617972e+00 -1.76806283e+00 -1.99901891e+00\n",
            "   2.08132911e+00  2.28863382e+00 -2.38641119e+00 -2.31158328e+00\n",
            "   1.29296732e+00  6.68101788e-01  3.17248911e-01  1.20330775e+00\n",
            "  -2.36949658e+00  1.33030236e+00 -1.79007494e+00 -1.71242619e+00\n",
            "   2.56313467e+00 -2.09762263e+00  1.72922945e+00 -1.89952302e+00\n",
            "  -2.08115077e+00 -1.95199895e+00  2.30012631e+00  7.27702260e-01\n",
            "  -1.63698375e+00  1.39742470e+00 -6.98276162e-01 -6.61861598e-01\n",
            "   1.86041570e+00 -1.76492608e+00  1.54997635e+00  1.68681562e+00\n",
            "   1.87127566e+00  1.67880154e+00  6.76532567e-01 -1.89265919e+00\n",
            "   1.10264206e+00  1.89907777e+00  1.67981088e+00 -2.19622469e+00\n",
            "  -1.53605962e+00  1.88777447e+00 -1.32192886e+00  1.70492220e+00]\n",
            " [ 3.52224559e-01 -1.08363032e+00 -2.21238256e+00 -1.06463230e+00\n",
            "   2.21359158e+00  2.00672030e+00  8.73223618e-02 -9.70290184e-01\n",
            "   2.20437241e+00 -9.51260090e-01 -1.89160705e+00  1.58174539e+00\n",
            "   1.79861534e+00  1.02372336e+00  5.61796606e-01 -1.00383699e+00\n",
            "  -1.64923668e+00  2.53800273e+00 -1.79799438e-01  1.59637022e+00\n",
            "  -1.79137421e+00 -1.29436481e+00  6.35246560e-02  1.67538118e+00\n",
            "  -1.51477051e+00  7.58906364e-01  1.72515881e+00 -1.35003054e+00\n",
            "  -1.18475735e+00 -1.22297764e+00  1.67500079e+00  1.82493412e+00\n",
            "   1.93868089e+00  1.34986126e+00 -1.40755951e+00  1.35715520e+00\n",
            "   1.39754319e+00  4.72632289e-01  2.18243241e+00  5.02583146e-01\n",
            "   3.57371308e-02 -2.25742340e+00 -7.67441154e-01  7.45442659e-02\n",
            "   1.10243762e+00 -2.20570281e-01  2.22599006e+00 -1.75295603e+00\n",
            "   1.15489435e+00 -2.16003704e+00  2.18614388e+00 -9.70367968e-01\n",
            "   1.98710334e+00  2.91623998e+00 -8.03506732e-01  2.07499504e+00\n",
            "  -2.38170314e+00  1.27938116e+00 -1.66770983e+00 -1.15184283e+00\n",
            "   7.11284280e-01  1.60679686e+00 -9.91947830e-01 -1.60136950e+00\n",
            "   1.92588556e+00  1.17638218e+00  2.01056385e+00 -7.07581282e-01\n",
            "  -2.09677070e-01  1.50122607e+00  8.44825029e-01  5.98203480e-01\n",
            "  -1.92746282e-01  4.03310984e-01  1.59329903e+00  3.16818118e-01\n",
            "  -1.08341479e+00  1.08407974e+00  2.64188141e-01  2.28686881e+00\n",
            "   5.81473827e-01 -2.49082237e-01 -8.39698613e-01 -2.29662895e+00\n",
            "   1.16228127e+00  1.36523798e-01  6.69981986e-02 -6.53869390e-01\n",
            "   1.74919844e+00  5.36134899e-01  2.42547417e+00  1.59507704e+00\n",
            "   1.34444225e+00  2.30327696e-01  2.22716928e+00  2.89846003e-01\n",
            "   1.34552443e+00 -8.65558147e-01 -1.46523237e+00  1.53374863e+00]\n",
            " [-1.59408700e+00 -8.07797730e-01 -1.95849717e+00 -2.01163459e+00\n",
            "  -1.76012158e+00  1.61885452e+00 -1.69065905e+00 -1.68827057e+00\n",
            "   1.97917533e+00  1.64147472e+00 -1.66370595e+00  1.45390272e+00\n",
            "   1.73312938e+00  2.52954036e-01 -1.81753469e+00  1.84650087e+00\n",
            "  -1.91271889e+00  1.37392795e+00 -3.47073302e-02  1.83076394e+00\n",
            "  -5.76872408e-01 -1.77874327e+00  1.24035883e+00  1.35508025e+00\n",
            "  -1.95278740e+00  2.00994205e+00 -1.32714677e+00  4.68884446e-02\n",
            "  -2.01249504e+00 -1.19418931e+00 -3.29748839e-01  1.28651476e+00\n",
            "   2.26167417e+00  1.31167603e+00 -1.38068724e+00  9.52524662e-01\n",
            "  -1.88618231e+00  1.36486804e+00  5.77064753e-01 -1.89868414e+00\n",
            "   1.84945154e+00 -1.93636560e+00 -1.51794505e+00 -2.32138824e+00\n",
            "   1.43286139e-01  6.88566506e-01  1.65037867e-02 -2.13538647e+00\n",
            "   1.06101978e+00 -2.02191567e+00  1.52919805e+00  5.32305360e-01\n",
            "   2.46752596e+00  7.93577254e-01 -1.43319631e+00  7.08702922e-01\n",
            "  -1.64378917e+00 -1.69407141e+00 -8.70478570e-01 -2.04392338e+00\n",
            "   2.01166177e+00  1.33434534e+00 -2.25736833e+00 -2.06685114e+00\n",
            "   1.12656891e+00  2.10265446e+00  1.34207559e+00  1.43838286e+00\n",
            "  -1.60254431e+00  1.76633513e+00 -1.61687028e+00 -1.67268813e+00\n",
            "   1.43967819e+00 -1.83488119e+00  2.33303714e+00 -1.82902193e+00\n",
            "  -2.03965974e+00 -1.62508404e+00  1.65717804e+00 -2.53127837e+00\n",
            "  -1.70000458e+00  1.92997169e+00 -3.88437510e-01 -2.07555723e+00\n",
            "   1.29420793e+00 -2.60043716e+00  1.69321394e+00 -9.55318362e-02\n",
            "   2.02789831e+00  1.87037408e-01 -6.70300663e-01 -1.67820132e+00\n",
            "   1.64725447e+00  1.56602764e+00  1.01530492e+00 -1.96517825e+00\n",
            "  -1.25657523e+00  2.60417819e+00 -1.99697971e+00  7.56328583e-01]]\n"
          ]
        }
      ]
    },
    {
      "cell_type": "code",
      "source": [
        "# Batch size untuk proses prediksi\n",
        "batch_size_pred = 32\n",
        "\n",
        "# Mengumpulkan semua entitas sebagai daftar\n",
        "all_entities_list = list(range(num_entities))\n",
        "\n",
        "# Menyiapkan dataset untuk proses prediksi\n",
        "prediction_dataset = TensorDataset(triples_tensor)\n",
        "prediction_loader = DataLoader(prediction_dataset, batch_size=batch_size_pred, shuffle=False)\n",
        "\n",
        "# Fungsi untuk memprediksi triples menggunakan model\n",
        "def predict_triples(model, data_loader):\n",
        "    model.eval()  # Set model ke mode evaluasi\n",
        "    predicted_triples = []\n",
        "\n",
        "    with torch.no_grad():\n",
        "        for triplets in data_loader:\n",
        "            scores = model(triplets[0])\n",
        "            predicted_triples.extend(scores.tolist())\n",
        "\n",
        "    return predicted_triples\n",
        "\n",
        "# Prediksi triples\n",
        "predicted_triples = predict_triples(model, prediction_loader)\n",
        "predicted_triples[:5]"
      ],
      "metadata": {
        "colab": {
          "base_uri": "https://localhost:8080/"
        },
        "id": "xT-YoS_2BSjo",
        "outputId": "24946534-5ac6-4344-dd7f-63987f2a7a36"
      },
      "execution_count": null,
      "outputs": [
        {
          "output_type": "execute_result",
          "data": {
            "text/plain": [
              "[0.04271034896373749,\n",
              " 11.146615982055664,\n",
              " 22.263912200927734,\n",
              " 19.85324478149414,\n",
              " 15.098423957824707]"
            ]
          },
          "metadata": {},
          "execution_count": 53
        }
      ]
    },
    {
      "cell_type": "code",
      "source": [
        "# Fungsi untuk memetakan kembali indeks ke URI\n",
        "def map_indices_to_uris(triples_idx, entity2idx, relation2idx):\n",
        "    # Membuat reverse mapping dari indeks ke URI\n",
        "    idx2entity = {idx: uri for uri, idx in entity2idx.items()}\n",
        "    idx2relation = {idx: uri for uri, idx in relation2idx.items()}\n",
        "\n",
        "    # Memetakan kembali indeks ke URI\n",
        "    triples_uri = [(idx2entity[h], idx2relation[r], idx2entity[t]) for h, r, t in triples_idx]\n",
        "    return triples_uri\n",
        "\n",
        "# Memetakan kembali triples indeks ke URI\n",
        "triples_uri = map_indices_to_uris(triples_idx, entity2idx, relation2idx)\n",
        "\n",
        "# Menyimpan triples URI dalam file teks\n",
        "output_file_path = 'predicted_triples_2_no_ontology.txt'\n",
        "with open(output_file_path, 'w') as file:\n",
        "    for triple in triples_uri:\n",
        "        file.write(f\"{triple[0]}, {triple[1]}, {triple[2]}\\n\")\n",
        "\n",
        "output_file_path\n"
      ],
      "metadata": {
        "colab": {
          "base_uri": "https://localhost:8080/",
          "height": 36
        },
        "id": "TeshYZNOBXdQ",
        "outputId": "3c91f2a3-6133-4f50-a9eb-6713f2b65f2a"
      },
      "execution_count": null,
      "outputs": [
        {
          "output_type": "execute_result",
          "data": {
            "text/plain": [
              "'predicted_triples_2_no_ontology.txt'"
            ],
            "application/vnd.google.colaboratory.intrinsic+json": {
              "type": "string"
            }
          },
          "metadata": {},
          "execution_count": 54
        }
      ]
    },
    {
      "cell_type": "markdown",
      "source": [
        "# **Ubah string ke URI-2**"
      ],
      "metadata": {
        "id": "SAd06UvOBfvx"
      }
    },
    {
      "cell_type": "code",
      "source": [
        "# Membaca file\n",
        "file_path = 'predicted_triples_2_no_ontology.txt'\n",
        "\n",
        "with open(file_path, 'r') as file:\n",
        "    sample_lines = [next(file) for _ in range(5)]\n",
        "\n",
        "sample_lines\n"
      ],
      "metadata": {
        "colab": {
          "base_uri": "https://localhost:8080/"
        },
        "id": "trcGIFJaBg1N",
        "outputId": "2b3af8b7-2bb2-4a2f-ae59-17cc7965f4d8"
      },
      "execution_count": null,
      "outputs": [
        {
          "output_type": "execute_result",
          "data": {
            "text/plain": [
              "['http://kgc.knowledge-graph.jp/data/SpeckledBand/283, http://kgc.knowledge-graph.jp/ontology/kgc.owl#hasPredicate, http://kgc.knowledge-graph.jp/data/SpeckledBand/sleep\\n',\n",
              " 'http://kgc.knowledge-graph.jp/data/SpeckledBand/373, http://www.w3.org/1999/02/22-rdf-syntax-ns#type, http://kgc.knowledge-graph.jp/ontology/kgc.owl#Scene\\n',\n",
              " 'http://kgc.knowledge-graph.jp/data/SpeckledBand/398, http://kgc.knowledge-graph.jp/ontology/kgc.owl#hasPart, http://kgc.knowledge-graph.jp/data/SpeckledBand/snake\\n',\n",
              " 'http://kgc.knowledge-graph.jp/data/SpeckledBand/370, http://www.w3.org/1999/02/22-rdf-syntax-ns#type, http://kgc.knowledge-graph.jp/ontology/kgc.owl#Scene\\n',\n",
              " 'http://kgc.knowledge-graph.jp/data/SpeckledBand/death_day_of_mother_of_Helen, http://kgc.knowledge-graph.jp/ontology/kgc.owl#ofWhole, http://kgc.knowledge-graph.jp/data/SpeckledBand/mother\\n']"
            ]
          },
          "metadata": {},
          "execution_count": 55
        }
      ]
    },
    {
      "cell_type": "code",
      "source": [
        "import re\n",
        "\n",
        "# base URI yang digunakan\n",
        "base_uri = \"http://kgc.knowledge-graph.jp/data/SpeckledBand/\"\n",
        "\n",
        "import re\n",
        "def is_uri(s):\n",
        "    return s.startswith('http://') or s.startswith('https://')\n",
        "\n",
        "def convert_to_uri(s, base_uri):\n",
        "    return base_uri + re.sub(r'\\s+', '_', s.strip())\n",
        "def process_triples_corrected(input_file_path, output_file_path, base_uri):\n",
        "    with open(input_file_path, 'r') as input_file, open(output_file_path, 'w') as output_file:\n",
        "        for line in input_file:\n",
        "            parts = line.split(',', maxsplit=2)\n",
        "            if len(parts) == 3:\n",
        "                subject, predicate, obj = [part.strip() for part in parts]\n",
        "\n",
        "                # Hanya mengubah menjadi URI jika belum dalam format URI\n",
        "                if not is_uri(subject):\n",
        "                    subject = convert_to_uri(subject, base_uri)\n",
        "                if not is_uri(predicate):\n",
        "                    predicate = convert_to_uri(predicate, base_uri)\n",
        "                if not is_uri(obj):\n",
        "                    obj = convert_to_uri(obj, base_uri)\n",
        "\n",
        "                output_file.write(f\"{subject}, {predicate}, {obj}\\n\")\n",
        "            else:\n",
        "                print(f\"Invalid line format: {line}\")\n",
        "\n",
        "process_triples_corrected('predicted_triples_2_no_ontology.txt', 'processed_triples_2_no_ontology.txt', base_uri)\n",
        "\n"
      ],
      "metadata": {
        "id": "nLBVtNfDBjJa"
      },
      "execution_count": null,
      "outputs": []
    },
    {
      "cell_type": "code",
      "source": [
        "def check_for_non_uri_entities(file_path, base_uri):\n",
        "    non_uri_entities = set()\n",
        "\n",
        "    with open(file_path, 'r') as file:\n",
        "        for line in file:\n",
        "            parts = line.split(',', maxsplit=2)\n",
        "            if len(parts) == 3:\n",
        "                subject, predicate, obj = [part.strip() for part in parts]\n",
        "\n",
        "                # Cek apakah subject, predicate, dan object sudah dalam format URI\n",
        "                if not is_uri(subject):\n",
        "                    non_uri_entities.add(subject)\n",
        "                if not is_uri(predicate):\n",
        "                    non_uri_entities.add(predicate)\n",
        "                if not is_uri(obj):\n",
        "                    non_uri_entities.add(obj)\n",
        "\n",
        "    return non_uri_entities\n",
        "\n",
        "# Menetapkan jalur file output yang benar\n",
        "corrected_output_file_path = '/content/processed_triples_2_no_ontology.txt'\n",
        "\n",
        "# Menjalankan fungsi untuk mengecek file yang telah diproses\n",
        "non_uri_entities_in_corrected_file = check_for_non_uri_entities(corrected_output_file_path, base_uri)\n",
        "non_uri_entities_in_corrected_file\n",
        "\n",
        "\n",
        "\n"
      ],
      "metadata": {
        "colab": {
          "base_uri": "https://localhost:8080/"
        },
        "id": "cRkcrdJfBp8T",
        "outputId": "04d44775-01c1-4058-fbab-d18aff2ecea1"
      },
      "execution_count": null,
      "outputs": [
        {
          "output_type": "execute_result",
          "data": {
            "text/plain": [
              "set()"
            ]
          },
          "metadata": {},
          "execution_count": 57
        }
      ]
    },
    {
      "cell_type": "markdown",
      "source": [
        "# **Gabungkan hasil embedding ke new tripple - 2**"
      ],
      "metadata": {
        "id": "FnoOTyWkB3Vz"
      }
    },
    {
      "cell_type": "code",
      "source": [
        "# Membaca file file hasil embedding\n",
        "file_path = '/content/processed_triples_2_no_ontology.txt'\n",
        "\n",
        "with open(file_path, 'r') as file:\n",
        "    processed_triples_content = file.read()\n",
        "\n",
        "# Menanpilkan data\n",
        "print(processed_triples_content[:500])  # Menampilkan preview 500 karakter\n"
      ],
      "metadata": {
        "colab": {
          "base_uri": "https://localhost:8080/"
        },
        "id": "_6ynP8ejBtNY",
        "outputId": "305acf11-ce7d-41a1-8ee0-05ee08b7f6c9"
      },
      "execution_count": null,
      "outputs": [
        {
          "output_type": "stream",
          "name": "stdout",
          "text": [
            "http://kgc.knowledge-graph.jp/data/SpeckledBand/283, http://kgc.knowledge-graph.jp/ontology/kgc.owl#hasPredicate, http://kgc.knowledge-graph.jp/data/SpeckledBand/sleep\n",
            "http://kgc.knowledge-graph.jp/data/SpeckledBand/373, http://www.w3.org/1999/02/22-rdf-syntax-ns#type, http://kgc.knowledge-graph.jp/ontology/kgc.owl#Scene\n",
            "http://kgc.knowledge-graph.jp/data/SpeckledBand/398, http://kgc.knowledge-graph.jp/ontology/kgc.owl#hasPart, http://kgc.knowledge-graph.jp/data/SpeckledBand/snake\n",
            "http://kgc.kno\n"
          ]
        }
      ]
    },
    {
      "cell_type": "code",
      "source": [
        "# Membaca file\n",
        "file_path = '/content/new_triplets_reasoner_2_no_ontology.txt'\n",
        "\n",
        "with open(file_path, 'r') as file:\n",
        "    sample_lines = [next(file) for _ in range(5)]\n",
        "\n",
        "sample_lines\n"
      ],
      "metadata": {
        "colab": {
          "base_uri": "https://localhost:8080/"
        },
        "id": "NCJAnU6myhwW",
        "outputId": "a8d0301f-9d83-4a6b-954f-d2e57947d3d8"
      },
      "execution_count": null,
      "outputs": [
        {
          "output_type": "execute_result",
          "data": {
            "text/plain": [
              "['http://kgc.knowledge-graph.jp/data/SpeckledBand/knee, http://www.w3.org/2000/01/rdf-schema#label, knee\\n',\n",
              " 'http://kgc.knowledge-graph.jp/data/SpeckledBand/115, http://kgc.knowledge-graph.jp/ontology/kgc.owl#source, There was a hole in the wall of bedroom of Helen.\\n',\n",
              " 'http://kgc.knowledge-graph.jp/data/SpeckledBand/78, http://kgc.knowledge-graph.jp/ontology/kgc.owl#time, 1881-12-02T00:00:00\\n',\n",
              " 'http://kgc.knowledge-graph.jp/data/SpeckledBand/61, http://kgc.knowledge-graph.jp/ontology/kgc.owl#source, Helen is sleeping\\n',\n",
              " 'http://kgc.knowledge-graph.jp/data/SpeckledBand/suspect, http://www.w3.org/2000/01/rdf-schema#label, suspect\\n']"
            ]
          },
          "metadata": {},
          "execution_count": 59
        }
      ]
    },
    {
      "cell_type": "code",
      "source": [
        "import re\n",
        "\n",
        "# base URI yang digunakan\n",
        "base_uri = \"http://kgc.knowledge-graph.jp/data/SpeckledBand/\"\n",
        "\n",
        "import re\n",
        "def is_uri(s):\n",
        "    return s.startswith('http://') or s.startswith('https://')\n",
        "\n",
        "def convert_to_uri(s, base_uri):\n",
        "    return base_uri + re.sub(r'\\s+', '_', s.strip())\n",
        "def process_triples_corrected(input_file_path, output_file_path, base_uri):\n",
        "    with open(input_file_path, 'r') as input_file, open(output_file_path, 'w') as output_file:\n",
        "        for line in input_file:\n",
        "            parts = line.split(',', maxsplit=2)\n",
        "            if len(parts) == 3:\n",
        "                subject, predicate, obj = [part.strip() for part in parts]\n",
        "\n",
        "                # Hanya mengubah menjadi URI jika belum dalam format URI\n",
        "                if not is_uri(subject):\n",
        "                    subject = convert_to_uri(subject, base_uri)\n",
        "                if not is_uri(predicate):\n",
        "                    predicate = convert_to_uri(predicate, base_uri)\n",
        "                if not is_uri(obj):\n",
        "                    obj = convert_to_uri(obj, base_uri)\n",
        "\n",
        "                output_file.write(f\"{subject}, {predicate}, {obj}\\n\")\n",
        "            else:\n",
        "                print(f\"Invalid line format: {line}\")\n",
        "\n",
        "process_triples_corrected('new_triplets_reasoner_2_no_ontology.txt', 'new_triplets_reasoner_2_no_ontology_cleaned.txt', base_uri)"
      ],
      "metadata": {
        "id": "ucFLVbfEy1ZN"
      },
      "execution_count": null,
      "outputs": []
    },
    {
      "cell_type": "code",
      "source": [
        "def check_for_non_uri_entities(file_path, base_uri):\n",
        "    non_uri_entities = set()\n",
        "\n",
        "    with open(file_path, 'r') as file:\n",
        "        for line in file:\n",
        "            parts = line.split(',', maxsplit=2)\n",
        "            if len(parts) == 3:\n",
        "                subject, predicate, obj = [part.strip() for part in parts]\n",
        "\n",
        "                # Cek apakah subject, predicate, dan object sudah dalam format URI\n",
        "                if not is_uri(subject):\n",
        "                    non_uri_entities.add(subject)\n",
        "                if not is_uri(predicate):\n",
        "                    non_uri_entities.add(predicate)\n",
        "                if not is_uri(obj):\n",
        "                    non_uri_entities.add(obj)\n",
        "\n",
        "    return non_uri_entities\n",
        "\n",
        "# Menetapkan jalur file output yang benar\n",
        "corrected_output_file_path = 'new_triplets_reasoner_2_no_ontology_cleaned.txt'\n",
        "\n",
        "# Menjalankan fungsi untuk mengecek file yang telah diproses\n",
        "non_uri_entities_in_corrected_file = check_for_non_uri_entities(corrected_output_file_path, base_uri)\n",
        "non_uri_entities_in_corrected_file\n",
        "\n",
        "\n",
        "\n"
      ],
      "metadata": {
        "colab": {
          "base_uri": "https://localhost:8080/"
        },
        "id": "dkvxpgp8zM1O",
        "outputId": "fbf6bf0e-e712-4ab1-f19c-fef180ea0830"
      },
      "execution_count": null,
      "outputs": [
        {
          "output_type": "execute_result",
          "data": {
            "text/plain": [
              "set()"
            ]
          },
          "metadata": {},
          "execution_count": 61
        }
      ]
    },
    {
      "cell_type": "code",
      "source": [
        "# Lokasi file teks\n",
        "file_path_1 = 'processed_triples_2_no_ontology.txt'\n",
        "file_path_2 = 'new_triplets_reasoner_2_no_ontology_cleaned.txt'\n",
        "\n",
        "# Fungsi untuk membaca isi file\n",
        "def read_file(file_path):\n",
        "    with open(file_path, 'r') as file:\n",
        "        return file.readlines()\n",
        "\n",
        "# Baca kedua file\n",
        "content_1 = read_file(file_path_1)\n",
        "content_2 = read_file(file_path_2)\n",
        "\n",
        "# Gabungkan konten\n",
        "combined_content = content_1 + content_2\n",
        "\n",
        "# Lokasi file output\n",
        "output_file_path = 'combined_triples_2_no_ontology.txt'\n",
        "\n",
        "# Menulis konten gabungan ke file baru\n",
        "with open(output_file_path, 'w') as output_file:\n",
        "    output_file.writelines(combined_content)\n",
        "\n",
        "output_file_path\n"
      ],
      "metadata": {
        "colab": {
          "base_uri": "https://localhost:8080/",
          "height": 36
        },
        "id": "C3zLAsU6B8Cn",
        "outputId": "84eef320-962b-4e36-e871-cc13994c47fc"
      },
      "execution_count": null,
      "outputs": [
        {
          "output_type": "execute_result",
          "data": {
            "text/plain": [
              "'combined_triples_2_no_ontology.txt'"
            ],
            "application/vnd.google.colaboratory.intrinsic+json": {
              "type": "string"
            }
          },
          "metadata": {},
          "execution_count": 62
        }
      ]
    },
    {
      "cell_type": "code",
      "source": [
        "# Lokasi file teks\n",
        "file_path = 'combined_triples_2_no_ontology.txt'\n",
        "\n",
        "# Fungsi untuk membaca isi file dan memeriksa duplikasi\n",
        "def check_for_duplicates(file_path):\n",
        "    with open(file_path, 'r') as file:\n",
        "        triples = [line.strip() for line in file]\n",
        "\n",
        "    triples_set = set(triples)\n",
        "    return len(triples), len(triples_set), len(triples) != len(triples_set)\n",
        "\n",
        "# Memeriksa duplikasi\n",
        "total_triples, unique_triples, has_duplicates = check_for_duplicates(file_path)\n",
        "\n",
        "print(f\"Total Triplets: {total_triples}\")\n",
        "print(f\"Unique Triplets: {unique_triples}\")\n",
        "print(f\"Apakah ada duplikat? {'Ya' if has_duplicates else 'Tidak'}\")\n"
      ],
      "metadata": {
        "colab": {
          "base_uri": "https://localhost:8080/"
        },
        "id": "edwMZSByfNHw",
        "outputId": "3b742836-9533-40b8-b8db-c9bbe6ecb663"
      },
      "execution_count": null,
      "outputs": [
        {
          "output_type": "stream",
          "name": "stdout",
          "text": [
            "Total Triplets: 12171\n",
            "Unique Triplets: 10315\n",
            "Apakah ada duplikat? Ya\n"
          ]
        }
      ]
    },
    {
      "cell_type": "code",
      "source": [
        "# Lokasi file teks\n",
        "file_path = 'combined_triples_2_no_ontology.txt'\n",
        "\n",
        "# Fungsi untuk membaca isi file dan menemukan duplikasi\n",
        "def find_duplicates(file_path):\n",
        "    with open(file_path, 'r') as file:\n",
        "        triples = [line.strip() for line in file]\n",
        "\n",
        "    # Menemukan dan mengembalikan duplikasi\n",
        "    seen = set()\n",
        "    duplicates = set()\n",
        "    for triplet in triples:\n",
        "        if triplet in seen:\n",
        "            duplicates.add(triplet)\n",
        "        seen.add(triplet)\n",
        "\n",
        "    return duplicates\n",
        "\n",
        "# Menemukan duplikasi\n",
        "duplicates = find_duplicates(file_path)\n",
        "\n",
        "# Tampilkan beberapa duplikasi\n",
        "list(duplicates)[:10]  # Tampilkan 10 duplikasi pertama\n",
        "\n"
      ],
      "metadata": {
        "colab": {
          "base_uri": "https://localhost:8080/"
        },
        "id": "2vOZ_tEWfYPh",
        "outputId": "9150792e-f784-4284-bba1-3021f400fa4b"
      },
      "execution_count": null,
      "outputs": [
        {
          "output_type": "execute_result",
          "data": {
            "text/plain": [
              "['http://kgc.knowledge-graph.jp/data/SpeckledBand/270, http://kgc.knowledge-graph.jp/ontology/kgc.owl#source, http://kgc.knowledge-graph.jp/data/SpeckledBand/Holmes_and_Watson_can_see_the_mansion_of_Stoke_Moran_from_the_Crown_Inn.',\n",
              " 'http://kgc.knowledge-graph.jp/data/SpeckledBand/283, http://kgc.knowledge-graph.jp/ontology/kgc.owl#source, http://kgc.knowledge-graph.jp/data/SpeckledBand/A_woman_is_sleeping_on_the_bed.',\n",
              " 'http://kgc.knowledge-graph.jp/data/SpeckledBand/end, http://www.w3.org/2000/01/rdf-schema#label, http://kgc.knowledge-graph.jp/data/SpeckledBand/end',\n",
              " 'http://kgc.knowledge-graph.jp/data/SpeckledBand/247, http://kgc.knowledge-graph.jp/ontology/kgc.owl#source, http://kgc.knowledge-graph.jp/data/SpeckledBand/There_is_a_leopard_in_the_mansion.',\n",
              " 'http://kgc.knowledge-graph.jp/data/SpeckledBand/380, http://kgc.knowledge-graph.jp/ontology/kgc.owl#source, http://kgc.knowledge-graph.jp/data/SpeckledBand/Snake_poison_has_immediate_effect.',\n",
              " 'http://kgc.knowledge-graph.jp/data/SpeckledBand/exist, http://www.w3.org/2000/01/rdf-schema#label, http://kgc.knowledge-graph.jp/data/SpeckledBand/exist',\n",
              " 'http://kgc.knowledge-graph.jp/data/SpeckledBand/216, http://kgc.knowledge-graph.jp/ontology/kgc.owl#source, http://kgc.knowledge-graph.jp/data/SpeckledBand/The_pulling_rope_of_the_doorbell_is_tied_to_a_crochet_around_a_small_hole_for_vantilation.',\n",
              " 'http://kgc.knowledge-graph.jp/data/SpeckledBand/everything, http://www.w3.org/2000/01/rdf-schema#label, http://kgc.knowledge-graph.jp/data/SpeckledBand/everything',\n",
              " 'http://kgc.knowledge-graph.jp/data/SpeckledBand/living_room, http://www.w3.org/2000/01/rdf-schema#label, http://kgc.knowledge-graph.jp/data/SpeckledBand/living_room',\n",
              " 'http://kgc.knowledge-graph.jp/data/SpeckledBand/hole, http://www.w3.org/2000/01/rdf-schema#label, http://kgc.knowledge-graph.jp/data/SpeckledBand/hole']"
            ]
          },
          "metadata": {},
          "execution_count": 64
        }
      ]
    },
    {
      "cell_type": "code",
      "source": [
        "# Lokasi file teks\n",
        "input_file_path = 'combined_triples_2_no_ontology.txt'\n",
        "output_file_path = 'combined_triples_removed_duplicate_2_no_ontology.txt'\n",
        "\n",
        "# Fungsi untuk membaca file dan menghilangkan duplikasi\n",
        "def remove_duplicates(input_file_path, output_file_path):\n",
        "    with open(input_file_path, 'r') as file:\n",
        "        unique_triples = set(file.readlines())\n",
        "\n",
        "    with open(output_file_path, 'w') as file:\n",
        "        file.writelines(unique_triples)\n",
        "\n",
        "    return output_file_path\n",
        "\n",
        "# Menghapus duplikasi dan menyimpan hasilnya\n",
        "unique_file_path = remove_duplicates(input_file_path, output_file_path)\n",
        "unique_file_path"
      ],
      "metadata": {
        "colab": {
          "base_uri": "https://localhost:8080/",
          "height": 36
        },
        "id": "Ht41Mq00fuEz",
        "outputId": "9ab02c97-1b79-4d7f-e7aa-20720e82a823"
      },
      "execution_count": null,
      "outputs": [
        {
          "output_type": "execute_result",
          "data": {
            "text/plain": [
              "'combined_triples_removed_duplicate_2_no_ontology.txt'"
            ],
            "application/vnd.google.colaboratory.intrinsic+json": {
              "type": "string"
            }
          },
          "metadata": {},
          "execution_count": 65
        }
      ]
    },
    {
      "cell_type": "code",
      "source": [
        "# Untuk clean jika ada URI yang salah\n",
        "\n",
        "import urllib.parse\n",
        "\n",
        "# Lokasi file teks\n",
        "input_file_path = 'combined_triples_removed_duplicate_2.txt'\n",
        "output_file_path = 'combined_triples_cleaned_2.txt'\n",
        "\n",
        "# String yang ingin dihapus\n",
        "string_to_remove = \"file:/C:/Users/Fadil Al Afgani/Downloads/\"\n",
        "\n",
        "# Fungsi untuk membersihkan file\n",
        "def clean_file(input_file_path, output_file_path, string_to_remove):\n",
        "    with open(input_file_path, 'r') as input_file, open(output_file_path, 'w') as output_file:\n",
        "        for line in input_file:\n",
        "            # Decode URL-encoded string\n",
        "            decoded_line = urllib.parse.unquote(line)\n",
        "            # Mengganti string yang diinginkan dengan string kosong\n",
        "            cleaned_line = decoded_line.replace(string_to_remove, '')\n",
        "            output_file.write(cleaned_line)\n",
        "\n",
        "# Membersihkan file\n",
        "clean_file(input_file_path, output_file_path, string_to_remove)\n",
        "\n",
        "output_file_path"
      ],
      "metadata": {
        "id": "ZH0isniahO4X"
      },
      "execution_count": null,
      "outputs": []
    },
    {
      "cell_type": "markdown",
      "source": [
        "#**Bandingkan merged result dan hasil ekstraksi tripple merged result iterasi ke 1 - 2**"
      ],
      "metadata": {
        "id": "ryiL9OOZga0Y"
      }
    },
    {
      "cell_type": "code",
      "source": [
        "# Membaca isi dari kedua file teks\n",
        "file_path_sb = 'triples_removed_duplicate_1_no_ontology.txt'\n",
        "file_path_merged_result = 'combined_triples_removed_duplicate_2_no_ontology.txt'\n",
        "def read_triplets(file_path):\n",
        "    \"\"\" Membaca file teks dan mengembalikan set dari triplets. \"\"\"\n",
        "    with open(file_path, 'r') as file:\n",
        "        return set(file.readlines())\n",
        "\n",
        "# Membaca triplets dari kedua file\n",
        "triplets_sb = read_triplets(file_path_sb)\n",
        "triplets_merged_result = read_triplets(file_path_merged_result)\n",
        "\n",
        "# Mencari triplets baru yang unik di merged_result\n",
        "new_triplets = triplets_merged_result - triplets_sb\n",
        "\n",
        "# Jumlah new triplets\n",
        "len(new_triplets), list(new_triplets)[:10]  # Menampilkan 10 contoh triplets baru\n",
        "\n"
      ],
      "metadata": {
        "colab": {
          "base_uri": "https://localhost:8080/"
        },
        "id": "YFAi8t0zglno",
        "outputId": "5dc5bd55-712b-431e-ea08-9a0526a6b643"
      },
      "execution_count": null,
      "outputs": [
        {
          "output_type": "execute_result",
          "data": {
            "text/plain": [
              "(100,\n",
              " ['http://kgc.knowledge-graph.jp/data/SpeckledBand/1883-04-01T06:00:00, http://www.w3.org/1999/02/22-rdf-syntax-ns#type, http://www.w3.org/2001/XMLSchema#DateTime\\n',\n",
              "  'http://kgc.knowledge-graph.jp/data/SpeckledBand/1883-04-01T10:00:00, http://www.w3.org/1999/02/22-rdf-syntax-ns#type, http://www.w3.org/2001/XMLSchema#DateTime\\n',\n",
              "  'http://kgc.knowledge-graph.jp/data/SpeckledBand/89, http://kgc.knowledge-graph.jp/ontology/kgc.owl#source, http://kgc.knowledge-graph.jp/data/SpeckledBand/On_death_day_of_Julia,_Julia_had_a_box_of_matches.\\n',\n",
              "  'http://kgc.knowledge-graph.jp/data/SpeckledBand/1873-04-01T10:00:00, http://www.w3.org/1999/02/22-rdf-syntax-ns#type, http://www.w3.org/2002/07/owl#NamedIndividual\\n',\n",
              "  'http://kgc.knowledge-graph.jp/data/SpeckledBand/1883-04-01T18:00:00, http://www.w3.org/1999/02/22-rdf-syntax-ns#type, http://www.w3.org/2001/XMLSchema#DateTime\\n',\n",
              "  'http://kgc.knowledge-graph.jp/data/SpeckledBand/1881-12-01T20:00:00, http://www.w3.org/1999/02/22-rdf-syntax-ns#type, http://www.w3.org/2002/07/owl#NamedIndividual\\n',\n",
              "  'http://kgc.knowledge-graph.jp/data/SpeckledBand/78, http://kgc.knowledge-graph.jp/ontology/kgc.owl#source, http://kgc.knowledge-graph.jp/data/SpeckledBand/On_death_day_of_Julia,_Julia_pointed_to_the_bedroom_of_Roylott\\n',\n",
              "  'http://kgc.knowledge-graph.jp/data/SpeckledBand/1883-03-31T23:00:00, http://www.w3.org/1999/02/22-rdf-syntax-ns#type, http://www.w3.org/2002/07/owl#NamedIndividual\\n',\n",
              "  'http://kgc.knowledge-graph.jp/data/SpeckledBand/1883-04-01T11:00:00, http://www.w3.org/1999/02/22-rdf-syntax-ns#type, http://www.w3.org/2001/XMLSchema#DateTime\\n',\n",
              "  'http://kgc.knowledge-graph.jp/data/SpeckledBand/265, http://kgc.knowledge-graph.jp/ontology/kgc.owl#source, http://kgc.knowledge-graph.jp/data/SpeckledBand/After_that,_Helen_goes_quietly_to_the_bedroom_of_Helen.\\n'])"
            ]
          },
          "metadata": {},
          "execution_count": 66
        }
      ]
    },
    {
      "cell_type": "markdown",
      "source": [
        "#**Memasukan merged result ke knowledge graph - 2**"
      ],
      "metadata": {
        "id": "mw0CMoGKirsX"
      }
    },
    {
      "cell_type": "code",
      "source": [
        "from rdflib import Graph, URIRef, Literal, Namespace\n",
        "\n",
        "# Lokasi file\n",
        "file_txt_path = 'combined_triples_removed_duplicate_2_no_ontology.txt'\n",
        "file_ttl_path = 'SpeckledBand_updated_1.ttl'\n",
        "file_ttl_output_path = 'SpeckledBand_updated_2.ttl'\n",
        "\n",
        "# Membuat graf RDF dari file Turtle\n",
        "graph = Graph()\n",
        "graph.parse(file_ttl_path, format='ttl')\n",
        "\n",
        "# Membaca file teks dan menambahkan triplets\n",
        "with open(file_txt_path, 'r') as file:\n",
        "    for line in file:\n",
        "        parts = line.strip().split(', ')\n",
        "        if len(parts) >= 3:\n",
        "            s = parts[0]\n",
        "            p = parts[1]\n",
        "            o = ', '.join(parts[2:])  # Menggabungkan kembali bagian objek\n",
        "            # Membuat triple dengan format yang sesuai\n",
        "            subject = URIRef(s)\n",
        "            predicate = URIRef(p)\n",
        "            object = URIRef(o) if o.startswith('http') else Literal(o)\n",
        "            graph.add((subject, predicate, object))\n",
        "\n",
        "# Menyimpan graf yang telah diperbarui ke dalam file Turtle baru\n",
        "graph.serialize(destination=file_ttl_output_path, format='turtle')\n",
        "\n",
        "file_ttl_output_path\n"
      ],
      "metadata": {
        "colab": {
          "base_uri": "https://localhost:8080/",
          "height": 36
        },
        "id": "f_Yuv5mlitFC",
        "outputId": "fc7a5e20-faf6-4ba6-c1b5-b81ea980b42d"
      },
      "execution_count": null,
      "outputs": [
        {
          "output_type": "execute_result",
          "data": {
            "text/plain": [
              "'SpeckledBand_updated_2.ttl'"
            ],
            "application/vnd.google.colaboratory.intrinsic+json": {
              "type": "string"
            }
          },
          "metadata": {},
          "execution_count": 67
        }
      ]
    },
    {
      "cell_type": "markdown",
      "source": [
        "#**Ekstrak dan save tripple knowledge graph hasil reasoning - 3**"
      ],
      "metadata": {
        "id": "M2pYjr6Fi_ob"
      }
    },
    {
      "cell_type": "code",
      "source": [
        "import rdflib\n",
        "\n",
        "# Membuat graf RDF\n",
        "g = rdflib.Graph()\n",
        "\n",
        "# Lokasi file RDF Turtle\n",
        "file_path = '/content/reasoner_3_no_ontology.ttl'\n",
        "\n",
        "# Parsing file RDF Turtle\n",
        "g.parse(file_path, format='turtle')\n",
        "\n",
        "# SPARQL Query untuk mendapatkan semua triplet <subject, predicate, object>\n",
        "query = \"\"\"\n",
        "SELECT DISTINCT ?subject ?predicate ?object\n",
        "WHERE {\n",
        "    ?subject ?predicate ?object .\n",
        "}\n",
        "\"\"\"\n",
        "\n",
        "# Menjalankan query\n",
        "results = g.query(query)\n",
        "\n",
        "# Lokasi file teks untuk menyimpan hasil\n",
        "output_file_path = 'triples_output_reasoner_3_no_ontology.txt'\n",
        "\n",
        "# Menyimpan hasil ke dalam file teks\n",
        "with open(output_file_path, 'w') as output_file:\n",
        "    for row in results:\n",
        "        output_file.write(f\"{row.subject}, {row.predicate}, {row.object}\\n\")\n",
        "\n",
        "print(f\"Triplets telah disimpan di {output_file_path}\")\n"
      ],
      "metadata": {
        "colab": {
          "base_uri": "https://localhost:8080/"
        },
        "id": "VnFxhmU2jArJ",
        "outputId": "04327f7c-4ee8-493b-b5e7-2bbbccab748f"
      },
      "execution_count": null,
      "outputs": [
        {
          "output_type": "stream",
          "name": "stdout",
          "text": [
            "Triplets telah disimpan di triples_output_reasoner_3_no_ontology.txt\n"
          ]
        }
      ]
    },
    {
      "cell_type": "markdown",
      "source": [
        "#**Cek dan save new triple reasoning - 3**"
      ],
      "metadata": {
        "id": "8xm0gtKOkSht"
      }
    },
    {
      "cell_type": "code",
      "source": [
        "# Untuk clean URI yang salah\n",
        "\n",
        "import urllib.parse\n",
        "\n",
        "# Lokasi file teks\n",
        "input_file_path = 'triplets_output_reasoner_3.txt'\n",
        "output_file_path = 'triplets_output_reasoner_3_cleaned.txt'\n",
        "\n",
        "# String yang ingin dihapus\n",
        "string_to_remove = \"file:/C:/Users/Fadil%20Al%20Afgani/Downloads/\"\n",
        "\n",
        "# Fungsi untuk membersihkan file\n",
        "def clean_file(input_file_path, output_file_path, string_to_remove):\n",
        "    with open(input_file_path, 'r') as input_file, open(output_file_path, 'w') as output_file:\n",
        "        for line in input_file:\n",
        "            # Decode URL-encoded string\n",
        "            decoded_line = urllib.parse.unquote(line)\n",
        "            # Mengganti string yang diinginkan dengan string kosong\n",
        "            cleaned_line = decoded_line.replace(string_to_remove, '')\n",
        "            output_file.write(cleaned_line)\n",
        "\n",
        "# Membersihkan file\n",
        "clean_file(input_file_path, output_file_path, string_to_remove)\n",
        "\n",
        "output_file_path"
      ],
      "metadata": {
        "id": "PyF1xGQFkVoB"
      },
      "execution_count": null,
      "outputs": []
    },
    {
      "cell_type": "code",
      "source": [
        "# Membaca isi dari kedua file teks\n",
        "file_path_sb = '/content/combined_triples_removed_duplicate_2_no_ontology.txt'\n",
        "file_path_reasoner = 'triples_output_reasoner_3_no_ontology.txt'\n",
        "\n",
        "def read_triplets(file_path):\n",
        "    \"\"\" Membaca file teks dan mengembalikan set dari triplets. \"\"\"\n",
        "    with open(file_path, 'r') as file:\n",
        "        return set(file.readlines())\n",
        "\n",
        "# Membaca triplets dari kedua file\n",
        "triplets_sb = read_triplets(file_path_sb)\n",
        "triplets_reasoner = read_triplets(file_path_reasoner)\n",
        "\n",
        "# Mencari triplets baru yang unik di triplets_output_reasoner_1\n",
        "new_triplets = triplets_reasoner - triplets_sb\n",
        "\n",
        "# Jumlah new triplets\n",
        "len(new_triplets), list(new_triplets)[:10]  # Menampilkan 10 contoh triplets baru\n",
        "\n"
      ],
      "metadata": {
        "colab": {
          "base_uri": "https://localhost:8080/"
        },
        "id": "PqAigxLExkA_",
        "outputId": "708d9370-f3c4-473a-a6ad-0a206913e0bb"
      },
      "execution_count": null,
      "outputs": [
        {
          "output_type": "execute_result",
          "data": {
            "text/plain": [
              "(974,\n",
              " ['http://kgc.knowledge-graph.jp/data/SpeckledBand/knee, http://www.w3.org/2000/01/rdf-schema#label, knee\\n',\n",
              "  'http://kgc.knowledge-graph.jp/data/SpeckledBand/115, http://kgc.knowledge-graph.jp/ontology/kgc.owl#source, There was a hole in the wall of bedroom of Helen.\\n',\n",
              "  'http://kgc.knowledge-graph.jp/data/SpeckledBand/78, http://kgc.knowledge-graph.jp/ontology/kgc.owl#time, 1881-12-02T00:00:00\\n',\n",
              "  'http://kgc.knowledge-graph.jp/data/SpeckledBand/61, http://kgc.knowledge-graph.jp/ontology/kgc.owl#source, Helen is sleeping\\n',\n",
              "  'http://kgc.knowledge-graph.jp/data/SpeckledBand/suspect, http://www.w3.org/2000/01/rdf-schema#label, suspect\\n',\n",
              "  'http://kgc.knowledge-graph.jp/data/SpeckledBand/poison_of_snake, http://www.w3.org/2000/01/rdf-schema#label, poison of snake\\n',\n",
              "  'http://kgc.knowledge-graph.jp/data/SpeckledBand/canSee, http://www.w3.org/2000/01/rdf-schema#label, canSee\\n',\n",
              "  'http://kgc.knowledge-graph.jp/data/SpeckledBand/neck, http://www.w3.org/2000/01/rdf-schema#label, neck\\n',\n",
              "  'http://kgc.knowledge-graph.jp/data/SpeckledBand/48, http://kgc.knowledge-graph.jp/ontology/kgc.owl#source, All the bedrooms are connected to the hallway\\n',\n",
              "  'http://www.semanticweb.org/fadilalafgani/ontologies/2024/0/untitled-ontology-217, http://www.w3.org/1999/02/22-rdf-syntax-ns#type, http://www.w3.org/2002/07/owl#Ontology\\n'])"
            ]
          },
          "metadata": {},
          "execution_count": 70
        }
      ]
    },
    {
      "cell_type": "code",
      "source": [
        "# Lokasi file teks baru untuk menyimpan triplet baru\n",
        "new_triplets_file_path = 'new_triplets_reasoner_3_no_ontology.txt'\n",
        "\n",
        "# Menyimpan triplet baru ke dalam file teks\n",
        "with open(new_triplets_file_path, 'w') as new_file:\n",
        "    for triplet in new_triplets:\n",
        "        new_file.write(triplet)\n",
        "\n",
        "new_triplets_file_path"
      ],
      "metadata": {
        "colab": {
          "base_uri": "https://localhost:8080/",
          "height": 36
        },
        "id": "6npa6bzFx4Wm",
        "outputId": "c5a8b3f1-4fd3-4ee1-e679-148e54b1bab9"
      },
      "execution_count": null,
      "outputs": [
        {
          "output_type": "execute_result",
          "data": {
            "text/plain": [
              "'new_triplets_reasoner_3_no_ontology.txt'"
            ],
            "application/vnd.google.colaboratory.intrinsic+json": {
              "type": "string"
            }
          },
          "metadata": {},
          "execution_count": 71
        }
      ]
    },
    {
      "cell_type": "code",
      "source": [
        "# Untuk clean URI yang salah\n",
        "\n",
        "import urllib.parse\n",
        "\n",
        "# Lokasi file teks\n",
        "input_file_path = 'new_triplets_reasoner_3.txt'\n",
        "output_file_path = 'new_triplets_reasoner_3_cleaned.txt'\n",
        "\n",
        "# String yang ingin dihapus\n",
        "string_to_remove = \"file:///content/\"\n",
        "\n",
        "# Fungsi untuk membersihkan file\n",
        "def clean_file(input_file_path, output_file_path, string_to_remove):\n",
        "    with open(input_file_path, 'r') as input_file, open(output_file_path, 'w') as output_file:\n",
        "        for line in input_file:\n",
        "            # Decode URL-encoded string\n",
        "            decoded_line = urllib.parse.unquote(line)\n",
        "            # Mengganti string yang diinginkan dengan string kosong\n",
        "            cleaned_line = decoded_line.replace(string_to_remove, '')\n",
        "            output_file.write(cleaned_line)\n",
        "\n",
        "# Membersihkan file\n",
        "clean_file(input_file_path, output_file_path, string_to_remove)\n",
        "\n",
        "output_file_path"
      ],
      "metadata": {
        "id": "dix3TpRMyHwP"
      },
      "execution_count": null,
      "outputs": []
    },
    {
      "cell_type": "markdown",
      "source": [
        "#**Embedding complex - 3**"
      ],
      "metadata": {
        "id": "SQU246e1le0e"
      }
    },
    {
      "cell_type": "code",
      "source": [
        "# Lokasi file triplets\n",
        "file_path = 'combined_triples_removed_duplicate_2_no_ontology.txt'\n",
        "\n",
        "# Fungsi untuk membaca triplets dari file teks\n",
        "def read_triplets(file_path):\n",
        "    with open(file_path, 'r') as file:\n",
        "        triples = []\n",
        "        for line in file:\n",
        "            parts = line.strip().split(', ')\n",
        "            if len(parts) == 3:\n",
        "                triples.append(tuple(parts))\n",
        "    return triples\n",
        "\n",
        "# Membaca triplets dari file\n",
        "triples = read_triplets(file_path)\n",
        "triples[:10]  # Menampilkan 5 triples pertama untuk contoh\n"
      ],
      "metadata": {
        "colab": {
          "base_uri": "https://localhost:8080/"
        },
        "id": "LNiF3VQGlQvO",
        "outputId": "185b4959-44e2-4e4f-f41f-1121a20d1311"
      },
      "execution_count": null,
      "outputs": [
        {
          "output_type": "execute_result",
          "data": {
            "text/plain": [
              "[('http://kgc.knowledge-graph.jp/data/SpeckledBand/283',\n",
              "  'http://kgc.knowledge-graph.jp/ontology/kgc.owl#hasPredicate',\n",
              "  'http://kgc.knowledge-graph.jp/data/SpeckledBand/sleep'),\n",
              " ('http://kgc.knowledge-graph.jp/data/SpeckledBand/373',\n",
              "  'http://www.w3.org/1999/02/22-rdf-syntax-ns#type',\n",
              "  'http://kgc.knowledge-graph.jp/ontology/kgc.owl#Scene'),\n",
              " ('http://kgc.knowledge-graph.jp/data/SpeckledBand/398',\n",
              "  'http://kgc.knowledge-graph.jp/ontology/kgc.owl#hasPart',\n",
              "  'http://kgc.knowledge-graph.jp/data/SpeckledBand/snake'),\n",
              " ('http://kgc.knowledge-graph.jp/data/SpeckledBand/370',\n",
              "  'http://www.w3.org/1999/02/22-rdf-syntax-ns#type',\n",
              "  'http://kgc.knowledge-graph.jp/ontology/kgc.owl#Scene'),\n",
              " ('http://kgc.knowledge-graph.jp/data/SpeckledBand/death_day_of_mother_of_Helen',\n",
              "  'http://kgc.knowledge-graph.jp/ontology/kgc.owl#ofWhole',\n",
              "  'http://kgc.knowledge-graph.jp/data/SpeckledBand/mother'),\n",
              " ('http://kgc.knowledge-graph.jp/data/SpeckledBand/89',\n",
              "  'http://kgc.knowledge-graph.jp/ontology/kgc.owl#SceneObjectProperty',\n",
              "  'http://kgc.knowledge-graph.jp/data/SpeckledBand/death_day_of_Julia'),\n",
              " ('http://kgc.knowledge-graph.jp/data/SpeckledBand/269',\n",
              "  'http://kgc.knowledge-graph.jp/ontology/kgc.owl#LocationProperty',\n",
              "  'http://kgc.knowledge-graph.jp/data/SpeckledBand/Crown_Inn'),\n",
              " ('http://kgc.knowledge-graph.jp/data/SpeckledBand/229',\n",
              "  'http://www.w3.org/1999/02/22-rdf-syntax-ns#type',\n",
              "  'http://kgc.knowledge-graph.jp/ontology/kgc.owl#Scene'),\n",
              " ('http://kgc.knowledge-graph.jp/data/SpeckledBand/26',\n",
              "  'http://kgc.knowledge-graph.jp/ontology/kgc.owl#TargetObjProperty',\n",
              "  'http://kgc.knowledge-graph.jp/data/SpeckledBand/Roma'),\n",
              " ('http://kgc.knowledge-graph.jp/data/SpeckledBand/pay',\n",
              "  'http://www.w3.org/2000/01/rdf-schema#label',\n",
              "  'http://kgc.knowledge-graph.jp/data/SpeckledBand/pay')]"
            ]
          },
          "metadata": {},
          "execution_count": 73
        }
      ]
    },
    {
      "cell_type": "code",
      "source": [
        "from collections import defaultdict\n",
        "import torch\n",
        "\n",
        "# Fungsi untuk mengonversi triples ke dalam bentuk indeks\n",
        "def convert_to_indices(triples, entity2idx, relation2idx):\n",
        "    triples_idx = []\n",
        "    for (h, r, t) in triples:\n",
        "        h_idx = entity2idx[h]\n",
        "        r_idx = relation2idx[r]\n",
        "        t_idx = entity2idx[t]\n",
        "        triples_idx.append((h_idx, r_idx, t_idx))\n",
        "    return triples_idx\n",
        "\n",
        "# Membuat indeks untuk entitas dan relasi\n",
        "entity2idx = defaultdict(lambda: len(entity2idx))\n",
        "relation2idx = defaultdict(lambda: len(relation2idx))\n",
        "\n",
        "for (h, r, t) in triples:\n",
        "    entity2idx[h]\n",
        "    entity2idx[t]\n",
        "    relation2idx[r]\n",
        "\n",
        "# Mengonversi triples ke dalam bentuk indeks\n",
        "triples_idx = convert_to_indices(triples, entity2idx, relation2idx)\n",
        "\n",
        "# Cek jumlah entitas dan relasi\n",
        "num_entities = len(entity2idx)\n",
        "num_relations = len(relation2idx)\n",
        "\n",
        "num_entities, num_relations, triples_idx[:5]  # Menampilkan beberapa informasi dan 5 triples indeks pertama\n"
      ],
      "metadata": {
        "colab": {
          "base_uri": "https://localhost:8080/"
        },
        "id": "1iXBakNMoCmG",
        "outputId": "17226bc2-6b70-45d6-f985-000b65269955"
      },
      "execution_count": null,
      "outputs": [
        {
          "output_type": "execute_result",
          "data": {
            "text/plain": [
              "(1379, 49, [(0, 0, 1), (2, 1, 3), (4, 2, 5), (6, 1, 3), (7, 3, 8)])"
            ]
          },
          "metadata": {},
          "execution_count": 74
        }
      ]
    },
    {
      "cell_type": "code",
      "source": [
        "import torch.nn as nn\n",
        "import torch.nn.functional as F\n",
        "\n",
        "class ComplEx(nn.Module):\n",
        "    def __init__(self, num_entities, num_relations, embedding_dim):\n",
        "        super(ComplEx, self).__init__()\n",
        "        self.embedding_dim = embedding_dim\n",
        "        self.ent_embeddings = nn.Embedding(num_entities, embedding_dim, padding_idx=0)\n",
        "        self.rel_embeddings = nn.Embedding(num_relations, embedding_dim, padding_idx=0)\n",
        "\n",
        "        # Inisialisasi bobot\n",
        "        nn.init.xavier_uniform_(self.ent_embeddings.weight.data)\n",
        "        nn.init.xavier_uniform_(self.rel_embeddings.weight.data)\n",
        "\n",
        "    def forward(self, triplets):\n",
        "        # Mendapatkan embeddings\n",
        "        h = self.ent_embeddings(triplets[:, 0])\n",
        "        r = self.rel_embeddings(triplets[:, 1])\n",
        "        t = self.ent_embeddings(triplets[:, 2])\n",
        "\n",
        "        # Skor menggunakan rumus ComplEx\n",
        "        score = torch.sum(h * r * t, dim=1)\n",
        "        return score\n",
        "\n",
        "# Parameter model\n",
        "embedding_dim = 100  # Dimensi embedding\n",
        "\n",
        "# Inisialisasi model\n",
        "model = ComplEx(num_entities, num_relations, embedding_dim)\n",
        "model\n",
        "\n"
      ],
      "metadata": {
        "colab": {
          "base_uri": "https://localhost:8080/"
        },
        "id": "-H906hBXoZN7",
        "outputId": "2c760b98-6dd6-4204-9cb9-45224b803aea"
      },
      "execution_count": null,
      "outputs": [
        {
          "output_type": "execute_result",
          "data": {
            "text/plain": [
              "ComplEx(\n",
              "  (ent_embeddings): Embedding(1379, 100, padding_idx=0)\n",
              "  (rel_embeddings): Embedding(49, 100, padding_idx=0)\n",
              ")"
            ]
          },
          "metadata": {},
          "execution_count": 75
        }
      ]
    },
    {
      "cell_type": "code",
      "source": [
        "from torch.optim import Adam\n",
        "from torch.utils.data import DataLoader, TensorDataset\n",
        "\n",
        "# Fungsi untuk menghasilkan negative samples\n",
        "def generate_negative_samples(triples, num_entities, num_samples=1):\n",
        "    negatives = []\n",
        "    for (h, r, t) in triples:\n",
        "        for _ in range(num_samples):\n",
        "            negative_t = torch.randint(num_entities, (1,))\n",
        "            negatives.append((h, r, negative_t.item()))\n",
        "    return negatives\n",
        "\n",
        "# Mengonversi triples ke tensor\n",
        "triples_tensor = torch.LongTensor(triples_idx)\n",
        "\n",
        "# Negative sampling\n",
        "negative_samples = generate_negative_samples(triples_idx, num_entities, num_samples=1)\n",
        "negative_samples_tensor = torch.LongTensor(negative_samples)\n",
        "\n",
        "# Menyiapkan data loader\n",
        "batch_size = 32\n",
        "dataset = TensorDataset(triples_tensor, negative_samples_tensor)\n",
        "data_loader = DataLoader(dataset, batch_size=batch_size, shuffle=True)\n",
        "\n",
        "# Inisialisasi optimizer\n",
        "optimizer = Adam(model.parameters(), lr=0.001)\n",
        "\n",
        "# Fungsi loss\n",
        "def complex_loss(positive_scores, negative_scores):\n",
        "    return F.softplus(-positive_scores).mean() + F.softplus(negative_scores).mean()\n",
        "\n",
        "# Loop pelatihan\n",
        "num_epochs = 50  # Contoh jumlah epoch\n",
        "\n",
        "for epoch in range(num_epochs):\n",
        "    model.train()\n",
        "    running_loss = 0.0\n",
        "\n",
        "    for positive_triplets, negative_triplets in data_loader:\n",
        "        positive_scores = model(positive_triplets)\n",
        "        negative_scores = model(negative_triplets)\n",
        "\n",
        "        # Hitung loss\n",
        "        loss = complex_loss(positive_scores, negative_scores)\n",
        "\n",
        "        # Backpropagation\n",
        "        optimizer.zero_grad()\n",
        "        loss.backward()\n",
        "        optimizer.step()\n",
        "\n",
        "        running_loss += loss.item()\n",
        "\n",
        "    print(f\"Epoch {epoch + 1}/{num_epochs}, Loss: {running_loss / len(data_loader)}\")\n",
        "\n"
      ],
      "metadata": {
        "colab": {
          "base_uri": "https://localhost:8080/"
        },
        "id": "lSOifsC4ocBH",
        "outputId": "62cd0dda-ee75-40b6-b9b2-cc1ee82e5782"
      },
      "execution_count": null,
      "outputs": [
        {
          "output_type": "stream",
          "name": "stdout",
          "text": [
            "Epoch 1/50, Loss: 1.3858205515533777\n",
            "Epoch 2/50, Loss: 1.3596447278102486\n",
            "Epoch 3/50, Loss: 1.093806548015252\n",
            "Epoch 4/50, Loss: 0.7487218444561442\n",
            "Epoch 5/50, Loss: 0.5109844694934762\n",
            "Epoch 6/50, Loss: 0.3534348313653432\n",
            "Epoch 7/50, Loss: 0.25063764269322436\n",
            "Epoch 8/50, Loss: 0.183024794047831\n",
            "Epoch 9/50, Loss: 0.13903879147057563\n",
            "Epoch 10/50, Loss: 0.10942179405190997\n",
            "Epoch 11/50, Loss: 0.08957135661767547\n",
            "Epoch 12/50, Loss: 0.07580988473567431\n",
            "Epoch 13/50, Loss: 0.06591376606317312\n",
            "Epoch 14/50, Loss: 0.058531274782614814\n",
            "Epoch 15/50, Loss: 0.052754375302224155\n",
            "Epoch 16/50, Loss: 0.048309099296794125\n",
            "Epoch 17/50, Loss: 0.04453124108381177\n",
            "Epoch 18/50, Loss: 0.04137540531803165\n",
            "Epoch 19/50, Loss: 0.038660593472144365\n",
            "Epoch 20/50, Loss: 0.03615941326912412\n",
            "Epoch 21/50, Loss: 0.03410627203957457\n",
            "Epoch 22/50, Loss: 0.03186581730168607\n",
            "Epoch 23/50, Loss: 0.029873771746873556\n",
            "Epoch 24/50, Loss: 0.028059762089272484\n",
            "Epoch 25/50, Loss: 0.0263612254598609\n",
            "Epoch 26/50, Loss: 0.024431718527335795\n",
            "Epoch 27/50, Loss: 0.022896225926312748\n",
            "Epoch 28/50, Loss: 0.021720642259365364\n",
            "Epoch 29/50, Loss: 0.020203812973169775\n",
            "Epoch 30/50, Loss: 0.018927496921510044\n",
            "Epoch 31/50, Loss: 0.017626852952967464\n",
            "Epoch 32/50, Loss: 0.016502357941726727\n",
            "Epoch 33/50, Loss: 0.015483969324066565\n",
            "Epoch 34/50, Loss: 0.014555941694496298\n",
            "Epoch 35/50, Loss: 0.013638277282854024\n",
            "Epoch 36/50, Loss: 0.012774635474279112\n",
            "Epoch 37/50, Loss: 0.012117740881150202\n",
            "Epoch 38/50, Loss: 0.01134453472060657\n",
            "Epoch 39/50, Loss: 0.010878726446926043\n",
            "Epoch 40/50, Loss: 0.010267492848428046\n",
            "Epoch 41/50, Loss: 0.009756258477717902\n",
            "Epoch 42/50, Loss: 0.009326733073497675\n",
            "Epoch 43/50, Loss: 0.0089513612818072\n",
            "Epoch 44/50, Loss: 0.008573541146035254\n",
            "Epoch 45/50, Loss: 0.008225214720329546\n",
            "Epoch 46/50, Loss: 0.00795249894742452\n",
            "Epoch 47/50, Loss: 0.007620645141326662\n",
            "Epoch 48/50, Loss: 0.007329414629180839\n",
            "Epoch 49/50, Loss: 0.007172270610403799\n",
            "Epoch 50/50, Loss: 0.00694850104412865\n"
          ]
        }
      ]
    },
    {
      "cell_type": "code",
      "source": [
        "import numpy as np\n",
        "import random\n",
        "def evaluate_model(model, triples, all_entities, num_samples=1000, k=10):\n",
        "    # Memilih subset acak dari triples untuk evaluasi\n",
        "    evaluation_triples = random.sample(triples, num_samples)\n",
        "\n",
        "    mrr_sum = 0.0\n",
        "    hits_at_k_sum = 0\n",
        "\n",
        "    for h, r, t in evaluation_triples:\n",
        "        # Menghasilkan kandidat prediksi dengan mengganti tail\n",
        "        candidate_triples = [(h, r, tail) for tail in all_entities]\n",
        "\n",
        "        # Menghitung skor untuk setiap kandidat\n",
        "        candidate_triples_tensor = torch.LongTensor(candidate_triples)\n",
        "        with torch.no_grad():\n",
        "            candidate_scores = model(candidate_triples_tensor).numpy()\n",
        "\n",
        "        # Mendapatkan peringkat entitas yang benar\n",
        "        correct_entity_score = candidate_scores[all_entities.index(t)]\n",
        "        ranked_scores = sorted(candidate_scores, reverse=True)\n",
        "        rank = ranked_scores.index(correct_entity_score) + 1\n",
        "\n",
        "        # Menghitung MRR dan Hits@K\n",
        "        mrr_sum += 1.0 / rank\n",
        "        if rank <= k:\n",
        "            hits_at_k_sum += 1\n",
        "\n",
        "    # Menghitung rata-rata MRR dan Hits@K\n",
        "    mrr = mrr_sum / num_samples\n",
        "    hits_at_k = hits_at_k_sum / num_samples\n",
        "\n",
        "    return mrr, hits_at_k\n",
        "\n",
        "# Mengumpulkan semua entitas sebagai daftar\n",
        "all_entities_list = list(range(num_entities))\n",
        "\n",
        "# Menjalankan evaluasi model\n",
        "mrr, hits_at_10 = evaluate_model(model, triples_idx, all_entities_list, num_samples=1000, k=10)\n",
        "\n",
        "mrr, hits_at_10\n",
        "\n"
      ],
      "metadata": {
        "colab": {
          "base_uri": "https://localhost:8080/"
        },
        "id": "RX1WDxYPvLRP",
        "outputId": "b255914b-4ebf-4363-83ff-438e866d2837"
      },
      "execution_count": null,
      "outputs": [
        {
          "output_type": "execute_result",
          "data": {
            "text/plain": [
              "(0.38129434679366214, 0.743)"
            ]
          },
          "metadata": {},
          "execution_count": 77
        }
      ]
    },
    {
      "cell_type": "code",
      "source": [
        "# Mendapatkan embeddings dari model\n",
        "entity_embeddings = model.ent_embeddings.weight.data.numpy()\n",
        "relation_embeddings = model.rel_embeddings.weight.data.numpy()\n",
        "\n",
        "# Menampilkan sebagian dari embeddings\n",
        "# Kita akan menampilkan 5 embeddings pertama untuk entitas dan relasi\n",
        "print(\"Entity Embeddings (5 first embeddings):\")\n",
        "print(entity_embeddings[:5])\n",
        "print(\"\\nRelation Embeddings (5 first embeddings):\")\n",
        "print(relation_embeddings[:5])\n",
        "\n"
      ],
      "metadata": {
        "colab": {
          "base_uri": "https://localhost:8080/"
        },
        "id": "eXqBB8uKvnBN",
        "outputId": "a7c9bbd5-f7cf-4b3e-b8fa-f90fdb5722bd"
      },
      "execution_count": null,
      "outputs": [
        {
          "output_type": "stream",
          "name": "stdout",
          "text": [
            "Entity Embeddings (5 first embeddings):\n",
            "[[-0.06083479  0.026939    0.00279217 -0.05816068  0.00936393  0.05408373\n",
            "  -0.05510094 -0.02733406 -0.05855376 -0.02221072 -0.02898848  0.05228756\n",
            "  -0.03261923 -0.04695362  0.029458    0.04869811 -0.04905689  0.01527461\n",
            "  -0.04890787  0.05641739  0.03562146 -0.00751833 -0.06064567 -0.00546532\n",
            "   0.03056725 -0.02568232  0.02843738 -0.04411932 -0.02770841 -0.05515486\n",
            "  -0.05393587 -0.03853785 -0.03826333  0.05312408  0.0151728  -0.03492222\n",
            "   0.01699486  0.00607277  0.05871606  0.02626237 -0.0427259   0.0038615\n",
            "   0.01661303  0.01212163  0.06129676 -0.03558548 -0.03409163  0.0199683\n",
            "   0.04477542 -0.05700061  0.0431303   0.04671559 -0.06280673  0.05579962\n",
            "   0.01971852 -0.0492612   0.0088696   0.02588331  0.02194948 -0.04257536\n",
            "   0.04887503  0.03665493  0.03614677 -0.05148311  0.00875265  0.04265877\n",
            "  -0.00509286 -0.04168117  0.01871091 -0.00586414  0.0167537   0.04448522\n",
            "   0.02777746  0.01857686 -0.02925633 -0.00993514 -0.05499162  0.06275366\n",
            "   0.02558756  0.02413259  0.05199663  0.05514712 -0.04491904  0.01659347\n",
            "  -0.0411636   0.01250532 -0.02604083 -0.02524075 -0.06087553 -0.04692545\n",
            "  -0.05392761 -0.05762297 -0.00955641  0.0620613   0.01618788 -0.0437936\n",
            "   0.05149914  0.06145494 -0.0065419   0.04033625]\n",
            " [-0.02929307  0.39912897  0.7110276   0.04381642 -0.6593353  -0.77023935\n",
            "  -0.10281354 -0.42016432  0.71151227  0.6127752   0.9235169   0.53459466\n",
            "   0.48050117 -0.35448214 -0.49030557  0.8117692  -0.9511393  -0.37774965\n",
            "   0.8623107  -1.3595692   0.31108382 -0.08584331  0.98739827  0.49315643\n",
            "  -0.8049628  -1.2025988  -1.2072113   0.50594443  0.6598533   0.8732865\n",
            "  -1.0571188   0.77396816  0.7255322   1.2620319   0.34618708 -0.701566\n",
            "   0.65748554 -0.27446967  0.4260116   0.6231826   0.6348254   0.65926963\n",
            "  -0.41625386  0.25366735  0.17528619  0.37771153 -0.71363986  0.2407604\n",
            "  -0.09444843  0.18256128 -0.9944551   0.15837707 -0.86610925  0.6653822\n",
            "   0.6787423   0.20765865 -0.47616655  0.9640273   0.60621274 -0.8357417\n",
            "  -0.25181338 -0.4276582  -0.46942142 -0.14706218  1.1046268  -0.39909574\n",
            "  -0.19079702  0.23232205 -0.6867951  -0.68063486 -0.2802847   0.12738793\n",
            "  -0.8623068  -0.458456   -0.8267493  -0.05349603 -0.22925499 -0.85662156\n",
            "   0.6390267  -0.31312442 -0.12752798  0.5700125   0.66005874 -0.18822002\n",
            "  -0.3368398  -0.27330923 -0.41493607 -0.13624874  1.1290992  -0.08380342\n",
            "  -0.1689394   1.0578042  -0.4137864   0.46050942  1.1330662   0.36872196\n",
            "   0.4110329  -1.4025719  -0.43800983 -0.45908841]\n",
            " [ 0.5709258   0.4046601  -0.7165442  -0.21624255 -0.2067728  -0.397856\n",
            "   0.6032106  -0.07997879  0.47463042  0.2943659  -0.35301417  0.24623992\n",
            "   0.5325691   0.5067068  -0.7418476   0.79273653 -0.0872881   0.45784307\n",
            "   0.33697057 -0.67175823  0.14962655  0.8563004   0.1635911   0.29702333\n",
            "   0.4216481   0.4653584  -0.05376315  0.05726847  0.10450572  0.24285011\n",
            "  -0.5175061   0.6525904  -0.20628436  0.3870871   0.71294874 -0.2055814\n",
            "  -0.33103737 -0.35891014  0.65671235  0.39500746 -0.81065476  0.03754735\n",
            "   0.40972874 -0.5476283  -0.1248119  -0.8543914   0.5587858   0.06752568\n",
            "  -0.04277822  0.25228712  0.0504544  -0.98715454  0.01252698 -0.60024035\n",
            "  -0.32469314  0.24595536  0.22820783 -0.14072503 -0.27275538 -0.49106672\n",
            "   0.75947016  0.32492682 -0.00904135 -0.61986023  0.07232034  0.9908005\n",
            "  -0.30380642 -0.4181492  -0.8744279   0.2787268   0.1272424  -0.5592374\n",
            "  -0.15145873  0.32681647  0.6285427   0.7177618   0.5028803  -0.55646884\n",
            "   0.3298333   0.38557717  0.69865996 -0.4327158  -0.26180518 -0.6813296\n",
            "   0.16983293  0.63336325 -0.41334805  0.6508605   0.21026455 -0.6046454\n",
            "   0.78034216 -0.5945182  -0.4350013  -0.06829463  0.3810044   0.5277323\n",
            "   0.8479498   0.04801711  0.06713845 -0.12727167]\n",
            " [ 0.5162002   0.21051416  0.86705273 -0.3062377   0.5857307  -0.58980006\n",
            "  -0.10535028  0.1654037  -0.25857574 -0.6654497  -0.51607096  0.35731807\n",
            "  -0.5736394   0.3806236   0.24427527 -0.72980094 -0.27046102  0.0151289\n",
            "  -0.50422674  0.13693964 -0.26484415  0.18077077 -0.44253355 -0.39970484\n",
            "  -0.0993106  -0.23935503 -0.04302388 -0.13935825  0.22538072 -0.29556477\n",
            "   0.06131532  0.04800419 -0.7028545   0.0144324   0.51367635  0.5611587\n",
            "  -0.6531982   0.5301747  -0.5441035  -0.37544897  0.37882406 -0.38222444\n",
            "  -0.39669845  0.60203904 -0.2904325   0.36552426  0.13555041 -0.13174194\n",
            "   0.26465493  0.01805088 -0.3645482  -0.41782093 -0.33681107  0.55300283\n",
            "  -0.43836972 -0.16659561  0.52486545  0.07048298  0.61196274  0.35185423\n",
            "  -0.01311923 -0.40410674  0.1650112   0.9171678   0.10182847 -0.00327374\n",
            "   0.46673703 -0.43656552  0.5292926   0.1561427  -0.62304974  0.29687083\n",
            "  -0.15974326 -0.46601722  0.149061   -0.2858158  -0.3899     -0.18623182\n",
            "  -0.36702147  0.21663283  0.26460046  0.18481588 -0.930649   -0.22502582\n",
            "   0.00204097  0.363683   -0.0086738  -0.42095065  0.2009115   0.3307454\n",
            "  -0.61678004  0.41190594  0.32141197  0.49202433 -0.30704406 -0.37686217\n",
            "   0.04357752  0.60735637 -0.6204019   0.46685266]\n",
            " [ 0.18153152 -0.09771846  0.06359636 -0.4823182  -0.15650657 -0.24533\n",
            "  -0.6627272   0.05810625  0.13883689  0.06610266 -0.19416365  0.28492105\n",
            "   0.15922727  0.0449263   0.43572828  0.49681672  0.163865   -0.06906126\n",
            "  -0.21707082 -0.0586441   0.01352888  0.3452964   0.02252548 -0.35673305\n",
            "  -0.4329889   0.45343152  0.04344886  0.37851736 -0.91687214  0.7019865\n",
            "   0.23445901  0.59033316 -0.82063615  0.26993036  0.36244994  0.75547725\n",
            "  -0.03109295 -0.02125694  0.39825    -0.21195297 -0.46887627 -0.97276336\n",
            "  -0.6519853  -0.96559805  0.36653593 -0.5217026   0.310364   -0.9195056\n",
            "   0.3193927  -0.35484153 -0.2675159  -0.35712737 -0.11553676 -0.2112555\n",
            "  -0.21961609 -0.2662912   0.20446694  0.2305172  -0.14939992 -0.37853068\n",
            "   0.3189319   0.02235874  0.3827254  -0.5844474  -0.76626945  0.263871\n",
            "  -0.08177499 -0.5015063  -0.4967705  -0.87459743 -0.497198    1.079992\n",
            "   0.2287433   0.38214147  0.33626473  0.3849527   0.34350792 -0.12553601\n",
            "   0.44223928  0.26515263  0.17842501  0.45547873 -0.4389746   0.6449946\n",
            "   0.46314022  0.13175517  0.12415196  0.25090984  0.1077481   0.12850273\n",
            "   0.2817178  -0.6251776   0.93113506  0.24703811  0.21319899  0.15235288\n",
            "  -0.26177782 -0.7203278  -0.27001756 -0.46283734]]\n",
            "\n",
            "Relation Embeddings (5 first embeddings):\n",
            "[[ 1.13408662e-01  1.93741783e-01  1.16631977e-01  8.80411267e-02\n",
            "   1.98944882e-01  6.03081882e-02 -2.02641934e-02  7.09290281e-02\n",
            "  -3.92931402e-02 -1.06620565e-01 -1.27959132e-01  1.46429837e-01\n",
            "   1.46730036e-01 -1.87242555e-03  1.93175033e-01  1.20299488e-01\n",
            "   1.87662169e-01 -8.14682990e-02  3.74447331e-02 -1.97000623e-01\n",
            "  -7.51551380e-03 -7.17860982e-02 -1.41682953e-01  1.51872605e-01\n",
            "   1.57139208e-02  1.97148502e-01 -1.36134997e-01 -1.10002406e-01\n",
            "   1.98280290e-02  1.02609344e-01  1.03291973e-01 -1.87761083e-01\n",
            "  -5.11241108e-02  1.43991187e-01  1.03226885e-01  1.57005176e-01\n",
            "  -1.96258947e-01 -8.35728645e-02  1.29259855e-01 -1.66100606e-01\n",
            "  -5.56102730e-02 -6.16877079e-02  7.58925006e-02 -1.42301694e-01\n",
            "  -2.51561161e-02 -1.15205854e-01  1.65437665e-02  1.56790286e-01\n",
            "  -7.34190941e-02  4.59489785e-02 -9.30428728e-02 -1.94924667e-01\n",
            "  -1.00409165e-01 -5.14788218e-02  1.66932151e-01  1.88801423e-01\n",
            "   1.52513549e-01  1.91364586e-01  1.93362579e-01  6.65273145e-02\n",
            "   8.45768079e-02  1.46636039e-01  1.70208305e-01  1.39493570e-01\n",
            "  -5.65371923e-02  1.46731302e-01  1.06880860e-02 -2.70503331e-02\n",
            "  -7.93400332e-02 -1.68863550e-01  1.35127231e-01 -1.90190509e-01\n",
            "  -1.55473277e-01 -1.27668440e-01 -9.81671270e-03  2.91566905e-02\n",
            "   1.16392849e-02  2.54024379e-02  1.49110168e-01 -1.98167637e-01\n",
            "   9.84463170e-02  1.45966858e-01 -9.43260174e-03 -1.53107971e-01\n",
            "   8.70659351e-02  1.41367376e-01 -8.10678005e-02 -1.29103526e-01\n",
            "  -1.07592002e-01 -8.90065357e-03 -3.01608518e-02 -5.14001213e-02\n",
            "   1.79257780e-01  5.17657399e-02  1.78883776e-01  1.89189557e-02\n",
            "  -1.23166814e-01 -1.64204359e-01 -9.59540084e-02  1.68070961e-02]\n",
            " [ 9.27315652e-01  1.17203248e+00  2.04873490e+00  1.68108392e+00\n",
            "  -2.13477063e+00  1.23416984e+00  2.10575628e+00 -2.03621554e+00\n",
            "  -7.39544570e-01  2.01106358e+00  9.92381394e-01  1.42741776e+00\n",
            "  -2.08066487e+00  2.07499433e+00 -2.06221652e+00 -2.63081503e+00\n",
            "   2.23810172e+00  1.68656790e+00  5.55266142e-01  1.79121625e-02\n",
            "  -1.26038754e+00  1.62802529e+00 -2.26609588e+00 -1.07490051e+00\n",
            "   1.90086544e-01  2.07050467e+00  2.02589679e+00  2.27154756e+00\n",
            "  -2.39926553e+00 -2.53436518e+00 -7.54951060e-01  1.44708562e+00\n",
            "   1.45207310e+00  1.35557449e+00  1.20223725e+00 -2.10818887e+00\n",
            "   1.56565797e+00 -1.99659264e+00 -2.75056529e+00  1.07661593e+00\n",
            "  -2.41070104e+00 -1.54088163e+00 -3.09998453e-01 -2.26816010e+00\n",
            "  -1.75683606e+00 -2.48749542e+00  1.60980642e+00 -1.91604698e+00\n",
            "  -2.18501568e+00  2.59061909e+00  1.41933703e+00  1.27567232e+00\n",
            "   2.09192538e+00 -1.78225470e+00 -2.27710533e+00  9.61058021e-01\n",
            "   2.16653824e+00 -1.23014605e+00 -1.84698117e+00 -2.92849016e+00\n",
            "  -1.94465351e+00  1.65944397e-01 -1.43637753e+00 -2.58139110e+00\n",
            "   1.12551415e+00 -2.30009723e+00 -2.09594107e+00  1.52234924e+00\n",
            "  -1.96696341e+00  1.34809637e+00  1.41369653e+00  1.62701976e+00\n",
            "  -2.39545822e+00 -1.67141986e+00  2.08574438e+00 -1.56834531e+00\n",
            "  -2.32236075e+00  1.35978925e+00 -2.46438622e+00 -1.88293839e+00\n",
            "   5.04296720e-01  1.93863142e+00  2.19502878e+00 -1.69069278e+00\n",
            "   5.70042610e-01  2.17135072e+00 -9.29071665e-01 -2.16055298e+00\n",
            "  -1.83589602e+00 -1.62559187e+00 -1.63298047e+00 -2.86869907e+00\n",
            "   2.25654513e-01 -2.08656096e+00 -2.38170671e+00 -1.20636249e+00\n",
            "   8.07632744e-01  2.00976849e+00  1.64138615e+00 -2.73500681e+00]\n",
            " [ 2.03812099e+00  4.15581763e-01  1.13004112e+00 -1.76950109e+00\n",
            "  -1.88558137e+00 -1.79767632e+00 -7.45420933e-01  2.23410749e+00\n",
            "  -2.23084688e+00 -1.29544926e+00 -2.03891325e+00  9.75929260e-01\n",
            "  -2.15588903e+00  2.14419627e+00  1.68596399e+00 -2.45849824e+00\n",
            "   1.77222407e+00  1.87556624e+00 -2.08161640e+00 -1.32976556e+00\n",
            "   2.42287135e+00  8.86716783e-01 -1.73231411e+00 -1.77470589e+00\n",
            "  -1.44281256e+00  1.11955142e+00  2.33236146e+00 -1.74141240e+00\n",
            "   1.07999110e+00 -2.45912910e+00  2.49511695e+00 -2.39334321e+00\n",
            "  -1.94875169e+00  1.63823962e+00 -1.28002942e+00 -2.06529915e-01\n",
            "   1.69057095e+00  1.13587868e+00 -1.59738338e+00  2.48742127e+00\n",
            "  -2.05068183e+00  3.15149099e-01 -1.56267738e+00 -2.11625743e+00\n",
            "   2.63388157e+00 -2.32586646e+00 -3.18745583e-01 -1.20123029e+00\n",
            "   1.31590962e+00 -1.76117909e+00 -1.50419772e+00 -1.24766779e+00\n",
            "  -2.02454495e+00  1.34500444e+00  1.02471977e-01 -2.24836493e+00\n",
            "   2.21908188e+00  2.14078951e+00  8.56683195e-01 -2.15674043e+00\n",
            "  -7.64515519e-01 -2.27514529e+00 -2.23911953e+00 -7.53092051e-01\n",
            "  -2.41363958e-01 -1.99951839e+00  5.88275313e-01 -2.13363028e+00\n",
            "  -1.73876655e+00  1.86198723e+00  1.56069112e+00 -1.01421857e+00\n",
            "   1.76284957e+00 -1.83271420e+00 -2.19929218e+00  8.38750660e-01\n",
            "  -1.83510855e-02 -1.80860603e+00 -3.78236890e-01 -9.84159529e-01\n",
            "  -2.16794562e+00  2.18731284e+00 -3.59100461e-01  1.76081395e+00\n",
            "   2.14914107e+00 -1.72227180e+00  2.85127014e-01 -2.13797116e+00\n",
            "  -1.34963143e+00 -1.75618494e+00  1.38292170e+00 -2.15941930e+00\n",
            "   1.19414225e-01  9.00223911e-01  1.28468728e+00 -2.40635109e+00\n",
            "   2.14844894e+00 -4.33783948e-01  1.79956055e+00 -1.01552606e+00]\n",
            " [ 1.34997442e-01  2.49417591e+00  1.67382264e+00 -6.32144332e-01\n",
            "   7.67068744e-01 -6.41636491e-01 -2.52828431e+00 -6.38257563e-01\n",
            "   1.74313068e+00 -7.92075515e-01 -6.12508476e-01  2.31170154e+00\n",
            "   6.88906252e-01  2.28135157e+00 -1.50942415e-01 -1.83792925e+00\n",
            "   2.32263732e+00  1.01738966e+00  5.76966763e-01 -1.28146279e+00\n",
            "   1.12480506e-01  1.69311082e+00 -1.08860958e+00  2.40051651e+00\n",
            "  -2.32969022e+00 -1.19896078e+00  1.61207366e+00  1.86840832e+00\n",
            "  -2.04177356e+00 -2.19267702e+00  1.92453933e+00  9.83026385e-01\n",
            "  -9.27748501e-01 -9.06562746e-01 -1.82295680e+00  1.07682419e+00\n",
            "   1.57675982e+00  1.45523751e+00  4.14444685e-01  2.08414745e+00\n",
            "  -2.12527728e+00  2.28586841e+00 -1.60258865e+00  3.08553487e-01\n",
            "   2.44012213e+00 -1.05936015e+00 -1.79888499e+00 -1.49404597e+00\n",
            "   5.28065622e-01  1.20218194e+00 -1.06088567e+00 -2.79149979e-01\n",
            "   2.67640185e+00  1.16974843e+00  2.37027436e-01 -2.03474164e+00\n",
            "   7.84182325e-02  1.38854766e+00  5.52759111e-01 -5.65552771e-01\n",
            "  -1.72925973e+00 -6.77036583e-01 -5.38781464e-01  1.84340405e+00\n",
            "   2.44457197e+00  4.08293217e-01  1.74279511e+00 -4.48897809e-01\n",
            "   6.68741226e-01  8.64417553e-01  7.03929842e-01 -1.14687271e-01\n",
            "  -3.02560925e-01 -1.87779558e+00  8.85533154e-01 -2.11565942e-02\n",
            "  -2.86822226e-02 -8.36059988e-01  1.51228988e+00 -2.45751405e+00\n",
            "  -9.26595688e-01  1.23255774e-01  5.37309706e-01  4.37111929e-02\n",
            "  -2.30741858e+00 -2.03444615e-01  4.64835048e-01 -7.73789465e-01\n",
            "  -1.74361181e+00  4.18748260e-01  1.34696651e+00 -2.32440686e+00\n",
            "   1.53045297e+00  1.72055334e-01  4.77818489e-01 -1.17360517e-01\n",
            "   1.12115109e+00  1.48953235e+00  4.54953521e-01 -2.32347679e+00]\n",
            " [ 1.61867416e+00  9.95303273e-01 -1.18145335e+00 -1.08213556e+00\n",
            "  -1.80433655e+00 -1.98538053e+00 -5.04351974e-01  2.19956470e+00\n",
            "  -1.77195811e+00 -1.81629002e+00 -1.73438632e+00 -9.86116767e-01\n",
            "  -2.15706849e+00  1.50723088e+00 -1.04757941e+00 -1.97337615e+00\n",
            "   1.62125504e+00  2.12097096e+00 -2.11750102e+00 -2.54298210e+00\n",
            "   2.32633543e+00  1.83508027e+00 -1.59704387e+00  2.40849957e-01\n",
            "   4.22067232e-02  1.86945486e+00  2.19957685e+00 -1.88228953e+00\n",
            "  -1.79287267e+00 -1.59404743e+00  2.47060943e+00  4.15145695e-01\n",
            "  -1.65212870e+00  7.22350478e-01 -7.92180419e-01 -3.92285943e-01\n",
            "   1.38554454e+00  1.11586666e+00 -1.95714772e+00  1.20122564e+00\n",
            "  -1.31405640e+00 -1.26180023e-01 -1.42985725e+00 -1.43653274e+00\n",
            "   9.78484631e-01 -2.31585288e+00 -2.73642731e+00  9.05239344e-01\n",
            "   1.53391087e+00 -2.03947619e-01 -2.03092456e+00 -2.25873899e+00\n",
            "  -1.88992286e+00  1.36061275e+00 -2.01487517e+00 -1.38784671e+00\n",
            "   1.76070750e-01  9.91071939e-01  1.37619221e+00 -1.40136695e+00\n",
            "  -2.62655330e+00 -1.60931718e+00 -1.80804741e+00 -4.95556951e-01\n",
            "  -1.50016356e+00 -1.37116778e+00  1.04558980e+00 -2.34031415e+00\n",
            "  -1.97903156e+00  9.42248464e-01  1.99612498e+00 -2.31226659e+00\n",
            "   1.32613945e+00 -1.80564821e+00 -2.00124431e+00  2.14733601e+00\n",
            "  -1.11496055e+00 -2.16028643e+00 -6.60592675e-01 -1.84073615e+00\n",
            "  -2.16491103e+00  1.52163887e+00 -2.19358635e+00  1.12677777e+00\n",
            "   1.61734080e+00 -9.46912706e-01  2.05155063e+00 -1.49044108e+00\n",
            "  -2.64533639e+00 -2.12099123e+00  1.19108236e+00 -1.65572155e+00\n",
            "  -1.29172492e+00  1.36960447e+00 -7.00360388e-02 -2.43275619e+00\n",
            "   2.10032821e+00  2.48938173e-01  1.80517423e+00 -6.68013275e-01]]\n"
          ]
        }
      ]
    },
    {
      "cell_type": "code",
      "source": [
        "# Batch size untuk proses prediksi\n",
        "batch_size_pred = 32\n",
        "\n",
        "# Mengumpulkan semua entitas sebagai daftar\n",
        "all_entities_list = list(range(num_entities))\n",
        "\n",
        "# Menyiapkan dataset untuk proses prediksi\n",
        "prediction_dataset = TensorDataset(triples_tensor)\n",
        "prediction_loader = DataLoader(prediction_dataset, batch_size=batch_size_pred, shuffle=False)\n",
        "\n",
        "# Fungsi untuk memprediksi triples menggunakan model\n",
        "def predict_triples(model, data_loader):\n",
        "    model.eval()  # Set model ke mode evaluasi\n",
        "    predicted_triples = []\n",
        "\n",
        "    with torch.no_grad():\n",
        "        for triplets in data_loader:\n",
        "            scores = model(triplets[0])\n",
        "            predicted_triples.extend(scores.tolist())\n",
        "\n",
        "    return predicted_triples\n",
        "\n",
        "# Prediksi triples\n",
        "predicted_triples = predict_triples(model, prediction_loader)\n",
        "predicted_triples[:5]"
      ],
      "metadata": {
        "colab": {
          "base_uri": "https://localhost:8080/"
        },
        "id": "GUoWl6FOvtfx",
        "outputId": "d5cdeb4f-f79e-489d-ea04-404106d24949"
      },
      "execution_count": null,
      "outputs": [
        {
          "output_type": "execute_result",
          "data": {
            "text/plain": [
              "[0.10877589881420135,\n",
              " 17.664854049682617,\n",
              " 10.075356483459473,\n",
              " 29.081600189208984,\n",
              " 13.557229995727539]"
            ]
          },
          "metadata": {},
          "execution_count": 79
        }
      ]
    },
    {
      "cell_type": "code",
      "source": [
        "# Fungsi untuk memetakan kembali indeks ke URI\n",
        "def map_indices_to_uris(triples_idx, entity2idx, relation2idx):\n",
        "    # Membuat reverse mapping dari indeks ke URI\n",
        "    idx2entity = {idx: uri for uri, idx in entity2idx.items()}\n",
        "    idx2relation = {idx: uri for uri, idx in relation2idx.items()}\n",
        "\n",
        "    # Memetakan kembali indeks ke URI\n",
        "    triples_uri = [(idx2entity[h], idx2relation[r], idx2entity[t]) for h, r, t in triples_idx]\n",
        "    return triples_uri\n",
        "\n",
        "# Memetakan kembali triples indeks ke URI\n",
        "triples_uri = map_indices_to_uris(triples_idx, entity2idx, relation2idx)\n",
        "\n",
        "# Menyimpan triples URI dalam file teks\n",
        "output_file_path = 'predicted_triples_3_no_ontology.txt'\n",
        "with open(output_file_path, 'w') as file:\n",
        "    for triple in triples_uri:\n",
        "        file.write(f\"{triple[0]}, {triple[1]}, {triple[2]}\\n\")\n",
        "\n",
        "output_file_path\n"
      ],
      "metadata": {
        "colab": {
          "base_uri": "https://localhost:8080/",
          "height": 36
        },
        "id": "z3yRXQzNv1F3",
        "outputId": "e381f032-f469-4f24-9b3e-ad12dabe190c"
      },
      "execution_count": null,
      "outputs": [
        {
          "output_type": "execute_result",
          "data": {
            "text/plain": [
              "'predicted_triples_3_no_ontology.txt'"
            ],
            "application/vnd.google.colaboratory.intrinsic+json": {
              "type": "string"
            }
          },
          "metadata": {},
          "execution_count": 80
        }
      ]
    },
    {
      "cell_type": "markdown",
      "source": [
        "# **Ubah string ke URI-3**"
      ],
      "metadata": {
        "id": "bLeJ8qK9wAFc"
      }
    },
    {
      "cell_type": "code",
      "source": [
        "# Membaca file\n",
        "file_path = '/content/predicted_triples_3_no_ontology.txt'\n",
        "\n",
        "with open(file_path, 'r') as file:\n",
        "    sample_lines = [next(file) for _ in range(5)]\n",
        "\n",
        "sample_lines\n"
      ],
      "metadata": {
        "colab": {
          "base_uri": "https://localhost:8080/"
        },
        "id": "Zo2HslOxv_lD",
        "outputId": "6a88af6b-5180-4f5e-e1f6-6877b94f04cf"
      },
      "execution_count": null,
      "outputs": [
        {
          "output_type": "execute_result",
          "data": {
            "text/plain": [
              "['http://kgc.knowledge-graph.jp/data/SpeckledBand/283, http://kgc.knowledge-graph.jp/ontology/kgc.owl#hasPredicate, http://kgc.knowledge-graph.jp/data/SpeckledBand/sleep\\n',\n",
              " 'http://kgc.knowledge-graph.jp/data/SpeckledBand/373, http://www.w3.org/1999/02/22-rdf-syntax-ns#type, http://kgc.knowledge-graph.jp/ontology/kgc.owl#Scene\\n',\n",
              " 'http://kgc.knowledge-graph.jp/data/SpeckledBand/398, http://kgc.knowledge-graph.jp/ontology/kgc.owl#hasPart, http://kgc.knowledge-graph.jp/data/SpeckledBand/snake\\n',\n",
              " 'http://kgc.knowledge-graph.jp/data/SpeckledBand/370, http://www.w3.org/1999/02/22-rdf-syntax-ns#type, http://kgc.knowledge-graph.jp/ontology/kgc.owl#Scene\\n',\n",
              " 'http://kgc.knowledge-graph.jp/data/SpeckledBand/death_day_of_mother_of_Helen, http://kgc.knowledge-graph.jp/ontology/kgc.owl#ofWhole, http://kgc.knowledge-graph.jp/data/SpeckledBand/mother\\n']"
            ]
          },
          "metadata": {},
          "execution_count": 81
        }
      ]
    },
    {
      "cell_type": "code",
      "source": [
        "import re\n",
        "\n",
        "# base URI yang digunakan\n",
        "base_uri = \"http://kgc.knowledge-graph.jp/data/SpeckledBand/\"\n",
        "\n",
        "import re\n",
        "def is_uri(s):\n",
        "    return s.startswith('http://') or s.startswith('https://')\n",
        "\n",
        "def convert_to_uri(s, base_uri):\n",
        "    return base_uri + re.sub(r'\\s+', '_', s.strip())\n",
        "def process_triples_corrected(input_file_path, output_file_path, base_uri):\n",
        "    with open(input_file_path, 'r') as input_file, open(output_file_path, 'w') as output_file:\n",
        "        for line in input_file:\n",
        "            parts = line.split(',', maxsplit=2)\n",
        "            if len(parts) == 3:\n",
        "                subject, predicate, obj = [part.strip() for part in parts]\n",
        "\n",
        "                # Hanya mengubah menjadi URI jika belum dalam format URI\n",
        "                if not is_uri(subject):\n",
        "                    subject = convert_to_uri(subject, base_uri)\n",
        "                if not is_uri(predicate):\n",
        "                    predicate = convert_to_uri(predicate, base_uri)\n",
        "                if not is_uri(obj):\n",
        "                    obj = convert_to_uri(obj, base_uri)\n",
        "\n",
        "                output_file.write(f\"{subject}, {predicate}, {obj}\\n\")\n",
        "            else:\n",
        "                print(f\"Invalid line format: {line}\")\n",
        "\n",
        "process_triples_corrected('predicted_triples_3_no_ontology.txt', 'processed_triples_3_no_ontology.txt', base_uri)\n",
        "\n"
      ],
      "metadata": {
        "id": "YO4Llw3GwD8T"
      },
      "execution_count": null,
      "outputs": []
    },
    {
      "cell_type": "code",
      "source": [
        "def check_for_non_uri_entities(file_path, base_uri):\n",
        "    non_uri_entities = set()\n",
        "\n",
        "    with open(file_path, 'r') as file:\n",
        "        for line in file:\n",
        "            parts = line.split(',', maxsplit=2)\n",
        "            if len(parts) == 3:\n",
        "                subject, predicate, obj = [part.strip() for part in parts]\n",
        "\n",
        "                # Cek apakah subject, predicate, dan object sudah dalam format URI\n",
        "                if not is_uri(subject):\n",
        "                    non_uri_entities.add(subject)\n",
        "                if not is_uri(predicate):\n",
        "                    non_uri_entities.add(predicate)\n",
        "                if not is_uri(obj):\n",
        "                    non_uri_entities.add(obj)\n",
        "\n",
        "    return non_uri_entities\n",
        "\n",
        "# Menetapkan jalur file output yang benar\n",
        "corrected_output_file_path = '/content/processed_triples_3_no_ontology.txt'\n",
        "\n",
        "# Menjalankan fungsi untuk mengecek file yang telah diproses\n",
        "non_uri_entities_in_corrected_file = check_for_non_uri_entities(corrected_output_file_path, base_uri)\n",
        "non_uri_entities_in_corrected_file"
      ],
      "metadata": {
        "colab": {
          "base_uri": "https://localhost:8080/"
        },
        "id": "LAeY6WoHwKr9",
        "outputId": "b4d3c3b4-f2dc-4162-aa70-dab8b714d32d"
      },
      "execution_count": null,
      "outputs": [
        {
          "output_type": "execute_result",
          "data": {
            "text/plain": [
              "set()"
            ]
          },
          "metadata": {},
          "execution_count": 83
        }
      ]
    },
    {
      "cell_type": "markdown",
      "source": [
        "# **Gabungkan hasil embedding ke new tripple - 3**"
      ],
      "metadata": {
        "id": "Q4TU-_mKwUsX"
      }
    },
    {
      "cell_type": "code",
      "source": [
        "# Membaca file file hasil embedding\n",
        "file_path = '/content/processed_triples_3_no_ontology.txt'\n",
        "\n",
        "with open(file_path, 'r') as file:\n",
        "    processed_triples_content = file.read()\n",
        "\n",
        "# Menanpilkan data\n",
        "print(processed_triples_content[:500])  # Menampilkan preview 500 karakter\n"
      ],
      "metadata": {
        "colab": {
          "base_uri": "https://localhost:8080/"
        },
        "id": "DxvI6gwIwYRe",
        "outputId": "142e5e80-9645-4434-bc23-6e2cfc75a787"
      },
      "execution_count": null,
      "outputs": [
        {
          "output_type": "stream",
          "name": "stdout",
          "text": [
            "http://kgc.knowledge-graph.jp/data/SpeckledBand/283, http://kgc.knowledge-graph.jp/ontology/kgc.owl#hasPredicate, http://kgc.knowledge-graph.jp/data/SpeckledBand/sleep\n",
            "http://kgc.knowledge-graph.jp/data/SpeckledBand/373, http://www.w3.org/1999/02/22-rdf-syntax-ns#type, http://kgc.knowledge-graph.jp/ontology/kgc.owl#Scene\n",
            "http://kgc.knowledge-graph.jp/data/SpeckledBand/398, http://kgc.knowledge-graph.jp/ontology/kgc.owl#hasPart, http://kgc.knowledge-graph.jp/data/SpeckledBand/snake\n",
            "http://kgc.kno\n"
          ]
        }
      ]
    },
    {
      "cell_type": "code",
      "source": [
        "# Membaca file\n",
        "file_path = '/content/new_triplets_reasoner_3_no_ontology.txt'\n",
        "\n",
        "with open(file_path, 'r') as file:\n",
        "    sample_lines = [next(file) for _ in range(5)]\n",
        "\n",
        "sample_lines\n"
      ],
      "metadata": {
        "colab": {
          "base_uri": "https://localhost:8080/"
        },
        "id": "dECiEkk3_PVx",
        "outputId": "d8fed0e1-ebe6-41f7-bce1-3e3ff6da8c79"
      },
      "execution_count": null,
      "outputs": [
        {
          "output_type": "execute_result",
          "data": {
            "text/plain": [
              "['http://kgc.knowledge-graph.jp/data/SpeckledBand/knee, http://www.w3.org/2000/01/rdf-schema#label, knee\\n',\n",
              " 'http://kgc.knowledge-graph.jp/data/SpeckledBand/115, http://kgc.knowledge-graph.jp/ontology/kgc.owl#source, There was a hole in the wall of bedroom of Helen.\\n',\n",
              " 'http://kgc.knowledge-graph.jp/data/SpeckledBand/78, http://kgc.knowledge-graph.jp/ontology/kgc.owl#time, 1881-12-02T00:00:00\\n',\n",
              " 'http://kgc.knowledge-graph.jp/data/SpeckledBand/61, http://kgc.knowledge-graph.jp/ontology/kgc.owl#source, Helen is sleeping\\n',\n",
              " 'http://kgc.knowledge-graph.jp/data/SpeckledBand/suspect, http://www.w3.org/2000/01/rdf-schema#label, suspect\\n']"
            ]
          },
          "metadata": {},
          "execution_count": 85
        }
      ]
    },
    {
      "cell_type": "code",
      "source": [
        "import re\n",
        "\n",
        "# base URI yang digunakan\n",
        "base_uri = \"http://kgc.knowledge-graph.jp/data/SpeckledBand/\"\n",
        "\n",
        "import re\n",
        "def is_uri(s):\n",
        "    return s.startswith('http://') or s.startswith('https://')\n",
        "\n",
        "def convert_to_uri(s, base_uri):\n",
        "    return base_uri + re.sub(r'\\s+', '_', s.strip())\n",
        "def process_triples_corrected(input_file_path, output_file_path, base_uri):\n",
        "    with open(input_file_path, 'r') as input_file, open(output_file_path, 'w') as output_file:\n",
        "        for line in input_file:\n",
        "            parts = line.split(',', maxsplit=2)\n",
        "            if len(parts) == 3:\n",
        "                subject, predicate, obj = [part.strip() for part in parts]\n",
        "\n",
        "                # Hanya mengubah menjadi URI jika belum dalam format URI\n",
        "                if not is_uri(subject):\n",
        "                    subject = convert_to_uri(subject, base_uri)\n",
        "                if not is_uri(predicate):\n",
        "                    predicate = convert_to_uri(predicate, base_uri)\n",
        "                if not is_uri(obj):\n",
        "                    obj = convert_to_uri(obj, base_uri)\n",
        "\n",
        "                output_file.write(f\"{subject}, {predicate}, {obj}\\n\")\n",
        "            else:\n",
        "                print(f\"Invalid line format: {line}\")\n",
        "\n",
        "process_triples_corrected('new_triplets_reasoner_3_no_ontology.txt', 'new_triplets_reasoner_3_no_ontology_cleaned.txt', base_uri)"
      ],
      "metadata": {
        "id": "QDH5Z-tM_SmM"
      },
      "execution_count": null,
      "outputs": []
    },
    {
      "cell_type": "code",
      "source": [
        "def check_for_non_uri_entities(file_path, base_uri):\n",
        "    non_uri_entities = set()\n",
        "\n",
        "    with open(file_path, 'r') as file:\n",
        "        for line in file:\n",
        "            parts = line.split(',', maxsplit=2)\n",
        "            if len(parts) == 3:\n",
        "                subject, predicate, obj = [part.strip() for part in parts]\n",
        "\n",
        "                # Cek apakah subject, predicate, dan object sudah dalam format URI\n",
        "                if not is_uri(subject):\n",
        "                    non_uri_entities.add(subject)\n",
        "                if not is_uri(predicate):\n",
        "                    non_uri_entities.add(predicate)\n",
        "                if not is_uri(obj):\n",
        "                    non_uri_entities.add(obj)\n",
        "\n",
        "    return non_uri_entities\n",
        "\n",
        "# Menetapkan jalur file output yang benar\n",
        "corrected_output_file_path = 'new_triplets_reasoner_3_no_ontology_cleaned.txt'\n",
        "\n",
        "# Menjalankan fungsi untuk mengecek file yang telah diproses\n",
        "non_uri_entities_in_corrected_file = check_for_non_uri_entities(corrected_output_file_path, base_uri)\n",
        "non_uri_entities_in_corrected_file"
      ],
      "metadata": {
        "colab": {
          "base_uri": "https://localhost:8080/"
        },
        "id": "35uVAk-s_cXm",
        "outputId": "37db4994-bab3-4e42-a2d0-ae5b36ffaa60"
      },
      "execution_count": null,
      "outputs": [
        {
          "output_type": "execute_result",
          "data": {
            "text/plain": [
              "set()"
            ]
          },
          "metadata": {},
          "execution_count": 87
        }
      ]
    },
    {
      "cell_type": "code",
      "source": [
        "# Lokasi file teks\n",
        "file_path_1 = 'processed_triples_3_no_ontology.txt'\n",
        "file_path_2 = 'new_triplets_reasoner_3_no_ontology_cleaned.txt'\n",
        "\n",
        "# Fungsi untuk membaca isi file\n",
        "def read_file(file_path):\n",
        "    with open(file_path, 'r') as file:\n",
        "        return file.readlines()\n",
        "\n",
        "# Baca kedua file\n",
        "content_1 = read_file(file_path_1)\n",
        "content_2 = read_file(file_path_2)\n",
        "\n",
        "# Gabungkan konten\n",
        "combined_content = content_1 + content_2\n",
        "\n",
        "# Lokasi file output\n",
        "output_file_path = 'combined_triples_3_no_ontology.txt'\n",
        "\n",
        "# Menulis konten gabungan ke file baru\n",
        "with open(output_file_path, 'w') as output_file:\n",
        "    output_file.writelines(combined_content)\n",
        "\n",
        "output_file_path\n"
      ],
      "metadata": {
        "colab": {
          "base_uri": "https://localhost:8080/",
          "height": 36
        },
        "id": "UUzeNnW_wZ2o",
        "outputId": "6370961d-6ae3-49d9-aca2-6d6cfd5a61ca"
      },
      "execution_count": null,
      "outputs": [
        {
          "output_type": "execute_result",
          "data": {
            "text/plain": [
              "'combined_triples_3_no_ontology.txt'"
            ],
            "application/vnd.google.colaboratory.intrinsic+json": {
              "type": "string"
            }
          },
          "metadata": {},
          "execution_count": 88
        }
      ]
    },
    {
      "cell_type": "code",
      "source": [
        "# Lokasi file teks\n",
        "file_path = 'combined_triples_3_no_ontology.txt'\n",
        "\n",
        "# Fungsi untuk membaca isi file dan memeriksa duplikasi\n",
        "def check_for_duplicates(file_path):\n",
        "    with open(file_path, 'r') as file:\n",
        "        triples = [line.strip() for line in file]\n",
        "\n",
        "    triples_set = set(triples)\n",
        "    return len(triples), len(triples_set), len(triples) != len(triples_set)\n",
        "\n",
        "# Memeriksa duplikasi\n",
        "total_triples, unique_triples, has_duplicates = check_for_duplicates(file_path)\n",
        "\n",
        "print(f\"Total Triplets: {total_triples}\")\n",
        "print(f\"Unique Triplets: {unique_triples}\")\n",
        "print(f\"Apakah ada duplikat? {'Ya' if has_duplicates else 'Tidak'}\")\n"
      ],
      "metadata": {
        "colab": {
          "base_uri": "https://localhost:8080/"
        },
        "id": "dala9g7aypmQ",
        "outputId": "0c3fa778-e862-4cfa-9b79-60da37743570"
      },
      "execution_count": null,
      "outputs": [
        {
          "output_type": "stream",
          "name": "stdout",
          "text": [
            "Total Triplets: 11289\n",
            "Unique Triplets: 10316\n",
            "Apakah ada duplikat? Ya\n"
          ]
        }
      ]
    },
    {
      "cell_type": "code",
      "source": [
        "# Lokasi file teks\n",
        "file_path = 'combined_triples_3_no_ontology.txt'\n",
        "\n",
        "# Fungsi untuk membaca isi file dan menemukan duplikasi\n",
        "def find_duplicates(file_path):\n",
        "    with open(file_path, 'r') as file:\n",
        "        triples = [line.strip() for line in file]\n",
        "\n",
        "    # Menemukan dan mengembalikan duplikasi\n",
        "    seen = set()\n",
        "    duplicates = set()\n",
        "    for triplet in triples:\n",
        "        if triplet in seen:\n",
        "            duplicates.add(triplet)\n",
        "        seen.add(triplet)\n",
        "\n",
        "    return duplicates\n",
        "\n",
        "# Menemukan duplikasi\n",
        "duplicates = find_duplicates(file_path)\n",
        "\n",
        "# Tampilkan beberapa duplikasi\n",
        "list(duplicates)[:10]  # Tampilkan 10 duplikasi pertama\n",
        "\n"
      ],
      "metadata": {
        "colab": {
          "base_uri": "https://localhost:8080/"
        },
        "id": "Hh0mHyTry7DC",
        "outputId": "414f213e-75ff-43fe-cddf-348639b93cfa"
      },
      "execution_count": null,
      "outputs": [
        {
          "output_type": "execute_result",
          "data": {
            "text/plain": [
              "['http://kgc.knowledge-graph.jp/data/SpeckledBand/283, http://kgc.knowledge-graph.jp/ontology/kgc.owl#source, http://kgc.knowledge-graph.jp/data/SpeckledBand/A_woman_is_sleeping_on_the_bed.',\n",
              " 'http://kgc.knowledge-graph.jp/data/SpeckledBand/end, http://www.w3.org/2000/01/rdf-schema#label, http://kgc.knowledge-graph.jp/data/SpeckledBand/end',\n",
              " 'http://kgc.knowledge-graph.jp/data/SpeckledBand/270, http://kgc.knowledge-graph.jp/ontology/kgc.owl#source, http://kgc.knowledge-graph.jp/data/SpeckledBand/Holmes_and_Watson_can_see_the_mansion_of_Stoke_Moran_from_the_Crown_Inn.',\n",
              " 'http://kgc.knowledge-graph.jp/data/SpeckledBand/exist, http://www.w3.org/2000/01/rdf-schema#label, http://kgc.knowledge-graph.jp/data/SpeckledBand/exist',\n",
              " 'http://kgc.knowledge-graph.jp/data/SpeckledBand/380, http://kgc.knowledge-graph.jp/ontology/kgc.owl#source, http://kgc.knowledge-graph.jp/data/SpeckledBand/Snake_poison_has_immediate_effect.',\n",
              " 'http://kgc.knowledge-graph.jp/data/SpeckledBand/247, http://kgc.knowledge-graph.jp/ontology/kgc.owl#source, http://kgc.knowledge-graph.jp/data/SpeckledBand/There_is_a_leopard_in_the_mansion.',\n",
              " 'http://kgc.knowledge-graph.jp/data/SpeckledBand/216, http://kgc.knowledge-graph.jp/ontology/kgc.owl#source, http://kgc.knowledge-graph.jp/data/SpeckledBand/The_pulling_rope_of_the_doorbell_is_tied_to_a_crochet_around_a_small_hole_for_vantilation.',\n",
              " 'http://kgc.knowledge-graph.jp/data/SpeckledBand/everything, http://www.w3.org/2000/01/rdf-schema#label, http://kgc.knowledge-graph.jp/data/SpeckledBand/everything',\n",
              " 'http://kgc.knowledge-graph.jp/data/SpeckledBand/262, http://kgc.knowledge-graph.jp/ontology/kgc.owl#source, http://kgc.knowledge-graph.jp/data/SpeckledBand/After_that,_Helen_goes_to_the_bedroom_of_Helen.',\n",
              " 'http://kgc.knowledge-graph.jp/data/SpeckledBand/living_room, http://www.w3.org/2000/01/rdf-schema#label, http://kgc.knowledge-graph.jp/data/SpeckledBand/living_room']"
            ]
          },
          "metadata": {},
          "execution_count": 90
        }
      ]
    },
    {
      "cell_type": "code",
      "source": [
        "# Lokasi file teks\n",
        "input_file_path = 'combined_triples_3_no_ontology.txt'\n",
        "output_file_path = 'combined_triples_removed_duplicate_3_no_ontology.txt'\n",
        "\n",
        "# Fungsi untuk membaca file dan menghilangkan duplikasi\n",
        "def remove_duplicates(input_file_path, output_file_path):\n",
        "    with open(input_file_path, 'r') as file:\n",
        "        unique_triples = set(file.readlines())\n",
        "\n",
        "    with open(output_file_path, 'w') as file:\n",
        "        file.writelines(unique_triples)\n",
        "\n",
        "    return output_file_path\n",
        "\n",
        "# Menghapus duplikasi dan menyimpan hasilnya\n",
        "unique_file_path = remove_duplicates(input_file_path, output_file_path)\n",
        "unique_file_path\n"
      ],
      "metadata": {
        "id": "cwsGzEcFzBx6",
        "colab": {
          "base_uri": "https://localhost:8080/",
          "height": 36
        },
        "outputId": "30211b15-b1f9-439d-ab23-c46b98134448"
      },
      "execution_count": null,
      "outputs": [
        {
          "output_type": "execute_result",
          "data": {
            "text/plain": [
              "'combined_triples_removed_duplicate_3_no_ontology.txt'"
            ],
            "application/vnd.google.colaboratory.intrinsic+json": {
              "type": "string"
            }
          },
          "metadata": {},
          "execution_count": 91
        }
      ]
    },
    {
      "cell_type": "markdown",
      "source": [
        "#**Bandingkan merged result dan hasil ekstraksi tripple merged result iterasi ke 3**"
      ],
      "metadata": {
        "id": "m1RPyfUHH8-f"
      }
    },
    {
      "cell_type": "code",
      "source": [
        "# Membaca isi dari kedua file teks\n",
        "file_path_sb = '/content/triples_output_reasoner_2_no_ontology.txt'\n",
        "file_path_merged_result = 'combined_triples_removed_duplicate_3_no_ontology.txt'\n",
        "def read_triplets(file_path):\n",
        "    \"\"\" Membaca file teks dan mengembalikan set dari triplets. \"\"\"\n",
        "    with open(file_path, 'r') as file:\n",
        "        return set(file.readlines())\n",
        "\n",
        "# Membaca triplets dari kedua file\n",
        "triplets_sb = read_triplets(file_path_sb)\n",
        "triplets_merged_result = read_triplets(file_path_merged_result)\n",
        "\n",
        "# Mencari triplets baru yang unik di merged_result\n",
        "new_triplets = triplets_merged_result - triplets_sb\n",
        "\n",
        "# Jumlah new triplets\n",
        "len(new_triplets), list(new_triplets)[:10]  # Menampilkan 10 contoh triplets baru\n",
        "\n"
      ],
      "metadata": {
        "colab": {
          "base_uri": "https://localhost:8080/"
        },
        "id": "JAViSMVvH8Td",
        "outputId": "5e96b029-0f06-4272-8eed-77e2d2e2f6dd"
      },
      "execution_count": null,
      "outputs": [
        {
          "output_type": "execute_result",
          "data": {
            "text/plain": [
              "(49,\n",
              " ['http://kgc.knowledge-graph.jp/data/SpeckledBand/278, http://kgc.knowledge-graph.jp/ontology/kgc.owl#source, http://kgc.knowledge-graph.jp/data/SpeckledBand/Otherwise,_it_should_have_noticed_when_the_examining_officer_investigate_it.\\n',\n",
              "  'http://kgc.knowledge-graph.jp/data/SpeckledBand/88, http://kgc.knowledge-graph.jp/ontology/kgc.owl#source, http://kgc.knowledge-graph.jp/data/SpeckledBand/On_death_day_of_Julia,_Julia_had_a_match_of_blazes.\\n',\n",
              "  'http://kgc.knowledge-graph.jp/data/SpeckledBand/303, http://kgc.knowledge-graph.jp/ontology/kgc.owl#source, http://kgc.knowledge-graph.jp/data/SpeckledBand/After_that,_Holmes_and_Watson_turn_off_the_lights_of_the_lamp.\\n',\n",
              "  'http://kgc.knowledge-graph.jp/data/SpeckledBand/77, http://kgc.knowledge-graph.jp/ontology/kgc.owl#source, http://kgc.knowledge-graph.jp/data/SpeckledBand/On_the_evening_of_July,_Julia_told_Helen,_Speckled_Band\\n',\n",
              "  'http://kgc.knowledge-graph.jp/data/SpeckledBand/330, http://kgc.knowledge-graph.jp/ontology/kgc.owl#source, http://kgc.knowledge-graph.jp/data/SpeckledBand/Hellous_pale_face,_the_face_of_Holmes_distorted_by_fear_and_disgust.\\n',\n",
              "  'http://kgc.knowledge-graph.jp/data/SpeckledBand/222, http://kgc.knowledge-graph.jp/ontology/kgc.owl#source, http://kgc.knowledge-graph.jp/data/SpeckledBand/Because,_if_it_is_a_ventilator,_it_should_let_outside_air_enter.\\n',\n",
              "  'http://kgc.knowledge-graph.jp/data/SpeckledBand/110, http://kgc.knowledge-graph.jp/ontology/kgc.owl#source, http://kgc.knowledge-graph.jp/data/SpeckledBand/A_month_ago,_Parsi_Armitage_applied_for_Helen_to_marry.\\n',\n",
              "  'http://kgc.knowledge-graph.jp/data/SpeckledBand/335, http://kgc.knowledge-graph.jp/ontology/kgc.owl#source, http://kgc.knowledge-graph.jp/data/SpeckledBand/That_scream_will_be_a_crouching_voice,_suffering,_fear,_anger,_cry_of_a_fierce_devil.\\n',\n",
              "  'http://kgc.knowledge-graph.jp/data/SpeckledBand/281, http://kgc.knowledge-graph.jp/ontology/kgc.owl#source, http://kgc.knowledge-graph.jp/data/SpeckledBand/At_the_same_time,_the_tow_line_was_suspended.\\n',\n",
              "  'http://kgc.knowledge-graph.jp/data/SpeckledBand/322, http://kgc.knowledge-graph.jp/ontology/kgc.owl#source, http://kgc.knowledge-graph.jp/data/SpeckledBand/At_the_moment_when_I_heard,_Holmes_jumped_out_of_the_bed.\\n'])"
            ]
          },
          "metadata": {},
          "execution_count": 92
        }
      ]
    },
    {
      "cell_type": "markdown",
      "source": [
        "#**Memasukan merged result ke knowledge graph - 3**"
      ],
      "metadata": {
        "id": "kd7zAWHKIppl"
      }
    },
    {
      "cell_type": "code",
      "source": [
        "from rdflib import Graph, URIRef, Literal, Namespace\n",
        "\n",
        "# Lokasi file\n",
        "file_txt_path = 'combined_triples_removed_duplicate_3_no_ontology.txt'\n",
        "file_ttl_path = 'SpeckledBand_updated_2.ttl'\n",
        "file_ttl_output_path = 'SpeckledBand_updated_3.ttl'\n",
        "\n",
        "# Membuat graf RDF dari file Turtle\n",
        "graph = Graph()\n",
        "graph.parse(file_ttl_path, format='ttl')\n",
        "\n",
        "# Membaca file teks dan menambahkan triplets\n",
        "with open(file_txt_path, 'r') as file:\n",
        "    for line in file:\n",
        "        parts = line.strip().split(', ')\n",
        "        if len(parts) >= 3:\n",
        "            s = parts[0]\n",
        "            p = parts[1]\n",
        "            o = ', '.join(parts[2:])  # Menggabungkan kembali bagian objek\n",
        "            # Membuat triple dengan format yang sesuai\n",
        "            subject = URIRef(s)\n",
        "            predicate = URIRef(p)\n",
        "            object = URIRef(o) if o.startswith('http') else Literal(o)\n",
        "            graph.add((subject, predicate, object))\n",
        "\n",
        "# Menyimpan graf yang telah diperbarui ke dalam file Turtle baru\n",
        "graph.serialize(destination=file_ttl_output_path, format='turtle')\n",
        "\n",
        "file_ttl_output_path\n"
      ],
      "metadata": {
        "colab": {
          "base_uri": "https://localhost:8080/",
          "height": 36
        },
        "id": "D_J-NgL4Iojv",
        "outputId": "33c25a0f-ae37-48a7-816b-b06777fb3b99"
      },
      "execution_count": null,
      "outputs": [
        {
          "output_type": "execute_result",
          "data": {
            "text/plain": [
              "'SpeckledBand_updated_3.ttl'"
            ],
            "application/vnd.google.colaboratory.intrinsic+json": {
              "type": "string"
            }
          },
          "metadata": {},
          "execution_count": 93
        }
      ]
    },
    {
      "cell_type": "markdown",
      "source": [
        "#**Ekstrak dan save tripple knowledge graph hasil reasoning - 4**"
      ],
      "metadata": {
        "id": "2GJqw2QYI6OB"
      }
    },
    {
      "cell_type": "code",
      "source": [
        "import rdflib\n",
        "\n",
        "# Membuat graf RDF\n",
        "g = rdflib.Graph()\n",
        "\n",
        "# Lokasi file RDF Turtle\n",
        "file_path = '/content/reasoner_4_no_ontology.ttl'\n",
        "\n",
        "# Parsing file RDF Turtle\n",
        "g.parse(file_path, format='turtle')\n",
        "\n",
        "# SPARQL Query untuk mendapatkan semua triplet <subject, predicate, object>\n",
        "query = \"\"\"\n",
        "SELECT DISTINCT ?subject ?predicate ?object\n",
        "WHERE {\n",
        "    ?subject ?predicate ?object .\n",
        "}\n",
        "\"\"\"\n",
        "\n",
        "# Menjalankan query\n",
        "results = g.query(query)\n",
        "\n",
        "# Lokasi file teks untuk menyimpan hasil\n",
        "output_file_path = 'triples_output_reasoner_4_no_ontology.txt'\n",
        "\n",
        "# Menyimpan hasil ke dalam file teks\n",
        "with open(output_file_path, 'w') as output_file:\n",
        "    for row in results:\n",
        "        output_file.write(f\"{row.subject}, {row.predicate}, {row.object}\\n\")\n",
        "\n",
        "print(f\"Triplets telah disimpan di {output_file_path}\")\n"
      ],
      "metadata": {
        "colab": {
          "base_uri": "https://localhost:8080/"
        },
        "id": "l8Ua85z2I7mz",
        "outputId": "52d7bc96-2e3f-4eea-90e8-7ba34779aec8"
      },
      "execution_count": null,
      "outputs": [
        {
          "output_type": "stream",
          "name": "stdout",
          "text": [
            "Triplets telah disimpan di triples_output_reasoner_4_no_ontology.txt\n"
          ]
        }
      ]
    },
    {
      "cell_type": "markdown",
      "source": [
        "#**Cek dan save new triple reasoning - 4**"
      ],
      "metadata": {
        "id": "aSFtWEfgKQEK"
      }
    },
    {
      "cell_type": "code",
      "source": [
        "# Membaca isi dari kedua file teks\n",
        "file_path_sb = '/content/combined_triples_removed_duplicate_3_no_ontology.txt'\n",
        "file_path_reasoner = 'triples_output_reasoner_4_no_ontology.txt'\n",
        "\n",
        "def read_triplets(file_path):\n",
        "    \"\"\" Membaca file teks dan mengembalikan set dari triplets. \"\"\"\n",
        "    with open(file_path, 'r') as file:\n",
        "        return set(file.readlines())\n",
        "\n",
        "# Membaca triplets dari kedua file\n",
        "triplets_sb = read_triplets(file_path_sb)\n",
        "triplets_reasoner = read_triplets(file_path_reasoner)\n",
        "\n",
        "# Mencari triplets baru yang unik di triplets_output_reasoner_1\n",
        "new_triplets = triplets_reasoner - triplets_sb\n",
        "\n",
        "# Jumlah new triplets\n",
        "len(new_triplets), list(new_triplets)[:10]  # Menampilkan 10 contoh triplets baru\n",
        "\n"
      ],
      "metadata": {
        "colab": {
          "base_uri": "https://localhost:8080/"
        },
        "id": "Lx_mHp44KB96",
        "outputId": "192927f0-84dc-45d8-bc60-f04409ed2538"
      },
      "execution_count": null,
      "outputs": [
        {
          "output_type": "execute_result",
          "data": {
            "text/plain": [
              "(974,\n",
              " ['http://kgc.knowledge-graph.jp/data/SpeckledBand/knee, http://www.w3.org/2000/01/rdf-schema#label, knee\\n',\n",
              "  'http://kgc.knowledge-graph.jp/data/SpeckledBand/115, http://kgc.knowledge-graph.jp/ontology/kgc.owl#source, There was a hole in the wall of bedroom of Helen.\\n',\n",
              "  'http://kgc.knowledge-graph.jp/data/SpeckledBand/78, http://kgc.knowledge-graph.jp/ontology/kgc.owl#time, 1881-12-02T00:00:00\\n',\n",
              "  'http://kgc.knowledge-graph.jp/data/SpeckledBand/61, http://kgc.knowledge-graph.jp/ontology/kgc.owl#source, Helen is sleeping\\n',\n",
              "  'http://kgc.knowledge-graph.jp/data/SpeckledBand/suspect, http://www.w3.org/2000/01/rdf-schema#label, suspect\\n',\n",
              "  'http://kgc.knowledge-graph.jp/data/SpeckledBand/poison_of_snake, http://www.w3.org/2000/01/rdf-schema#label, poison of snake\\n',\n",
              "  'http://kgc.knowledge-graph.jp/data/SpeckledBand/canSee, http://www.w3.org/2000/01/rdf-schema#label, canSee\\n',\n",
              "  'http://kgc.knowledge-graph.jp/data/SpeckledBand/neck, http://www.w3.org/2000/01/rdf-schema#label, neck\\n',\n",
              "  'http://kgc.knowledge-graph.jp/data/SpeckledBand/48, http://kgc.knowledge-graph.jp/ontology/kgc.owl#source, All the bedrooms are connected to the hallway\\n',\n",
              "  'http://kgc.knowledge-graph.jp/data/SpeckledBand/engage, http://www.w3.org/2000/01/rdf-schema#label, engage\\n'])"
            ]
          },
          "metadata": {},
          "execution_count": 96
        }
      ]
    },
    {
      "cell_type": "code",
      "source": [
        "# Lokasi file teks baru untuk menyimpan triplet baru\n",
        "new_triplets_file_path = 'new_triplets_reasoner_4_no_ontology.txt'\n",
        "\n",
        "# Menyimpan triplet baru ke dalam file teks\n",
        "with open(new_triplets_file_path, 'w') as new_file:\n",
        "    for triplet in new_triplets:\n",
        "        new_file.write(triplet)\n",
        "\n",
        "new_triplets_file_path"
      ],
      "metadata": {
        "colab": {
          "base_uri": "https://localhost:8080/",
          "height": 36
        },
        "id": "3P9HDpHTLLJ0",
        "outputId": "5476274d-0044-4567-bf61-feacfd111dbc"
      },
      "execution_count": null,
      "outputs": [
        {
          "output_type": "execute_result",
          "data": {
            "text/plain": [
              "'new_triplets_reasoner_4_no_ontology.txt'"
            ],
            "application/vnd.google.colaboratory.intrinsic+json": {
              "type": "string"
            }
          },
          "metadata": {},
          "execution_count": 97
        }
      ]
    },
    {
      "cell_type": "markdown",
      "source": [
        "#**Embedding complex - 4**"
      ],
      "metadata": {
        "id": "b_mWkL5bLUse"
      }
    },
    {
      "cell_type": "code",
      "source": [
        "# Lokasi file triplets\n",
        "file_path = 'combined_triples_removed_duplicate_3_no_ontology.txt'\n",
        "\n",
        "# Fungsi untuk membaca triplets dari file teks\n",
        "def read_triplets(file_path):\n",
        "    with open(file_path, 'r') as file:\n",
        "        triples = []\n",
        "        for line in file:\n",
        "            parts = line.strip().split(', ')\n",
        "            if len(parts) == 3:\n",
        "                triples.append(tuple(parts))\n",
        "    return triples\n",
        "\n",
        "# Membaca triplets dari file\n",
        "triples = read_triplets(file_path)\n",
        "triples[:10]  # Menampilkan 5 triples pertama untuk contoh\n"
      ],
      "metadata": {
        "colab": {
          "base_uri": "https://localhost:8080/"
        },
        "id": "pMUsWvteLQQL",
        "outputId": "120e1d96-c8a6-4cf5-82d7-8eabc3d6707e"
      },
      "execution_count": null,
      "outputs": [
        {
          "output_type": "execute_result",
          "data": {
            "text/plain": [
              "[('http://kgc.knowledge-graph.jp/data/SpeckledBand/283',\n",
              "  'http://kgc.knowledge-graph.jp/ontology/kgc.owl#hasPredicate',\n",
              "  'http://kgc.knowledge-graph.jp/data/SpeckledBand/sleep'),\n",
              " ('http://kgc.knowledge-graph.jp/data/SpeckledBand/373',\n",
              "  'http://www.w3.org/1999/02/22-rdf-syntax-ns#type',\n",
              "  'http://kgc.knowledge-graph.jp/ontology/kgc.owl#Scene'),\n",
              " ('http://kgc.knowledge-graph.jp/data/SpeckledBand/398',\n",
              "  'http://kgc.knowledge-graph.jp/ontology/kgc.owl#hasPart',\n",
              "  'http://kgc.knowledge-graph.jp/data/SpeckledBand/snake'),\n",
              " ('http://kgc.knowledge-graph.jp/data/SpeckledBand/370',\n",
              "  'http://www.w3.org/1999/02/22-rdf-syntax-ns#type',\n",
              "  'http://kgc.knowledge-graph.jp/ontology/kgc.owl#Scene'),\n",
              " ('http://kgc.knowledge-graph.jp/data/SpeckledBand/death_day_of_mother_of_Helen',\n",
              "  'http://kgc.knowledge-graph.jp/ontology/kgc.owl#ofWhole',\n",
              "  'http://kgc.knowledge-graph.jp/data/SpeckledBand/mother'),\n",
              " ('http://kgc.knowledge-graph.jp/data/SpeckledBand/89',\n",
              "  'http://kgc.knowledge-graph.jp/ontology/kgc.owl#SceneObjectProperty',\n",
              "  'http://kgc.knowledge-graph.jp/data/SpeckledBand/death_day_of_Julia'),\n",
              " ('http://www.semanticweb.org/fadilalafgani/ontologies/2024/0/untitled-ontology-217',\n",
              "  'http://www.w3.org/1999/02/22-rdf-syntax-ns#type',\n",
              "  'http://www.w3.org/2002/07/owl#Ontology'),\n",
              " ('http://kgc.knowledge-graph.jp/data/SpeckledBand/269',\n",
              "  'http://kgc.knowledge-graph.jp/ontology/kgc.owl#LocationProperty',\n",
              "  'http://kgc.knowledge-graph.jp/data/SpeckledBand/Crown_Inn'),\n",
              " ('http://kgc.knowledge-graph.jp/data/SpeckledBand/229',\n",
              "  'http://www.w3.org/1999/02/22-rdf-syntax-ns#type',\n",
              "  'http://kgc.knowledge-graph.jp/ontology/kgc.owl#Scene'),\n",
              " ('http://kgc.knowledge-graph.jp/data/SpeckledBand/26',\n",
              "  'http://kgc.knowledge-graph.jp/ontology/kgc.owl#TargetObjProperty',\n",
              "  'http://kgc.knowledge-graph.jp/data/SpeckledBand/Roma')]"
            ]
          },
          "metadata": {},
          "execution_count": 98
        }
      ]
    },
    {
      "cell_type": "code",
      "source": [
        "from collections import defaultdict\n",
        "import torch\n",
        "\n",
        "# Fungsi untuk mengonversi triples ke dalam bentuk indeks\n",
        "def convert_to_indices(triples, entity2idx, relation2idx):\n",
        "    triples_idx = []\n",
        "    for (h, r, t) in triples:\n",
        "        h_idx = entity2idx[h]\n",
        "        r_idx = relation2idx[r]\n",
        "        t_idx = entity2idx[t]\n",
        "        triples_idx.append((h_idx, r_idx, t_idx))\n",
        "    return triples_idx\n",
        "\n",
        "# Membuat indeks untuk entitas dan relasi\n",
        "entity2idx = defaultdict(lambda: len(entity2idx))\n",
        "relation2idx = defaultdict(lambda: len(relation2idx))\n",
        "\n",
        "for (h, r, t) in triples:\n",
        "    entity2idx[h]\n",
        "    entity2idx[t]\n",
        "    relation2idx[r]\n",
        "\n",
        "# Mengonversi triples ke dalam bentuk indeks\n",
        "triples_idx = convert_to_indices(triples, entity2idx, relation2idx)\n",
        "\n",
        "# Cek jumlah entitas dan relasi\n",
        "num_entities = len(entity2idx)\n",
        "num_relations = len(relation2idx)\n",
        "\n",
        "num_entities, num_relations, triples_idx[:5]  # Menampilkan beberapa informasi dan 5 triples indeks pertama\n"
      ],
      "metadata": {
        "colab": {
          "base_uri": "https://localhost:8080/"
        },
        "id": "L95tVspRLlHP",
        "outputId": "d3942534-482a-42e6-bf3c-980422abbc20"
      },
      "execution_count": null,
      "outputs": [
        {
          "output_type": "execute_result",
          "data": {
            "text/plain": [
              "(1380, 49, [(0, 0, 1), (2, 1, 3), (4, 2, 5), (6, 1, 3), (7, 3, 8)])"
            ]
          },
          "metadata": {},
          "execution_count": 99
        }
      ]
    },
    {
      "cell_type": "code",
      "source": [
        "import torch.nn as nn\n",
        "import torch.nn.functional as F\n",
        "\n",
        "class ComplEx(nn.Module):\n",
        "    def __init__(self, num_entities, num_relations, embedding_dim):\n",
        "        super(ComplEx, self).__init__()\n",
        "        self.embedding_dim = embedding_dim\n",
        "        self.ent_embeddings = nn.Embedding(num_entities, embedding_dim, padding_idx=0)\n",
        "        self.rel_embeddings = nn.Embedding(num_relations, embedding_dim, padding_idx=0)\n",
        "\n",
        "        # Inisialisasi bobot\n",
        "        nn.init.xavier_uniform_(self.ent_embeddings.weight.data)\n",
        "        nn.init.xavier_uniform_(self.rel_embeddings.weight.data)\n",
        "\n",
        "    def forward(self, triplets):\n",
        "        # Mendapatkan embeddings\n",
        "        h = self.ent_embeddings(triplets[:, 0])\n",
        "        r = self.rel_embeddings(triplets[:, 1])\n",
        "        t = self.ent_embeddings(triplets[:, 2])\n",
        "\n",
        "        # Skor menggunakan rumus ComplEx\n",
        "        score = torch.sum(h * r * t, dim=1)\n",
        "        return score\n",
        "\n",
        "# Parameter model\n",
        "embedding_dim = 100  # Dimensi embedding\n",
        "\n",
        "# Inisialisasi model\n",
        "model = ComplEx(num_entities, num_relations, embedding_dim)\n",
        "model\n",
        "\n"
      ],
      "metadata": {
        "colab": {
          "base_uri": "https://localhost:8080/"
        },
        "id": "_4DuCmW_L7oV",
        "outputId": "93526a1b-1121-40e3-bca7-3b876e691f5a"
      },
      "execution_count": null,
      "outputs": [
        {
          "output_type": "execute_result",
          "data": {
            "text/plain": [
              "ComplEx(\n",
              "  (ent_embeddings): Embedding(1380, 100, padding_idx=0)\n",
              "  (rel_embeddings): Embedding(49, 100, padding_idx=0)\n",
              ")"
            ]
          },
          "metadata": {},
          "execution_count": 100
        }
      ]
    },
    {
      "cell_type": "code",
      "source": [
        "from torch.optim import Adam\n",
        "from torch.utils.data import DataLoader, TensorDataset\n",
        "\n",
        "# Fungsi untuk menghasilkan negative samples\n",
        "def generate_negative_samples(triples, num_entities, num_samples=1):\n",
        "    negatives = []\n",
        "    for (h, r, t) in triples:\n",
        "        for _ in range(num_samples):\n",
        "            negative_t = torch.randint(num_entities, (1,))\n",
        "            negatives.append((h, r, negative_t.item()))\n",
        "    return negatives\n",
        "\n",
        "# Mengonversi triples ke tensor\n",
        "triples_tensor = torch.LongTensor(triples_idx)\n",
        "\n",
        "# Negative sampling\n",
        "negative_samples = generate_negative_samples(triples_idx, num_entities, num_samples=1)\n",
        "negative_samples_tensor = torch.LongTensor(negative_samples)\n",
        "\n",
        "# Menyiapkan data loader\n",
        "batch_size = 32\n",
        "dataset = TensorDataset(triples_tensor, negative_samples_tensor)\n",
        "data_loader = DataLoader(dataset, batch_size=batch_size, shuffle=True)\n",
        "\n",
        "# Inisialisasi optimizer\n",
        "optimizer = Adam(model.parameters(), lr=0.001)\n",
        "\n",
        "# Fungsi loss\n",
        "def complex_loss(positive_scores, negative_scores):\n",
        "    return F.softplus(-positive_scores).mean() + F.softplus(negative_scores).mean()\n",
        "\n",
        "# Loop pelatihan\n",
        "num_epochs = 50  # Contoh jumlah epoch\n",
        "\n",
        "for epoch in range(num_epochs):\n",
        "    model.train()\n",
        "    running_loss = 0.0\n",
        "\n",
        "    for positive_triplets, negative_triplets in data_loader:\n",
        "        positive_scores = model(positive_triplets)\n",
        "        negative_scores = model(negative_triplets)\n",
        "\n",
        "        # Hitung loss\n",
        "        loss = complex_loss(positive_scores, negative_scores)\n",
        "\n",
        "        # Backpropagation\n",
        "        optimizer.zero_grad()\n",
        "        loss.backward()\n",
        "        optimizer.step()\n",
        "\n",
        "        running_loss += loss.item()\n",
        "\n",
        "    print(f\"Epoch {epoch + 1}/{num_epochs}, Loss: {running_loss / len(data_loader)}\")\n",
        "\n"
      ],
      "metadata": {
        "colab": {
          "base_uri": "https://localhost:8080/"
        },
        "id": "NkqUtdotMBFz",
        "outputId": "20b2f35c-e559-4b11-d4a0-2bb1ce32fd91"
      },
      "execution_count": null,
      "outputs": [
        {
          "output_type": "stream",
          "name": "stdout",
          "text": [
            "Epoch 1/50, Loss: 1.385773315149195\n",
            "Epoch 2/50, Loss: 1.3579376924886792\n",
            "Epoch 3/50, Loss: 1.102187744050572\n",
            "Epoch 4/50, Loss: 0.7651991949361914\n",
            "Epoch 5/50, Loss: 0.5215975479813921\n",
            "Epoch 6/50, Loss: 0.35485098628621353\n",
            "Epoch 7/50, Loss: 0.24840492646760615\n",
            "Epoch 8/50, Loss: 0.1804998255920115\n",
            "Epoch 9/50, Loss: 0.13649880733836914\n",
            "Epoch 10/50, Loss: 0.10781229324292842\n",
            "Epoch 11/50, Loss: 0.08849943969571739\n",
            "Epoch 12/50, Loss: 0.07511735669172862\n",
            "Epoch 13/50, Loss: 0.06523054392126046\n",
            "Epoch 14/50, Loss: 0.05806708856321433\n",
            "Epoch 15/50, Loss: 0.052436289729279446\n",
            "Epoch 16/50, Loss: 0.047857531881242435\n",
            "Epoch 17/50, Loss: 0.04420690207191434\n",
            "Epoch 18/50, Loss: 0.04105826045369193\n",
            "Epoch 19/50, Loss: 0.038237420091659244\n",
            "Epoch 20/50, Loss: 0.0357604556332772\n",
            "Epoch 21/50, Loss: 0.03347972785728196\n",
            "Epoch 22/50, Loss: 0.03137064864858985\n",
            "Epoch 23/50, Loss: 0.029365661717668728\n",
            "Epoch 24/50, Loss: 0.02759651826902209\n",
            "Epoch 25/50, Loss: 0.025781559228793292\n",
            "Epoch 26/50, Loss: 0.023902393200279044\n",
            "Epoch 27/50, Loss: 0.022391327149245525\n",
            "Epoch 28/50, Loss: 0.021002266017288322\n",
            "Epoch 29/50, Loss: 0.019366120662471356\n",
            "Epoch 30/50, Loss: 0.0179525504772023\n",
            "Epoch 31/50, Loss: 0.016759025705223196\n",
            "Epoch 32/50, Loss: 0.015476603020638899\n",
            "Epoch 33/50, Loss: 0.014449945021252762\n",
            "Epoch 34/50, Loss: 0.013310900139834587\n",
            "Epoch 35/50, Loss: 0.012468298385892893\n",
            "Epoch 36/50, Loss: 0.011554762535310788\n",
            "Epoch 37/50, Loss: 0.010730276219646135\n",
            "Epoch 38/50, Loss: 0.009955147506359474\n",
            "Epoch 39/50, Loss: 0.009293468879490877\n",
            "Epoch 40/50, Loss: 0.008689971750115742\n",
            "Epoch 41/50, Loss: 0.008096739919354758\n",
            "Epoch 42/50, Loss: 0.007650621214305838\n",
            "Epoch 43/50, Loss: 0.007185110730925622\n",
            "Epoch 44/50, Loss: 0.006765275284021297\n",
            "Epoch 45/50, Loss: 0.006282087144856756\n",
            "Epoch 46/50, Loss: 0.006050964925303763\n",
            "Epoch 47/50, Loss: 0.00580254468086592\n",
            "Epoch 48/50, Loss: 0.0054676338359593716\n",
            "Epoch 49/50, Loss: 0.005206458779885109\n",
            "Epoch 50/50, Loss: 0.005055554809019111\n"
          ]
        }
      ]
    },
    {
      "cell_type": "code",
      "source": [
        "import numpy as np\n",
        "import random\n",
        "def evaluate_model(model, triples, all_entities, num_samples=1000, k=10):\n",
        "    # Memilih subset acak dari triples untuk evaluasi\n",
        "    evaluation_triples = random.sample(triples, num_samples)\n",
        "\n",
        "    mrr_sum = 0.0\n",
        "    hits_at_k_sum = 0\n",
        "\n",
        "    for h, r, t in evaluation_triples:\n",
        "        # Menghasilkan kandidat prediksi dengan mengganti tail\n",
        "        candidate_triples = [(h, r, tail) for tail in all_entities]\n",
        "\n",
        "        # Menghitung skor untuk setiap kandidat\n",
        "        candidate_triples_tensor = torch.LongTensor(candidate_triples)\n",
        "        with torch.no_grad():\n",
        "            candidate_scores = model(candidate_triples_tensor).numpy()\n",
        "\n",
        "        # Mendapatkan peringkat entitas yang benar\n",
        "        correct_entity_score = candidate_scores[all_entities.index(t)]\n",
        "        ranked_scores = sorted(candidate_scores, reverse=True)\n",
        "        rank = ranked_scores.index(correct_entity_score) + 1\n",
        "\n",
        "        # Menghitung MRR dan Hits@K\n",
        "        mrr_sum += 1.0 / rank\n",
        "        if rank <= k:\n",
        "            hits_at_k_sum += 1\n",
        "\n",
        "    # Menghitung rata-rata MRR dan Hits@K\n",
        "    mrr = mrr_sum / num_samples\n",
        "    hits_at_k = hits_at_k_sum / num_samples\n",
        "\n",
        "    return mrr, hits_at_k\n",
        "\n",
        "# Mengumpulkan semua entitas sebagai daftar\n",
        "all_entities_list = list(range(num_entities))\n",
        "\n",
        "# Menjalankan evaluasi model\n",
        "mrr, hits_at_10 = evaluate_model(model, triples_idx, all_entities_list, num_samples=1000, k=10)\n",
        "\n",
        "mrr, hits_at_10\n",
        "\n"
      ],
      "metadata": {
        "colab": {
          "base_uri": "https://localhost:8080/"
        },
        "id": "RJaQXuOOMK7H",
        "outputId": "aa5efa79-2aa2-41b2-e468-5e7807343e41"
      },
      "execution_count": null,
      "outputs": [
        {
          "output_type": "execute_result",
          "data": {
            "text/plain": [
              "(0.42171418688303475, 0.815)"
            ]
          },
          "metadata": {},
          "execution_count": 102
        }
      ]
    },
    {
      "cell_type": "code",
      "source": [
        "# Mendapatkan embeddings dari model\n",
        "entity_embeddings = model.ent_embeddings.weight.data.numpy()\n",
        "relation_embeddings = model.rel_embeddings.weight.data.numpy()\n",
        "\n",
        "# Menampilkan sebagian dari embeddings\n",
        "# Kita akan menampilkan 5 embeddings pertama untuk entitas dan relasi\n",
        "print(\"Entity Embeddings (5 first embeddings):\")\n",
        "print(entity_embeddings[:5])\n",
        "print(\"\\nRelation Embeddings (5 first embeddings):\")\n",
        "print(relation_embeddings[:5])\n",
        "\n"
      ],
      "metadata": {
        "colab": {
          "base_uri": "https://localhost:8080/"
        },
        "id": "bg_TVWixOjmg",
        "outputId": "0bb33bb6-8b6e-48ac-fc73-7af48c395bc4"
      },
      "execution_count": null,
      "outputs": [
        {
          "output_type": "stream",
          "name": "stdout",
          "text": [
            "Entity Embeddings (5 first embeddings):\n",
            "[[ 0.0039917   0.0020971  -0.01740493 -0.01349875  0.06311037 -0.01342419\n",
            "   0.04810777  0.00773014 -0.04041784  0.03330655 -0.0545898   0.0295691\n",
            "  -0.01968116  0.03344955  0.06168188  0.03422431 -0.02183975 -0.01417648\n",
            "   0.04461657 -0.02943476 -0.05578465  0.06020744 -0.04856836 -0.05904536\n",
            "   0.00162051  0.00985916  0.00647197 -0.03336319 -0.02017903  0.05916627\n",
            "  -0.02863139  0.0114904  -0.0353315  -0.04572375  0.02266677 -0.04542373\n",
            "   0.03861552 -0.0524782   0.005514    0.04570494  0.01608866  0.06031279\n",
            "   0.01720785 -0.05475241 -0.03442506  0.00260078 -0.04611854 -0.03760351\n",
            "  -0.05429748  0.01955665  0.01448896  0.05329506  0.04391311 -0.0541833\n",
            "   0.03988039  0.05420391 -0.02310766  0.0129663  -0.06358704 -0.02802047\n",
            "  -0.04068137  0.0619489  -0.04331312 -0.00983082  0.05130398 -0.02727998\n",
            "   0.06362857  0.00247489  0.05265614 -0.05750247 -0.02909554 -0.0488167\n",
            "   0.01922525 -0.02487163 -0.02947925 -0.03097881  0.06281073 -0.05936923\n",
            "  -0.03112879 -0.03840921 -0.06108017  0.00204669 -0.036082    0.005907\n",
            "   0.0076886   0.00205701 -0.03371551 -0.02300612  0.04990381  0.05965277\n",
            "   0.05011189 -0.01945476  0.06109496  0.05907283  0.04073172  0.06047015\n",
            "  -0.03646819 -0.02111967 -0.05500401  0.01132661]\n",
            " [ 0.63555753  0.95745546 -0.29106373  0.14116831  0.11599005  0.36427152\n",
            "   0.75536716  0.12447586  0.28151178 -0.2389548   0.01641605 -1.0733876\n",
            "  -0.06038077  0.30609995  1.1169512   0.34441215 -0.32879025 -0.28617013\n",
            "  -0.7200635   0.71426487 -0.17172138  0.30509958 -0.08760707  0.7696383\n",
            "   0.6329084  -0.13252936 -0.26488364  0.421225    0.33506057  0.09450828\n",
            "   0.22411865 -1.2248704  -0.5230781  -0.33414385 -1.0524851   0.09378228\n",
            "   0.19056442 -0.8304595   0.43539158  0.71777606  0.8825292  -0.30575383\n",
            "   0.77100563 -1.1586819   0.8031093  -0.4566911   0.7470599   0.666048\n",
            "  -0.99384725 -1.0393146   0.73216534 -0.9907811   0.14550745 -0.11760078\n",
            "   0.14969951 -0.8166249   0.33446756  1.1252619   1.0087569  -0.10074911\n",
            "   0.8513906  -1.3508629  -0.12278388  1.027683    1.2754091  -1.1611253\n",
            "  -0.74497515  0.9412638   0.14978732  0.92090964  0.92735094 -0.26074424\n",
            "   0.5142301   0.6232429  -0.9539574  -0.31430647 -0.8524671  -1.1428758\n",
            "   0.7916056   0.6845087  -0.45351955  1.010822    0.48848113 -0.64842975\n",
            "   0.04818728 -0.05892452 -1.2407799  -0.0985192   0.82925045 -0.37514287\n",
            "   0.34194475 -0.38891324  0.73081064 -0.06379373  0.45558435  0.29312724\n",
            "   0.48502755 -0.799451   -0.38354495  0.94517505]\n",
            " [ 0.40056455 -0.7114952   0.36053705 -0.34539095  0.4270473   1.1558692\n",
            "  -0.11609125  0.08136556 -0.17172633  0.33332363 -0.16189933 -0.56089807\n",
            "   0.67475003 -0.40636733  0.14578943 -1.2472185  -0.4358406   0.5107774\n",
            "   0.5250744  -0.82723266 -0.08910901  0.98416305 -0.13361615  0.6057551\n",
            "   0.6646947  -0.43459675  0.35663676  0.47780618  0.5989244   0.048345\n",
            "   0.42904857 -1.3094695  -0.43658656  0.35898188 -0.21875268 -0.24605182\n",
            "   0.64447266  0.06873783  0.18541026 -0.53939724  0.3336115  -0.97776896\n",
            "  -0.52847975  0.10134079 -0.7086231   0.9115683   0.46639997 -0.30815727\n",
            "   0.9145397  -0.3776718   0.48092553  1.0198773   1.0326324  -0.67207766\n",
            "  -0.51171035  1.1296203  -0.15403989  0.2824829   0.46152994 -0.30254653\n",
            "   0.9161828  -0.2841682   0.51192737  1.003638    0.2903015   0.3623015\n",
            "  -1.2173855   0.9883822   0.03354877 -0.26652506 -0.38368556  0.69382733\n",
            "   0.5448027   0.5291346   1.1525253   0.20102665  0.10291245 -0.10763755\n",
            "  -0.83171433 -0.9530713   0.29192582 -0.19327489 -0.13645612 -0.7107393\n",
            "  -0.47682348 -0.05784354  0.01739229 -0.9353241  -0.6970089   0.871216\n",
            "  -0.6295721  -1.1551877  -0.3490017  -0.32690564 -0.40229586  0.328118\n",
            "   1.0279932  -0.6436859   0.5271934   0.54115534]\n",
            " [-0.5603659   0.31671238 -0.2278686  -0.43134266 -1.053687   -0.4606874\n",
            "   0.3132224  -0.74357396 -0.56650734 -0.4775717   0.7816117   0.52594995\n",
            "  -0.48223126  0.7555461  -0.31350031 -0.35276905  0.08499622 -0.36738765\n",
            "  -0.1690464   0.7273785  -0.1715182   0.80604327 -0.2615265  -0.02802293\n",
            "  -0.7347801   0.18539949  0.49199325  0.9202245  -0.4710917  -0.25492388\n",
            "  -0.11029476  0.28514174  0.65146184 -0.24144441  0.05629392  0.49031302\n",
            "   0.6859596   0.21218728 -0.18091835  0.7035221  -0.98314685 -0.0911674\n",
            "  -0.09758204  0.60651374 -1.2102245   0.6435185   0.1501774  -0.46268636\n",
            "   0.5916703  -0.7568046  -0.0149539   0.7295762  -0.13942593  0.13488102\n",
            "   0.07623092 -0.45414245 -0.28327462 -0.08260292 -0.23262717  0.5696328\n",
            "  -0.18032904  0.12161677 -0.5526675  -0.3152596  -0.30471772 -0.04291568\n",
            "   0.40507975 -0.43755063  0.27604723 -0.5549034  -0.45363846  0.04526431\n",
            "  -0.45301944  0.6673792  -0.1304608  -0.15005009 -0.16223201  0.09121339\n",
            "  -0.17300984  0.48936903 -1.3558685  -0.91827184  0.07979081 -0.48450664\n",
            "   0.7186419  -0.0048902   0.38484517 -0.88341147 -0.44841793 -0.14756285\n",
            "  -0.66410446  0.01406469  0.2782636  -0.17295803  0.19819641  0.5567769\n",
            "   0.7888407  -0.05801463  0.07046545 -0.5288835 ]\n",
            " [ 1.0549471  -0.6987193   0.4440789   0.5073289   0.73922217  1.0113467\n",
            "  -0.78333044 -0.5431379   0.04943009  0.03102642 -0.77978504 -0.5657147\n",
            "   0.721623   -0.5519541  -0.45347708 -0.07081933  0.8412478   0.59602004\n",
            "  -0.45791873 -0.8029122   0.99755    -0.03374704 -0.69890416  1.175637\n",
            "   0.69554424 -0.6861283   0.6787951  -0.8420812   0.1181178  -0.5066018\n",
            "  -0.25521973 -1.2026556   0.28924194 -0.12369922  0.9389934  -0.43924302\n",
            "   0.4480211  -0.5336679   1.0199513   0.06605706  0.88057935 -0.7159368\n",
            "  -0.9253886   0.7061981  -0.7304365   1.0072348   0.71646816  0.36565906\n",
            "   0.2207477  -0.01571346 -0.189934    0.8505253  -0.11732058  0.13045663\n",
            "  -0.52631015  1.0669795  -0.44379997 -0.82518053 -0.48279408  0.80828506\n",
            "  -0.5558211  -0.05804878 -0.07288053  0.42077643  0.3567037   0.55822724\n",
            "   0.6995713  -0.29598653  0.12999156 -0.38416606  0.13788319 -0.27221683\n",
            "   0.40982842  0.40367043  1.093666    0.2608454   0.00238134  0.97150314\n",
            "  -0.03377897 -0.15368736 -0.74389297  0.63003683 -0.9067484   0.4789193\n",
            "  -0.5588725  -1.0675955  -0.93278986 -0.58844465  0.16837555  0.02839751\n",
            "  -0.9092504  -0.43022582 -0.48368964  0.94866407  0.55123067  0.39976954\n",
            "   0.80543     0.3158766   0.30358312 -0.0579383 ]]\n",
            "\n",
            "Relation Embeddings (5 first embeddings):\n",
            "[[ 1.77265257e-01 -1.86641887e-01  1.18132923e-02  1.60416037e-01\n",
            "  -1.33765802e-01 -1.59985572e-01  9.86733586e-02 -8.17769617e-02\n",
            "  -2.35782862e-02  1.65391803e-01  1.89834237e-02 -1.96145341e-01\n",
            "   8.72308761e-02 -3.09909843e-02  1.59623340e-01  5.90861700e-02\n",
            "   1.26138136e-01 -1.29461989e-01  3.99492885e-04 -9.35008377e-02\n",
            "  -1.68943137e-01  1.22450795e-02 -2.54198518e-02 -1.61356091e-01\n",
            "   3.71816158e-02  7.67663643e-02 -2.99255829e-02  4.83801924e-02\n",
            "   1.17184043e-01  1.20496988e-01  1.97975039e-01 -7.91434646e-02\n",
            "  -2.67569348e-03  2.07517184e-02  1.78889543e-01  6.99065700e-02\n",
            "  -1.06394216e-01  1.20871142e-01  9.82420743e-02  1.17267124e-01\n",
            "   7.42397010e-02 -1.26714140e-01  1.27596594e-02  1.79494426e-01\n",
            "  -1.28205210e-01 -1.83637053e-01 -6.96077123e-02  1.28121182e-01\n",
            "   6.19517565e-02  2.13755723e-02  1.75184328e-02 -1.27322093e-01\n",
            "   1.68491319e-01 -4.29749563e-02  2.09134053e-02 -1.39685825e-01\n",
            "  -1.62507892e-01 -1.84930041e-01  1.28234416e-01  1.86189935e-01\n",
            "  -1.84490621e-01 -9.89067852e-02  6.81246370e-02 -7.96618760e-02\n",
            "   2.44874563e-02  1.12642981e-01 -1.71383455e-01  2.37237066e-02\n",
            "  -1.23062827e-01  1.30156055e-01 -2.00402975e-01 -1.96743414e-01\n",
            "  -1.47122487e-01  3.33949253e-02  1.22362114e-01 -1.51754811e-01\n",
            "   4.13740203e-02  8.96146074e-02  6.80468008e-02  5.03061302e-02\n",
            "  -1.92839622e-01  1.33157849e-01 -9.15298760e-02 -6.71053603e-02\n",
            "   3.16245519e-02  1.80848256e-01  9.11142826e-02 -9.96394157e-02\n",
            "  -1.41801924e-01  1.51136637e-01 -2.68080067e-02  1.27660066e-01\n",
            "  -4.20608595e-02  1.22032352e-01  7.33645959e-03  7.86618292e-02\n",
            "  -7.27114901e-02 -2.92364452e-02  1.70321956e-01  1.05743613e-02]\n",
            " [-2.15952015e+00 -2.60222936e+00 -2.40873384e+00 -1.19676208e+00\n",
            "  -2.19549036e+00 -1.88063598e+00  2.18878222e+00 -2.10709190e+00\n",
            "   1.06400692e+00 -1.93321085e+00 -2.50800848e+00  1.56399500e+00\n",
            "   1.93014240e+00 -2.00152421e+00  1.47740602e+00  1.36324775e+00\n",
            "   1.85981679e+00 -2.61376023e+00  1.10689008e+00 -2.75953412e+00\n",
            "  -2.44105911e+00  2.41415858e+00  1.29123259e+00 -2.25691676e+00\n",
            "  -2.58567786e+00 -2.54892421e+00  2.28871489e+00 -2.81730819e+00\n",
            "   1.88440669e+00  1.70939744e+00  1.71582723e+00 -2.42825747e+00\n",
            "  -2.06888938e+00 -2.07021499e+00  1.48976552e+00 -2.41442132e+00\n",
            "   1.35988283e+00  2.13315344e+00 -2.47443628e+00  2.29196882e+00\n",
            "  -3.17450380e+00 -2.41292834e+00  1.13632452e+00  1.80107164e+00\n",
            "   1.67521572e+00  1.30644751e+00  1.15620267e+00 -1.54921484e+00\n",
            "  -2.33695745e+00  8.73370349e-01 -2.07211161e+00  1.22692919e+00\n",
            "   2.35686970e+00  1.73422885e+00 -1.96085644e+00 -2.94681668e+00\n",
            "   1.92328703e+00  2.97972769e-01  8.92497301e-01  1.40331233e+00\n",
            "  -9.44528341e-01 -6.26371980e-01 -2.77917057e-01 -2.90068507e+00\n",
            "  -2.50623751e+00  1.71492207e+00  2.36045051e+00  2.29952860e+00\n",
            "   1.99046826e+00 -2.10047889e+00  1.42951989e+00  1.00291598e+00\n",
            "   1.83540893e+00  8.51225853e-01  1.79251456e+00 -1.97946620e+00\n",
            "   1.23852062e+00  2.00553775e+00  1.77415776e+00 -1.68870747e+00\n",
            "   2.41576481e+00 -2.29228282e+00 -1.86556447e+00  2.14089012e+00\n",
            "   1.83571517e+00 -1.72207618e+00 -1.83785534e+00  7.62532830e-01\n",
            "   1.65151906e+00 -5.13172567e-01  1.24108708e+00  2.22533202e+00\n",
            "  -1.96487200e+00  2.27850318e+00 -1.74123538e+00  1.43309247e+00\n",
            "   7.88788855e-01  2.13372540e+00 -3.59690547e-01  1.43461657e+00]\n",
            " [ 9.10610795e-01  1.04199433e+00 -2.18449187e+00  2.35622382e+00\n",
            "   1.27884960e+00 -6.90106392e-01 -1.03458464e+00  1.45959520e+00\n",
            "  -2.36397886e+00 -2.46910787e+00 -2.81080675e+00 -2.34766889e+00\n",
            "   1.95323491e+00  1.01229882e+00 -8.89366150e-01  2.55281377e+00\n",
            "  -1.60535425e-01 -2.49997807e+00 -1.72640669e+00 -1.27964604e+00\n",
            "   1.76819593e-01  2.29803300e+00  2.54263735e+00 -2.01826406e+00\n",
            "  -2.39295626e+00  3.98906171e-01 -4.85697277e-02 -1.43623757e+00\n",
            "   1.42601120e+00 -1.15306079e+00 -2.14320946e+00 -1.30461264e+00\n",
            "   1.63849974e+00  1.27894413e+00 -1.24231076e+00 -2.60519052e+00\n",
            "   2.28947353e+00 -1.22022653e+00 -2.33544230e+00 -1.43937302e+00\n",
            "  -1.93798721e+00 -1.58324659e+00  9.85216022e-01  1.92318130e+00\n",
            "  -2.03398633e+00 -2.02537751e+00  2.25415158e+00 -2.39268017e+00\n",
            "   4.25647140e-01 -2.32202148e+00  1.17069793e+00 -2.39385200e+00\n",
            "   1.29459214e+00  1.82925034e+00  2.02394342e+00 -2.41944361e+00\n",
            "   1.41546357e+00  1.13667560e+00 -2.32243729e+00  1.98066759e+00\n",
            "   1.98224127e-01 -2.08366776e+00 -2.30307221e+00 -1.44343221e+00\n",
            "   2.14302683e+00  1.73613882e+00  4.25681531e-01  1.26153409e+00\n",
            "   5.95928550e-01 -2.65416980e+00  1.80768263e+00  2.30006146e+00\n",
            "   1.54550302e+00 -2.23978090e+00 -1.32333553e+00  6.89054191e-01\n",
            "  -1.90148664e+00  1.47483385e+00 -1.54590356e+00 -2.24381781e+00\n",
            "   2.58717239e-01 -1.50294757e+00 -1.06645119e+00 -1.25539839e+00\n",
            "  -1.95956552e+00 -1.21711290e+00  2.26279688e+00  1.82872784e+00\n",
            "   2.13631964e+00 -2.40597367e+00  2.48584056e+00  8.37110937e-01\n",
            "   3.53626251e-01 -2.16791177e+00  2.47657704e+00 -1.81041932e+00\n",
            "  -1.84010148e+00 -5.17097414e-01  2.19356370e+00  1.83139288e+00]\n",
            " [ 1.59062827e+00 -3.42620969e-01 -1.69665265e+00  7.91763604e-01\n",
            "   1.45616293e+00 -1.75853953e-01  8.96278918e-01  1.15469289e+00\n",
            "  -1.07134485e+00 -1.21452725e+00 -4.15602505e-01  1.14081609e+00\n",
            "  -9.84189868e-01  1.67435503e+00  2.61233687e+00 -1.11814046e+00\n",
            "  -5.17351270e-01 -1.72395480e+00  1.37428737e+00 -1.73901701e+00\n",
            "  -1.57082033e+00  1.61991584e+00 -1.07128334e+00  1.03552115e+00\n",
            "  -7.98055351e-01  1.74064767e+00  2.61531734e+00 -1.58336604e+00\n",
            "   1.45214581e+00  1.23308849e+00 -3.57925915e-03 -1.29690003e+00\n",
            "   1.65907323e+00  6.29085004e-01  2.56009877e-01 -1.93883240e-01\n",
            "  -4.38017219e-01  9.39502180e-01  2.63398290e-02  9.93456781e-01\n",
            "  -1.81523812e+00 -9.13188756e-01  2.48623466e+00  1.99063039e+00\n",
            "   8.65833938e-01 -1.64163089e+00  1.42563999e+00 -9.22886848e-01\n",
            "   1.97724748e+00  6.66776240e-01 -1.67582363e-01 -8.74333858e-01\n",
            "   2.86575675e-01  2.21553159e+00  1.67540777e+00 -1.74549401e+00\n",
            "  -1.42413402e+00  2.09350181e+00  1.21828210e+00  7.88227379e-01\n",
            "  -2.10643411e+00 -2.59897304e+00 -9.93796647e-01 -1.87445712e+00\n",
            "   9.91380751e-01  2.33428550e+00 -1.66883433e+00  5.41933179e-01\n",
            "  -1.99280128e-01 -1.83934271e+00  1.71464956e+00  2.31094640e-02\n",
            "   1.84244812e+00 -7.17667282e-01  1.96623480e+00  1.57880986e+00\n",
            "  -1.80092072e+00  1.48540115e+00  1.12384386e-01  5.97799003e-01\n",
            "   2.15185118e+00  1.33262134e+00 -1.40974557e+00  1.16069174e+00\n",
            "   5.24950214e-02 -9.56369042e-01  2.02966976e+00 -1.06778371e+00\n",
            "   1.83380473e+00 -1.57661402e+00  1.04901898e+00  7.66333401e-01\n",
            "   4.79140013e-01  2.13282394e+00  1.93491912e+00  8.27459157e-01\n",
            "   3.03213716e-01  6.66712523e-01  1.46668327e+00  7.29819119e-01]\n",
            " [ 1.74733949e+00 -1.03670979e+00 -1.27769041e+00  1.15995407e+00\n",
            "   1.12154269e+00  1.86566305e+00  7.57059753e-01  1.13848829e+00\n",
            "  -2.47753763e+00 -6.55246496e-01 -2.91481209e+00 -2.43975544e+00\n",
            "   2.37542439e+00  9.07388508e-01  2.38008404e+00  2.59025764e+00\n",
            "  -1.10644007e+00 -2.36348486e+00 -2.60557747e+00 -1.59345579e+00\n",
            "  -2.08067894e+00  5.99443913e-01  2.91238236e+00 -1.24999237e+00\n",
            "  -2.20566010e+00 -2.08120203e+00  1.97726488e+00 -2.42539093e-01\n",
            "   1.06929922e+00 -1.32571971e+00 -1.90076125e+00 -1.62581635e+00\n",
            "   8.00804019e-01  1.01265776e+00 -1.51407540e+00 -2.52372432e+00\n",
            "   1.92723227e+00 -1.23247838e+00 -2.89191818e+00 -2.11025071e+00\n",
            "  -1.29390419e+00 -1.19185305e+00 -1.09411705e+00  1.38542151e+00\n",
            "  -1.05163741e+00 -1.04343319e+00 -1.75183505e-01 -1.46259618e+00\n",
            "   2.12190056e+00 -2.00081491e+00  2.29662395e+00 -2.54070377e+00\n",
            "   1.10375822e+00  1.28130639e+00  2.18308544e+00 -2.58195710e+00\n",
            "   1.29574406e+00  1.95652902e-01 -2.68636489e+00  2.08381248e+00\n",
            "   8.71167243e-01 -7.55994916e-01 -2.69065690e+00 -1.01044774e+00\n",
            "   1.69717991e+00  1.90175498e+00  1.66032910e+00  1.69951701e+00\n",
            "  -3.08874071e-01 -1.86313415e+00  8.17171574e-01  2.15820742e+00\n",
            "   1.50334930e+00 -2.36628675e+00 -2.04413700e+00  7.27987349e-01\n",
            "  -2.71703029e+00  2.16988158e+00 -2.20602536e+00 -2.61462688e+00\n",
            "  -7.87829697e-01  3.39478999e-01 -2.60889554e+00 -1.51686108e+00\n",
            "  -4.44398284e-01 -2.00483871e+00  2.01241374e+00  2.13912249e+00\n",
            "   2.09259415e+00 -2.32230616e+00  2.55176139e+00  3.52941394e-01\n",
            "   2.22937274e+00 -2.11372304e+00  2.05971098e+00 -2.38194060e+00\n",
            "  -1.59573877e+00 -4.69944328e-01  2.75559974e+00  2.00208807e+00]]\n"
          ]
        }
      ]
    },
    {
      "cell_type": "code",
      "source": [
        "# Batch size untuk proses prediksi\n",
        "batch_size_pred = 32\n",
        "\n",
        "# Mengumpulkan semua entitas sebagai daftar\n",
        "all_entities_list = list(range(num_entities))\n",
        "\n",
        "# Menyiapkan dataset untuk proses prediksi\n",
        "prediction_dataset = TensorDataset(triples_tensor)\n",
        "prediction_loader = DataLoader(prediction_dataset, batch_size=batch_size_pred, shuffle=False)\n",
        "\n",
        "# Fungsi untuk memprediksi triples menggunakan model\n",
        "def predict_triples(model, data_loader):\n",
        "    model.eval()  # Set model ke mode evaluasi\n",
        "    predicted_triples = []\n",
        "\n",
        "    with torch.no_grad():\n",
        "        for triplets in data_loader:\n",
        "            scores = model(triplets[0])\n",
        "            predicted_triples.extend(scores.tolist())\n",
        "\n",
        "    return predicted_triples\n",
        "\n",
        "# Prediksi triples\n",
        "predicted_triples = predict_triples(model, prediction_loader)\n",
        "predicted_triples[:5]"
      ],
      "metadata": {
        "colab": {
          "base_uri": "https://localhost:8080/"
        },
        "id": "1DNtt4fCOv_t",
        "outputId": "4587d4c2-326c-4527-ffe4-8807b935dcb4"
      },
      "execution_count": null,
      "outputs": [
        {
          "output_type": "execute_result",
          "data": {
            "text/plain": [
              "[0.07734163850545883,\n",
              " 14.753960609436035,\n",
              " 16.94775390625,\n",
              " 31.06438446044922,\n",
              " 15.612049102783203]"
            ]
          },
          "metadata": {},
          "execution_count": 104
        }
      ]
    },
    {
      "cell_type": "code",
      "source": [
        "# Fungsi untuk memetakan kembali indeks ke URI\n",
        "def map_indices_to_uris(triples_idx, entity2idx, relation2idx):\n",
        "    # Membuat reverse mapping dari indeks ke URI\n",
        "    idx2entity = {idx: uri for uri, idx in entity2idx.items()}\n",
        "    idx2relation = {idx: uri for uri, idx in relation2idx.items()}\n",
        "\n",
        "    # Memetakan kembali indeks ke URI\n",
        "    triples_uri = [(idx2entity[h], idx2relation[r], idx2entity[t]) for h, r, t in triples_idx]\n",
        "    return triples_uri\n",
        "\n",
        "# Memetakan kembali triples indeks ke URI\n",
        "triples_uri = map_indices_to_uris(triples_idx, entity2idx, relation2idx)\n",
        "\n",
        "# Menyimpan triples URI dalam file teks\n",
        "output_file_path = 'predicted_triples_4_no_ontology.txt'\n",
        "with open(output_file_path, 'w') as file:\n",
        "    for triple in triples_uri:\n",
        "        file.write(f\"{triple[0]}, {triple[1]}, {triple[2]}\\n\")\n",
        "\n",
        "output_file_path\n"
      ],
      "metadata": {
        "colab": {
          "base_uri": "https://localhost:8080/",
          "height": 36
        },
        "id": "57oyiqXOO0Sf",
        "outputId": "bb36b9fe-95cd-4af1-cc7c-ce8371789d20"
      },
      "execution_count": null,
      "outputs": [
        {
          "output_type": "execute_result",
          "data": {
            "text/plain": [
              "'predicted_triples_4_no_ontology.txt'"
            ],
            "application/vnd.google.colaboratory.intrinsic+json": {
              "type": "string"
            }
          },
          "metadata": {},
          "execution_count": 105
        }
      ]
    },
    {
      "cell_type": "markdown",
      "source": [
        "# **Ubah string ke URI-4**"
      ],
      "metadata": {
        "id": "rn9fNro2O-gT"
      }
    },
    {
      "cell_type": "code",
      "source": [
        "# Membaca file\n",
        "file_path = '/content/predicted_triples_4_no_ontology.txt'\n",
        "\n",
        "with open(file_path, 'r') as file:\n",
        "    sample_lines = [next(file) for _ in range(5)]\n",
        "\n",
        "sample_lines\n"
      ],
      "metadata": {
        "colab": {
          "base_uri": "https://localhost:8080/"
        },
        "id": "LprlDS84O7Jk",
        "outputId": "5fc67d42-53e0-4713-f380-a94264aa7c9c"
      },
      "execution_count": null,
      "outputs": [
        {
          "output_type": "execute_result",
          "data": {
            "text/plain": [
              "['http://kgc.knowledge-graph.jp/data/SpeckledBand/283, http://kgc.knowledge-graph.jp/ontology/kgc.owl#hasPredicate, http://kgc.knowledge-graph.jp/data/SpeckledBand/sleep\\n',\n",
              " 'http://kgc.knowledge-graph.jp/data/SpeckledBand/373, http://www.w3.org/1999/02/22-rdf-syntax-ns#type, http://kgc.knowledge-graph.jp/ontology/kgc.owl#Scene\\n',\n",
              " 'http://kgc.knowledge-graph.jp/data/SpeckledBand/398, http://kgc.knowledge-graph.jp/ontology/kgc.owl#hasPart, http://kgc.knowledge-graph.jp/data/SpeckledBand/snake\\n',\n",
              " 'http://kgc.knowledge-graph.jp/data/SpeckledBand/370, http://www.w3.org/1999/02/22-rdf-syntax-ns#type, http://kgc.knowledge-graph.jp/ontology/kgc.owl#Scene\\n',\n",
              " 'http://kgc.knowledge-graph.jp/data/SpeckledBand/death_day_of_mother_of_Helen, http://kgc.knowledge-graph.jp/ontology/kgc.owl#ofWhole, http://kgc.knowledge-graph.jp/data/SpeckledBand/mother\\n']"
            ]
          },
          "metadata": {},
          "execution_count": 106
        }
      ]
    },
    {
      "cell_type": "code",
      "source": [
        "import re\n",
        "\n",
        "# base URI yang digunakan\n",
        "base_uri = \"http://kgc.knowledge-graph.jp/data/SpeckledBand/\"\n",
        "\n",
        "import re\n",
        "def is_uri(s):\n",
        "    return s.startswith('http://') or s.startswith('https://')\n",
        "\n",
        "def convert_to_uri(s, base_uri):\n",
        "    return base_uri + re.sub(r'\\s+', '_', s.strip())\n",
        "def process_triples_corrected(input_file_path, output_file_path, base_uri):\n",
        "    with open(input_file_path, 'r') as input_file, open(output_file_path, 'w') as output_file:\n",
        "        for line in input_file:\n",
        "            parts = line.split(',', maxsplit=2)\n",
        "            if len(parts) == 3:\n",
        "                subject, predicate, obj = [part.strip() for part in parts]\n",
        "\n",
        "                # Hanya mengubah menjadi URI jika belum dalam format URI\n",
        "                if not is_uri(subject):\n",
        "                    subject = convert_to_uri(subject, base_uri)\n",
        "                if not is_uri(predicate):\n",
        "                    predicate = convert_to_uri(predicate, base_uri)\n",
        "                if not is_uri(obj):\n",
        "                    obj = convert_to_uri(obj, base_uri)\n",
        "\n",
        "                output_file.write(f\"{subject}, {predicate}, {obj}\\n\")\n",
        "            else:\n",
        "                print(f\"Invalid line format: {line}\")\n",
        "\n",
        "process_triples_corrected('predicted_triples_4_no_ontology.txt', 'processed_triples_4_no_ontology.txt', base_uri)\n",
        "\n"
      ],
      "metadata": {
        "id": "SqbQ6OF1PDPA"
      },
      "execution_count": null,
      "outputs": []
    },
    {
      "cell_type": "code",
      "source": [
        "def check_for_non_uri_entities(file_path, base_uri):\n",
        "    non_uri_entities = set()\n",
        "\n",
        "    with open(file_path, 'r') as file:\n",
        "        for line in file:\n",
        "            parts = line.split(',', maxsplit=2)\n",
        "            if len(parts) == 3:\n",
        "                subject, predicate, obj = [part.strip() for part in parts]\n",
        "\n",
        "                # Cek apakah subject, predicate, dan object sudah dalam format URI\n",
        "                if not is_uri(subject):\n",
        "                    non_uri_entities.add(subject)\n",
        "                if not is_uri(predicate):\n",
        "                    non_uri_entities.add(predicate)\n",
        "                if not is_uri(obj):\n",
        "                    non_uri_entities.add(obj)\n",
        "\n",
        "    return non_uri_entities\n",
        "\n",
        "# Menetapkan jalur file output yang benar\n",
        "corrected_output_file_path = '/content/processed_triples_4_no_ontology.txt'\n",
        "\n",
        "# Menjalankan fungsi untuk mengecek file yang telah diproses\n",
        "non_uri_entities_in_corrected_file = check_for_non_uri_entities(corrected_output_file_path, base_uri)\n",
        "non_uri_entities_in_corrected_file"
      ],
      "metadata": {
        "colab": {
          "base_uri": "https://localhost:8080/"
        },
        "id": "u88fgEzGRvEf",
        "outputId": "02da6810-42cc-46a4-cafc-77c3daed55c8"
      },
      "execution_count": null,
      "outputs": [
        {
          "output_type": "execute_result",
          "data": {
            "text/plain": [
              "set()"
            ]
          },
          "metadata": {},
          "execution_count": 108
        }
      ]
    },
    {
      "cell_type": "markdown",
      "source": [
        "# **Gabungkan hasil embedding ke new tripple - 4**"
      ],
      "metadata": {
        "id": "UXKcWId5SQr0"
      }
    },
    {
      "cell_type": "code",
      "source": [
        "# Membaca file file hasil embedding\n",
        "file_path = '/content/processed_triples_4_no_ontology.txt'\n",
        "\n",
        "with open(file_path, 'r') as file:\n",
        "    processed_triples_content = file.read()\n",
        "\n",
        "# Menanpilkan data\n",
        "print(processed_triples_content[:500])  # Menampilkan preview 500 karakter\n"
      ],
      "metadata": {
        "colab": {
          "base_uri": "https://localhost:8080/"
        },
        "id": "8GJkK8ipSFEA",
        "outputId": "1b4d7399-485f-4596-fc99-f951f024e8b0"
      },
      "execution_count": null,
      "outputs": [
        {
          "output_type": "stream",
          "name": "stdout",
          "text": [
            "http://kgc.knowledge-graph.jp/data/SpeckledBand/283, http://kgc.knowledge-graph.jp/ontology/kgc.owl#hasPredicate, http://kgc.knowledge-graph.jp/data/SpeckledBand/sleep\n",
            "http://kgc.knowledge-graph.jp/data/SpeckledBand/373, http://www.w3.org/1999/02/22-rdf-syntax-ns#type, http://kgc.knowledge-graph.jp/ontology/kgc.owl#Scene\n",
            "http://kgc.knowledge-graph.jp/data/SpeckledBand/398, http://kgc.knowledge-graph.jp/ontology/kgc.owl#hasPart, http://kgc.knowledge-graph.jp/data/SpeckledBand/snake\n",
            "http://kgc.kno\n"
          ]
        }
      ]
    },
    {
      "cell_type": "code",
      "source": [
        "# Membaca file\n",
        "file_path = '/content/new_triplets_reasoner_4_no_ontology.txt'\n",
        "\n",
        "with open(file_path, 'r') as file:\n",
        "    sample_lines = [next(file) for _ in range(5)]\n",
        "\n",
        "sample_lines\n"
      ],
      "metadata": {
        "colab": {
          "base_uri": "https://localhost:8080/"
        },
        "id": "IMcZmaSlSe4i",
        "outputId": "47d2b3c3-357b-4840-d328-a0319d29b423"
      },
      "execution_count": null,
      "outputs": [
        {
          "output_type": "execute_result",
          "data": {
            "text/plain": [
              "['http://kgc.knowledge-graph.jp/data/SpeckledBand/knee, http://www.w3.org/2000/01/rdf-schema#label, knee\\n',\n",
              " 'http://kgc.knowledge-graph.jp/data/SpeckledBand/115, http://kgc.knowledge-graph.jp/ontology/kgc.owl#source, There was a hole in the wall of bedroom of Helen.\\n',\n",
              " 'http://kgc.knowledge-graph.jp/data/SpeckledBand/78, http://kgc.knowledge-graph.jp/ontology/kgc.owl#time, 1881-12-02T00:00:00\\n',\n",
              " 'http://kgc.knowledge-graph.jp/data/SpeckledBand/61, http://kgc.knowledge-graph.jp/ontology/kgc.owl#source, Helen is sleeping\\n',\n",
              " 'http://kgc.knowledge-graph.jp/data/SpeckledBand/suspect, http://www.w3.org/2000/01/rdf-schema#label, suspect\\n']"
            ]
          },
          "metadata": {},
          "execution_count": 110
        }
      ]
    },
    {
      "cell_type": "code",
      "source": [
        "import re\n",
        "\n",
        "# base URI yang digunakan\n",
        "base_uri = \"http://kgc.knowledge-graph.jp/data/SpeckledBand/\"\n",
        "\n",
        "import re\n",
        "def is_uri(s):\n",
        "    return s.startswith('http://') or s.startswith('https://')\n",
        "\n",
        "def convert_to_uri(s, base_uri):\n",
        "    return base_uri + re.sub(r'\\s+', '_', s.strip())\n",
        "def process_triples_corrected(input_file_path, output_file_path, base_uri):\n",
        "    with open(input_file_path, 'r') as input_file, open(output_file_path, 'w') as output_file:\n",
        "        for line in input_file:\n",
        "            parts = line.split(',', maxsplit=2)\n",
        "            if len(parts) == 3:\n",
        "                subject, predicate, obj = [part.strip() for part in parts]\n",
        "\n",
        "                # Hanya mengubah menjadi URI jika belum dalam format URI\n",
        "                if not is_uri(subject):\n",
        "                    subject = convert_to_uri(subject, base_uri)\n",
        "                if not is_uri(predicate):\n",
        "                    predicate = convert_to_uri(predicate, base_uri)\n",
        "                if not is_uri(obj):\n",
        "                    obj = convert_to_uri(obj, base_uri)\n",
        "\n",
        "                output_file.write(f\"{subject}, {predicate}, {obj}\\n\")\n",
        "            else:\n",
        "                print(f\"Invalid line format: {line}\")\n",
        "\n",
        "process_triples_corrected('new_triplets_reasoner_4_no_ontology.txt', 'new_triplets_reasoner_4_no_ontology_cleaned.txt', base_uri)"
      ],
      "metadata": {
        "id": "IVu3suGsSkkw"
      },
      "execution_count": null,
      "outputs": []
    },
    {
      "cell_type": "code",
      "source": [
        "def check_for_non_uri_entities(file_path, base_uri):\n",
        "    non_uri_entities = set()\n",
        "\n",
        "    with open(file_path, 'r') as file:\n",
        "        for line in file:\n",
        "            parts = line.split(',', maxsplit=2)\n",
        "            if len(parts) == 3:\n",
        "                subject, predicate, obj = [part.strip() for part in parts]\n",
        "\n",
        "                # Cek apakah subject, predicate, dan object sudah dalam format URI\n",
        "                if not is_uri(subject):\n",
        "                    non_uri_entities.add(subject)\n",
        "                if not is_uri(predicate):\n",
        "                    non_uri_entities.add(predicate)\n",
        "                if not is_uri(obj):\n",
        "                    non_uri_entities.add(obj)\n",
        "\n",
        "    return non_uri_entities\n",
        "\n",
        "# Menetapkan jalur file output yang benar\n",
        "corrected_output_file_path = 'new_triplets_reasoner_4_no_ontology_cleaned.txt'\n",
        "\n",
        "# Menjalankan fungsi untuk mengecek file yang telah diproses\n",
        "non_uri_entities_in_corrected_file = check_for_non_uri_entities(corrected_output_file_path, base_uri)\n",
        "non_uri_entities_in_corrected_file"
      ],
      "metadata": {
        "colab": {
          "base_uri": "https://localhost:8080/"
        },
        "id": "-c0vQyACSrKL",
        "outputId": "e72ba7b2-9ae6-42f4-d8b9-eaa79771b424"
      },
      "execution_count": null,
      "outputs": [
        {
          "output_type": "execute_result",
          "data": {
            "text/plain": [
              "set()"
            ]
          },
          "metadata": {},
          "execution_count": 112
        }
      ]
    },
    {
      "cell_type": "code",
      "source": [
        "# Lokasi file teks\n",
        "file_path_1 = 'processed_triples_4_no_ontology.txt'\n",
        "file_path_2 = 'new_triplets_reasoner_4_no_ontology_cleaned.txt'\n",
        "\n",
        "# Fungsi untuk membaca isi file\n",
        "def read_file(file_path):\n",
        "    with open(file_path, 'r') as file:\n",
        "        return file.readlines()\n",
        "\n",
        "# Baca kedua file\n",
        "content_1 = read_file(file_path_1)\n",
        "content_2 = read_file(file_path_2)\n",
        "\n",
        "# Gabungkan konten\n",
        "combined_content = content_1 + content_2\n",
        "\n",
        "# Lokasi file output\n",
        "output_file_path = 'combined_triples_4_no_ontology.txt'\n",
        "\n",
        "# Menulis konten gabungan ke file baru\n",
        "with open(output_file_path, 'w') as output_file:\n",
        "    output_file.writelines(combined_content)\n",
        "\n",
        "output_file_path\n"
      ],
      "metadata": {
        "colab": {
          "base_uri": "https://localhost:8080/",
          "height": 36
        },
        "id": "IFL22ClHSvfk",
        "outputId": "10571949-2355-42e8-9dc7-4e2018b14e45"
      },
      "execution_count": null,
      "outputs": [
        {
          "output_type": "execute_result",
          "data": {
            "text/plain": [
              "'combined_triples_4_no_ontology.txt'"
            ],
            "application/vnd.google.colaboratory.intrinsic+json": {
              "type": "string"
            }
          },
          "metadata": {},
          "execution_count": 113
        }
      ]
    },
    {
      "cell_type": "code",
      "source": [
        "# Lokasi file teks\n",
        "file_path = 'combined_triples_4_no_ontology.txt'\n",
        "\n",
        "# Fungsi untuk membaca isi file dan memeriksa duplikasi\n",
        "def check_for_duplicates(file_path):\n",
        "    with open(file_path, 'r') as file:\n",
        "        triples = [line.strip() for line in file]\n",
        "\n",
        "    triples_set = set(triples)\n",
        "    return len(triples), len(triples_set), len(triples) != len(triples_set)\n",
        "\n",
        "# Memeriksa duplikasi\n",
        "total_triples, unique_triples, has_duplicates = check_for_duplicates(file_path)\n",
        "\n",
        "print(f\"Total Triplets: {total_triples}\")\n",
        "print(f\"Unique Triplets: {unique_triples}\")\n",
        "print(f\"Apakah ada duplikat? {'Ya' if has_duplicates else 'Tidak'}\")\n"
      ],
      "metadata": {
        "colab": {
          "base_uri": "https://localhost:8080/"
        },
        "id": "hXcjb0QzS1zH",
        "outputId": "63634359-413d-4163-fef6-cc36c061cecb"
      },
      "execution_count": null,
      "outputs": [
        {
          "output_type": "stream",
          "name": "stdout",
          "text": [
            "Total Triplets: 11290\n",
            "Unique Triplets: 10317\n",
            "Apakah ada duplikat? Ya\n"
          ]
        }
      ]
    },
    {
      "cell_type": "code",
      "source": [
        "# Lokasi file teks\n",
        "file_path = 'combined_triples_4_no_ontology.txt'\n",
        "\n",
        "# Fungsi untuk membaca isi file dan menemukan duplikasi\n",
        "def find_duplicates(file_path):\n",
        "    with open(file_path, 'r') as file:\n",
        "        triples = [line.strip() for line in file]\n",
        "\n",
        "    # Menemukan dan mengembalikan duplikasi\n",
        "    seen = set()\n",
        "    duplicates = set()\n",
        "    for triplet in triples:\n",
        "        if triplet in seen:\n",
        "            duplicates.add(triplet)\n",
        "        seen.add(triplet)\n",
        "\n",
        "    return duplicates\n",
        "\n",
        "# Menemukan duplikasi\n",
        "duplicates = find_duplicates(file_path)\n",
        "\n",
        "# Tampilkan beberapa duplikasi\n",
        "list(duplicates)[:10]  # Tampilkan 10 duplikasi pertama\n",
        "\n"
      ],
      "metadata": {
        "colab": {
          "base_uri": "https://localhost:8080/"
        },
        "id": "UC7lC324S69O",
        "outputId": "b0328029-1dfa-46b1-de95-adcc5aa30d7c"
      },
      "execution_count": null,
      "outputs": [
        {
          "output_type": "execute_result",
          "data": {
            "text/plain": [
              "['http://kgc.knowledge-graph.jp/data/SpeckledBand/283, http://kgc.knowledge-graph.jp/ontology/kgc.owl#source, http://kgc.knowledge-graph.jp/data/SpeckledBand/A_woman_is_sleeping_on_the_bed.',\n",
              " 'http://kgc.knowledge-graph.jp/data/SpeckledBand/end, http://www.w3.org/2000/01/rdf-schema#label, http://kgc.knowledge-graph.jp/data/SpeckledBand/end',\n",
              " 'http://kgc.knowledge-graph.jp/data/SpeckledBand/270, http://kgc.knowledge-graph.jp/ontology/kgc.owl#source, http://kgc.knowledge-graph.jp/data/SpeckledBand/Holmes_and_Watson_can_see_the_mansion_of_Stoke_Moran_from_the_Crown_Inn.',\n",
              " 'http://kgc.knowledge-graph.jp/data/SpeckledBand/exist, http://www.w3.org/2000/01/rdf-schema#label, http://kgc.knowledge-graph.jp/data/SpeckledBand/exist',\n",
              " 'http://kgc.knowledge-graph.jp/data/SpeckledBand/380, http://kgc.knowledge-graph.jp/ontology/kgc.owl#source, http://kgc.knowledge-graph.jp/data/SpeckledBand/Snake_poison_has_immediate_effect.',\n",
              " 'http://kgc.knowledge-graph.jp/data/SpeckledBand/247, http://kgc.knowledge-graph.jp/ontology/kgc.owl#source, http://kgc.knowledge-graph.jp/data/SpeckledBand/There_is_a_leopard_in_the_mansion.',\n",
              " 'http://kgc.knowledge-graph.jp/data/SpeckledBand/216, http://kgc.knowledge-graph.jp/ontology/kgc.owl#source, http://kgc.knowledge-graph.jp/data/SpeckledBand/The_pulling_rope_of_the_doorbell_is_tied_to_a_crochet_around_a_small_hole_for_vantilation.',\n",
              " 'http://kgc.knowledge-graph.jp/data/SpeckledBand/everything, http://www.w3.org/2000/01/rdf-schema#label, http://kgc.knowledge-graph.jp/data/SpeckledBand/everything',\n",
              " 'http://kgc.knowledge-graph.jp/data/SpeckledBand/262, http://kgc.knowledge-graph.jp/ontology/kgc.owl#source, http://kgc.knowledge-graph.jp/data/SpeckledBand/After_that,_Helen_goes_to_the_bedroom_of_Helen.',\n",
              " 'http://kgc.knowledge-graph.jp/data/SpeckledBand/living_room, http://www.w3.org/2000/01/rdf-schema#label, http://kgc.knowledge-graph.jp/data/SpeckledBand/living_room']"
            ]
          },
          "metadata": {},
          "execution_count": 115
        }
      ]
    },
    {
      "cell_type": "code",
      "source": [
        "# Lokasi file teks\n",
        "input_file_path = 'combined_triples_4_no_ontology.txt'\n",
        "output_file_path = 'combined_triples_removed_duplicate_4_no_ontology.txt'\n",
        "\n",
        "# Fungsi untuk membaca file dan menghilangkan duplikasi\n",
        "def remove_duplicates(input_file_path, output_file_path):\n",
        "    with open(input_file_path, 'r') as file:\n",
        "        unique_triples = set(file.readlines())\n",
        "\n",
        "    with open(output_file_path, 'w') as file:\n",
        "        file.writelines(unique_triples)\n",
        "\n",
        "    return output_file_path\n",
        "\n",
        "# Menghapus duplikasi dan menyimpan hasilnya\n",
        "unique_file_path = remove_duplicates(input_file_path, output_file_path)\n",
        "unique_file_path\n"
      ],
      "metadata": {
        "colab": {
          "base_uri": "https://localhost:8080/",
          "height": 36
        },
        "id": "MeY_6BmHTEkf",
        "outputId": "e99a6e1a-fc86-400d-d206-8b3d02e7877f"
      },
      "execution_count": null,
      "outputs": [
        {
          "output_type": "execute_result",
          "data": {
            "text/plain": [
              "'combined_triples_removed_duplicate_4_no_ontology.txt'"
            ],
            "application/vnd.google.colaboratory.intrinsic+json": {
              "type": "string"
            }
          },
          "metadata": {},
          "execution_count": 116
        }
      ]
    },
    {
      "cell_type": "markdown",
      "source": [
        "#**Bandingkan merged result dan hasil ekstraksi tripple merged result iterasi ke 4**"
      ],
      "metadata": {
        "id": "9qM3giQ8TWv-"
      }
    },
    {
      "cell_type": "code",
      "source": [
        "# Membaca isi dari kedua file teks\n",
        "file_path_sb = '/content/triples_output_reasoner_3_no_ontology.txt'\n",
        "file_path_merged_result = 'combined_triples_removed_duplicate_4_no_ontology.txt'\n",
        "def read_triplets(file_path):\n",
        "    \"\"\" Membaca file teks dan mengembalikan set dari triplets. \"\"\"\n",
        "    with open(file_path, 'r') as file:\n",
        "        return set(file.readlines())\n",
        "\n",
        "# Membaca triplets dari kedua file\n",
        "triplets_sb = read_triplets(file_path_sb)\n",
        "triplets_merged_result = read_triplets(file_path_merged_result)\n",
        "\n",
        "# Mencari triplets baru yang unik di merged_result\n",
        "new_triplets = triplets_merged_result - triplets_sb\n",
        "\n",
        "# Jumlah new triplets\n",
        "len(new_triplets), list(new_triplets)[:10]  # Menampilkan 10 contoh triplets baru\n",
        "\n"
      ],
      "metadata": {
        "colab": {
          "base_uri": "https://localhost:8080/"
        },
        "id": "geUBadmrTOh1",
        "outputId": "72e7069b-ce3f-4235-a9cd-9e85570e7f71"
      },
      "execution_count": null,
      "outputs": [
        {
          "output_type": "execute_result",
          "data": {
            "text/plain": [
              "(6,\n",
              " ['http://www.semanticweb.org/fadilalafgani/ontologies/2024/0/untitled-ontology-204, http://www.w3.org/1999/02/22-rdf-syntax-ns#type, http://www.w3.org/2002/07/owl#Ontology\\n',\n",
              "  'http://www.semanticweb.org/fadilalafgani/ontologies/2024/0/untitled-ontology-218, http://www.w3.org/1999/02/22-rdf-syntax-ns#type, http://www.w3.org/2002/07/owl#Ontology\\n',\n",
              "  'http://www.semanticweb.org/fadilalafgani/ontologies/2024/0/untitled-ontology-216, http://www.w3.org/1999/02/22-rdf-syntax-ns#type, http://www.w3.org/2002/07/owl#Ontology\\n',\n",
              "  'http://kgc.knowledge-graph.jp/data/SpeckledBand/internal:anonymous-constants, http://www.w3.org/1999/02/22-rdf-syntax-ns#type, http://www.w3.org/2000/01/rdf-schema#Datatype\\n',\n",
              "  'http://kgc.knowledge-graph.jp/data/SpeckledBand/nc19ee249a3424c2ea0de3d8314d33a5fb1, http://www.w3.org/1999/02/22-rdf-syntax-ns#type, http://www.w3.org/2002/07/owl#Ontology\\n',\n",
              "  'http://kgc.knowledge-graph.jp/ontology/kgc.owl#time, http://www.w3.org/1999/02/22-rdf-syntax-ns#type, http://www.w3.org/2002/07/owl#DatatypeProperty\\n'])"
            ]
          },
          "metadata": {},
          "execution_count": 117
        }
      ]
    },
    {
      "cell_type": "markdown",
      "source": [
        "#**Memasukan merged result ke knowledge graph - 4**"
      ],
      "metadata": {
        "id": "oTGrZaAPTu9r"
      }
    },
    {
      "cell_type": "code",
      "source": [
        "from rdflib import Graph, URIRef, Literal, Namespace\n",
        "\n",
        "# Lokasi file\n",
        "file_txt_path = 'combined_triples_removed_duplicate_4_no_ontology.txt'\n",
        "file_ttl_path = 'SpeckledBand_updated_3.ttl'\n",
        "file_ttl_output_path = 'SpeckledBand_updated_4.ttl'\n",
        "\n",
        "# Membuat graf RDF dari file Turtle\n",
        "graph = Graph()\n",
        "graph.parse(file_ttl_path, format='ttl')\n",
        "\n",
        "# Membaca file teks dan menambahkan triplets\n",
        "with open(file_txt_path, 'r') as file:\n",
        "    for line in file:\n",
        "        parts = line.strip().split(', ')\n",
        "        if len(parts) >= 3:\n",
        "            s = parts[0]\n",
        "            p = parts[1]\n",
        "            o = ', '.join(parts[2:])  # Menggabungkan kembali bagian objek\n",
        "            # Membuat triple dengan format yang sesuai\n",
        "            subject = URIRef(s)\n",
        "            predicate = URIRef(p)\n",
        "            object = URIRef(o) if o.startswith('http') else Literal(o)\n",
        "            graph.add((subject, predicate, object))\n",
        "\n",
        "# Menyimpan graf yang telah diperbarui ke dalam file Turtle baru\n",
        "graph.serialize(destination=file_ttl_output_path, format='turtle')\n",
        "\n",
        "file_ttl_output_path\n"
      ],
      "metadata": {
        "colab": {
          "base_uri": "https://localhost:8080/",
          "height": 36
        },
        "id": "cmeqPcmHTrb2",
        "outputId": "301b8bb3-945f-46df-baa4-f8a39f07cb8e"
      },
      "execution_count": null,
      "outputs": [
        {
          "output_type": "execute_result",
          "data": {
            "text/plain": [
              "'SpeckledBand_updated_4.ttl'"
            ],
            "application/vnd.google.colaboratory.intrinsic+json": {
              "type": "string"
            }
          },
          "metadata": {},
          "execution_count": 118
        }
      ]
    },
    {
      "cell_type": "markdown",
      "source": [
        "#**Ekstrak dan save tripple knowledge graph hasil reasoning - 5**"
      ],
      "metadata": {
        "id": "b3z7F-I3E1WE"
      }
    },
    {
      "cell_type": "code",
      "source": [
        "import rdflib\n",
        "\n",
        "# Membuat graf RDF\n",
        "g = rdflib.Graph()\n",
        "\n",
        "# Lokasi file RDF Turtle\n",
        "file_path = '/content/reasoner_5_no_ontology.ttl'\n",
        "\n",
        "# Parsing file RDF Turtle\n",
        "g.parse(file_path, format='turtle')\n",
        "\n",
        "# SPARQL Query untuk mendapatkan semua triplet <subject, predicate, object>\n",
        "query = \"\"\"\n",
        "SELECT DISTINCT ?subject ?predicate ?object\n",
        "WHERE {\n",
        "    ?subject ?predicate ?object .\n",
        "}\n",
        "\"\"\"\n",
        "\n",
        "# Menjalankan query\n",
        "results = g.query(query)\n",
        "\n",
        "# Lokasi file teks untuk menyimpan hasil\n",
        "output_file_path = 'triples_output_reasoner_5_no_ontology.txt'\n",
        "\n",
        "# Menyimpan hasil ke dalam file teks\n",
        "with open(output_file_path, 'w') as output_file:\n",
        "    for row in results:\n",
        "        output_file.write(f\"{row.subject}, {row.predicate}, {row.object}\\n\")\n",
        "\n",
        "print(f\"Triplets telah disimpan di {output_file_path}\")\n"
      ],
      "metadata": {
        "colab": {
          "base_uri": "https://localhost:8080/"
        },
        "id": "Bi2P2dGiE2fw",
        "outputId": "34138c37-afa9-47f7-dfb9-faba41b2e133"
      },
      "execution_count": null,
      "outputs": [
        {
          "output_type": "stream",
          "name": "stdout",
          "text": [
            "Triplets telah disimpan di triples_output_reasoner_5_no_ontology.txt\n"
          ]
        }
      ]
    },
    {
      "cell_type": "markdown",
      "source": [
        "#**Cek dan save new triple reasoning - 5**"
      ],
      "metadata": {
        "id": "fd2EFAm2Frqh"
      }
    },
    {
      "cell_type": "code",
      "source": [
        "# Membaca isi dari kedua file teks\n",
        "file_path_sb = '/content/combined_triples_removed_duplicate_4_no_ontology.txt'\n",
        "file_path_reasoner = 'triples_output_reasoner_5_no_ontology.txt'\n",
        "\n",
        "def read_triplets(file_path):\n",
        "    \"\"\" Membaca file teks dan mengembalikan set dari triplets. \"\"\"\n",
        "    with open(file_path, 'r') as file:\n",
        "        return set(file.readlines())\n",
        "\n",
        "# Membaca triplets dari kedua file\n",
        "triplets_sb = read_triplets(file_path_sb)\n",
        "triplets_reasoner = read_triplets(file_path_reasoner)\n",
        "\n",
        "# Mencari triplets baru yang unik di triplets_output_reasoner_1\n",
        "new_triplets = triplets_reasoner - triplets_sb\n",
        "\n",
        "# Jumlah new triplets\n",
        "len(new_triplets), list(new_triplets)[:10]  # Menampilkan 10 contoh triplets baru\n",
        "\n"
      ],
      "metadata": {
        "colab": {
          "base_uri": "https://localhost:8080/"
        },
        "id": "-REUBxerFotj",
        "outputId": "edacfa31-018e-4189-c031-be19308ff700"
      },
      "execution_count": null,
      "outputs": [
        {
          "output_type": "execute_result",
          "data": {
            "text/plain": [
              "(974,\n",
              " ['http://kgc.knowledge-graph.jp/data/SpeckledBand/knee, http://www.w3.org/2000/01/rdf-schema#label, knee\\n',\n",
              "  'http://kgc.knowledge-graph.jp/data/SpeckledBand/115, http://kgc.knowledge-graph.jp/ontology/kgc.owl#source, There was a hole in the wall of bedroom of Helen.\\n',\n",
              "  'http://kgc.knowledge-graph.jp/data/SpeckledBand/78, http://kgc.knowledge-graph.jp/ontology/kgc.owl#time, 1881-12-02T00:00:00\\n',\n",
              "  'http://kgc.knowledge-graph.jp/data/SpeckledBand/61, http://kgc.knowledge-graph.jp/ontology/kgc.owl#source, Helen is sleeping\\n',\n",
              "  'http://kgc.knowledge-graph.jp/data/SpeckledBand/suspect, http://www.w3.org/2000/01/rdf-schema#label, suspect\\n',\n",
              "  'http://kgc.knowledge-graph.jp/data/SpeckledBand/poison_of_snake, http://www.w3.org/2000/01/rdf-schema#label, poison of snake\\n',\n",
              "  'http://kgc.knowledge-graph.jp/data/SpeckledBand/canSee, http://www.w3.org/2000/01/rdf-schema#label, canSee\\n',\n",
              "  'http://kgc.knowledge-graph.jp/data/SpeckledBand/neck, http://www.w3.org/2000/01/rdf-schema#label, neck\\n',\n",
              "  'http://kgc.knowledge-graph.jp/data/SpeckledBand/48, http://kgc.knowledge-graph.jp/ontology/kgc.owl#source, All the bedrooms are connected to the hallway\\n',\n",
              "  'http://kgc.knowledge-graph.jp/data/SpeckledBand/engage, http://www.w3.org/2000/01/rdf-schema#label, engage\\n'])"
            ]
          },
          "metadata": {},
          "execution_count": 120
        }
      ]
    },
    {
      "cell_type": "code",
      "source": [
        "# Lokasi file teks baru untuk menyimpan triplet baru\n",
        "new_triplets_file_path = 'new_triplets_reasoner_5_no_ontology.txt'\n",
        "\n",
        "# Menyimpan triplet baru ke dalam file teks\n",
        "with open(new_triplets_file_path, 'w') as new_file:\n",
        "    for triplet in new_triplets:\n",
        "        new_file.write(triplet)\n",
        "\n",
        "new_triplets_file_path"
      ],
      "metadata": {
        "id": "oCjOSZCKTeM7",
        "colab": {
          "base_uri": "https://localhost:8080/",
          "height": 36
        },
        "outputId": "2649669a-a3e0-4af5-d7c9-91da49242075"
      },
      "execution_count": null,
      "outputs": [
        {
          "output_type": "execute_result",
          "data": {
            "text/plain": [
              "'new_triplets_reasoner_5_no_ontology.txt'"
            ],
            "application/vnd.google.colaboratory.intrinsic+json": {
              "type": "string"
            }
          },
          "metadata": {},
          "execution_count": 121
        }
      ]
    },
    {
      "cell_type": "markdown",
      "source": [
        "#**Embedding complex - 5**"
      ],
      "metadata": {
        "id": "dC6BGbzKGLhR"
      }
    },
    {
      "cell_type": "code",
      "source": [
        "# Lokasi file triplets\n",
        "file_path = 'combined_triples_removed_duplicate_4_no_ontology.txt'\n",
        "\n",
        "# Fungsi untuk membaca triplets dari file teks\n",
        "def read_triplets(file_path):\n",
        "    with open(file_path, 'r') as file:\n",
        "        triples = []\n",
        "        for line in file:\n",
        "            parts = line.strip().split(', ')\n",
        "            if len(parts) == 3:\n",
        "                triples.append(tuple(parts))\n",
        "    return triples\n",
        "\n",
        "# Membaca triplets dari file\n",
        "triples = read_triplets(file_path)\n",
        "triples[:10]  # Menampilkan 5 triples pertama untuk contoh\n"
      ],
      "metadata": {
        "colab": {
          "base_uri": "https://localhost:8080/"
        },
        "id": "SD1HjSMiGIDj",
        "outputId": "1985b87c-1e4e-471a-e8f2-5e42b363b738"
      },
      "execution_count": null,
      "outputs": [
        {
          "output_type": "execute_result",
          "data": {
            "text/plain": [
              "[('http://kgc.knowledge-graph.jp/data/SpeckledBand/283',\n",
              "  'http://kgc.knowledge-graph.jp/ontology/kgc.owl#hasPredicate',\n",
              "  'http://kgc.knowledge-graph.jp/data/SpeckledBand/sleep'),\n",
              " ('http://kgc.knowledge-graph.jp/data/SpeckledBand/373',\n",
              "  'http://www.w3.org/1999/02/22-rdf-syntax-ns#type',\n",
              "  'http://kgc.knowledge-graph.jp/ontology/kgc.owl#Scene'),\n",
              " ('http://kgc.knowledge-graph.jp/data/SpeckledBand/398',\n",
              "  'http://kgc.knowledge-graph.jp/ontology/kgc.owl#hasPart',\n",
              "  'http://kgc.knowledge-graph.jp/data/SpeckledBand/snake'),\n",
              " ('http://kgc.knowledge-graph.jp/data/SpeckledBand/370',\n",
              "  'http://www.w3.org/1999/02/22-rdf-syntax-ns#type',\n",
              "  'http://kgc.knowledge-graph.jp/ontology/kgc.owl#Scene'),\n",
              " ('http://kgc.knowledge-graph.jp/data/SpeckledBand/death_day_of_mother_of_Helen',\n",
              "  'http://kgc.knowledge-graph.jp/ontology/kgc.owl#ofWhole',\n",
              "  'http://kgc.knowledge-graph.jp/data/SpeckledBand/mother'),\n",
              " ('http://kgc.knowledge-graph.jp/data/SpeckledBand/89',\n",
              "  'http://kgc.knowledge-graph.jp/ontology/kgc.owl#SceneObjectProperty',\n",
              "  'http://kgc.knowledge-graph.jp/data/SpeckledBand/death_day_of_Julia'),\n",
              " ('http://www.semanticweb.org/fadilalafgani/ontologies/2024/0/untitled-ontology-217',\n",
              "  'http://www.w3.org/1999/02/22-rdf-syntax-ns#type',\n",
              "  'http://www.w3.org/2002/07/owl#Ontology'),\n",
              " ('http://kgc.knowledge-graph.jp/data/SpeckledBand/269',\n",
              "  'http://kgc.knowledge-graph.jp/ontology/kgc.owl#LocationProperty',\n",
              "  'http://kgc.knowledge-graph.jp/data/SpeckledBand/Crown_Inn'),\n",
              " ('http://kgc.knowledge-graph.jp/data/SpeckledBand/229',\n",
              "  'http://www.w3.org/1999/02/22-rdf-syntax-ns#type',\n",
              "  'http://kgc.knowledge-graph.jp/ontology/kgc.owl#Scene'),\n",
              " ('http://kgc.knowledge-graph.jp/data/SpeckledBand/26',\n",
              "  'http://kgc.knowledge-graph.jp/ontology/kgc.owl#TargetObjProperty',\n",
              "  'http://kgc.knowledge-graph.jp/data/SpeckledBand/Roma')]"
            ]
          },
          "metadata": {},
          "execution_count": 122
        }
      ]
    },
    {
      "cell_type": "code",
      "source": [
        "from collections import defaultdict\n",
        "import torch\n",
        "\n",
        "# Fungsi untuk mengonversi triples ke dalam bentuk indeks\n",
        "def convert_to_indices(triples, entity2idx, relation2idx):\n",
        "    triples_idx = []\n",
        "    for (h, r, t) in triples:\n",
        "        h_idx = entity2idx[h]\n",
        "        r_idx = relation2idx[r]\n",
        "        t_idx = entity2idx[t]\n",
        "        triples_idx.append((h_idx, r_idx, t_idx))\n",
        "    return triples_idx\n",
        "\n",
        "# Membuat indeks untuk entitas dan relasi\n",
        "entity2idx = defaultdict(lambda: len(entity2idx))\n",
        "relation2idx = defaultdict(lambda: len(relation2idx))\n",
        "\n",
        "for (h, r, t) in triples:\n",
        "    entity2idx[h]\n",
        "    entity2idx[t]\n",
        "    relation2idx[r]\n",
        "\n",
        "# Mengonversi triples ke dalam bentuk indeks\n",
        "triples_idx = convert_to_indices(triples, entity2idx, relation2idx)\n",
        "\n",
        "# Cek jumlah entitas dan relasi\n",
        "num_entities = len(entity2idx)\n",
        "num_relations = len(relation2idx)\n",
        "\n",
        "num_entities, num_relations, triples_idx[:5]  # Menampilkan beberapa informasi dan 5 triples indeks pertama\n"
      ],
      "metadata": {
        "colab": {
          "base_uri": "https://localhost:8080/"
        },
        "id": "GTrTss5MPnVY",
        "outputId": "e52f4238-b182-4a94-935f-4dfcbad906a5"
      },
      "execution_count": null,
      "outputs": [
        {
          "output_type": "execute_result",
          "data": {
            "text/plain": [
              "(1381, 49, [(0, 0, 1), (2, 1, 3), (4, 2, 5), (6, 1, 3), (7, 3, 8)])"
            ]
          },
          "metadata": {},
          "execution_count": 123
        }
      ]
    },
    {
      "cell_type": "code",
      "source": [
        "import torch.nn as nn\n",
        "import torch.nn.functional as F\n",
        "\n",
        "class ComplEx(nn.Module):\n",
        "    def __init__(self, num_entities, num_relations, embedding_dim):\n",
        "        super(ComplEx, self).__init__()\n",
        "        self.embedding_dim = embedding_dim\n",
        "        self.ent_embeddings = nn.Embedding(num_entities, embedding_dim, padding_idx=0)\n",
        "        self.rel_embeddings = nn.Embedding(num_relations, embedding_dim, padding_idx=0)\n",
        "\n",
        "        # Inisialisasi bobot\n",
        "        nn.init.xavier_uniform_(self.ent_embeddings.weight.data)\n",
        "        nn.init.xavier_uniform_(self.rel_embeddings.weight.data)\n",
        "\n",
        "    def forward(self, triplets):\n",
        "        # Mendapatkan embeddings\n",
        "        h = self.ent_embeddings(triplets[:, 0])\n",
        "        r = self.rel_embeddings(triplets[:, 1])\n",
        "        t = self.ent_embeddings(triplets[:, 2])\n",
        "\n",
        "        # Skor menggunakan rumus ComplEx\n",
        "        score = torch.sum(h * r * t, dim=1)\n",
        "        return score\n",
        "\n",
        "# Parameter model\n",
        "embedding_dim = 100  # Dimensi embedding\n",
        "\n",
        "# Inisialisasi model\n",
        "model = ComplEx(num_entities, num_relations, embedding_dim)\n",
        "model\n",
        "\n"
      ],
      "metadata": {
        "colab": {
          "base_uri": "https://localhost:8080/"
        },
        "id": "263e3Nd-Pq-X",
        "outputId": "4fa763ea-be40-4e2c-d9b2-4929b57be961"
      },
      "execution_count": null,
      "outputs": [
        {
          "output_type": "execute_result",
          "data": {
            "text/plain": [
              "ComplEx(\n",
              "  (ent_embeddings): Embedding(1381, 100, padding_idx=0)\n",
              "  (rel_embeddings): Embedding(49, 100, padding_idx=0)\n",
              ")"
            ]
          },
          "metadata": {},
          "execution_count": 124
        }
      ]
    },
    {
      "cell_type": "code",
      "source": [
        "from torch.optim import Adam\n",
        "from torch.utils.data import DataLoader, TensorDataset\n",
        "\n",
        "# Fungsi untuk menghasilkan negative samples\n",
        "def generate_negative_samples(triples, num_entities, num_samples=1):\n",
        "    negatives = []\n",
        "    for (h, r, t) in triples:\n",
        "        for _ in range(num_samples):\n",
        "            negative_t = torch.randint(num_entities, (1,))\n",
        "            negatives.append((h, r, negative_t.item()))\n",
        "    return negatives\n",
        "\n",
        "# Mengonversi triples ke tensor\n",
        "triples_tensor = torch.LongTensor(triples_idx)\n",
        "\n",
        "# Negative sampling\n",
        "negative_samples = generate_negative_samples(triples_idx, num_entities, num_samples=1)\n",
        "negative_samples_tensor = torch.LongTensor(negative_samples)\n",
        "\n",
        "# Menyiapkan data loader\n",
        "batch_size = 32\n",
        "dataset = TensorDataset(triples_tensor, negative_samples_tensor)\n",
        "data_loader = DataLoader(dataset, batch_size=batch_size, shuffle=True)\n",
        "\n",
        "# Inisialisasi optimizer\n",
        "optimizer = Adam(model.parameters(), lr=0.001)\n",
        "\n",
        "# Fungsi loss\n",
        "def complex_loss(positive_scores, negative_scores):\n",
        "    return F.softplus(-positive_scores).mean() + F.softplus(negative_scores).mean()\n",
        "\n",
        "# Loop pelatihan\n",
        "num_epochs = 50  # Contoh jumlah epoch\n",
        "\n",
        "for epoch in range(num_epochs):\n",
        "    model.train()\n",
        "    running_loss = 0.0\n",
        "\n",
        "    for positive_triplets, negative_triplets in data_loader:\n",
        "        positive_scores = model(positive_triplets)\n",
        "        negative_scores = model(negative_triplets)\n",
        "\n",
        "        # Hitung loss\n",
        "        loss = complex_loss(positive_scores, negative_scores)\n",
        "\n",
        "        # Backpropagation\n",
        "        optimizer.zero_grad()\n",
        "        loss.backward()\n",
        "        optimizer.step()\n",
        "\n",
        "        running_loss += loss.item()\n",
        "\n",
        "    print(f\"Epoch {epoch + 1}/{num_epochs}, Loss: {running_loss / len(data_loader)}\")\n",
        "\n"
      ],
      "metadata": {
        "colab": {
          "base_uri": "https://localhost:8080/"
        },
        "id": "E8CRyUqSPu_-",
        "outputId": "044d5e02-c4d1-44ef-af16-3e13c3cc8f5b"
      },
      "execution_count": null,
      "outputs": [
        {
          "output_type": "stream",
          "name": "stdout",
          "text": [
            "Epoch 1/50, Loss: 1.3857897830083274\n",
            "Epoch 2/50, Loss: 1.3531255046649615\n",
            "Epoch 3/50, Loss: 1.0796095337661058\n",
            "Epoch 4/50, Loss: 0.7482247562969432\n",
            "Epoch 5/50, Loss: 0.5111125053451526\n",
            "Epoch 6/50, Loss: 0.3503850208070625\n",
            "Epoch 7/50, Loss: 0.24607106946385682\n",
            "Epoch 8/50, Loss: 0.17885390207771176\n",
            "Epoch 9/50, Loss: 0.13519335811490615\n",
            "Epoch 10/50, Loss: 0.10700901344003323\n",
            "Epoch 11/50, Loss: 0.08813063501619701\n",
            "Epoch 12/50, Loss: 0.0745567335161862\n",
            "Epoch 13/50, Loss: 0.06514399321951642\n",
            "Epoch 14/50, Loss: 0.0579456280882329\n",
            "Epoch 15/50, Loss: 0.05265682048363259\n",
            "Epoch 16/50, Loss: 0.048367583518703655\n",
            "Epoch 17/50, Loss: 0.044778888354556574\n",
            "Epoch 18/50, Loss: 0.04150659625055182\n",
            "Epoch 19/50, Loss: 0.03881675652271546\n",
            "Epoch 20/50, Loss: 0.03616028096477844\n",
            "Epoch 21/50, Loss: 0.0338407789710938\n",
            "Epoch 22/50, Loss: 0.03194033494111058\n",
            "Epoch 23/50, Loss: 0.029760261918468568\n",
            "Epoch 24/50, Loss: 0.028205740613172308\n",
            "Epoch 25/50, Loss: 0.026444848604956585\n",
            "Epoch 26/50, Loss: 0.024279659463492028\n",
            "Epoch 27/50, Loss: 0.022659103855369584\n",
            "Epoch 28/50, Loss: 0.02133644703931886\n",
            "Epoch 29/50, Loss: 0.01972783280996247\n",
            "Epoch 30/50, Loss: 0.018271640065755414\n",
            "Epoch 31/50, Loss: 0.01702757809925125\n",
            "Epoch 32/50, Loss: 0.015772196446512444\n",
            "Epoch 33/50, Loss: 0.01472205111188405\n",
            "Epoch 34/50, Loss: 0.013647930221856033\n",
            "Epoch 35/50, Loss: 0.012726378613876052\n",
            "Epoch 36/50, Loss: 0.011837348102319544\n",
            "Epoch 37/50, Loss: 0.01101952198971313\n",
            "Epoch 38/50, Loss: 0.010217681800842163\n",
            "Epoch 39/50, Loss: 0.00965014659877486\n",
            "Epoch 40/50, Loss: 0.00895448966011461\n",
            "Epoch 41/50, Loss: 0.008478578743958591\n",
            "Epoch 42/50, Loss: 0.007820878297776859\n",
            "Epoch 43/50, Loss: 0.007403283268968575\n",
            "Epoch 44/50, Loss: 0.006910898350187079\n",
            "Epoch 45/50, Loss: 0.006565450084029803\n",
            "Epoch 46/50, Loss: 0.0065094766400916595\n",
            "Epoch 47/50, Loss: 0.006003857590339779\n",
            "Epoch 48/50, Loss: 0.0055695423044443805\n",
            "Epoch 49/50, Loss: 0.005446829632855051\n",
            "Epoch 50/50, Loss: 0.005140343097662272\n"
          ]
        }
      ]
    },
    {
      "cell_type": "code",
      "source": [
        "import numpy as np\n",
        "import random\n",
        "def evaluate_model(model, triples, all_entities, num_samples=1000, k=10):\n",
        "    # Memilih subset acak dari triples untuk evaluasi\n",
        "    evaluation_triples = random.sample(triples, num_samples)\n",
        "\n",
        "    mrr_sum = 0.0\n",
        "    hits_at_k_sum = 0\n",
        "\n",
        "    for h, r, t in evaluation_triples:\n",
        "        # Menghasilkan kandidat prediksi dengan mengganti tail\n",
        "        candidate_triples = [(h, r, tail) for tail in all_entities]\n",
        "\n",
        "        # Menghitung skor untuk setiap kandidat\n",
        "        candidate_triples_tensor = torch.LongTensor(candidate_triples)\n",
        "        with torch.no_grad():\n",
        "            candidate_scores = model(candidate_triples_tensor).numpy()\n",
        "\n",
        "        # Mendapatkan peringkat entitas yang benar\n",
        "        correct_entity_score = candidate_scores[all_entities.index(t)]\n",
        "        ranked_scores = sorted(candidate_scores, reverse=True)\n",
        "        rank = ranked_scores.index(correct_entity_score) + 1\n",
        "\n",
        "        # Menghitung MRR dan Hits@K\n",
        "        mrr_sum += 1.0 / rank\n",
        "        if rank <= k:\n",
        "            hits_at_k_sum += 1\n",
        "\n",
        "    # Menghitung rata-rata MRR dan Hits@K\n",
        "    mrr = mrr_sum / num_samples\n",
        "    hits_at_k = hits_at_k_sum / num_samples\n",
        "\n",
        "    return mrr, hits_at_k\n",
        "\n",
        "# Mengumpulkan semua entitas sebagai daftar\n",
        "all_entities_list = list(range(num_entities))\n",
        "\n",
        "# Menjalankan evaluasi model\n",
        "mrr, hits_at_10 = evaluate_model(model, triples_idx, all_entities_list, num_samples=1000, k=10)\n",
        "\n",
        "mrr, hits_at_10\n",
        "\n"
      ],
      "metadata": {
        "colab": {
          "base_uri": "https://localhost:8080/"
        },
        "id": "nu8b_FGRPzs_",
        "outputId": "a157b73e-28b8-4147-aca7-1fc78c40aeba"
      },
      "execution_count": null,
      "outputs": [
        {
          "output_type": "execute_result",
          "data": {
            "text/plain": [
              "(0.40288593507024606, 0.793)"
            ]
          },
          "metadata": {},
          "execution_count": 126
        }
      ]
    },
    {
      "cell_type": "code",
      "source": [
        "# Mendapatkan embeddings dari model\n",
        "entity_embeddings = model.ent_embeddings.weight.data.numpy()\n",
        "relation_embeddings = model.rel_embeddings.weight.data.numpy()\n",
        "\n",
        "# Menampilkan sebagian dari embeddings\n",
        "# Kita akan menampilkan 5 embeddings pertama untuk entitas dan relasi\n",
        "print(\"Entity Embeddings (5 first embeddings):\")\n",
        "print(entity_embeddings[:5])\n",
        "print(\"\\nRelation Embeddings (5 first embeddings):\")\n",
        "print(relation_embeddings[:5])\n",
        "\n"
      ],
      "metadata": {
        "colab": {
          "base_uri": "https://localhost:8080/"
        },
        "id": "5oHM06hRQcT1",
        "outputId": "0c23f786-a492-40a9-ce8d-83caca88a6fd"
      },
      "execution_count": null,
      "outputs": [
        {
          "output_type": "stream",
          "name": "stdout",
          "text": [
            "Entity Embeddings (5 first embeddings):\n",
            "[[ 1.34566799e-02  2.13849787e-02  2.12957319e-02 -3.43771949e-02\n",
            "   2.58137155e-02 -2.85563003e-02  4.18685116e-02  6.09327406e-02\n",
            "  -3.12477294e-02 -4.50556353e-03  3.69428955e-02  4.54811826e-02\n",
            "   5.59106246e-02 -4.01742831e-02  4.35058540e-03 -2.30844859e-02\n",
            "  -6.23715892e-02  2.34641358e-02  8.56334064e-03 -1.06590765e-03\n",
            "   3.03666033e-02 -2.45431550e-02 -1.18158394e-02  2.81845126e-02\n",
            "   3.62514667e-02  4.71813045e-02  5.05851246e-02  3.69021259e-02\n",
            "   7.13333907e-03 -3.62938233e-02  4.43745293e-02  3.76497395e-02\n",
            "  -5.46392277e-02 -1.78467277e-02  4.93369438e-02 -4.62115407e-02\n",
            "   5.03291897e-02 -5.34090996e-02  1.39401127e-02  5.92304878e-02\n",
            "   2.90645529e-02  2.09980290e-02 -5.97483153e-03 -1.57076903e-02\n",
            "  -9.36077442e-03 -2.36561187e-02 -5.43631278e-02  1.92799401e-02\n",
            "  -4.30626348e-02  6.00269772e-02  4.27859426e-02  4.44859155e-02\n",
            "  -5.00989221e-02  1.18867764e-02 -1.94593053e-02 -5.34377433e-02\n",
            "   6.25329316e-02 -5.10307066e-02  4.34934311e-02 -1.62429009e-02\n",
            "  -5.82618918e-03  2.29308438e-02  4.96026278e-02 -3.62435468e-02\n",
            "  -1.51152061e-02 -5.41305281e-02 -1.80868246e-02  4.10953574e-02\n",
            "   2.84052617e-03  5.83107471e-02  2.71211918e-02 -1.67494919e-02\n",
            "  -5.59302308e-02  3.35617848e-02 -5.52584650e-03 -5.15101291e-02\n",
            "  -1.76737290e-02  5.64775355e-02 -2.88656652e-02  2.08844654e-02\n",
            "   2.67860983e-02  1.74441878e-02  5.46362475e-02 -2.26732194e-02\n",
            "   3.95149551e-02 -1.36355283e-02  5.75119331e-02  3.64841819e-02\n",
            "   5.46137802e-02  3.72308679e-02  4.70596887e-02  4.20789458e-02\n",
            "  -4.88825329e-02 -1.21569121e-02  6.11943416e-02 -3.01900003e-02\n",
            "  -4.30213884e-02 -9.97868367e-03 -3.80346626e-02  2.31520236e-02]\n",
            " [-8.27644050e-01 -4.14562114e-02 -8.24092850e-02 -7.92501509e-01\n",
            "  -8.50292742e-01 -8.25912118e-01  3.66965607e-02  1.10039902e+00\n",
            "  -1.13873243e-01 -6.20095134e-01 -9.83060181e-01  4.13546920e-01\n",
            "  -8.84208322e-01  8.98707211e-01  5.66046536e-01 -6.12737775e-01\n",
            "  -1.50575802e-01 -2.87880123e-01  2.22623914e-01  5.06266654e-01\n",
            "   9.12818983e-02  1.30159900e-01  9.05709863e-01  1.08316720e+00\n",
            "  -1.52687309e-02 -3.37873012e-01 -1.21297538e+00  3.04418981e-01\n",
            "  -4.29485828e-01  3.69965397e-02 -1.20673418e+00 -7.18105614e-01\n",
            "   2.21709922e-01 -7.36483753e-01 -3.82921875e-01 -1.06298888e+00\n",
            "  -9.77588236e-01  2.73452312e-01  1.24441544e-02 -2.13646784e-01\n",
            "   1.07779849e+00  1.00440907e+00 -2.19202504e-01  1.15731515e-01\n",
            "   7.35705793e-02 -6.35807335e-01  3.15128684e-01  4.65679228e-01\n",
            "  -4.05842990e-01  8.19435298e-01  6.75556540e-01 -8.94260883e-01\n",
            "   1.35148859e+00 -7.29153514e-01 -4.57613140e-01 -1.23813399e-03\n",
            "   3.34106386e-01  1.12107515e+00 -6.66292071e-01 -6.64085865e-01\n",
            "  -4.38065886e-01  5.23717880e-01  7.84263790e-01  8.73197839e-02\n",
            "   9.86852825e-01  7.65462697e-01  5.98944247e-01  9.68396604e-01\n",
            "  -7.67490685e-01 -2.13960811e-01  3.00366968e-01 -5.02147198e-01\n",
            "  -8.10590088e-01 -2.80989468e-01 -4.94309336e-01 -7.53518224e-01\n",
            "   4.34419751e-01 -6.71601772e-01 -3.23325813e-01 -8.24503839e-01\n",
            "  -3.81209224e-01  3.96049619e-01  3.81558627e-01 -6.14106596e-01\n",
            "   4.17354733e-01  1.23685412e-01  4.72990334e-01  3.24606508e-01\n",
            "  -8.50106120e-01  9.30915177e-01 -6.50516033e-01 -1.09470534e+00\n",
            "  -9.87096310e-01  3.83692563e-01 -1.24751651e+00  4.20354873e-01\n",
            "   1.20635951e+00  7.27624118e-01 -7.23778248e-01  4.65079784e-01]\n",
            " [-2.48253405e-01 -5.89763522e-01  9.39649940e-01  7.98404589e-02\n",
            "   3.92913610e-01 -8.52330208e-01 -2.18695149e-01  3.80766213e-01\n",
            "  -1.10708129e+00 -6.57879949e-01  2.41779208e-01 -4.22872394e-01\n",
            "  -2.13846341e-01 -7.27409661e-01  9.51789469e-02  5.87961197e-01\n",
            "  -2.14134112e-01  8.43186498e-01 -4.49243665e-01  7.24508986e-03\n",
            "   8.96695331e-02 -4.73613977e-01  4.83629048e-01  1.12217672e-01\n",
            "  -4.82519194e-02 -3.87195140e-01  8.47222090e-01  5.06944001e-01\n",
            "   2.07056299e-01 -7.63015926e-01  4.23082143e-01  5.23917794e-01\n",
            "  -7.45418146e-02  4.82623935e-01 -5.38010538e-01  2.62123555e-01\n",
            "  -1.28865689e-01  3.91867198e-02  3.71693701e-01  9.13863897e-01\n",
            "  -6.63731337e-01  9.09924060e-02 -6.30236119e-02 -6.04092836e-01\n",
            "  -2.77376294e-01  3.43804538e-01  5.90478837e-01  4.48382527e-01\n",
            "   2.27463737e-01  1.02704883e-01 -9.55726206e-01 -3.59646350e-01\n",
            "   5.50870121e-01 -2.49442220e-01  4.64440621e-02 -9.69942808e-02\n",
            "  -8.68514478e-01 -4.12701517e-01  2.36398101e-01  3.11068326e-01\n",
            "  -4.28167850e-01  3.97781879e-01  6.69602305e-02 -7.77250469e-01\n",
            "   2.74821460e-01  7.98253000e-01  9.04293597e-01  4.58141297e-01\n",
            "  -6.40880466e-01  3.99148762e-01 -4.95338947e-01  4.84421164e-01\n",
            "  -3.99714768e-01  1.64863601e-01  2.24627227e-01 -3.25721800e-01\n",
            "  -3.23371857e-01 -5.08755207e-01  3.23372185e-01 -1.60985693e-01\n",
            "  -7.70438850e-01  4.40135956e-01  2.85223693e-01  7.53240138e-02\n",
            "  -6.08191133e-01  6.03722811e-01 -1.16427034e-01  1.46929964e-01\n",
            "  -1.29455253e-01  6.27220452e-01  8.93075943e-01 -4.99996066e-01\n",
            "   5.96136600e-02 -4.26825166e-01  2.97260225e-01  3.21069032e-01\n",
            "   2.92770445e-01 -2.29384437e-01  2.11743295e-01  2.71959394e-01]\n",
            " [ 3.90118986e-01  5.74588776e-01  3.13303202e-01  9.56946552e-01\n",
            "   8.16701472e-01 -3.25476468e-01  1.50064990e-01 -1.16720068e+00\n",
            "   7.03449249e-01  1.51902542e-01  5.48461154e-02 -1.63923040e-01\n",
            "  -7.09726661e-02 -7.48838782e-01 -3.93795818e-01 -1.05978243e-01\n",
            "  -5.91100872e-01  5.67787290e-01  4.19518530e-01 -7.03315377e-01\n",
            "  -1.42554566e-01 -1.77511707e-01 -5.21691442e-01  5.55107713e-01\n",
            "  -7.16378093e-01  5.55043481e-02 -2.88683057e-01  2.20241427e-01\n",
            "   7.16246426e-01 -9.15306687e-01 -4.17775422e-01  4.00604337e-01\n",
            "   3.11604768e-01 -3.67405146e-01  3.96283269e-01  7.29703128e-01\n",
            "  -3.66787463e-01  2.24644259e-01  3.82317185e-01 -7.65546203e-01\n",
            "  -2.70780623e-01  8.17396581e-01  4.23791707e-02  6.45392537e-01\n",
            "  -7.66928971e-01  1.83204770e-01 -8.00671160e-01 -2.50625834e-02\n",
            "   9.04618442e-01  3.94554675e-01 -1.86148167e-01  2.83082157e-01\n",
            "   3.78944725e-01  1.74865231e-01 -4.85999167e-01 -1.70660410e-02\n",
            "   1.40661225e-01  3.61497283e-01  9.48533475e-01 -4.17412877e-01\n",
            "  -6.71498716e-01  3.97814475e-02  1.05078435e+00 -9.25715744e-01\n",
            "   5.78799099e-02 -4.85925496e-01  6.88015576e-03 -1.52920127e-01\n",
            "   7.41798818e-01 -1.62727401e-01 -3.01076651e-01 -3.33354175e-01\n",
            "   1.17978349e-01 -3.35278779e-01 -1.06817394e-01  9.55177546e-01\n",
            "  -1.65723056e-01  6.06012583e-01  1.40970245e-01 -3.97661179e-02\n",
            "  -2.57595122e-01 -4.86881524e-01  2.59985238e-01 -6.31411314e-01\n",
            "   1.08825326e+00  4.47138429e-01 -4.94429618e-01 -2.33673170e-01\n",
            "  -1.24991141e-01 -7.83518255e-01  1.59316882e-01 -4.75072294e-01\n",
            "  -1.98008880e-01  5.58016181e-01  3.18411887e-02 -2.67465264e-01\n",
            "   3.14851344e-01 -3.52224298e-02  6.34983838e-01 -2.38356888e-02]\n",
            " [-2.66749412e-01 -5.38309634e-01 -5.97372890e-01  6.03738427e-02\n",
            "   7.65299797e-01  4.27207172e-01 -1.32676458e+00  4.35011774e-01\n",
            "  -5.02984941e-01  5.04197180e-01  1.69242725e-01  1.07731152e+00\n",
            "  -8.02125692e-01 -2.65175160e-02 -4.75907117e-01 -1.15215681e-01\n",
            "  -5.94342411e-01  7.78236151e-01 -1.29665339e+00 -1.27853259e-01\n",
            "  -2.14970276e-01  5.54269135e-01 -1.50932011e-03  4.52644348e-01\n",
            "   7.16004908e-01 -1.14116251e+00 -2.24395812e-01  1.87150970e-01\n",
            "   8.32072496e-01 -2.36092523e-01 -1.10518527e+00  2.22264454e-01\n",
            "   1.32041022e-01  3.48398417e-01 -1.10139823e+00  2.09287624e-04\n",
            "   2.28145525e-01  6.51136696e-01  5.79271853e-01  1.13991904e+00\n",
            "   4.76733685e-01  6.37195885e-01 -5.87643206e-01 -1.17593277e+00\n",
            "   4.25394252e-03  7.41688311e-01  2.94737607e-01 -3.42864841e-01\n",
            "  -5.99632226e-02 -6.21801138e-01  7.43477523e-01 -4.53159273e-01\n",
            "   8.50339353e-01 -1.22013818e-02  8.89997035e-02 -1.56801671e-01\n",
            "  -5.11059880e-01 -2.36288264e-01  6.76000535e-01  9.43829894e-01\n",
            "   5.21067441e-01  1.61586240e-01  1.30093467e+00 -3.38414788e-01\n",
            "   3.25558305e-01  3.06874394e-01 -9.95917469e-02 -7.07758684e-03\n",
            "  -7.87913263e-01  2.27622449e-01 -3.31429571e-01  2.66185049e-02\n",
            "   9.15636063e-01 -9.68644559e-01  2.86744907e-02  2.48423785e-01\n",
            "   1.48218289e-01 -1.26784754e+00  8.17896426e-01 -1.97995547e-02\n",
            "  -2.41224900e-01 -3.84041309e-01  4.09108162e-01 -1.08455107e-01\n",
            "   8.31785679e-01  5.87748468e-01 -7.16111124e-01 -9.91592944e-01\n",
            "  -4.02145475e-01  7.04639733e-01 -6.79557204e-01 -4.55650151e-01\n",
            "  -2.70571083e-01 -5.18143952e-01 -6.36381567e-01  5.25637388e-01\n",
            "   1.03236449e+00  8.53306472e-01 -4.74762827e-01  1.20559134e-01]]\n",
            "\n",
            "Relation Embeddings (5 first embeddings):\n",
            "[[ 1.25873750e-02 -1.96639135e-01  1.26159135e-02  3.39414664e-02\n",
            "  -1.09089643e-01 -5.18181510e-02  8.43857676e-02  8.63963440e-02\n",
            "  -1.48188900e-02 -5.21902069e-02 -1.27833113e-01 -9.49503481e-02\n",
            "  -3.62931155e-02 -1.89961195e-01  4.24704254e-02  1.36645019e-01\n",
            "  -1.80034176e-01  8.58120329e-04  1.05889753e-01  1.54079407e-01\n",
            "   1.59240529e-01  1.70093879e-01  1.51249141e-01  1.51325807e-01\n",
            "   1.03722706e-01 -1.87114030e-01 -2.57567186e-02 -3.18660177e-02\n",
            "  -6.32236972e-02  7.75502995e-02 -1.02275372e-01  3.47854495e-02\n",
            "  -9.12012160e-02  1.96580797e-01 -9.00518745e-02  8.93803388e-02\n",
            "  -7.37477317e-02  1.59758881e-01  4.63546924e-02 -1.18463449e-01\n",
            "   5.78227937e-02  5.37678674e-02  1.86595932e-01 -1.68424129e-01\n",
            "   8.88399705e-02  3.82911786e-02  1.52344583e-02 -9.91033241e-02\n",
            "   5.28920479e-02  1.64684266e-01  1.49216413e-01  7.49798641e-02\n",
            "  -1.22532099e-01  1.08242936e-01 -4.64383923e-02  1.22108333e-01\n",
            "   3.21795829e-02 -3.32633108e-02 -1.29049346e-01 -3.66713442e-02\n",
            "   1.41562745e-01 -1.80348024e-01  1.80633515e-01  1.93867683e-02\n",
            "  -1.68066859e-01 -2.03765780e-02  5.16259186e-02 -1.00718759e-01\n",
            "  -9.48933661e-02 -1.98127210e-01 -2.32344829e-02  1.74026787e-01\n",
            "  -1.23533970e-02 -3.72977331e-02 -1.64048642e-01 -1.15144163e-01\n",
            "  -9.29541066e-02 -9.56656560e-02 -1.60817057e-01  3.99880186e-02\n",
            "  -3.79872061e-02 -1.62925810e-01 -1.13123469e-02  7.74154589e-02\n",
            "  -1.08261161e-01 -2.39106063e-02  3.58944125e-02 -1.72693312e-01\n",
            "   1.36380315e-01  1.38886884e-01  1.72052890e-01 -4.50065583e-02\n",
            "   1.79371759e-01 -2.00243637e-01 -1.90136403e-01  1.06927097e-01\n",
            "  -1.76358238e-01 -1.91973656e-01  1.61679059e-01 -4.37974334e-02]\n",
            " [ 2.01823521e+00 -2.48579025e+00  9.97658789e-01 -2.18132687e+00\n",
            "   1.76833272e+00  4.96846706e-01 -2.61093545e+00 -4.10485792e+00\n",
            "  -2.75453186e+00  2.11450028e+00 -3.04959130e+00  6.28430426e-01\n",
            "  -3.00580239e+00  2.07351065e+00  2.03598690e+00  2.00196600e+00\n",
            "   1.59106565e+00  1.23563325e+00 -1.87901330e+00 -2.03587246e+00\n",
            "   7.72991538e-01  1.99954450e-01 -2.86013532e+00 -1.51313984e+00\n",
            "  -3.08609986e+00  2.28079748e+00 -1.71542895e+00  2.78873348e+00\n",
            "   1.99364877e+00  1.39355147e+00  2.49459839e+00 -2.69826484e+00\n",
            "   7.12066948e-01 -2.33224249e+00 -2.37904334e+00 -2.33735299e+00\n",
            "   2.01092577e+00  1.55208600e+00  2.59764576e+00 -2.67109728e+00\n",
            "   1.69256103e+00  2.42645502e+00  6.50917411e-01 -3.16602135e+00\n",
            "   1.71698117e+00  1.79651356e+00  1.49311519e+00  2.35410428e+00\n",
            "  -3.24909878e+00  1.21026921e+00  3.15507531e+00 -2.60975027e+00\n",
            "  -1.72863150e+00 -1.96436417e+00  1.39563847e+00  1.94981229e+00\n",
            "  -2.48701286e+00  1.84060895e+00  1.32871437e+00 -2.31948948e+00\n",
            "   2.46335888e+00  2.24658251e+00  2.20829844e+00  1.53730524e+00\n",
            "   1.05434799e+00 -2.02407432e+00 -3.26380348e+00  1.98758101e+00\n",
            "  -2.18654466e+00  2.49218535e+00  1.90332198e+00 -1.84958649e+00\n",
            "   2.20405817e+00  1.42744172e+00  2.75818682e+00 -2.34398222e+00\n",
            "  -2.34248519e+00 -2.29851913e+00 -2.62599993e+00  2.83714199e+00\n",
            "   5.93556404e-01  1.97128284e+00  2.66653037e+00  2.37018991e+00\n",
            "   2.11235380e+00  2.56667280e+00 -1.67445874e+00 -8.87130976e-01\n",
            "  -1.77021527e+00 -2.79487967e+00 -1.80172634e+00 -2.10964537e+00\n",
            "  -2.05941200e+00 -2.07752538e+00  2.61296964e+00 -2.50559855e+00\n",
            "   1.74521935e+00  1.14621794e+00 -2.33659244e+00 -2.46985316e+00]\n",
            " [-2.27703524e+00  9.05149698e-01 -2.37118220e+00  1.40202022e+00\n",
            "  -1.11430633e+00  2.30134249e+00  4.58207428e-01 -1.90278816e+00\n",
            "  -2.39544463e+00  1.01083148e+00 -3.56596261e-01 -1.70197630e+00\n",
            "  -2.38057566e+00 -2.02589011e+00  1.52821469e+00 -2.23898983e+00\n",
            "  -1.64774299e+00 -2.16450477e+00 -2.02123666e+00  5.99291086e-01\n",
            "   2.21795893e+00 -2.26048040e+00 -6.52367711e-01  1.84116805e+00\n",
            "   1.96153748e+00  2.19622350e+00 -2.16877460e+00  1.32844806e+00\n",
            "   1.63530350e+00 -2.11858439e+00  2.29043037e-01  4.53009605e-02\n",
            "  -2.52145982e+00  1.33254099e+00 -1.97464871e+00  9.53161836e-01\n",
            "  -4.71759170e-01 -1.81578255e+00 -2.01628041e+00 -2.25818777e+00\n",
            "   2.28241920e+00  1.44498205e+00 -2.12103701e+00 -2.30542207e+00\n",
            "  -1.72227800e+00  1.43003821e+00 -1.92787194e+00 -1.02746733e-01\n",
            "  -1.27298880e+00  2.48713207e+00 -1.80888426e+00 -1.80348682e+00\n",
            "  -2.03170943e+00  1.63516176e+00  8.47037017e-01  1.83175194e+00\n",
            "  -2.52437025e-01  6.25915706e-01 -1.86764276e+00  1.28386235e+00\n",
            "   1.06614101e+00  2.22723484e+00 -2.18651223e+00 -2.10631609e+00\n",
            "  -1.77371335e+00 -1.97091222e+00 -2.32729864e+00  1.27055407e+00\n",
            "  -2.03817463e+00 -3.13719839e-01 -2.13518882e+00  1.14638412e+00\n",
            "   2.62547326e+00 -1.88881886e+00 -1.42193329e+00  1.71763885e+00\n",
            "   1.77069175e+00 -2.04155898e+00  1.27425921e+00 -2.26103449e+00\n",
            "  -1.85365224e+00  1.24666238e+00  1.71861148e+00  6.31843090e-01\n",
            "  -1.46867242e-02  1.88049245e+00  1.98607898e+00  1.12059212e+00\n",
            "  -1.75525188e+00 -2.26478338e+00  5.70997715e-01  5.56635618e-01\n",
            "   1.06447017e+00  1.49360549e+00  1.78906584e+00 -5.24129748e-01\n",
            "   6.72083497e-01 -2.07495356e+00  1.79808998e+00  1.30668283e+00]\n",
            " [-1.16091144e+00 -8.66239250e-01  1.38835764e+00  1.52615368e+00\n",
            "  -2.25452018e+00 -1.91742527e+00  2.26672459e+00 -2.00177407e+00\n",
            "  -8.19723904e-01  1.47267497e+00  2.50555229e+00 -1.35803595e-01\n",
            "  -2.19605899e+00  1.06990613e-01 -8.21978748e-01 -7.73152292e-01\n",
            "   1.21219945e+00 -5.07564008e-01 -1.03189468e+00  7.97446609e-01\n",
            "   2.49345827e+00 -1.23932540e+00  1.09351540e+00  1.27754176e+00\n",
            "   1.14640999e+00  1.89759791e+00  1.38546598e+00  2.02318573e+00\n",
            "   5.43510877e-02 -3.95845249e-03 -5.55099189e-01 -2.31084418e+00\n",
            "   4.95137870e-02  3.75515223e-01 -4.53822643e-01  1.07007909e+00\n",
            "  -1.44134712e+00 -1.03442347e+00 -2.07298234e-01 -9.01534140e-01\n",
            "   2.39991355e+00  1.67461717e+00  1.60935172e-03 -2.30434179e+00\n",
            "   4.05413777e-01  8.03324759e-01  6.61864400e-01 -1.13406384e+00\n",
            "   2.20353031e+00  1.19833243e+00  3.78995277e-02 -1.48729324e+00\n",
            "  -1.67119837e+00  1.24394432e-01  1.47964418e+00 -1.64602995e+00\n",
            "   2.01624870e+00 -2.50682282e+00 -1.91453844e-01 -2.88640082e-01\n",
            "   2.32498002e+00  7.72295237e-01  1.06828406e-01 -1.43749011e+00\n",
            "  -9.36223567e-01  5.97956657e-01 -1.50047553e+00  8.75076652e-01\n",
            "   3.89540792e-01  2.01887822e+00  1.46573409e-02  9.87726688e-01\n",
            "  -1.20654158e-01 -6.90313578e-01  2.74373889e-01  1.97907495e+00\n",
            "  -1.92031160e-01 -1.21407723e+00 -1.47748101e+00 -7.28285968e-01\n",
            "   3.11028183e-01  1.90633988e+00  3.74868542e-01  2.66705012e+00\n",
            "   1.58279967e+00 -1.15600085e+00  1.94771016e+00  8.20623398e-01\n",
            "  -1.06072314e-01 -4.21935439e-01 -1.99448097e+00 -2.23781395e+00\n",
            "   1.93595016e+00  1.96013737e+00  2.81474054e-01  1.84434152e+00\n",
            "   2.39645553e+00 -9.70629990e-01  2.04308391e-01  1.61152279e+00]\n",
            " [-1.15868449e+00 -1.87536508e-01 -1.14457297e+00  8.56634796e-01\n",
            "   1.18217731e+00  1.63747859e+00 -7.36803055e-01 -2.06356478e+00\n",
            "  -1.96614861e+00 -1.65529907e+00 -2.02475381e+00 -2.64122009e+00\n",
            "  -2.63995290e+00 -1.57646191e+00  1.85297084e+00 -8.10734510e-01\n",
            "  -2.11293006e+00 -1.08783150e+00 -1.30819583e+00  1.22953880e+00\n",
            "   4.42189962e-01 -1.85959876e+00 -1.88299358e+00  1.65569329e+00\n",
            "   1.44760764e+00  1.13316655e+00 -2.27979851e+00 -1.25726593e+00\n",
            "   1.68083000e+00 -1.76668441e+00  9.65343416e-01  5.69093302e-02\n",
            "  -1.90580165e+00  1.73578978e+00 -1.58396268e+00  1.75926614e+00\n",
            "  -1.55447102e+00 -1.85381138e+00 -1.12097792e-01 -2.29733467e+00\n",
            "   1.91271353e+00  1.80669463e+00 -2.53403020e+00 -1.54062569e+00\n",
            "  -2.01590824e+00  5.02666056e-01 -1.68299329e+00  1.10701668e+00\n",
            "   1.56773138e+00  2.01948762e+00 -2.16783953e+00 -2.01820803e+00\n",
            "  -2.41902804e+00  5.78432798e-01  1.98562491e+00  2.18391657e+00\n",
            "  -1.70594347e+00 -1.39543271e+00 -1.75019670e+00  1.72407269e+00\n",
            "  -3.89579497e-02  6.32096112e-01 -1.54655802e+00 -2.57092786e+00\n",
            "  -1.98796177e+00 -1.96271491e+00 -1.02615595e+00  1.17604113e+00\n",
            "  -1.97167242e+00 -6.89257443e-01 -1.79396355e+00  1.81133771e+00\n",
            "   2.20639443e+00 -1.99740505e+00 -1.27767491e+00  5.46006322e-01\n",
            "   1.90788150e+00 -1.68465507e+00  2.27399778e+00 -7.22074330e-01\n",
            "  -1.84501803e+00  1.38916183e+00  1.79500747e+00 -3.94723177e-01\n",
            "   2.46407604e+00  1.91186774e+00  1.58405900e+00  1.53994775e+00\n",
            "  -2.51116133e+00 -2.34496474e+00 -2.37009883e+00 -2.54886568e-01\n",
            "   2.01234031e+00  1.46447480e+00  1.54858470e+00  2.99301744e-01\n",
            "  -2.93225527e-01 -2.13564014e+00  1.95984483e-01 -1.58211100e+00]]\n"
          ]
        }
      ]
    },
    {
      "cell_type": "code",
      "source": [
        "# Batch size untuk proses prediksi\n",
        "batch_size_pred = 32\n",
        "\n",
        "# Mengumpulkan semua entitas sebagai daftar\n",
        "all_entities_list = list(range(num_entities))\n",
        "\n",
        "# Menyiapkan dataset untuk proses prediksi\n",
        "prediction_dataset = TensorDataset(triples_tensor)\n",
        "prediction_loader = DataLoader(prediction_dataset, batch_size=batch_size_pred, shuffle=False)\n",
        "\n",
        "# Fungsi untuk memprediksi triples menggunakan model\n",
        "def predict_triples(model, data_loader):\n",
        "    model.eval()  # Set model ke mode evaluasi\n",
        "    predicted_triples = []\n",
        "\n",
        "    with torch.no_grad():\n",
        "        for triplets in data_loader:\n",
        "            scores = model(triplets[0])\n",
        "            predicted_triples.extend(scores.tolist())\n",
        "\n",
        "    return predicted_triples\n",
        "\n",
        "# Prediksi triples\n",
        "predicted_triples = predict_triples(model, prediction_loader)\n",
        "predicted_triples[:5]"
      ],
      "metadata": {
        "colab": {
          "base_uri": "https://localhost:8080/"
        },
        "id": "OvHPLMvvQjzB",
        "outputId": "6ac8355b-782b-467d-9fd1-17a917706443"
      },
      "execution_count": null,
      "outputs": [
        {
          "output_type": "execute_result",
          "data": {
            "text/plain": [
              "[0.10492157936096191,\n",
              " 18.934303283691406,\n",
              " 12.177596092224121,\n",
              " 38.81584167480469,\n",
              " 11.458824157714844]"
            ]
          },
          "metadata": {},
          "execution_count": 128
        }
      ]
    },
    {
      "cell_type": "code",
      "source": [
        "# Fungsi untuk memetakan kembali indeks ke URI\n",
        "def map_indices_to_uris(triples_idx, entity2idx, relation2idx):\n",
        "    # Membuat reverse mapping dari indeks ke URI\n",
        "    idx2entity = {idx: uri for uri, idx in entity2idx.items()}\n",
        "    idx2relation = {idx: uri for uri, idx in relation2idx.items()}\n",
        "\n",
        "    # Memetakan kembali indeks ke URI\n",
        "    triples_uri = [(idx2entity[h], idx2relation[r], idx2entity[t]) for h, r, t in triples_idx]\n",
        "    return triples_uri\n",
        "\n",
        "# Memetakan kembali triples indeks ke URI\n",
        "triples_uri = map_indices_to_uris(triples_idx, entity2idx, relation2idx)\n",
        "\n",
        "# Menyimpan triples URI dalam file teks\n",
        "output_file_path = 'predicted_triples_5_no_ontology.txt'\n",
        "with open(output_file_path, 'w') as file:\n",
        "    for triple in triples_uri:\n",
        "        file.write(f\"{triple[0]}, {triple[1]}, {triple[2]}\\n\")\n",
        "\n",
        "output_file_path\n"
      ],
      "metadata": {
        "colab": {
          "base_uri": "https://localhost:8080/",
          "height": 36
        },
        "id": "My9HjHVFQqMe",
        "outputId": "fdea5694-13c5-4eaa-a10b-971b2ffc1a29"
      },
      "execution_count": null,
      "outputs": [
        {
          "output_type": "execute_result",
          "data": {
            "text/plain": [
              "'predicted_triples_5_no_ontology.txt'"
            ],
            "application/vnd.google.colaboratory.intrinsic+json": {
              "type": "string"
            }
          },
          "metadata": {},
          "execution_count": 129
        }
      ]
    },
    {
      "cell_type": "markdown",
      "source": [
        "# **Ubah string ke URI-5**"
      ],
      "metadata": {
        "id": "vBv9phpLQyti"
      }
    },
    {
      "cell_type": "code",
      "source": [
        "# Membaca file\n",
        "file_path = '/content/predicted_triples_5_no_ontology.txt'\n",
        "\n",
        "with open(file_path, 'r') as file:\n",
        "    sample_lines = [next(file) for _ in range(5)]\n",
        "\n",
        "sample_lines\n"
      ],
      "metadata": {
        "colab": {
          "base_uri": "https://localhost:8080/"
        },
        "id": "5UM_ShgcQu12",
        "outputId": "7e53af20-e085-44e7-f503-673a0708400d"
      },
      "execution_count": null,
      "outputs": [
        {
          "output_type": "execute_result",
          "data": {
            "text/plain": [
              "['http://kgc.knowledge-graph.jp/data/SpeckledBand/283, http://kgc.knowledge-graph.jp/ontology/kgc.owl#hasPredicate, http://kgc.knowledge-graph.jp/data/SpeckledBand/sleep\\n',\n",
              " 'http://kgc.knowledge-graph.jp/data/SpeckledBand/373, http://www.w3.org/1999/02/22-rdf-syntax-ns#type, http://kgc.knowledge-graph.jp/ontology/kgc.owl#Scene\\n',\n",
              " 'http://kgc.knowledge-graph.jp/data/SpeckledBand/398, http://kgc.knowledge-graph.jp/ontology/kgc.owl#hasPart, http://kgc.knowledge-graph.jp/data/SpeckledBand/snake\\n',\n",
              " 'http://kgc.knowledge-graph.jp/data/SpeckledBand/370, http://www.w3.org/1999/02/22-rdf-syntax-ns#type, http://kgc.knowledge-graph.jp/ontology/kgc.owl#Scene\\n',\n",
              " 'http://kgc.knowledge-graph.jp/data/SpeckledBand/death_day_of_mother_of_Helen, http://kgc.knowledge-graph.jp/ontology/kgc.owl#ofWhole, http://kgc.knowledge-graph.jp/data/SpeckledBand/mother\\n']"
            ]
          },
          "metadata": {},
          "execution_count": 130
        }
      ]
    },
    {
      "cell_type": "code",
      "source": [
        "import re\n",
        "\n",
        "# base URI yang digunakan\n",
        "base_uri = \"http://kgc.knowledge-graph.jp/data/SpeckledBand/\"\n",
        "\n",
        "import re\n",
        "def is_uri(s):\n",
        "    return s.startswith('http://') or s.startswith('https://')\n",
        "\n",
        "def convert_to_uri(s, base_uri):\n",
        "    return base_uri + re.sub(r'\\s+', '_', s.strip())\n",
        "def process_triples_corrected(input_file_path, output_file_path, base_uri):\n",
        "    with open(input_file_path, 'r') as input_file, open(output_file_path, 'w') as output_file:\n",
        "        for line in input_file:\n",
        "            parts = line.split(',', maxsplit=2)\n",
        "            if len(parts) == 3:\n",
        "                subject, predicate, obj = [part.strip() for part in parts]\n",
        "\n",
        "                # Hanya mengubah menjadi URI jika belum dalam format URI\n",
        "                if not is_uri(subject):\n",
        "                    subject = convert_to_uri(subject, base_uri)\n",
        "                if not is_uri(predicate):\n",
        "                    predicate = convert_to_uri(predicate, base_uri)\n",
        "                if not is_uri(obj):\n",
        "                    obj = convert_to_uri(obj, base_uri)\n",
        "\n",
        "                output_file.write(f\"{subject}, {predicate}, {obj}\\n\")\n",
        "            else:\n",
        "                print(f\"Invalid line format: {line}\")\n",
        "\n",
        "process_triples_corrected('predicted_triples_5_no_ontology.txt', 'processed_triples_5_no_ontology.txt', base_uri)\n",
        "\n"
      ],
      "metadata": {
        "id": "g2q7v48VQ5Tb"
      },
      "execution_count": null,
      "outputs": []
    },
    {
      "cell_type": "code",
      "source": [
        "def check_for_non_uri_entities(file_path, base_uri):\n",
        "    non_uri_entities = set()\n",
        "\n",
        "    with open(file_path, 'r') as file:\n",
        "        for line in file:\n",
        "            parts = line.split(',', maxsplit=2)\n",
        "            if len(parts) == 3:\n",
        "                subject, predicate, obj = [part.strip() for part in parts]\n",
        "\n",
        "                # Cek apakah subject, predicate, dan object sudah dalam format URI\n",
        "                if not is_uri(subject):\n",
        "                    non_uri_entities.add(subject)\n",
        "                if not is_uri(predicate):\n",
        "                    non_uri_entities.add(predicate)\n",
        "                if not is_uri(obj):\n",
        "                    non_uri_entities.add(obj)\n",
        "\n",
        "    return non_uri_entities\n",
        "\n",
        "# Menetapkan jalur file output yang benar\n",
        "corrected_output_file_path = '/content/processed_triples_5_no_ontology.txt'\n",
        "\n",
        "# Menjalankan fungsi untuk mengecek file yang telah diproses\n",
        "non_uri_entities_in_corrected_file = check_for_non_uri_entities(corrected_output_file_path, base_uri)\n",
        "non_uri_entities_in_corrected_file"
      ],
      "metadata": {
        "colab": {
          "base_uri": "https://localhost:8080/"
        },
        "id": "jEVdaG07RFfK",
        "outputId": "6e5684a0-0e28-4921-9ebd-120a9e6ad5b5"
      },
      "execution_count": null,
      "outputs": [
        {
          "output_type": "execute_result",
          "data": {
            "text/plain": [
              "set()"
            ]
          },
          "metadata": {},
          "execution_count": 132
        }
      ]
    },
    {
      "cell_type": "markdown",
      "source": [
        "# **Gabungkan hasil embedding ke new tripple - 5**"
      ],
      "metadata": {
        "id": "z9T1TnP8RN9C"
      }
    },
    {
      "cell_type": "code",
      "source": [
        "# Membaca file file hasil embedding\n",
        "file_path = '/content/processed_triples_5_no_ontology.txt'\n",
        "\n",
        "with open(file_path, 'r') as file:\n",
        "    processed_triples_content = file.read()\n",
        "\n",
        "# Menanpilkan data\n",
        "print(processed_triples_content[:500])  # Menampilkan preview 500 karakter\n"
      ],
      "metadata": {
        "colab": {
          "base_uri": "https://localhost:8080/"
        },
        "id": "iFddnlEyRJwE",
        "outputId": "ea6cfbb5-9852-4f5e-feb9-022018e6328d"
      },
      "execution_count": null,
      "outputs": [
        {
          "output_type": "stream",
          "name": "stdout",
          "text": [
            "http://kgc.knowledge-graph.jp/data/SpeckledBand/283, http://kgc.knowledge-graph.jp/ontology/kgc.owl#hasPredicate, http://kgc.knowledge-graph.jp/data/SpeckledBand/sleep\n",
            "http://kgc.knowledge-graph.jp/data/SpeckledBand/373, http://www.w3.org/1999/02/22-rdf-syntax-ns#type, http://kgc.knowledge-graph.jp/ontology/kgc.owl#Scene\n",
            "http://kgc.knowledge-graph.jp/data/SpeckledBand/398, http://kgc.knowledge-graph.jp/ontology/kgc.owl#hasPart, http://kgc.knowledge-graph.jp/data/SpeckledBand/snake\n",
            "http://kgc.kno\n"
          ]
        }
      ]
    },
    {
      "cell_type": "code",
      "source": [
        "# Membaca file\n",
        "file_path = '/content/new_triplets_reasoner_5_no_ontology.txt'\n",
        "\n",
        "with open(file_path, 'r') as file:\n",
        "    sample_lines = [next(file) for _ in range(5)]\n",
        "\n",
        "sample_lines\n"
      ],
      "metadata": {
        "colab": {
          "base_uri": "https://localhost:8080/"
        },
        "id": "DGIzfiFJRRkW",
        "outputId": "26899f3f-8213-40f1-ad14-77bfac4c7438"
      },
      "execution_count": null,
      "outputs": [
        {
          "output_type": "execute_result",
          "data": {
            "text/plain": [
              "['http://kgc.knowledge-graph.jp/data/SpeckledBand/knee, http://www.w3.org/2000/01/rdf-schema#label, knee\\n',\n",
              " 'http://kgc.knowledge-graph.jp/data/SpeckledBand/115, http://kgc.knowledge-graph.jp/ontology/kgc.owl#source, There was a hole in the wall of bedroom of Helen.\\n',\n",
              " 'http://kgc.knowledge-graph.jp/data/SpeckledBand/78, http://kgc.knowledge-graph.jp/ontology/kgc.owl#time, 1881-12-02T00:00:00\\n',\n",
              " 'http://kgc.knowledge-graph.jp/data/SpeckledBand/61, http://kgc.knowledge-graph.jp/ontology/kgc.owl#source, Helen is sleeping\\n',\n",
              " 'http://kgc.knowledge-graph.jp/data/SpeckledBand/suspect, http://www.w3.org/2000/01/rdf-schema#label, suspect\\n']"
            ]
          },
          "metadata": {},
          "execution_count": 134
        }
      ]
    },
    {
      "cell_type": "code",
      "source": [
        "import re\n",
        "\n",
        "# base URI yang digunakan\n",
        "base_uri = \"http://kgc.knowledge-graph.jp/data/SpeckledBand/\"\n",
        "\n",
        "import re\n",
        "def is_uri(s):\n",
        "    return s.startswith('http://') or s.startswith('https://')\n",
        "\n",
        "def convert_to_uri(s, base_uri):\n",
        "    return base_uri + re.sub(r'\\s+', '_', s.strip())\n",
        "def process_triples_corrected(input_file_path, output_file_path, base_uri):\n",
        "    with open(input_file_path, 'r') as input_file, open(output_file_path, 'w') as output_file:\n",
        "        for line in input_file:\n",
        "            parts = line.split(',', maxsplit=2)\n",
        "            if len(parts) == 3:\n",
        "                subject, predicate, obj = [part.strip() for part in parts]\n",
        "\n",
        "                # Hanya mengubah menjadi URI jika belum dalam format URI\n",
        "                if not is_uri(subject):\n",
        "                    subject = convert_to_uri(subject, base_uri)\n",
        "                if not is_uri(predicate):\n",
        "                    predicate = convert_to_uri(predicate, base_uri)\n",
        "                if not is_uri(obj):\n",
        "                    obj = convert_to_uri(obj, base_uri)\n",
        "\n",
        "                output_file.write(f\"{subject}, {predicate}, {obj}\\n\")\n",
        "            else:\n",
        "                print(f\"Invalid line format: {line}\")\n",
        "\n",
        "process_triples_corrected('new_triplets_reasoner_5_no_ontology.txt', 'new_triplets_reasoner_5_no_ontology_cleaned.txt', base_uri)"
      ],
      "metadata": {
        "id": "T4R4c8bjRVuk"
      },
      "execution_count": null,
      "outputs": []
    },
    {
      "cell_type": "code",
      "source": [
        "def check_for_non_uri_entities(file_path, base_uri):\n",
        "    non_uri_entities = set()\n",
        "\n",
        "    with open(file_path, 'r') as file:\n",
        "        for line in file:\n",
        "            parts = line.split(',', maxsplit=2)\n",
        "            if len(parts) == 3:\n",
        "                subject, predicate, obj = [part.strip() for part in parts]\n",
        "\n",
        "                # Cek apakah subject, predicate, dan object sudah dalam format URI\n",
        "                if not is_uri(subject):\n",
        "                    non_uri_entities.add(subject)\n",
        "                if not is_uri(predicate):\n",
        "                    non_uri_entities.add(predicate)\n",
        "                if not is_uri(obj):\n",
        "                    non_uri_entities.add(obj)\n",
        "\n",
        "    return non_uri_entities\n",
        "\n",
        "# Menetapkan jalur file output yang benar\n",
        "corrected_output_file_path = 'new_triplets_reasoner_5_no_ontology_cleaned.txt'\n",
        "\n",
        "# Menjalankan fungsi untuk mengecek file yang telah diproses\n",
        "non_uri_entities_in_corrected_file = check_for_non_uri_entities(corrected_output_file_path, base_uri)\n",
        "non_uri_entities_in_corrected_file"
      ],
      "metadata": {
        "colab": {
          "base_uri": "https://localhost:8080/"
        },
        "id": "1j3F24hHRcBj",
        "outputId": "e4ffbe7b-3cf1-42c4-c9aa-c09dda7e21b8"
      },
      "execution_count": null,
      "outputs": [
        {
          "output_type": "execute_result",
          "data": {
            "text/plain": [
              "set()"
            ]
          },
          "metadata": {},
          "execution_count": 136
        }
      ]
    },
    {
      "cell_type": "code",
      "source": [
        "# Lokasi file teks\n",
        "file_path_1 = 'processed_triples_5_no_ontology.txt'\n",
        "file_path_2 = 'new_triplets_reasoner_5_no_ontology_cleaned.txt'\n",
        "\n",
        "# Fungsi untuk membaca isi file\n",
        "def read_file(file_path):\n",
        "    with open(file_path, 'r') as file:\n",
        "        return file.readlines()\n",
        "\n",
        "# Baca kedua file\n",
        "content_1 = read_file(file_path_1)\n",
        "content_2 = read_file(file_path_2)\n",
        "\n",
        "# Gabungkan konten\n",
        "combined_content = content_1 + content_2\n",
        "\n",
        "# Lokasi file output\n",
        "output_file_path = 'combined_triples_5_no_ontology.txt'\n",
        "\n",
        "# Menulis konten gabungan ke file baru\n",
        "with open(output_file_path, 'w') as output_file:\n",
        "    output_file.writelines(combined_content)\n",
        "\n",
        "output_file_path\n"
      ],
      "metadata": {
        "colab": {
          "base_uri": "https://localhost:8080/",
          "height": 36
        },
        "id": "msvnBqClRsc8",
        "outputId": "ee15010b-21ec-4b68-c459-47bb969f966d"
      },
      "execution_count": null,
      "outputs": [
        {
          "output_type": "execute_result",
          "data": {
            "text/plain": [
              "'combined_triples_5_no_ontology.txt'"
            ],
            "application/vnd.google.colaboratory.intrinsic+json": {
              "type": "string"
            }
          },
          "metadata": {},
          "execution_count": 137
        }
      ]
    },
    {
      "cell_type": "code",
      "source": [
        "# Lokasi file teks\n",
        "file_path = 'combined_triples_5_no_ontology.txt'\n",
        "\n",
        "# Fungsi untuk membaca isi file dan memeriksa duplikasi\n",
        "def check_for_duplicates(file_path):\n",
        "    with open(file_path, 'r') as file:\n",
        "        triples = [line.strip() for line in file]\n",
        "\n",
        "    triples_set = set(triples)\n",
        "    return len(triples), len(triples_set), len(triples) != len(triples_set)\n",
        "\n",
        "# Memeriksa duplikasi\n",
        "total_triples, unique_triples, has_duplicates = check_for_duplicates(file_path)\n",
        "\n",
        "print(f\"Total Triplets: {total_triples}\")\n",
        "print(f\"Unique Triplets: {unique_triples}\")\n",
        "print(f\"Apakah ada duplikat? {'Ya' if has_duplicates else 'Tidak'}\")\n"
      ],
      "metadata": {
        "colab": {
          "base_uri": "https://localhost:8080/"
        },
        "id": "96UyJu8wR3tV",
        "outputId": "639eb3c7-d1f2-444a-9841-f45a467e3ab1"
      },
      "execution_count": null,
      "outputs": [
        {
          "output_type": "stream",
          "name": "stdout",
          "text": [
            "Total Triplets: 11291\n",
            "Unique Triplets: 10318\n",
            "Apakah ada duplikat? Ya\n"
          ]
        }
      ]
    },
    {
      "cell_type": "code",
      "source": [
        "# Lokasi file teks\n",
        "file_path = 'combined_triples_5_no_ontology.txt'\n",
        "\n",
        "# Fungsi untuk membaca isi file dan menemukan duplikasi\n",
        "def find_duplicates(file_path):\n",
        "    with open(file_path, 'r') as file:\n",
        "        triples = [line.strip() for line in file]\n",
        "\n",
        "    # Menemukan dan mengembalikan duplikasi\n",
        "    seen = set()\n",
        "    duplicates = set()\n",
        "    for triplet in triples:\n",
        "        if triplet in seen:\n",
        "            duplicates.add(triplet)\n",
        "        seen.add(triplet)\n",
        "\n",
        "    return duplicates\n",
        "\n",
        "# Menemukan duplikasi\n",
        "duplicates = find_duplicates(file_path)\n",
        "\n",
        "# Tampilkan beberapa duplikasi\n",
        "list(duplicates)[:10]  # Tampilkan 10 duplikasi pertama\n",
        "\n"
      ],
      "metadata": {
        "colab": {
          "base_uri": "https://localhost:8080/"
        },
        "id": "PVSVcRBFR8Zs",
        "outputId": "39fd716f-4ddf-4df5-eca0-6c6e38e280a2"
      },
      "execution_count": null,
      "outputs": [
        {
          "output_type": "execute_result",
          "data": {
            "text/plain": [
              "['http://kgc.knowledge-graph.jp/data/SpeckledBand/283, http://kgc.knowledge-graph.jp/ontology/kgc.owl#source, http://kgc.knowledge-graph.jp/data/SpeckledBand/A_woman_is_sleeping_on_the_bed.',\n",
              " 'http://kgc.knowledge-graph.jp/data/SpeckledBand/end, http://www.w3.org/2000/01/rdf-schema#label, http://kgc.knowledge-graph.jp/data/SpeckledBand/end',\n",
              " 'http://kgc.knowledge-graph.jp/data/SpeckledBand/270, http://kgc.knowledge-graph.jp/ontology/kgc.owl#source, http://kgc.knowledge-graph.jp/data/SpeckledBand/Holmes_and_Watson_can_see_the_mansion_of_Stoke_Moran_from_the_Crown_Inn.',\n",
              " 'http://kgc.knowledge-graph.jp/data/SpeckledBand/exist, http://www.w3.org/2000/01/rdf-schema#label, http://kgc.knowledge-graph.jp/data/SpeckledBand/exist',\n",
              " 'http://kgc.knowledge-graph.jp/data/SpeckledBand/380, http://kgc.knowledge-graph.jp/ontology/kgc.owl#source, http://kgc.knowledge-graph.jp/data/SpeckledBand/Snake_poison_has_immediate_effect.',\n",
              " 'http://kgc.knowledge-graph.jp/data/SpeckledBand/247, http://kgc.knowledge-graph.jp/ontology/kgc.owl#source, http://kgc.knowledge-graph.jp/data/SpeckledBand/There_is_a_leopard_in_the_mansion.',\n",
              " 'http://kgc.knowledge-graph.jp/data/SpeckledBand/216, http://kgc.knowledge-graph.jp/ontology/kgc.owl#source, http://kgc.knowledge-graph.jp/data/SpeckledBand/The_pulling_rope_of_the_doorbell_is_tied_to_a_crochet_around_a_small_hole_for_vantilation.',\n",
              " 'http://kgc.knowledge-graph.jp/data/SpeckledBand/everything, http://www.w3.org/2000/01/rdf-schema#label, http://kgc.knowledge-graph.jp/data/SpeckledBand/everything',\n",
              " 'http://kgc.knowledge-graph.jp/data/SpeckledBand/262, http://kgc.knowledge-graph.jp/ontology/kgc.owl#source, http://kgc.knowledge-graph.jp/data/SpeckledBand/After_that,_Helen_goes_to_the_bedroom_of_Helen.',\n",
              " 'http://kgc.knowledge-graph.jp/data/SpeckledBand/living_room, http://www.w3.org/2000/01/rdf-schema#label, http://kgc.knowledge-graph.jp/data/SpeckledBand/living_room']"
            ]
          },
          "metadata": {},
          "execution_count": 139
        }
      ]
    },
    {
      "cell_type": "code",
      "source": [
        "# Lokasi file teks\n",
        "input_file_path = 'combined_triples_5_no_ontology.txt'\n",
        "output_file_path = 'combined_triples_removed_duplicate_5_no_ontology.txt'\n",
        "\n",
        "# Fungsi untuk membaca file dan menghilangkan duplikasi\n",
        "def remove_duplicates(input_file_path, output_file_path):\n",
        "    with open(input_file_path, 'r') as file:\n",
        "        unique_triples = set(file.readlines())\n",
        "\n",
        "    with open(output_file_path, 'w') as file:\n",
        "        file.writelines(unique_triples)\n",
        "\n",
        "    return output_file_path\n",
        "\n",
        "# Menghapus duplikasi dan menyimpan hasilnya\n",
        "unique_file_path = remove_duplicates(input_file_path, output_file_path)\n",
        "unique_file_path\n"
      ],
      "metadata": {
        "colab": {
          "base_uri": "https://localhost:8080/",
          "height": 36
        },
        "id": "XzhyU6pFSCX4",
        "outputId": "4fd70e5a-1b7f-4513-e06d-9d32103e1d76"
      },
      "execution_count": null,
      "outputs": [
        {
          "output_type": "execute_result",
          "data": {
            "text/plain": [
              "'combined_triples_removed_duplicate_5_no_ontology.txt'"
            ],
            "application/vnd.google.colaboratory.intrinsic+json": {
              "type": "string"
            }
          },
          "metadata": {},
          "execution_count": 140
        }
      ]
    },
    {
      "cell_type": "markdown",
      "source": [
        "#**Bandingkan merged result dan hasil ekstraksi tripple merged result iterasi ke 5**"
      ],
      "metadata": {
        "id": "cQCUrfK_SSL_"
      }
    },
    {
      "cell_type": "code",
      "source": [
        "# Membaca isi dari kedua file teks\n",
        "file_path_sb = '/content/triples_output_reasoner_4_no_ontology.txt'\n",
        "file_path_merged_result = 'combined_triples_removed_duplicate_5_no_ontology.txt'\n",
        "def read_triplets(file_path):\n",
        "    \"\"\" Membaca file teks dan mengembalikan set dari triplets. \"\"\"\n",
        "    with open(file_path, 'r') as file:\n",
        "        return set(file.readlines())\n",
        "\n",
        "# Membaca triplets dari kedua file\n",
        "triplets_sb = read_triplets(file_path_sb)\n",
        "triplets_merged_result = read_triplets(file_path_merged_result)\n",
        "\n",
        "# Mencari triplets baru yang unik di merged_result\n",
        "new_triplets = triplets_merged_result - triplets_sb\n",
        "\n",
        "# Jumlah new triplets\n",
        "len(new_triplets), list(new_triplets)[:10]  # Menampilkan 10 contoh triplets baru\n",
        "\n"
      ],
      "metadata": {
        "colab": {
          "base_uri": "https://localhost:8080/"
        },
        "id": "SjUDOlsoSN1D",
        "outputId": "5884a2d4-aff2-41aa-9aee-97a74af2e8f0"
      },
      "execution_count": null,
      "outputs": [
        {
          "output_type": "execute_result",
          "data": {
            "text/plain": [
              "(7,\n",
              " ['http://www.semanticweb.org/fadilalafgani/ontologies/2024/0/untitled-ontology-204, http://www.w3.org/1999/02/22-rdf-syntax-ns#type, http://www.w3.org/2002/07/owl#Ontology\\n',\n",
              "  'http://www.semanticweb.org/fadilalafgani/ontologies/2024/0/untitled-ontology-219, http://www.w3.org/1999/02/22-rdf-syntax-ns#type, http://www.w3.org/2002/07/owl#Ontology\\n',\n",
              "  'http://www.semanticweb.org/fadilalafgani/ontologies/2024/0/untitled-ontology-216, http://www.w3.org/1999/02/22-rdf-syntax-ns#type, http://www.w3.org/2002/07/owl#Ontology\\n',\n",
              "  'http://kgc.knowledge-graph.jp/data/SpeckledBand/internal:anonymous-constants, http://www.w3.org/1999/02/22-rdf-syntax-ns#type, http://www.w3.org/2000/01/rdf-schema#Datatype\\n',\n",
              "  'http://kgc.knowledge-graph.jp/data/SpeckledBand/nc19ee249a3424c2ea0de3d8314d33a5fb1, http://www.w3.org/1999/02/22-rdf-syntax-ns#type, http://www.w3.org/2002/07/owl#Ontology\\n',\n",
              "  'http://www.semanticweb.org/fadilalafgani/ontologies/2024/0/untitled-ontology-217, http://www.w3.org/1999/02/22-rdf-syntax-ns#type, http://www.w3.org/2002/07/owl#Ontology\\n',\n",
              "  'http://kgc.knowledge-graph.jp/ontology/kgc.owl#time, http://www.w3.org/1999/02/22-rdf-syntax-ns#type, http://www.w3.org/2002/07/owl#DatatypeProperty\\n'])"
            ]
          },
          "metadata": {},
          "execution_count": 141
        }
      ]
    },
    {
      "cell_type": "markdown",
      "source": [
        "#**Memasukan merged result ke knowledge graph - 5**"
      ],
      "metadata": {
        "id": "456LGUYFSo6N"
      }
    },
    {
      "cell_type": "code",
      "source": [
        "from rdflib import Graph, URIRef, Literal, Namespace\n",
        "\n",
        "# Lokasi file\n",
        "file_txt_path = 'combined_triples_removed_duplicate_5_no_ontology.txt'\n",
        "file_ttl_path = 'SpeckledBand_updated_4.ttl'\n",
        "file_ttl_output_path = 'SpeckledBand_updated_5.ttl'\n",
        "\n",
        "# Membuat graf RDF dari file Turtle\n",
        "graph = Graph()\n",
        "graph.parse(file_ttl_path, format='ttl')\n",
        "\n",
        "# Membaca file teks dan menambahkan triplets\n",
        "with open(file_txt_path, 'r') as file:\n",
        "    for line in file:\n",
        "        parts = line.strip().split(', ')\n",
        "        if len(parts) >= 3:\n",
        "            s = parts[0]\n",
        "            p = parts[1]\n",
        "            o = ', '.join(parts[2:])  # Menggabungkan kembali bagian objek\n",
        "            # Membuat triple dengan format yang sesuai\n",
        "            subject = URIRef(s)\n",
        "            predicate = URIRef(p)\n",
        "            object = URIRef(o) if o.startswith('http') else Literal(o)\n",
        "            graph.add((subject, predicate, object))\n",
        "\n",
        "# Menyimpan graf yang telah diperbarui ke dalam file Turtle baru\n",
        "graph.serialize(destination=file_ttl_output_path, format='turtle')\n",
        "\n",
        "file_ttl_output_path\n"
      ],
      "metadata": {
        "colab": {
          "base_uri": "https://localhost:8080/",
          "height": 36
        },
        "id": "C9M8R2ZNSi30",
        "outputId": "4b42a11e-5e5a-471d-ecc0-e58778deb596"
      },
      "execution_count": null,
      "outputs": [
        {
          "output_type": "execute_result",
          "data": {
            "text/plain": [
              "'SpeckledBand_updated_5.ttl'"
            ],
            "application/vnd.google.colaboratory.intrinsic+json": {
              "type": "string"
            }
          },
          "metadata": {},
          "execution_count": 142
        }
      ]
    },
    {
      "cell_type": "markdown",
      "source": [
        "#**Ekstrak dan save tripple knowledge graph hasil reasoning - 6**"
      ],
      "metadata": {
        "id": "w0m4ZzSOSztD"
      }
    },
    {
      "cell_type": "code",
      "source": [
        "import rdflib\n",
        "\n",
        "# Membuat graf RDF\n",
        "g = rdflib.Graph()\n",
        "\n",
        "# Lokasi file RDF Turtle\n",
        "file_path = '/content/reasoner_6_no_ontology.ttl'\n",
        "\n",
        "# Parsing file RDF Turtle\n",
        "g.parse(file_path, format='turtle')\n",
        "\n",
        "# SPARQL Query untuk mendapatkan semua triplet <subject, predicate, object>\n",
        "query = \"\"\"\n",
        "SELECT DISTINCT ?subject ?predicate ?object\n",
        "WHERE {\n",
        "    ?subject ?predicate ?object .\n",
        "}\n",
        "\"\"\"\n",
        "\n",
        "# Menjalankan query\n",
        "results = g.query(query)\n",
        "\n",
        "# Lokasi file teks untuk menyimpan hasil\n",
        "output_file_path = 'triples_output_reasoner_6_no_ontology.txt'\n",
        "\n",
        "# Menyimpan hasil ke dalam file teks\n",
        "with open(output_file_path, 'w') as output_file:\n",
        "    for row in results:\n",
        "        output_file.write(f\"{row.subject}, {row.predicate}, {row.object}\\n\")\n",
        "\n",
        "print(f\"Triplets telah disimpan di {output_file_path}\")\n"
      ],
      "metadata": {
        "id": "KccK4RlRSvOn",
        "colab": {
          "base_uri": "https://localhost:8080/"
        },
        "outputId": "7fb9c614-999f-4270-975a-48b936b75085"
      },
      "execution_count": null,
      "outputs": [
        {
          "output_type": "stream",
          "name": "stdout",
          "text": [
            "Triplets telah disimpan di triples_output_reasoner_6_no_ontology.txt\n"
          ]
        }
      ]
    },
    {
      "cell_type": "markdown",
      "source": [
        "#**Cek dan save new triple reasoning - 6**"
      ],
      "metadata": {
        "id": "qCU6J0VbQBju"
      }
    },
    {
      "cell_type": "code",
      "source": [
        "# Membaca isi dari kedua file teks\n",
        "file_path_sb = '/content/combined_triples_removed_duplicate_5_no_ontology.txt'\n",
        "file_path_reasoner = 'triples_output_reasoner_6_no_ontology.txt'\n",
        "\n",
        "def read_triplets(file_path):\n",
        "    \"\"\" Membaca file teks dan mengembalikan set dari triplets. \"\"\"\n",
        "    with open(file_path, 'r') as file:\n",
        "        return set(file.readlines())\n",
        "\n",
        "# Membaca triplets dari kedua file\n",
        "triplets_sb = read_triplets(file_path_sb)\n",
        "triplets_reasoner = read_triplets(file_path_reasoner)\n",
        "\n",
        "# Mencari triplets baru yang unik di triplets_output_reasoner_1\n",
        "new_triplets = triplets_reasoner - triplets_sb\n",
        "\n",
        "# Jumlah new triplets\n",
        "len(new_triplets), list(new_triplets)[:10]  # Menampilkan 10 contoh triplets baru\n",
        "\n"
      ],
      "metadata": {
        "colab": {
          "base_uri": "https://localhost:8080/"
        },
        "id": "WHt5C4_yP8-y",
        "outputId": "ed195c89-83fe-4df4-e3b2-8e5271bd3525"
      },
      "execution_count": null,
      "outputs": [
        {
          "output_type": "execute_result",
          "data": {
            "text/plain": [
              "(974,\n",
              " ['http://kgc.knowledge-graph.jp/data/SpeckledBand/knee, http://www.w3.org/2000/01/rdf-schema#label, knee\\n',\n",
              "  'http://kgc.knowledge-graph.jp/data/SpeckledBand/115, http://kgc.knowledge-graph.jp/ontology/kgc.owl#source, There was a hole in the wall of bedroom of Helen.\\n',\n",
              "  'http://kgc.knowledge-graph.jp/data/SpeckledBand/78, http://kgc.knowledge-graph.jp/ontology/kgc.owl#time, 1881-12-02T00:00:00\\n',\n",
              "  'http://kgc.knowledge-graph.jp/data/SpeckledBand/61, http://kgc.knowledge-graph.jp/ontology/kgc.owl#source, Helen is sleeping\\n',\n",
              "  'http://kgc.knowledge-graph.jp/data/SpeckledBand/suspect, http://www.w3.org/2000/01/rdf-schema#label, suspect\\n',\n",
              "  'http://kgc.knowledge-graph.jp/data/SpeckledBand/poison_of_snake, http://www.w3.org/2000/01/rdf-schema#label, poison of snake\\n',\n",
              "  'http://kgc.knowledge-graph.jp/data/SpeckledBand/canSee, http://www.w3.org/2000/01/rdf-schema#label, canSee\\n',\n",
              "  'http://kgc.knowledge-graph.jp/data/SpeckledBand/neck, http://www.w3.org/2000/01/rdf-schema#label, neck\\n',\n",
              "  'http://kgc.knowledge-graph.jp/data/SpeckledBand/48, http://kgc.knowledge-graph.jp/ontology/kgc.owl#source, All the bedrooms are connected to the hallway\\n',\n",
              "  'http://kgc.knowledge-graph.jp/data/SpeckledBand/engage, http://www.w3.org/2000/01/rdf-schema#label, engage\\n'])"
            ]
          },
          "metadata": {},
          "execution_count": 145
        }
      ]
    },
    {
      "cell_type": "code",
      "source": [
        "# Lokasi file teks baru untuk menyimpan triplet baru\n",
        "new_triplets_file_path = 'new_triplets_reasoner_6_no_ontology.txt'\n",
        "\n",
        "# Menyimpan triplet baru ke dalam file teks\n",
        "with open(new_triplets_file_path, 'w') as new_file:\n",
        "    for triplet in new_triplets:\n",
        "        new_file.write(triplet)\n",
        "\n",
        "new_triplets_file_path"
      ],
      "metadata": {
        "colab": {
          "base_uri": "https://localhost:8080/",
          "height": 36
        },
        "id": "b-FOvNyPQG9r",
        "outputId": "696af692-3227-44d8-c2da-0b6b4d4013de"
      },
      "execution_count": null,
      "outputs": [
        {
          "output_type": "execute_result",
          "data": {
            "text/plain": [
              "'new_triplets_reasoner_6_no_ontology.txt'"
            ],
            "application/vnd.google.colaboratory.intrinsic+json": {
              "type": "string"
            }
          },
          "metadata": {},
          "execution_count": 146
        }
      ]
    },
    {
      "cell_type": "markdown",
      "source": [
        "#**Embedding complex - 6**"
      ],
      "metadata": {
        "id": "mpnDsPrUQR31"
      }
    },
    {
      "cell_type": "code",
      "source": [
        "# Lokasi file triplets\n",
        "file_path = 'combined_triples_removed_duplicate_5_no_ontology.txt'\n",
        "\n",
        "# Fungsi untuk membaca triplets dari file teks\n",
        "def read_triplets(file_path):\n",
        "    with open(file_path, 'r') as file:\n",
        "        triples = []\n",
        "        for line in file:\n",
        "            parts = line.strip().split(', ')\n",
        "            if len(parts) == 3:\n",
        "                triples.append(tuple(parts))\n",
        "    return triples\n",
        "\n",
        "# Membaca triplets dari file\n",
        "triples = read_triplets(file_path)\n",
        "triples[:10]  # Menampilkan 5 triples pertama untuk contoh\n"
      ],
      "metadata": {
        "colab": {
          "base_uri": "https://localhost:8080/"
        },
        "id": "KHiWBP2SQODX",
        "outputId": "9274a8b6-b382-4544-e33d-62771409adc1"
      },
      "execution_count": null,
      "outputs": [
        {
          "output_type": "execute_result",
          "data": {
            "text/plain": [
              "[('http://kgc.knowledge-graph.jp/data/SpeckledBand/283',\n",
              "  'http://kgc.knowledge-graph.jp/ontology/kgc.owl#hasPredicate',\n",
              "  'http://kgc.knowledge-graph.jp/data/SpeckledBand/sleep'),\n",
              " ('http://kgc.knowledge-graph.jp/data/SpeckledBand/373',\n",
              "  'http://www.w3.org/1999/02/22-rdf-syntax-ns#type',\n",
              "  'http://kgc.knowledge-graph.jp/ontology/kgc.owl#Scene'),\n",
              " ('http://kgc.knowledge-graph.jp/data/SpeckledBand/398',\n",
              "  'http://kgc.knowledge-graph.jp/ontology/kgc.owl#hasPart',\n",
              "  'http://kgc.knowledge-graph.jp/data/SpeckledBand/snake'),\n",
              " ('http://kgc.knowledge-graph.jp/data/SpeckledBand/370',\n",
              "  'http://www.w3.org/1999/02/22-rdf-syntax-ns#type',\n",
              "  'http://kgc.knowledge-graph.jp/ontology/kgc.owl#Scene'),\n",
              " ('http://kgc.knowledge-graph.jp/data/SpeckledBand/death_day_of_mother_of_Helen',\n",
              "  'http://kgc.knowledge-graph.jp/ontology/kgc.owl#ofWhole',\n",
              "  'http://kgc.knowledge-graph.jp/data/SpeckledBand/mother'),\n",
              " ('http://kgc.knowledge-graph.jp/data/SpeckledBand/89',\n",
              "  'http://kgc.knowledge-graph.jp/ontology/kgc.owl#SceneObjectProperty',\n",
              "  'http://kgc.knowledge-graph.jp/data/SpeckledBand/death_day_of_Julia'),\n",
              " ('http://www.semanticweb.org/fadilalafgani/ontologies/2024/0/untitled-ontology-217',\n",
              "  'http://www.w3.org/1999/02/22-rdf-syntax-ns#type',\n",
              "  'http://www.w3.org/2002/07/owl#Ontology'),\n",
              " ('http://kgc.knowledge-graph.jp/data/SpeckledBand/269',\n",
              "  'http://kgc.knowledge-graph.jp/ontology/kgc.owl#LocationProperty',\n",
              "  'http://kgc.knowledge-graph.jp/data/SpeckledBand/Crown_Inn'),\n",
              " ('http://kgc.knowledge-graph.jp/data/SpeckledBand/229',\n",
              "  'http://www.w3.org/1999/02/22-rdf-syntax-ns#type',\n",
              "  'http://kgc.knowledge-graph.jp/ontology/kgc.owl#Scene'),\n",
              " ('http://kgc.knowledge-graph.jp/data/SpeckledBand/26',\n",
              "  'http://kgc.knowledge-graph.jp/ontology/kgc.owl#TargetObjProperty',\n",
              "  'http://kgc.knowledge-graph.jp/data/SpeckledBand/Roma')]"
            ]
          },
          "metadata": {},
          "execution_count": 147
        }
      ]
    },
    {
      "cell_type": "code",
      "source": [
        "from collections import defaultdict\n",
        "import torch\n",
        "\n",
        "# Fungsi untuk mengonversi triples ke dalam bentuk indeks\n",
        "def convert_to_indices(triples, entity2idx, relation2idx):\n",
        "    triples_idx = []\n",
        "    for (h, r, t) in triples:\n",
        "        h_idx = entity2idx[h]\n",
        "        r_idx = relation2idx[r]\n",
        "        t_idx = entity2idx[t]\n",
        "        triples_idx.append((h_idx, r_idx, t_idx))\n",
        "    return triples_idx\n",
        "\n",
        "# Membuat indeks untuk entitas dan relasi\n",
        "entity2idx = defaultdict(lambda: len(entity2idx))\n",
        "relation2idx = defaultdict(lambda: len(relation2idx))\n",
        "\n",
        "for (h, r, t) in triples:\n",
        "    entity2idx[h]\n",
        "    entity2idx[t]\n",
        "    relation2idx[r]\n",
        "\n",
        "# Mengonversi triples ke dalam bentuk indeks\n",
        "triples_idx = convert_to_indices(triples, entity2idx, relation2idx)\n",
        "\n",
        "# Cek jumlah entitas dan relasi\n",
        "num_entities = len(entity2idx)\n",
        "num_relations = len(relation2idx)\n",
        "\n",
        "num_entities, num_relations, triples_idx[:5]  # Menampilkan beberapa informasi dan 5 triples indeks pertama\n"
      ],
      "metadata": {
        "colab": {
          "base_uri": "https://localhost:8080/"
        },
        "id": "YX-7kRadQVqc",
        "outputId": "a350e2d6-272e-4b3e-98fc-2be696864094"
      },
      "execution_count": null,
      "outputs": [
        {
          "output_type": "execute_result",
          "data": {
            "text/plain": [
              "(1382, 49, [(0, 0, 1), (2, 1, 3), (4, 2, 5), (6, 1, 3), (7, 3, 8)])"
            ]
          },
          "metadata": {},
          "execution_count": 148
        }
      ]
    },
    {
      "cell_type": "code",
      "source": [
        "import torch.nn as nn\n",
        "import torch.nn.functional as F\n",
        "\n",
        "class ComplEx(nn.Module):\n",
        "    def __init__(self, num_entities, num_relations, embedding_dim):\n",
        "        super(ComplEx, self).__init__()\n",
        "        self.embedding_dim = embedding_dim\n",
        "        self.ent_embeddings = nn.Embedding(num_entities, embedding_dim, padding_idx=0)\n",
        "        self.rel_embeddings = nn.Embedding(num_relations, embedding_dim, padding_idx=0)\n",
        "\n",
        "        # Inisialisasi bobot\n",
        "        nn.init.xavier_uniform_(self.ent_embeddings.weight.data)\n",
        "        nn.init.xavier_uniform_(self.rel_embeddings.weight.data)\n",
        "\n",
        "    def forward(self, triplets):\n",
        "        # Mendapatkan embeddings\n",
        "        h = self.ent_embeddings(triplets[:, 0])\n",
        "        r = self.rel_embeddings(triplets[:, 1])\n",
        "        t = self.ent_embeddings(triplets[:, 2])\n",
        "\n",
        "        # Skor menggunakan rumus ComplEx\n",
        "        score = torch.sum(h * r * t, dim=1)\n",
        "        return score\n",
        "\n",
        "# Parameter model\n",
        "embedding_dim = 100  # Dimensi embedding\n",
        "\n",
        "# Inisialisasi model\n",
        "model = ComplEx(num_entities, num_relations, embedding_dim)\n",
        "model\n",
        "\n"
      ],
      "metadata": {
        "colab": {
          "base_uri": "https://localhost:8080/"
        },
        "id": "y1MDZkUoQYsz",
        "outputId": "31994d89-6f27-4e3d-ef12-218f350eee27"
      },
      "execution_count": null,
      "outputs": [
        {
          "output_type": "execute_result",
          "data": {
            "text/plain": [
              "ComplEx(\n",
              "  (ent_embeddings): Embedding(1382, 100, padding_idx=0)\n",
              "  (rel_embeddings): Embedding(49, 100, padding_idx=0)\n",
              ")"
            ]
          },
          "metadata": {},
          "execution_count": 149
        }
      ]
    },
    {
      "cell_type": "code",
      "source": [
        "from torch.optim import Adam\n",
        "from torch.utils.data import DataLoader, TensorDataset\n",
        "\n",
        "# Fungsi untuk menghasilkan negative samples\n",
        "def generate_negative_samples(triples, num_entities, num_samples=1):\n",
        "    negatives = []\n",
        "    for (h, r, t) in triples:\n",
        "        for _ in range(num_samples):\n",
        "            negative_t = torch.randint(num_entities, (1,))\n",
        "            negatives.append((h, r, negative_t.item()))\n",
        "    return negatives\n",
        "\n",
        "# Mengonversi triples ke tensor\n",
        "triples_tensor = torch.LongTensor(triples_idx)\n",
        "\n",
        "# Negative sampling\n",
        "negative_samples = generate_negative_samples(triples_idx, num_entities, num_samples=1)\n",
        "negative_samples_tensor = torch.LongTensor(negative_samples)\n",
        "\n",
        "# Menyiapkan data loader\n",
        "batch_size = 32\n",
        "dataset = TensorDataset(triples_tensor, negative_samples_tensor)\n",
        "data_loader = DataLoader(dataset, batch_size=batch_size, shuffle=True)\n",
        "\n",
        "# Inisialisasi optimizer\n",
        "optimizer = Adam(model.parameters(), lr=0.001)\n",
        "\n",
        "# Fungsi loss\n",
        "def complex_loss(positive_scores, negative_scores):\n",
        "    return F.softplus(-positive_scores).mean() + F.softplus(negative_scores).mean()\n",
        "\n",
        "# Loop pelatihan\n",
        "num_epochs = 50  # Contoh jumlah epoch\n",
        "\n",
        "for epoch in range(num_epochs):\n",
        "    model.train()\n",
        "    running_loss = 0.0\n",
        "\n",
        "    for positive_triplets, negative_triplets in data_loader:\n",
        "        positive_scores = model(positive_triplets)\n",
        "        negative_scores = model(negative_triplets)\n",
        "\n",
        "        # Hitung loss\n",
        "        loss = complex_loss(positive_scores, negative_scores)\n",
        "\n",
        "        # Backpropagation\n",
        "        optimizer.zero_grad()\n",
        "        loss.backward()\n",
        "        optimizer.step()\n",
        "\n",
        "        running_loss += loss.item()\n",
        "\n",
        "    print(f\"Epoch {epoch + 1}/{num_epochs}, Loss: {running_loss / len(data_loader)}\")\n",
        "\n"
      ],
      "metadata": {
        "colab": {
          "base_uri": "https://localhost:8080/"
        },
        "id": "PD6VAqBvQfmc",
        "outputId": "4cddada5-9253-4d54-8d6a-fc7059af17da"
      },
      "execution_count": null,
      "outputs": [
        {
          "output_type": "stream",
          "name": "stdout",
          "text": [
            "Epoch 1/50, Loss: 1.3858283802451734\n",
            "Epoch 2/50, Loss: 1.3587577667767787\n",
            "Epoch 3/50, Loss: 1.0936559374118369\n",
            "Epoch 4/50, Loss: 0.7485249906132465\n",
            "Epoch 5/50, Loss: 0.5075535493738511\n",
            "Epoch 6/50, Loss: 0.34938958301079165\n",
            "Epoch 7/50, Loss: 0.2475558312915427\n",
            "Epoch 8/50, Loss: 0.1815252354593469\n",
            "Epoch 9/50, Loss: 0.13820230567556785\n",
            "Epoch 10/50, Loss: 0.10984081108319133\n",
            "Epoch 11/50, Loss: 0.09048142978177628\n",
            "Epoch 12/50, Loss: 0.07711068961492541\n",
            "Epoch 13/50, Loss: 0.06736897894011193\n",
            "Epoch 14/50, Loss: 0.06005928643486079\n",
            "Epoch 15/50, Loss: 0.05458573503967594\n",
            "Epoch 16/50, Loss: 0.05018902390232258\n",
            "Epoch 17/50, Loss: 0.04664497175715264\n",
            "Epoch 18/50, Loss: 0.04344602084312092\n",
            "Epoch 19/50, Loss: 0.040681098590694346\n",
            "Epoch 20/50, Loss: 0.038401887853393456\n",
            "Epoch 21/50, Loss: 0.03609205728819184\n",
            "Epoch 22/50, Loss: 0.03403947776184928\n",
            "Epoch 23/50, Loss: 0.032308836574248115\n",
            "Epoch 24/50, Loss: 0.030216377157315715\n",
            "Epoch 25/50, Loss: 0.02851494435140223\n",
            "Epoch 26/50, Loss: 0.026844476571579783\n",
            "Epoch 27/50, Loss: 0.025227892052814012\n",
            "Epoch 28/50, Loss: 0.02399256048253168\n",
            "Epoch 29/50, Loss: 0.02239909777362815\n",
            "Epoch 30/50, Loss: 0.02100682130832933\n",
            "Epoch 31/50, Loss: 0.019684623795234953\n",
            "Epoch 32/50, Loss: 0.018495827185778645\n",
            "Epoch 33/50, Loss: 0.017333313284956145\n",
            "Epoch 34/50, Loss: 0.016250256499217536\n",
            "Epoch 35/50, Loss: 0.015384155969322341\n",
            "Epoch 36/50, Loss: 0.014559892026694735\n",
            "Epoch 37/50, Loss: 0.0135490420074877\n",
            "Epoch 38/50, Loss: 0.012733176528865792\n",
            "Epoch 39/50, Loss: 0.012024341380947308\n",
            "Epoch 40/50, Loss: 0.011399730655045315\n",
            "Epoch 41/50, Loss: 0.010823697052157074\n",
            "Epoch 42/50, Loss: 0.010089896036139523\n",
            "Epoch 43/50, Loss: 0.00973705054212269\n",
            "Epoch 44/50, Loss: 0.009464254182963745\n",
            "Epoch 45/50, Loss: 0.008828804773130335\n",
            "Epoch 46/50, Loss: 0.00843535855457941\n",
            "Epoch 47/50, Loss: 0.008027694112342238\n",
            "Epoch 48/50, Loss: 0.007780811192054442\n",
            "Epoch 49/50, Loss: 0.007471703310005944\n",
            "Epoch 50/50, Loss: 0.007162160335621942\n"
          ]
        }
      ]
    },
    {
      "cell_type": "code",
      "source": [
        "import numpy as np\n",
        "import random\n",
        "def evaluate_model(model, triples, all_entities, num_samples=1000, k=10):\n",
        "    # Memilih subset acak dari triples untuk evaluasi\n",
        "    evaluation_triples = random.sample(triples, num_samples)\n",
        "\n",
        "    mrr_sum = 0.0\n",
        "    hits_at_k_sum = 0\n",
        "\n",
        "    for h, r, t in evaluation_triples:\n",
        "        # Menghasilkan kandidat prediksi dengan mengganti tail\n",
        "        candidate_triples = [(h, r, tail) for tail in all_entities]\n",
        "\n",
        "        # Menghitung skor untuk setiap kandidat\n",
        "        candidate_triples_tensor = torch.LongTensor(candidate_triples)\n",
        "        with torch.no_grad():\n",
        "            candidate_scores = model(candidate_triples_tensor).numpy()\n",
        "\n",
        "        # Mendapatkan peringkat entitas yang benar\n",
        "        correct_entity_score = candidate_scores[all_entities.index(t)]\n",
        "        ranked_scores = sorted(candidate_scores, reverse=True)\n",
        "        rank = ranked_scores.index(correct_entity_score) + 1\n",
        "\n",
        "        # Menghitung MRR dan Hits@K\n",
        "        mrr_sum += 1.0 / rank\n",
        "        if rank <= k:\n",
        "            hits_at_k_sum += 1\n",
        "\n",
        "    # Menghitung rata-rata MRR dan Hits@K\n",
        "    mrr = mrr_sum / num_samples\n",
        "    hits_at_k = hits_at_k_sum / num_samples\n",
        "\n",
        "    return mrr, hits_at_k\n",
        "\n",
        "# Mengumpulkan semua entitas sebagai daftar\n",
        "all_entities_list = list(range(num_entities))\n",
        "\n",
        "# Menjalankan evaluasi model\n",
        "mrr, hits_at_10 = evaluate_model(model, triples_idx, all_entities_list, num_samples=1000, k=10)\n",
        "\n",
        "mrr, hits_at_10\n",
        "\n"
      ],
      "metadata": {
        "colab": {
          "base_uri": "https://localhost:8080/"
        },
        "id": "IIV67thXQjGL",
        "outputId": "0272d39d-06d0-4c6a-88bc-d12e4c4a53a6"
      },
      "execution_count": null,
      "outputs": [
        {
          "output_type": "execute_result",
          "data": {
            "text/plain": [
              "(0.41107035338778425, 0.784)"
            ]
          },
          "metadata": {},
          "execution_count": 151
        }
      ]
    },
    {
      "cell_type": "code",
      "source": [
        "# Mendapatkan embeddings dari model\n",
        "entity_embeddings = model.ent_embeddings.weight.data.numpy()\n",
        "relation_embeddings = model.rel_embeddings.weight.data.numpy()\n",
        "\n",
        "# Menampilkan sebagian dari embeddings\n",
        "# Kita akan menampilkan 5 embeddings pertama untuk entitas dan relasi\n",
        "print(\"Entity Embeddings (5 first embeddings):\")\n",
        "print(entity_embeddings[:5])\n",
        "print(\"\\nRelation Embeddings (5 first embeddings):\")\n",
        "print(relation_embeddings[:5])\n",
        "\n"
      ],
      "metadata": {
        "colab": {
          "base_uri": "https://localhost:8080/"
        },
        "id": "zhZs3k1GRHpb",
        "outputId": "b7c48c91-3479-4f92-d3a9-0b725858ebf6"
      },
      "execution_count": null,
      "outputs": [
        {
          "output_type": "stream",
          "name": "stdout",
          "text": [
            "Entity Embeddings (5 first embeddings):\n",
            "[[ 2.06697546e-02 -4.67420481e-02  1.86725277e-02 -1.57951191e-02\n",
            "  -2.22240258e-02  1.50851067e-03 -1.61554795e-02  5.24952039e-02\n",
            "   5.36097698e-02  1.82241425e-02 -1.52157834e-02  1.60236415e-02\n",
            "   2.25969777e-02  5.22600748e-02  2.51857154e-02 -4.73344363e-02\n",
            "  -5.68781756e-02 -6.31877854e-02  1.41010154e-03  1.79677121e-02\n",
            "  -3.62331718e-02 -4.50636446e-02 -2.68570855e-02 -5.01627773e-02\n",
            "   4.18858267e-02  1.15176644e-02  5.02589121e-02 -1.73066091e-02\n",
            "   1.39254881e-02 -3.37218633e-04  4.78002280e-02  3.56930643e-02\n",
            "   6.19164221e-02 -2.23139562e-02  4.68314663e-02 -2.10443828e-02\n",
            "   5.49535900e-02 -1.31072151e-02 -4.88968380e-02  5.21184690e-02\n",
            "   5.35717160e-02 -6.11672327e-02 -2.92314515e-02  3.21222544e-02\n",
            "   4.25106362e-02  5.24245873e-02  8.80692992e-03 -2.16859467e-02\n",
            "  -2.55653802e-02 -5.77380769e-02 -3.62530984e-02  4.25762590e-03\n",
            "   1.33143719e-02 -1.81351546e-02 -8.58087849e-04 -2.94534676e-02\n",
            "   5.10728396e-02 -6.30886853e-02  5.87566346e-02  4.31811586e-02\n",
            "   1.61815863e-02 -2.56547555e-02  3.63238901e-02 -3.93824093e-02\n",
            "  -1.19079184e-02  6.24153018e-02 -7.85484724e-03  2.21513528e-02\n",
            "  -7.96406530e-03  3.20771001e-02  5.28888172e-03 -3.99821252e-02\n",
            "  -8.82265344e-03 -3.15377712e-02 -3.58857363e-02  1.67476330e-02\n",
            "   5.65063246e-02  4.10463214e-02  4.91829701e-02 -1.16586639e-02\n",
            "   5.38449138e-02  4.91901562e-02  2.78404485e-02 -4.65875901e-02\n",
            "   7.90669117e-03  2.69363653e-02  5.33962622e-02 -5.95791563e-02\n",
            "  -3.16946395e-02  4.20378037e-02 -5.09312563e-03  3.14483568e-02\n",
            "  -4.25396115e-02  2.10569743e-02 -5.77500015e-02 -1.56266522e-02\n",
            "  -1.78196430e-02  4.53023724e-02 -6.02498092e-02  9.47384257e-03]\n",
            " [ 9.30162370e-01 -7.66456246e-01 -4.18045580e-01  2.73650199e-01\n",
            "  -8.81499767e-01 -5.65790057e-01 -4.24695462e-01 -5.75138450e-01\n",
            "   6.51566446e-01  7.19688118e-01 -1.59387160e-02  1.70552805e-01\n",
            "   1.04117107e+00 -4.95985448e-01  5.27627587e-01 -6.38005793e-01\n",
            "   4.74513859e-01 -1.22944653e+00 -6.49821520e-01  1.06441677e+00\n",
            "  -4.93232131e-01  7.50695169e-01 -1.01930392e+00  7.58171856e-01\n",
            "   1.01090157e+00  3.47363144e-01  2.46882007e-01 -6.70669854e-01\n",
            "  -1.00089741e+00  4.86245871e-01 -7.07509041e-01 -4.75304127e-01\n",
            "  -5.62089728e-03  2.96074539e-01  1.43613636e-01 -9.17464674e-01\n",
            "   9.03111994e-01 -1.89222664e-01 -6.52351797e-01  4.31841344e-01\n",
            "   4.90217516e-03  5.10591149e-01  4.73418564e-01  1.49975848e+00\n",
            "  -1.67130619e-01 -7.54547417e-01  1.97072908e-01  5.23886323e-01\n",
            "  -3.85871470e-01  6.72455013e-01  7.35538006e-01 -1.57121673e-01\n",
            "  -6.08427703e-01  5.34939952e-02  1.08717060e+00 -8.64161432e-01\n",
            "   1.96996257e-01 -1.30931646e-01  8.62089992e-01 -3.92828137e-01\n",
            "   2.39463970e-01  2.21154792e-03  1.46506059e+00  4.35635984e-01\n",
            "  -2.38037691e-01  8.73831287e-02  4.94603664e-01 -3.52972955e-01\n",
            "  -9.09495234e-01 -1.30907670e-01 -5.02715766e-01  7.79200852e-01\n",
            "   9.68227863e-01 -5.53599000e-01 -3.97307903e-01 -4.99705255e-01\n",
            "   5.80076873e-01 -8.01556647e-01  3.60569179e-01 -6.54142737e-01\n",
            "  -7.97085285e-01  3.72904420e-01  4.19346571e-01  9.28594768e-01\n",
            "   4.10943180e-01 -4.90471125e-01  1.06566441e+00 -1.00093031e+00\n",
            "   9.65991735e-01  3.96898985e-01  6.51884735e-01 -7.65330017e-01\n",
            "  -1.19158590e+00 -3.35615516e-01  1.45222440e-01  6.46818876e-01\n",
            "   6.67963326e-01 -8.89164150e-01 -2.39456594e-01  1.11012793e+00]\n",
            " [ 6.01610422e-01 -4.54201013e-01  5.70457160e-01  9.48225483e-02\n",
            "  -2.67240461e-02 -6.70991421e-01  2.75426000e-01  1.28666917e-02\n",
            "  -5.84589206e-02 -4.66402113e-01  7.41216004e-01  2.02096447e-01\n",
            "   3.52497548e-01  6.68503642e-01  2.45768011e-01 -4.63702857e-01\n",
            "  -4.84504074e-01 -8.36473480e-02 -6.12853765e-01 -1.79144055e-01\n",
            "  -6.27224892e-02  8.67691875e-01  3.23550582e-01  1.88806787e-01\n",
            "   4.04783398e-01 -5.38338542e-01  2.38098893e-02  4.64519650e-01\n",
            "  -8.41786206e-01  2.74281800e-01 -7.81150579e-01 -5.75644851e-01\n",
            "   8.08650315e-01 -5.29895723e-01  2.59879082e-01  3.89212072e-01\n",
            "   1.46663055e-01  4.72959936e-01  4.61460471e-01 -9.93715376e-02\n",
            "   7.14579299e-02 -4.93103743e-01 -4.75007892e-01 -4.31187361e-01\n",
            "   5.96939743e-01  4.63838398e-01  4.40990508e-01  1.22666925e-01\n",
            "  -3.52428555e-01  3.39639753e-01 -4.03990187e-02  5.66849530e-01\n",
            "  -5.54471910e-01 -3.62040430e-01 -2.95686185e-01 -6.91602409e-01\n",
            "   1.96538910e-01 -4.50788736e-01  3.20598036e-01 -3.77166390e-01\n",
            "   1.32841960e-01  6.16795838e-01 -7.53427088e-01 -4.68769558e-02\n",
            "  -3.42130721e-01  2.47021750e-01  5.68735301e-01 -1.59030944e-01\n",
            "   2.32306570e-01  8.14652741e-01 -3.05759758e-01  5.40377200e-01\n",
            "   3.08296651e-01 -3.61631066e-01  3.10896665e-01  4.40979600e-01\n",
            "   5.32983243e-02 -6.42930806e-01 -5.27078867e-01 -5.53447187e-01\n",
            "  -2.12798551e-01  1.46245077e-01 -1.07877322e-01  5.05335391e-01\n",
            "   8.78552794e-02  4.32210743e-01  5.99466801e-01 -4.45501119e-01\n",
            "   5.58642387e-01  1.10102985e-02  6.42807186e-01 -5.25360405e-01\n",
            "  -6.38572872e-01 -4.17717844e-01 -2.27665767e-01  7.81743765e-01\n",
            "   1.63863257e-01 -7.92497396e-02  5.96000612e-01  4.65485096e-01]\n",
            " [ 6.44578695e-01 -2.03264728e-01 -7.07037389e-01  4.42786187e-01\n",
            "   8.70438039e-01  8.14214826e-01  5.06537557e-01  1.37568808e+00\n",
            "   4.27749485e-01  3.80528755e-02  6.54823005e-01 -7.42005408e-01\n",
            "  -3.69812734e-02  4.07073826e-01  2.03473508e-01  1.04904938e+00\n",
            "   2.98705727e-01 -5.14099970e-02  3.35147887e-01  7.00145364e-01\n",
            "   6.06893241e-01 -3.50334048e-01  1.19508006e-01  2.96552300e-01\n",
            "  -7.43543029e-01 -5.36585748e-01  6.22457743e-01 -4.48278785e-01\n",
            "   5.66085994e-01  3.38501871e-01 -2.79777169e-01  2.02226594e-01\n",
            "   3.93393368e-01 -1.09288499e-01 -4.80117708e-01 -8.01217854e-02\n",
            "   6.91969991e-02  4.91201341e-01 -2.49866862e-02  6.06728010e-02\n",
            "  -4.17667419e-01  7.90797293e-01  2.10589036e-01  3.00489604e-01\n",
            "  -8.24817300e-01  4.32508945e-01  7.61182308e-01 -3.89356501e-02\n",
            "   6.78085506e-01 -1.22982174e-01 -3.58905405e-01 -6.71187639e-01\n",
            "  -5.68261623e-01  5.37941098e-01  2.78847843e-01 -1.81684703e-01\n",
            "   6.83313012e-01  2.75735259e-01 -1.19200194e+00  2.47919679e-01\n",
            "  -6.79006755e-01 -1.49192184e-01 -1.02640785e-01 -1.25130072e-01\n",
            "   7.67071664e-01  4.82996702e-01 -8.28339994e-01  6.99173689e-01\n",
            "  -1.11471020e-01  5.73492050e-01  1.30098999e-01  4.31001186e-01\n",
            "   1.56363145e-01 -6.66936278e-01  2.54465938e-01  1.38849989e-01\n",
            "   5.24612963e-01 -3.95465463e-01 -5.57417870e-01 -2.48247683e-02\n",
            "  -1.86861902e-01 -4.79793251e-01 -5.18378854e-01 -7.52559066e-01\n",
            "  -2.00283915e-01 -7.18021452e-01  2.69537303e-03  3.32794249e-01\n",
            "  -6.11192346e-01  2.60231216e-02  7.03748405e-01  3.17729563e-01\n",
            "  -2.35871837e-01  5.70022702e-01 -4.69504535e-01  4.66187075e-02\n",
            "   2.43144929e-01 -5.41903265e-02 -5.20151556e-01 -6.97818816e-01]\n",
            " [ 1.05655181e+00 -9.96471047e-02 -2.94227391e-01 -5.44905245e-01\n",
            "   3.56431715e-02 -9.91496027e-01  7.17828989e-01  1.51888177e-01\n",
            "   6.35803580e-01 -5.46025097e-01 -2.85922348e-01  4.35494453e-01\n",
            "   9.69698012e-01 -5.92219055e-01  7.83639848e-01 -5.80951989e-01\n",
            "  -4.81406115e-02 -5.11244358e-03 -5.15484571e-01  6.65519059e-01\n",
            "  -6.10087395e-01  1.00552452e+00 -1.49605647e-01  8.04097831e-01\n",
            "   5.16352773e-01 -6.95458353e-02 -2.33389571e-01 -6.88027620e-01\n",
            "  -5.43399751e-01 -7.28472620e-02 -8.52247596e-01 -1.01060486e+00\n",
            "  -4.28896517e-01  1.21551692e+00 -2.98265815e-01  7.16113806e-01\n",
            "  -8.85426179e-02 -5.08204579e-01  5.86744428e-01  2.99966425e-01\n",
            "   2.89606482e-01 -1.04252911e+00 -5.24242818e-01 -3.66925776e-01\n",
            "   1.08329463e+00  7.04673588e-01  8.44088733e-01  2.17909031e-02\n",
            "  -2.52078414e-01  7.70045698e-01  9.73860860e-01  9.94426906e-01\n",
            "  -3.26732725e-01  1.03184760e-01  7.74753571e-01  1.96244605e-02\n",
            "   6.60016835e-01 -6.01601064e-01 -2.10218012e-01  4.71753895e-01\n",
            "   1.08852267e+00  1.06271636e+00  6.74317360e-01  8.27124417e-01\n",
            "  -9.37952101e-02  5.12204230e-01  1.50706574e-01  9.46878612e-01\n",
            "  -7.01837897e-01  7.70766586e-02  3.16304833e-01 -5.00566244e-01\n",
            "  -8.91669035e-01 -1.18704312e-01  5.77300727e-01 -7.04352796e-01\n",
            "   7.61773467e-01  2.10675091e-01 -9.89456415e-01 -3.77797753e-01\n",
            "  -3.98444474e-01  4.99527931e-01 -1.12531042e+00  1.08595610e+00\n",
            "   6.89306915e-01  8.73912990e-01 -6.74485147e-01 -2.08026499e-01\n",
            "   8.16007853e-01 -6.63631976e-01  5.91349185e-01 -2.17334613e-01\n",
            "   1.93170354e-01 -8.46173048e-01 -8.30350220e-01  3.14881742e-01\n",
            "  -4.78823692e-01  4.99632269e-01  1.37463585e-01  1.09925258e+00]]\n",
            "\n",
            "Relation Embeddings (5 first embeddings):\n",
            "[[ 1.93924874e-01  4.34183963e-02  1.09347232e-01 -1.77075583e-02\n",
            "   2.73486618e-02  1.56794652e-01 -4.81749214e-02 -1.37189284e-01\n",
            "   1.22266233e-01 -1.76246554e-01 -2.56948564e-02  2.82276422e-03\n",
            "   1.98312819e-01  5.17193787e-02 -1.78459093e-01  1.06540859e-01\n",
            "  -7.62889087e-02  1.03048615e-01  3.32769677e-02  8.08493942e-02\n",
            "   1.16249420e-01 -7.43486658e-02  4.41960916e-02 -3.98754440e-02\n",
            "   1.15761988e-01  2.98743658e-02  1.61443889e-01  6.59712031e-02\n",
            "   1.39082476e-01  6.78131506e-02 -8.13885927e-02 -2.36898568e-02\n",
            "   1.54994652e-01 -1.34108275e-01  1.73328724e-02  6.66749850e-02\n",
            "  -4.97902092e-03 -1.38395920e-01  1.63662031e-01 -3.48142274e-02\n",
            "   5.44726029e-02 -6.49690777e-02  1.21250831e-01  1.15938820e-01\n",
            "  -6.64244220e-02 -1.20980874e-01  7.10268915e-02  7.66078308e-02\n",
            "  -3.09404619e-02  1.85700640e-01 -1.04917504e-01 -1.43564090e-01\n",
            "   6.94092587e-02  5.63622043e-02 -1.70019656e-01  3.01624555e-02\n",
            "   8.77183583e-03 -1.86782092e-01  1.16011612e-01 -3.21953706e-02\n",
            "  -1.00170448e-01  1.80065677e-01  1.24528728e-01  1.43163903e-02\n",
            "  -3.60305049e-02  2.00059101e-01  1.52497709e-01 -4.46125679e-02\n",
            "   1.47770002e-01  6.36089072e-02  7.31402859e-02  1.69874564e-01\n",
            "   1.40355989e-01  2.43832041e-02 -5.55109717e-02  1.30690902e-01\n",
            "   1.96891487e-01  6.91175312e-02 -1.65548176e-01 -2.16108914e-02\n",
            "   6.62413538e-02 -9.60950274e-03 -1.62265599e-01  1.91699520e-01\n",
            "   1.66229233e-02 -1.38256669e-01  6.68425038e-02  1.16117038e-01\n",
            "   1.50129318e-01 -1.61896333e-01 -4.35806083e-04  7.17070606e-03\n",
            "   3.75134125e-02 -1.36011422e-01 -1.69579208e-01 -4.34124134e-02\n",
            "  -1.26690418e-01  4.54257615e-02 -8.79857987e-02  1.66523710e-01]\n",
            " [ 1.26692104e+00  1.45659745e+00 -1.52520633e+00  1.47275794e+00\n",
            "  -2.23107123e+00 -2.66561055e+00 -2.42970371e+00  1.06809902e+00\n",
            "   1.68136978e+00 -2.44359970e+00  7.24374413e-01 -2.52889657e+00\n",
            "  -4.35153306e-01  1.26804483e+00  1.48136973e+00 -1.91123748e+00\n",
            "  -1.07945931e+00 -2.32377553e+00 -2.72792602e+00 -2.29606128e+00\n",
            "  -2.48904538e+00 -1.96237803e+00  1.93358123e+00 -2.34173536e+00\n",
            "  -1.27058792e+00  1.44819129e+00  1.45629644e+00  1.85454309e+00\n",
            "  -2.46222448e+00  1.78318131e+00  2.00491595e+00 -1.59097469e+00\n",
            "   2.25159168e+00  2.70633173e+00 -2.28434324e+00 -1.71161175e+00\n",
            "   2.40686584e+00  2.23695064e+00  2.53909945e+00 -1.48080420e+00\n",
            "  -2.84947610e+00 -2.75923300e+00  1.64795232e+00  1.35386014e+00\n",
            "  -2.43208981e+00  1.44128847e+00  1.13357306e+00 -2.63840365e+00\n",
            "  -1.99061310e+00  1.95433390e+00 -1.77335846e+00 -2.03349113e+00\n",
            "   2.12029576e+00 -1.64741933e+00  1.84299159e+00 -7.42285013e-01\n",
            "   2.19354486e+00 -1.80451226e+00 -2.34276891e+00 -2.42768407e+00\n",
            "  -2.14283299e+00 -1.05516982e+00 -1.84043229e+00 -1.14653814e+00\n",
            "  -1.66558158e+00  8.61452043e-01 -2.13092136e+00  8.90910149e-01\n",
            "   1.63989735e+00  2.42522216e+00  4.57948536e-01  1.98568273e+00\n",
            "   1.74064159e+00  2.24935699e+00  1.71959174e+00  1.39092970e+00\n",
            "   2.20235467e+00  2.29888558e+00  1.15251327e+00 -1.28682089e+00\n",
            "  -1.88504088e+00 -1.53664672e+00  1.42301130e+00 -1.89258516e+00\n",
            "  -1.12892963e-01 -2.60654521e+00 -2.12744355e+00 -1.55437708e+00\n",
            "  -2.50991964e+00  1.52238929e+00  8.91497016e-01 -1.41624546e+00\n",
            "   2.23429012e+00 -2.46079183e+00  1.89910436e+00  2.16351795e+00\n",
            "  -2.40877795e+00 -2.34240699e+00  1.82709503e+00 -2.22560596e+00]\n",
            " [-1.85075843e+00  1.82643616e+00  1.79997730e+00 -1.78949523e+00\n",
            "  -7.02482581e-01 -2.39086175e+00  2.84876704e-01 -1.77352619e+00\n",
            "   1.92628336e+00 -1.41087914e+00 -2.07865310e+00  1.50210768e-01\n",
            "   2.08486104e+00 -1.71102083e+00  1.70197058e+00  1.42274618e+00\n",
            "  -2.27067256e+00  1.96987092e+00 -2.08223867e+00  4.01281238e-01\n",
            "  -1.51594484e+00 -2.15999079e+00  2.00713754e+00 -1.58177578e+00\n",
            "   1.71682203e+00  1.67882192e+00 -1.85054815e+00  2.08887362e+00\n",
            "  -2.22769284e+00  1.81966531e+00 -1.15988564e+00  1.06426418e+00\n",
            "  -2.04383302e+00  5.47616005e-01  3.02137494e-01  1.57616639e+00\n",
            "   3.49136949e-01  1.87546778e+00  1.39800000e+00  1.57935917e+00\n",
            "  -1.71154630e+00 -1.71019375e+00 -8.76332045e-01  2.34088445e+00\n",
            "  -2.04357839e+00 -1.34218097e+00 -1.61270452e+00 -2.21929812e+00\n",
            "   1.09613526e+00 -1.46765435e+00 -1.14564168e+00 -1.64642978e+00\n",
            "   6.86960816e-01  1.77956438e+00 -1.57132947e+00  2.09566474e+00\n",
            "  -1.82166398e+00  1.97353446e+00  7.31684506e-01 -4.72261369e-01\n",
            "  -1.84474099e+00  1.74628234e+00  4.29576546e-01 -1.77446878e+00\n",
            "   1.30138922e+00 -1.71730721e+00 -2.14170647e+00 -1.90944207e+00\n",
            "   1.98805583e+00  5.78947723e-01  1.33207846e+00 -2.12211084e+00\n",
            "  -1.93780172e+00 -5.48677564e-01  1.06909156e+00  8.87709558e-01\n",
            "   2.35662580e+00 -1.75206304e+00  1.63138807e+00  1.80912352e+00\n",
            "   1.01272786e+00  1.60163832e+00  1.95755696e+00  1.11659157e+00\n",
            "   2.19000292e+00 -1.49647141e+00  1.98387980e+00  2.28297758e+00\n",
            "  -2.22713399e+00  1.93841410e+00 -1.53507805e+00 -2.05493093e+00\n",
            "   1.47440387e-02 -1.74070215e+00  1.73228288e+00  1.74157810e+00\n",
            "  -2.53117323e+00 -6.55035615e-01  7.66962051e-01 -1.71707487e+00]\n",
            " [ 1.09526324e+00 -4.36734796e-01  1.11453736e+00 -1.45462978e+00\n",
            "   1.54892671e+00 -1.67868876e+00 -8.40130448e-01  8.43877256e-01\n",
            "   5.84810436e-01  1.41880143e+00 -1.52961743e+00  7.53615141e-01\n",
            "  -7.06996441e-01 -1.04396653e+00  1.92575598e+00  1.27839839e+00\n",
            "  -1.28217447e+00  2.13623857e+00 -2.47983170e+00  1.49681699e+00\n",
            "   1.03412437e+00 -6.40815735e-01  2.40684390e+00 -2.33170971e-01\n",
            "   6.51003361e-01 -4.45878744e-01 -1.91310644e-01 -2.96179861e-01\n",
            "  -3.71794462e-01  8.88135254e-01 -1.68935597e+00 -2.11207294e+00\n",
            "  -1.78598869e+00 -1.09304357e+00  5.17676890e-01 -2.51653016e-01\n",
            "   6.65457666e-01  6.10541403e-01  9.74308848e-01  1.40808237e+00\n",
            "  -6.95605814e-01 -6.45000935e-01 -1.96452081e+00  1.33704400e+00\n",
            "  -1.69767547e+00 -4.34174806e-01  1.65781483e-01 -1.69625604e+00\n",
            "   1.94013309e+00  7.02550650e-01  5.81709087e-01  2.97440290e-01\n",
            "   1.78988087e+00  2.08380032e+00  2.99804986e-01  1.80525863e+00\n",
            "   1.43700862e+00  2.19533706e+00  1.84050477e+00 -2.37727690e+00\n",
            "  -1.51862657e+00  1.63076460e+00  2.35428238e+00 -1.02918804e+00\n",
            "   1.80622041e-01 -1.08153045e+00 -1.22014618e+00  2.45155856e-01\n",
            "   7.20591486e-01  1.76951206e+00  4.51592654e-01 -8.18576738e-02\n",
            "  -8.97140086e-01  2.28313088e+00  1.51303065e+00  2.31509113e+00\n",
            "   2.46529603e+00 -2.15291142e+00  1.81902766e+00  1.73003674e+00\n",
            "  -2.78948092e+00  8.37980211e-01  2.82112956e-01 -1.63689911e+00\n",
            "  -2.09497049e-01 -3.01165104e+00  8.54725599e-01 -1.81986678e+00\n",
            "   1.61961842e+00  8.99141312e-01  4.35339928e-01 -9.50369954e-01\n",
            "   1.71633923e+00  1.62542236e+00  1.40106750e+00 -1.52683806e+00\n",
            "  -1.77067351e+00 -1.51443374e+00 -7.34176517e-01  1.55413091e+00]\n",
            " [-2.49491858e+00  2.60942864e+00  1.99481845e+00 -2.28650355e+00\n",
            "   5.00930309e-01 -2.26501274e+00  7.24403262e-01 -2.44245076e+00\n",
            "   1.95542920e+00  8.32423568e-01 -2.42673302e+00 -2.08634329e+00\n",
            "   2.29972458e+00 -2.31497741e+00  1.23845708e+00  2.00586247e+00\n",
            "  -1.79677105e+00  6.91397011e-01 -2.02907515e+00  1.59810162e+00\n",
            "   6.51976824e-01 -2.34724450e+00  2.89432383e+00 -1.13866043e+00\n",
            "   1.57078385e+00  2.20788884e+00 -1.83666646e+00  2.09346914e+00\n",
            "  -1.85738850e+00  1.79789984e+00  2.41175556e+00 -2.44067025e+00\n",
            "  -2.75034666e+00  1.75667298e+00  1.84213996e+00  4.74916458e-01\n",
            "  -1.82536483e+00  7.68123925e-01  1.81393147e+00  1.90106356e+00\n",
            "  -2.72735715e+00 -2.70694637e+00 -2.52932334e+00  1.04309762e+00\n",
            "  -1.72536242e+00 -2.48889709e+00 -1.55773365e+00 -2.80317426e+00\n",
            "   1.47885287e+00 -2.13105488e+00 -2.25661182e+00 -1.87915123e+00\n",
            "  -1.89217436e+00  2.21311903e+00 -1.93435097e+00  1.50042307e+00\n",
            "  -4.82213348e-01  1.63235462e+00  9.02335823e-01 -1.05702043e+00\n",
            "  -2.08112407e+00  2.13003898e+00 -9.89069697e-03 -2.48926759e+00\n",
            "   1.23529673e+00 -2.22504663e+00 -2.45773053e+00 -2.37291861e+00\n",
            "   1.87000835e+00  1.50310540e+00  1.97919333e+00 -1.77440560e+00\n",
            "  -1.24656546e+00  2.37670565e+00  8.77905965e-01  2.33237123e+00\n",
            "   2.24395418e+00 -1.13739455e+00  2.12822843e+00  1.96240139e+00\n",
            "   9.23565686e-01  1.81358325e+00  2.12760210e+00  2.32688642e+00\n",
            "   2.70919490e+00 -1.03193092e+00  1.69017410e+00  1.91220033e+00\n",
            "  -2.09446073e+00  1.97138369e+00 -2.29743910e+00 -3.78276497e-01\n",
            "  -2.15251637e+00 -2.32823801e+00  2.37577534e+00  2.47937465e+00\n",
            "  -2.19955230e+00 -1.43822956e+00  2.37779641e+00 -2.44497347e+00]]\n"
          ]
        }
      ]
    },
    {
      "cell_type": "code",
      "source": [
        "# Batch size untuk proses prediksi\n",
        "batch_size_pred = 32\n",
        "\n",
        "# Mengumpulkan semua entitas sebagai daftar\n",
        "all_entities_list = list(range(num_entities))\n",
        "\n",
        "# Menyiapkan dataset untuk proses prediksi\n",
        "prediction_dataset = TensorDataset(triples_tensor)\n",
        "prediction_loader = DataLoader(prediction_dataset, batch_size=batch_size_pred, shuffle=False)\n",
        "\n",
        "# Fungsi untuk memprediksi triples menggunakan model\n",
        "def predict_triples(model, data_loader):\n",
        "    model.eval()  # Set model ke mode evaluasi\n",
        "    predicted_triples = []\n",
        "\n",
        "    with torch.no_grad():\n",
        "        for triplets in data_loader:\n",
        "            scores = model(triplets[0])\n",
        "            predicted_triples.extend(scores.tolist())\n",
        "\n",
        "    return predicted_triples\n",
        "\n",
        "# Prediksi triples\n",
        "predicted_triples = predict_triples(model, prediction_loader)\n",
        "predicted_triples[:5]"
      ],
      "metadata": {
        "colab": {
          "base_uri": "https://localhost:8080/"
        },
        "id": "pxwXfwSQROp5",
        "outputId": "fb793b58-14eb-4275-d635-016263dd5e6e"
      },
      "execution_count": null,
      "outputs": [
        {
          "output_type": "execute_result",
          "data": {
            "text/plain": [
              "[0.05722835659980774,\n",
              " 26.125507354736328,\n",
              " 12.851375579833984,\n",
              " 36.40024948120117,\n",
              " 10.686295509338379]"
            ]
          },
          "metadata": {},
          "execution_count": 153
        }
      ]
    },
    {
      "cell_type": "code",
      "source": [
        "# Fungsi untuk memetakan kembali indeks ke URI\n",
        "def map_indices_to_uris(triples_idx, entity2idx, relation2idx):\n",
        "    # Membuat reverse mapping dari indeks ke URI\n",
        "    idx2entity = {idx: uri for uri, idx in entity2idx.items()}\n",
        "    idx2relation = {idx: uri for uri, idx in relation2idx.items()}\n",
        "\n",
        "    # Memetakan kembali indeks ke URI\n",
        "    triples_uri = [(idx2entity[h], idx2relation[r], idx2entity[t]) for h, r, t in triples_idx]\n",
        "    return triples_uri\n",
        "\n",
        "# Memetakan kembali triples indeks ke URI\n",
        "triples_uri = map_indices_to_uris(triples_idx, entity2idx, relation2idx)\n",
        "\n",
        "# Menyimpan triples URI dalam file teks\n",
        "output_file_path = 'predicted_triples_6_no_ontology.txt'\n",
        "with open(output_file_path, 'w') as file:\n",
        "    for triple in triples_uri:\n",
        "        file.write(f\"{triple[0]}, {triple[1]}, {triple[2]}\\n\")\n",
        "\n",
        "output_file_path\n"
      ],
      "metadata": {
        "colab": {
          "base_uri": "https://localhost:8080/",
          "height": 36
        },
        "id": "hdIZjFCzRUcn",
        "outputId": "db6c5966-4932-46af-827a-0f33f94eabfe"
      },
      "execution_count": null,
      "outputs": [
        {
          "output_type": "execute_result",
          "data": {
            "text/plain": [
              "'predicted_triples_6_no_ontology.txt'"
            ],
            "application/vnd.google.colaboratory.intrinsic+json": {
              "type": "string"
            }
          },
          "metadata": {},
          "execution_count": 154
        }
      ]
    },
    {
      "cell_type": "markdown",
      "source": [
        "# **Ubah string ke URI-6**"
      ],
      "metadata": {
        "id": "Zsci76fWRfD2"
      }
    },
    {
      "cell_type": "code",
      "source": [
        "# Membaca file\n",
        "file_path = '/content/predicted_triples_6_no_ontology.txt'\n",
        "\n",
        "with open(file_path, 'r') as file:\n",
        "    sample_lines = [next(file) for _ in range(5)]\n",
        "\n",
        "sample_lines\n"
      ],
      "metadata": {
        "colab": {
          "base_uri": "https://localhost:8080/"
        },
        "id": "NBEzcEVwRar7",
        "outputId": "4d1f3aec-949c-4bfd-8a9d-a435db4914f0"
      },
      "execution_count": null,
      "outputs": [
        {
          "output_type": "execute_result",
          "data": {
            "text/plain": [
              "['http://kgc.knowledge-graph.jp/data/SpeckledBand/283, http://kgc.knowledge-graph.jp/ontology/kgc.owl#hasPredicate, http://kgc.knowledge-graph.jp/data/SpeckledBand/sleep\\n',\n",
              " 'http://kgc.knowledge-graph.jp/data/SpeckledBand/373, http://www.w3.org/1999/02/22-rdf-syntax-ns#type, http://kgc.knowledge-graph.jp/ontology/kgc.owl#Scene\\n',\n",
              " 'http://kgc.knowledge-graph.jp/data/SpeckledBand/398, http://kgc.knowledge-graph.jp/ontology/kgc.owl#hasPart, http://kgc.knowledge-graph.jp/data/SpeckledBand/snake\\n',\n",
              " 'http://kgc.knowledge-graph.jp/data/SpeckledBand/370, http://www.w3.org/1999/02/22-rdf-syntax-ns#type, http://kgc.knowledge-graph.jp/ontology/kgc.owl#Scene\\n',\n",
              " 'http://kgc.knowledge-graph.jp/data/SpeckledBand/death_day_of_mother_of_Helen, http://kgc.knowledge-graph.jp/ontology/kgc.owl#ofWhole, http://kgc.knowledge-graph.jp/data/SpeckledBand/mother\\n']"
            ]
          },
          "metadata": {},
          "execution_count": 155
        }
      ]
    },
    {
      "cell_type": "code",
      "source": [
        "import re\n",
        "\n",
        "# base URI yang digunakan\n",
        "base_uri = \"http://kgc.knowledge-graph.jp/data/SpeckledBand/\"\n",
        "\n",
        "import re\n",
        "def is_uri(s):\n",
        "    return s.startswith('http://') or s.startswith('https://')\n",
        "\n",
        "def convert_to_uri(s, base_uri):\n",
        "    return base_uri + re.sub(r'\\s+', '_', s.strip())\n",
        "def process_triples_corrected(input_file_path, output_file_path, base_uri):\n",
        "    with open(input_file_path, 'r') as input_file, open(output_file_path, 'w') as output_file:\n",
        "        for line in input_file:\n",
        "            parts = line.split(',', maxsplit=2)\n",
        "            if len(parts) == 3:\n",
        "                subject, predicate, obj = [part.strip() for part in parts]\n",
        "\n",
        "                # Hanya mengubah menjadi URI jika belum dalam format URI\n",
        "                if not is_uri(subject):\n",
        "                    subject = convert_to_uri(subject, base_uri)\n",
        "                if not is_uri(predicate):\n",
        "                    predicate = convert_to_uri(predicate, base_uri)\n",
        "                if not is_uri(obj):\n",
        "                    obj = convert_to_uri(obj, base_uri)\n",
        "\n",
        "                output_file.write(f\"{subject}, {predicate}, {obj}\\n\")\n",
        "            else:\n",
        "                print(f\"Invalid line format: {line}\")\n",
        "\n",
        "process_triples_corrected('predicted_triples_6_no_ontology.txt', 'processed_triples_6_no_ontology.txt', base_uri)\n",
        "\n"
      ],
      "metadata": {
        "id": "O-bJfUCGRkFL"
      },
      "execution_count": null,
      "outputs": []
    },
    {
      "cell_type": "code",
      "source": [
        "def check_for_non_uri_entities(file_path, base_uri):\n",
        "    non_uri_entities = set()\n",
        "\n",
        "    with open(file_path, 'r') as file:\n",
        "        for line in file:\n",
        "            parts = line.split(',', maxsplit=2)\n",
        "            if len(parts) == 3:\n",
        "                subject, predicate, obj = [part.strip() for part in parts]\n",
        "\n",
        "                # Cek apakah subject, predicate, dan object sudah dalam format URI\n",
        "                if not is_uri(subject):\n",
        "                    non_uri_entities.add(subject)\n",
        "                if not is_uri(predicate):\n",
        "                    non_uri_entities.add(predicate)\n",
        "                if not is_uri(obj):\n",
        "                    non_uri_entities.add(obj)\n",
        "\n",
        "    return non_uri_entities\n",
        "\n",
        "# Menetapkan jalur file output yang benar\n",
        "corrected_output_file_path = '/content/processed_triples_6_no_ontology.txt'\n",
        "\n",
        "# Menjalankan fungsi untuk mengecek file yang telah diproses\n",
        "non_uri_entities_in_corrected_file = check_for_non_uri_entities(corrected_output_file_path, base_uri)\n",
        "non_uri_entities_in_corrected_file"
      ],
      "metadata": {
        "colab": {
          "base_uri": "https://localhost:8080/"
        },
        "id": "Ou7CxIE4RzNv",
        "outputId": "e2d9f4c6-20e7-4ee8-af8e-4e160cd70853"
      },
      "execution_count": null,
      "outputs": [
        {
          "output_type": "execute_result",
          "data": {
            "text/plain": [
              "set()"
            ]
          },
          "metadata": {},
          "execution_count": 157
        }
      ]
    },
    {
      "cell_type": "markdown",
      "source": [
        "# **Gabungkan hasil embedding ke new tripple - 6**"
      ],
      "metadata": {
        "id": "0CjPaFg9R4Aa"
      }
    },
    {
      "cell_type": "code",
      "source": [
        "# Membaca file file hasil embedding\n",
        "file_path = '/content/processed_triples_6_no_ontology.txt'\n",
        "\n",
        "with open(file_path, 'r') as file:\n",
        "    processed_triples_content = file.read()\n",
        "\n",
        "# Menanpilkan data\n",
        "print(processed_triples_content[:500])  # Menampilkan preview 500 karakter\n"
      ],
      "metadata": {
        "colab": {
          "base_uri": "https://localhost:8080/"
        },
        "id": "_DtCzquYR3OQ",
        "outputId": "f94c3860-5668-4fd9-fefd-0de0012e56c1"
      },
      "execution_count": null,
      "outputs": [
        {
          "output_type": "stream",
          "name": "stdout",
          "text": [
            "http://kgc.knowledge-graph.jp/data/SpeckledBand/283, http://kgc.knowledge-graph.jp/ontology/kgc.owl#hasPredicate, http://kgc.knowledge-graph.jp/data/SpeckledBand/sleep\n",
            "http://kgc.knowledge-graph.jp/data/SpeckledBand/373, http://www.w3.org/1999/02/22-rdf-syntax-ns#type, http://kgc.knowledge-graph.jp/ontology/kgc.owl#Scene\n",
            "http://kgc.knowledge-graph.jp/data/SpeckledBand/398, http://kgc.knowledge-graph.jp/ontology/kgc.owl#hasPart, http://kgc.knowledge-graph.jp/data/SpeckledBand/snake\n",
            "http://kgc.kno\n"
          ]
        }
      ]
    },
    {
      "cell_type": "code",
      "source": [
        "# Membaca file\n",
        "file_path = '/content/new_triplets_reasoner_6_no_ontology.txt'\n",
        "\n",
        "with open(file_path, 'r') as file:\n",
        "    sample_lines = [next(file) for _ in range(5)]\n",
        "\n",
        "sample_lines\n"
      ],
      "metadata": {
        "colab": {
          "base_uri": "https://localhost:8080/"
        },
        "id": "bjzQrBVgR-pM",
        "outputId": "15d6f773-9166-45a2-ef12-df5f18810d9b"
      },
      "execution_count": null,
      "outputs": [
        {
          "output_type": "execute_result",
          "data": {
            "text/plain": [
              "['http://kgc.knowledge-graph.jp/data/SpeckledBand/knee, http://www.w3.org/2000/01/rdf-schema#label, knee\\n',\n",
              " 'http://kgc.knowledge-graph.jp/data/SpeckledBand/115, http://kgc.knowledge-graph.jp/ontology/kgc.owl#source, There was a hole in the wall of bedroom of Helen.\\n',\n",
              " 'http://kgc.knowledge-graph.jp/data/SpeckledBand/78, http://kgc.knowledge-graph.jp/ontology/kgc.owl#time, 1881-12-02T00:00:00\\n',\n",
              " 'http://kgc.knowledge-graph.jp/data/SpeckledBand/61, http://kgc.knowledge-graph.jp/ontology/kgc.owl#source, Helen is sleeping\\n',\n",
              " 'http://kgc.knowledge-graph.jp/data/SpeckledBand/suspect, http://www.w3.org/2000/01/rdf-schema#label, suspect\\n']"
            ]
          },
          "metadata": {},
          "execution_count": 159
        }
      ]
    },
    {
      "cell_type": "code",
      "source": [
        "import re\n",
        "\n",
        "# base URI yang digunakan\n",
        "base_uri = \"http://kgc.knowledge-graph.jp/data/SpeckledBand/\"\n",
        "\n",
        "import re\n",
        "def is_uri(s):\n",
        "    return s.startswith('http://') or s.startswith('https://')\n",
        "\n",
        "def convert_to_uri(s, base_uri):\n",
        "    return base_uri + re.sub(r'\\s+', '_', s.strip())\n",
        "def process_triples_corrected(input_file_path, output_file_path, base_uri):\n",
        "    with open(input_file_path, 'r') as input_file, open(output_file_path, 'w') as output_file:\n",
        "        for line in input_file:\n",
        "            parts = line.split(',', maxsplit=2)\n",
        "            if len(parts) == 3:\n",
        "                subject, predicate, obj = [part.strip() for part in parts]\n",
        "\n",
        "                # Hanya mengubah menjadi URI jika belum dalam format URI\n",
        "                if not is_uri(subject):\n",
        "                    subject = convert_to_uri(subject, base_uri)\n",
        "                if not is_uri(predicate):\n",
        "                    predicate = convert_to_uri(predicate, base_uri)\n",
        "                if not is_uri(obj):\n",
        "                    obj = convert_to_uri(obj, base_uri)\n",
        "\n",
        "                output_file.write(f\"{subject}, {predicate}, {obj}\\n\")\n",
        "            else:\n",
        "                print(f\"Invalid line format: {line}\")\n",
        "\n",
        "process_triples_corrected('new_triplets_reasoner_6_no_ontology.txt', 'new_triplets_reasoner_6_no_ontology_cleaned.txt', base_uri)"
      ],
      "metadata": {
        "id": "MQHqklkQSaeM"
      },
      "execution_count": null,
      "outputs": []
    },
    {
      "cell_type": "code",
      "source": [
        "def check_for_non_uri_entities(file_path, base_uri):\n",
        "    non_uri_entities = set()\n",
        "\n",
        "    with open(file_path, 'r') as file:\n",
        "        for line in file:\n",
        "            parts = line.split(',', maxsplit=2)\n",
        "            if len(parts) == 3:\n",
        "                subject, predicate, obj = [part.strip() for part in parts]\n",
        "\n",
        "                # Cek apakah subject, predicate, dan object sudah dalam format URI\n",
        "                if not is_uri(subject):\n",
        "                    non_uri_entities.add(subject)\n",
        "                if not is_uri(predicate):\n",
        "                    non_uri_entities.add(predicate)\n",
        "                if not is_uri(obj):\n",
        "                    non_uri_entities.add(obj)\n",
        "\n",
        "    return non_uri_entities\n",
        "\n",
        "# Menetapkan jalur file output yang benar\n",
        "corrected_output_file_path = 'new_triplets_reasoner_6_no_ontology_cleaned.txt'\n",
        "\n",
        "# Menjalankan fungsi untuk mengecek file yang telah diproses\n",
        "non_uri_entities_in_corrected_file = check_for_non_uri_entities(corrected_output_file_path, base_uri)\n",
        "non_uri_entities_in_corrected_file"
      ],
      "metadata": {
        "colab": {
          "base_uri": "https://localhost:8080/"
        },
        "id": "X59WEc0NSfsl",
        "outputId": "cca12ff2-ea11-4601-f438-1e214c995084"
      },
      "execution_count": null,
      "outputs": [
        {
          "output_type": "execute_result",
          "data": {
            "text/plain": [
              "set()"
            ]
          },
          "metadata": {},
          "execution_count": 161
        }
      ]
    },
    {
      "cell_type": "code",
      "source": [
        "# Lokasi file teks\n",
        "file_path_1 = 'processed_triples_6_no_ontology.txt'\n",
        "file_path_2 = 'new_triplets_reasoner_6_no_ontology_cleaned.txt'\n",
        "\n",
        "# Fungsi untuk membaca isi file\n",
        "def read_file(file_path):\n",
        "    with open(file_path, 'r') as file:\n",
        "        return file.readlines()\n",
        "\n",
        "# Baca kedua file\n",
        "content_1 = read_file(file_path_1)\n",
        "content_2 = read_file(file_path_2)\n",
        "\n",
        "# Gabungkan konten\n",
        "combined_content = content_1 + content_2\n",
        "\n",
        "# Lokasi file output\n",
        "output_file_path = 'combined_triples_6_no_ontology.txt'\n",
        "\n",
        "# Menulis konten gabungan ke file baru\n",
        "with open(output_file_path, 'w') as output_file:\n",
        "    output_file.writelines(combined_content)\n",
        "\n",
        "output_file_path\n"
      ],
      "metadata": {
        "colab": {
          "base_uri": "https://localhost:8080/",
          "height": 36
        },
        "id": "0imsobFCSjp1",
        "outputId": "6d3d7420-e30b-4de7-c518-d2df2498784c"
      },
      "execution_count": null,
      "outputs": [
        {
          "output_type": "execute_result",
          "data": {
            "text/plain": [
              "'combined_triples_6_no_ontology.txt'"
            ],
            "application/vnd.google.colaboratory.intrinsic+json": {
              "type": "string"
            }
          },
          "metadata": {},
          "execution_count": 162
        }
      ]
    },
    {
      "cell_type": "code",
      "source": [
        "# Lokasi file teks\n",
        "file_path = 'combined_triples_6_no_ontology.txt'\n",
        "\n",
        "# Fungsi untuk membaca isi file dan memeriksa duplikasi\n",
        "def check_for_duplicates(file_path):\n",
        "    with open(file_path, 'r') as file:\n",
        "        triples = [line.strip() for line in file]\n",
        "\n",
        "    triples_set = set(triples)\n",
        "    return len(triples), len(triples_set), len(triples) != len(triples_set)\n",
        "\n",
        "# Memeriksa duplikasi\n",
        "total_triples, unique_triples, has_duplicates = check_for_duplicates(file_path)\n",
        "\n",
        "print(f\"Total Triplets: {total_triples}\")\n",
        "print(f\"Unique Triplets: {unique_triples}\")\n",
        "print(f\"Apakah ada duplikat? {'Ya' if has_duplicates else 'Tidak'}\")\n"
      ],
      "metadata": {
        "colab": {
          "base_uri": "https://localhost:8080/"
        },
        "id": "Tv-JZ2EOSsuq",
        "outputId": "67083853-ddd5-4025-e650-5fd13a23653f"
      },
      "execution_count": null,
      "outputs": [
        {
          "output_type": "stream",
          "name": "stdout",
          "text": [
            "Total Triplets: 11292\n",
            "Unique Triplets: 10319\n",
            "Apakah ada duplikat? Ya\n"
          ]
        }
      ]
    },
    {
      "cell_type": "code",
      "source": [
        "# Lokasi file teks\n",
        "file_path = 'combined_triples_6_no_ontology.txt'\n",
        "\n",
        "# Fungsi untuk membaca isi file dan menemukan duplikasi\n",
        "def find_duplicates(file_path):\n",
        "    with open(file_path, 'r') as file:\n",
        "        triples = [line.strip() for line in file]\n",
        "\n",
        "    # Menemukan dan mengembalikan duplikasi\n",
        "    seen = set()\n",
        "    duplicates = set()\n",
        "    for triplet in triples:\n",
        "        if triplet in seen:\n",
        "            duplicates.add(triplet)\n",
        "        seen.add(triplet)\n",
        "\n",
        "    return duplicates\n",
        "\n",
        "# Menemukan duplikasi\n",
        "duplicates = find_duplicates(file_path)\n",
        "\n",
        "# Tampilkan beberapa duplikasi\n",
        "list(duplicates)[:10]  # Tampilkan 10 duplikasi pertama\n",
        "\n"
      ],
      "metadata": {
        "colab": {
          "base_uri": "https://localhost:8080/"
        },
        "id": "4a6qW0n3Sx0e",
        "outputId": "74fb13b1-a4f5-4dc5-91ec-8a19ed460c96"
      },
      "execution_count": null,
      "outputs": [
        {
          "output_type": "execute_result",
          "data": {
            "text/plain": [
              "['http://kgc.knowledge-graph.jp/data/SpeckledBand/283, http://kgc.knowledge-graph.jp/ontology/kgc.owl#source, http://kgc.knowledge-graph.jp/data/SpeckledBand/A_woman_is_sleeping_on_the_bed.',\n",
              " 'http://kgc.knowledge-graph.jp/data/SpeckledBand/end, http://www.w3.org/2000/01/rdf-schema#label, http://kgc.knowledge-graph.jp/data/SpeckledBand/end',\n",
              " 'http://kgc.knowledge-graph.jp/data/SpeckledBand/270, http://kgc.knowledge-graph.jp/ontology/kgc.owl#source, http://kgc.knowledge-graph.jp/data/SpeckledBand/Holmes_and_Watson_can_see_the_mansion_of_Stoke_Moran_from_the_Crown_Inn.',\n",
              " 'http://kgc.knowledge-graph.jp/data/SpeckledBand/exist, http://www.w3.org/2000/01/rdf-schema#label, http://kgc.knowledge-graph.jp/data/SpeckledBand/exist',\n",
              " 'http://kgc.knowledge-graph.jp/data/SpeckledBand/380, http://kgc.knowledge-graph.jp/ontology/kgc.owl#source, http://kgc.knowledge-graph.jp/data/SpeckledBand/Snake_poison_has_immediate_effect.',\n",
              " 'http://kgc.knowledge-graph.jp/data/SpeckledBand/247, http://kgc.knowledge-graph.jp/ontology/kgc.owl#source, http://kgc.knowledge-graph.jp/data/SpeckledBand/There_is_a_leopard_in_the_mansion.',\n",
              " 'http://kgc.knowledge-graph.jp/data/SpeckledBand/216, http://kgc.knowledge-graph.jp/ontology/kgc.owl#source, http://kgc.knowledge-graph.jp/data/SpeckledBand/The_pulling_rope_of_the_doorbell_is_tied_to_a_crochet_around_a_small_hole_for_vantilation.',\n",
              " 'http://kgc.knowledge-graph.jp/data/SpeckledBand/everything, http://www.w3.org/2000/01/rdf-schema#label, http://kgc.knowledge-graph.jp/data/SpeckledBand/everything',\n",
              " 'http://kgc.knowledge-graph.jp/data/SpeckledBand/262, http://kgc.knowledge-graph.jp/ontology/kgc.owl#source, http://kgc.knowledge-graph.jp/data/SpeckledBand/After_that,_Helen_goes_to_the_bedroom_of_Helen.',\n",
              " 'http://kgc.knowledge-graph.jp/data/SpeckledBand/living_room, http://www.w3.org/2000/01/rdf-schema#label, http://kgc.knowledge-graph.jp/data/SpeckledBand/living_room']"
            ]
          },
          "metadata": {},
          "execution_count": 164
        }
      ]
    },
    {
      "cell_type": "code",
      "source": [
        "# Lokasi file teks\n",
        "input_file_path = 'combined_triples_6_no_ontology.txt'\n",
        "output_file_path = 'combined_triples_removed_duplicate_6_no_ontology.txt'\n",
        "\n",
        "# Fungsi untuk membaca file dan menghilangkan duplikasi\n",
        "def remove_duplicates(input_file_path, output_file_path):\n",
        "    with open(input_file_path, 'r') as file:\n",
        "        unique_triples = set(file.readlines())\n",
        "\n",
        "    with open(output_file_path, 'w') as file:\n",
        "        file.writelines(unique_triples)\n",
        "\n",
        "    return output_file_path\n",
        "\n",
        "# Menghapus duplikasi dan menyimpan hasilnya\n",
        "unique_file_path = remove_duplicates(input_file_path, output_file_path)\n",
        "unique_file_path\n"
      ],
      "metadata": {
        "colab": {
          "base_uri": "https://localhost:8080/",
          "height": 36
        },
        "id": "JXzF2CK1S5De",
        "outputId": "d6058a99-cd47-45ba-b12e-dfb4c6400363"
      },
      "execution_count": null,
      "outputs": [
        {
          "output_type": "execute_result",
          "data": {
            "text/plain": [
              "'combined_triples_removed_duplicate_6_no_ontology.txt'"
            ],
            "application/vnd.google.colaboratory.intrinsic+json": {
              "type": "string"
            }
          },
          "metadata": {},
          "execution_count": 165
        }
      ]
    },
    {
      "cell_type": "markdown",
      "source": [
        "#**Bandingkan merged result dan hasil ekstraksi tripple merged result iterasi ke 6**"
      ],
      "metadata": {
        "id": "y5pPRSI4TFK6"
      }
    },
    {
      "cell_type": "code",
      "source": [
        "# Membaca isi dari kedua file teks\n",
        "file_path_sb = '/content/triples_output_reasoner_5_no_ontology.txt'\n",
        "file_path_merged_result = 'combined_triples_removed_duplicate_6_no_ontology.txt'\n",
        "def read_triplets(file_path):\n",
        "    \"\"\" Membaca file teks dan mengembalikan set dari triplets. \"\"\"\n",
        "    with open(file_path, 'r') as file:\n",
        "        return set(file.readlines())\n",
        "\n",
        "# Membaca triplets dari kedua file\n",
        "triplets_sb = read_triplets(file_path_sb)\n",
        "triplets_merged_result = read_triplets(file_path_merged_result)\n",
        "\n",
        "# Mencari triplets baru yang unik di merged_result\n",
        "new_triplets = triplets_merged_result - triplets_sb\n",
        "\n",
        "# Jumlah new triplets\n",
        "len(new_triplets), list(new_triplets)[:10]  # Menampilkan 10 contoh triplets baru\n",
        "\n"
      ],
      "metadata": {
        "colab": {
          "base_uri": "https://localhost:8080/"
        },
        "id": "5AA3-a5xS_4R",
        "outputId": "0a8a7f1f-c8f1-4142-b170-0aef63d415b3"
      },
      "execution_count": null,
      "outputs": [
        {
          "output_type": "execute_result",
          "data": {
            "text/plain": [
              "(8,\n",
              " ['http://www.semanticweb.org/fadilalafgani/ontologies/2024/0/untitled-ontology-204, http://www.w3.org/1999/02/22-rdf-syntax-ns#type, http://www.w3.org/2002/07/owl#Ontology\\n',\n",
              "  'http://www.semanticweb.org/fadilalafgani/ontologies/2024/0/untitled-ontology-218, http://www.w3.org/1999/02/22-rdf-syntax-ns#type, http://www.w3.org/2002/07/owl#Ontology\\n',\n",
              "  'http://www.semanticweb.org/fadilalafgani/ontologies/2024/0/untitled-ontology-220, http://www.w3.org/1999/02/22-rdf-syntax-ns#type, http://www.w3.org/2002/07/owl#Ontology\\n',\n",
              "  'http://www.semanticweb.org/fadilalafgani/ontologies/2024/0/untitled-ontology-216, http://www.w3.org/1999/02/22-rdf-syntax-ns#type, http://www.w3.org/2002/07/owl#Ontology\\n',\n",
              "  'http://kgc.knowledge-graph.jp/data/SpeckledBand/internal:anonymous-constants, http://www.w3.org/1999/02/22-rdf-syntax-ns#type, http://www.w3.org/2000/01/rdf-schema#Datatype\\n',\n",
              "  'http://kgc.knowledge-graph.jp/data/SpeckledBand/nc19ee249a3424c2ea0de3d8314d33a5fb1, http://www.w3.org/1999/02/22-rdf-syntax-ns#type, http://www.w3.org/2002/07/owl#Ontology\\n',\n",
              "  'http://www.semanticweb.org/fadilalafgani/ontologies/2024/0/untitled-ontology-217, http://www.w3.org/1999/02/22-rdf-syntax-ns#type, http://www.w3.org/2002/07/owl#Ontology\\n',\n",
              "  'http://kgc.knowledge-graph.jp/ontology/kgc.owl#time, http://www.w3.org/1999/02/22-rdf-syntax-ns#type, http://www.w3.org/2002/07/owl#DatatypeProperty\\n'])"
            ]
          },
          "metadata": {},
          "execution_count": 166
        }
      ]
    },
    {
      "cell_type": "markdown",
      "source": [
        "#**Memasukan merged result ke knowledge graph - 6**"
      ],
      "metadata": {
        "id": "UH4G2IFZTQ31"
      }
    },
    {
      "cell_type": "code",
      "source": [
        "from rdflib import Graph, URIRef, Literal, Namespace\n",
        "\n",
        "# Lokasi file\n",
        "file_txt_path = 'combined_triples_removed_duplicate_6_no_ontology.txt'\n",
        "file_ttl_path = 'SpeckledBand_updated_5.ttl'\n",
        "file_ttl_output_path = 'SpeckledBand_updated_6.ttl'\n",
        "\n",
        "# Membuat graf RDF dari file Turtle\n",
        "graph = Graph()\n",
        "graph.parse(file_ttl_path, format='ttl')\n",
        "\n",
        "# Membaca file teks dan menambahkan triplets\n",
        "with open(file_txt_path, 'r') as file:\n",
        "    for line in file:\n",
        "        parts = line.strip().split(', ')\n",
        "        if len(parts) >= 3:\n",
        "            s = parts[0]\n",
        "            p = parts[1]\n",
        "            o = ', '.join(parts[2:])  # Menggabungkan kembali bagian objek\n",
        "            # Membuat triple dengan format yang sesuai\n",
        "            subject = URIRef(s)\n",
        "            predicate = URIRef(p)\n",
        "            object = URIRef(o) if o.startswith('http') else Literal(o)\n",
        "            graph.add((subject, predicate, object))\n",
        "\n",
        "# Menyimpan graf yang telah diperbarui ke dalam file Turtle baru\n",
        "graph.serialize(destination=file_ttl_output_path, format='turtle')\n",
        "\n",
        "file_ttl_output_path\n"
      ],
      "metadata": {
        "colab": {
          "base_uri": "https://localhost:8080/",
          "height": 36
        },
        "id": "cpM893mITKZT",
        "outputId": "94c5873b-82df-43e8-e89a-5cb9a03c2bfd"
      },
      "execution_count": null,
      "outputs": [
        {
          "output_type": "execute_result",
          "data": {
            "text/plain": [
              "'SpeckledBand_updated_6.ttl'"
            ],
            "application/vnd.google.colaboratory.intrinsic+json": {
              "type": "string"
            }
          },
          "metadata": {},
          "execution_count": 167
        }
      ]
    },
    {
      "cell_type": "markdown",
      "source": [
        "#**Ekstrak dan save tripple knowledge graph hasil reasoning - 7**"
      ],
      "metadata": {
        "id": "equpuBDAtcVi"
      }
    },
    {
      "cell_type": "code",
      "source": [
        "import rdflib\n",
        "\n",
        "# Membuat graf RDF\n",
        "g = rdflib.Graph()\n",
        "\n",
        "# Lokasi file RDF Turtle\n",
        "file_path = '/content/reasoner_7_no_ontology.ttl'\n",
        "\n",
        "# Parsing file RDF Turtle\n",
        "g.parse(file_path, format='turtle')\n",
        "\n",
        "# SPARQL Query untuk mendapatkan semua triplet <subject, predicate, object>\n",
        "query = \"\"\"\n",
        "SELECT DISTINCT ?subject ?predicate ?object\n",
        "WHERE {\n",
        "    ?subject ?predicate ?object .\n",
        "}\n",
        "\"\"\"\n",
        "\n",
        "# Menjalankan query\n",
        "results = g.query(query)\n",
        "\n",
        "# Lokasi file teks untuk menyimpan hasil\n",
        "output_file_path = 'triples_output_reasoner_7_no_ontology.txt'\n",
        "\n",
        "# Menyimpan hasil ke dalam file teks\n",
        "with open(output_file_path, 'w') as output_file:\n",
        "    for row in results:\n",
        "        output_file.write(f\"{row.subject}, {row.predicate}, {row.object}\\n\")\n",
        "\n",
        "print(f\"Triplets telah disimpan di {output_file_path}\")\n"
      ],
      "metadata": {
        "colab": {
          "base_uri": "https://localhost:8080/"
        },
        "id": "eFtqnWhvtd3B",
        "outputId": "519bbbbc-dc10-471a-f49a-7acae9f28bfd"
      },
      "execution_count": null,
      "outputs": [
        {
          "output_type": "stream",
          "name": "stdout",
          "text": [
            "Triplets telah disimpan di triples_output_reasoner_7_no_ontology.txt\n"
          ]
        }
      ]
    },
    {
      "cell_type": "markdown",
      "source": [
        "#**Cek dan save new triple reasoning - 7**"
      ],
      "metadata": {
        "id": "9QknIY5vt8Ks"
      }
    },
    {
      "cell_type": "code",
      "source": [
        "# Membaca isi dari kedua file teks\n",
        "file_path_sb = '/content/combined_triples_removed_duplicate_6_no_ontology.txt'\n",
        "file_path_reasoner = 'triples_output_reasoner_7_no_ontology.txt'\n",
        "\n",
        "def read_triplets(file_path):\n",
        "    \"\"\" Membaca file teks dan mengembalikan set dari triplets. \"\"\"\n",
        "    with open(file_path, 'r') as file:\n",
        "        return set(file.readlines())\n",
        "\n",
        "# Membaca triplets dari kedua file\n",
        "triplets_sb = read_triplets(file_path_sb)\n",
        "triplets_reasoner = read_triplets(file_path_reasoner)\n",
        "\n",
        "# Mencari triplets baru yang unik di triplets_output_reasoner_1\n",
        "new_triplets = triplets_reasoner - triplets_sb\n",
        "\n",
        "# Jumlah new triplets\n",
        "len(new_triplets), list(new_triplets)[:10]  # Menampilkan 10 contoh triplets baru\n",
        "\n"
      ],
      "metadata": {
        "colab": {
          "base_uri": "https://localhost:8080/"
        },
        "id": "ZXhQQPUAt9b4",
        "outputId": "320b18a4-e45b-4f11-c7a3-c6bcfda2e13a"
      },
      "execution_count": null,
      "outputs": [
        {
          "output_type": "execute_result",
          "data": {
            "text/plain": [
              "(974,\n",
              " ['http://kgc.knowledge-graph.jp/data/SpeckledBand/knee, http://www.w3.org/2000/01/rdf-schema#label, knee\\n',\n",
              "  'http://kgc.knowledge-graph.jp/data/SpeckledBand/115, http://kgc.knowledge-graph.jp/ontology/kgc.owl#source, There was a hole in the wall of bedroom of Helen.\\n',\n",
              "  'http://kgc.knowledge-graph.jp/data/SpeckledBand/78, http://kgc.knowledge-graph.jp/ontology/kgc.owl#time, 1881-12-02T00:00:00\\n',\n",
              "  'http://kgc.knowledge-graph.jp/data/SpeckledBand/61, http://kgc.knowledge-graph.jp/ontology/kgc.owl#source, Helen is sleeping\\n',\n",
              "  'http://kgc.knowledge-graph.jp/data/SpeckledBand/suspect, http://www.w3.org/2000/01/rdf-schema#label, suspect\\n',\n",
              "  'http://kgc.knowledge-graph.jp/data/SpeckledBand/poison_of_snake, http://www.w3.org/2000/01/rdf-schema#label, poison of snake\\n',\n",
              "  'http://kgc.knowledge-graph.jp/data/SpeckledBand/canSee, http://www.w3.org/2000/01/rdf-schema#label, canSee\\n',\n",
              "  'http://kgc.knowledge-graph.jp/data/SpeckledBand/neck, http://www.w3.org/2000/01/rdf-schema#label, neck\\n',\n",
              "  'http://kgc.knowledge-graph.jp/data/SpeckledBand/48, http://kgc.knowledge-graph.jp/ontology/kgc.owl#source, All the bedrooms are connected to the hallway\\n',\n",
              "  'http://kgc.knowledge-graph.jp/data/SpeckledBand/engage, http://www.w3.org/2000/01/rdf-schema#label, engage\\n'])"
            ]
          },
          "metadata": {},
          "execution_count": 169
        }
      ]
    },
    {
      "cell_type": "code",
      "source": [
        "# Lokasi file teks baru untuk menyimpan triplet baru\n",
        "new_triplets_file_path = 'new_triplets_reasoner_7_no_ontology.txt'\n",
        "\n",
        "# Menyimpan triplet baru ke dalam file teks\n",
        "with open(new_triplets_file_path, 'w') as new_file:\n",
        "    for triplet in new_triplets:\n",
        "        new_file.write(triplet)\n",
        "\n",
        "new_triplets_file_path"
      ],
      "metadata": {
        "id": "efKJgfwOTYkK",
        "colab": {
          "base_uri": "https://localhost:8080/",
          "height": 36
        },
        "outputId": "cd513599-0310-45d3-81d5-ad749b727e5d"
      },
      "execution_count": null,
      "outputs": [
        {
          "output_type": "execute_result",
          "data": {
            "text/plain": [
              "'new_triplets_reasoner_7_no_ontology.txt'"
            ],
            "application/vnd.google.colaboratory.intrinsic+json": {
              "type": "string"
            }
          },
          "metadata": {},
          "execution_count": 170
        }
      ]
    },
    {
      "cell_type": "markdown",
      "source": [
        "#**Embedding complex - 7**"
      ],
      "metadata": {
        "id": "uWafF_uhuGxU"
      }
    },
    {
      "cell_type": "code",
      "source": [
        "# Lokasi file triplets\n",
        "file_path = 'combined_triples_removed_duplicate_6_no_ontology.txt'\n",
        "\n",
        "# Fungsi untuk membaca triplets dari file teks\n",
        "def read_triplets(file_path):\n",
        "    with open(file_path, 'r') as file:\n",
        "        triples = []\n",
        "        for line in file:\n",
        "            parts = line.strip().split(', ')\n",
        "            if len(parts) == 3:\n",
        "                triples.append(tuple(parts))\n",
        "    return triples\n",
        "\n",
        "# Membaca triplets dari file\n",
        "triples = read_triplets(file_path)\n",
        "triples[:10]  # Menampilkan 5 triples pertama untuk contoh\n"
      ],
      "metadata": {
        "colab": {
          "base_uri": "https://localhost:8080/"
        },
        "id": "bLG3_h_WuEIP",
        "outputId": "8111f2fa-e38a-40c4-f1d0-19281e372df9"
      },
      "execution_count": null,
      "outputs": [
        {
          "output_type": "execute_result",
          "data": {
            "text/plain": [
              "[('http://kgc.knowledge-graph.jp/data/SpeckledBand/283',\n",
              "  'http://kgc.knowledge-graph.jp/ontology/kgc.owl#hasPredicate',\n",
              "  'http://kgc.knowledge-graph.jp/data/SpeckledBand/sleep'),\n",
              " ('http://kgc.knowledge-graph.jp/data/SpeckledBand/373',\n",
              "  'http://www.w3.org/1999/02/22-rdf-syntax-ns#type',\n",
              "  'http://kgc.knowledge-graph.jp/ontology/kgc.owl#Scene'),\n",
              " ('http://kgc.knowledge-graph.jp/data/SpeckledBand/398',\n",
              "  'http://kgc.knowledge-graph.jp/ontology/kgc.owl#hasPart',\n",
              "  'http://kgc.knowledge-graph.jp/data/SpeckledBand/snake'),\n",
              " ('http://kgc.knowledge-graph.jp/data/SpeckledBand/370',\n",
              "  'http://www.w3.org/1999/02/22-rdf-syntax-ns#type',\n",
              "  'http://kgc.knowledge-graph.jp/ontology/kgc.owl#Scene'),\n",
              " ('http://kgc.knowledge-graph.jp/data/SpeckledBand/death_day_of_mother_of_Helen',\n",
              "  'http://kgc.knowledge-graph.jp/ontology/kgc.owl#ofWhole',\n",
              "  'http://kgc.knowledge-graph.jp/data/SpeckledBand/mother'),\n",
              " ('http://kgc.knowledge-graph.jp/data/SpeckledBand/89',\n",
              "  'http://kgc.knowledge-graph.jp/ontology/kgc.owl#SceneObjectProperty',\n",
              "  'http://kgc.knowledge-graph.jp/data/SpeckledBand/death_day_of_Julia'),\n",
              " ('http://www.semanticweb.org/fadilalafgani/ontologies/2024/0/untitled-ontology-217',\n",
              "  'http://www.w3.org/1999/02/22-rdf-syntax-ns#type',\n",
              "  'http://www.w3.org/2002/07/owl#Ontology'),\n",
              " ('http://kgc.knowledge-graph.jp/data/SpeckledBand/269',\n",
              "  'http://kgc.knowledge-graph.jp/ontology/kgc.owl#LocationProperty',\n",
              "  'http://kgc.knowledge-graph.jp/data/SpeckledBand/Crown_Inn'),\n",
              " ('http://kgc.knowledge-graph.jp/data/SpeckledBand/229',\n",
              "  'http://www.w3.org/1999/02/22-rdf-syntax-ns#type',\n",
              "  'http://kgc.knowledge-graph.jp/ontology/kgc.owl#Scene'),\n",
              " ('http://kgc.knowledge-graph.jp/data/SpeckledBand/26',\n",
              "  'http://kgc.knowledge-graph.jp/ontology/kgc.owl#TargetObjProperty',\n",
              "  'http://kgc.knowledge-graph.jp/data/SpeckledBand/Roma')]"
            ]
          },
          "metadata": {},
          "execution_count": 171
        }
      ]
    },
    {
      "cell_type": "code",
      "source": [
        "from collections import defaultdict\n",
        "import torch\n",
        "\n",
        "# Fungsi untuk mengonversi triples ke dalam bentuk indeks\n",
        "def convert_to_indices(triples, entity2idx, relation2idx):\n",
        "    triples_idx = []\n",
        "    for (h, r, t) in triples:\n",
        "        h_idx = entity2idx[h]\n",
        "        r_idx = relation2idx[r]\n",
        "        t_idx = entity2idx[t]\n",
        "        triples_idx.append((h_idx, r_idx, t_idx))\n",
        "    return triples_idx\n",
        "\n",
        "# Membuat indeks untuk entitas dan relasi\n",
        "entity2idx = defaultdict(lambda: len(entity2idx))\n",
        "relation2idx = defaultdict(lambda: len(relation2idx))\n",
        "\n",
        "for (h, r, t) in triples:\n",
        "    entity2idx[h]\n",
        "    entity2idx[t]\n",
        "    relation2idx[r]\n",
        "\n",
        "# Mengonversi triples ke dalam bentuk indeks\n",
        "triples_idx = convert_to_indices(triples, entity2idx, relation2idx)\n",
        "\n",
        "# Cek jumlah entitas dan relasi\n",
        "num_entities = len(entity2idx)\n",
        "num_relations = len(relation2idx)\n",
        "\n",
        "num_entities, num_relations, triples_idx[:5]  # Menampilkan beberapa informasi dan 5 triples indeks pertama\n"
      ],
      "metadata": {
        "colab": {
          "base_uri": "https://localhost:8080/"
        },
        "id": "e4pSIO6xuJyB",
        "outputId": "e3838f16-db68-4ace-e9a2-b00c5c62432a"
      },
      "execution_count": null,
      "outputs": [
        {
          "output_type": "execute_result",
          "data": {
            "text/plain": [
              "(1383, 49, [(0, 0, 1), (2, 1, 3), (4, 2, 5), (6, 1, 3), (7, 3, 8)])"
            ]
          },
          "metadata": {},
          "execution_count": 172
        }
      ]
    },
    {
      "cell_type": "code",
      "source": [
        "import torch.nn as nn\n",
        "import torch.nn.functional as F\n",
        "\n",
        "class ComplEx(nn.Module):\n",
        "    def __init__(self, num_entities, num_relations, embedding_dim):\n",
        "        super(ComplEx, self).__init__()\n",
        "        self.embedding_dim = embedding_dim\n",
        "        self.ent_embeddings = nn.Embedding(num_entities, embedding_dim, padding_idx=0)\n",
        "        self.rel_embeddings = nn.Embedding(num_relations, embedding_dim, padding_idx=0)\n",
        "\n",
        "        # Inisialisasi bobot\n",
        "        nn.init.xavier_uniform_(self.ent_embeddings.weight.data)\n",
        "        nn.init.xavier_uniform_(self.rel_embeddings.weight.data)\n",
        "\n",
        "    def forward(self, triplets):\n",
        "        # Mendapatkan embeddings\n",
        "        h = self.ent_embeddings(triplets[:, 0])\n",
        "        r = self.rel_embeddings(triplets[:, 1])\n",
        "        t = self.ent_embeddings(triplets[:, 2])\n",
        "\n",
        "        # Skor menggunakan rumus ComplEx\n",
        "        score = torch.sum(h * r * t, dim=1)\n",
        "        return score\n",
        "\n",
        "# Parameter model\n",
        "embedding_dim = 100  # Dimensi embedding\n",
        "\n",
        "# Inisialisasi model\n",
        "model = ComplEx(num_entities, num_relations, embedding_dim)\n",
        "model\n",
        "\n"
      ],
      "metadata": {
        "colab": {
          "base_uri": "https://localhost:8080/"
        },
        "id": "XJ-pqnmguMf3",
        "outputId": "255475fd-4331-4ef6-c6ac-798e823d5b61"
      },
      "execution_count": null,
      "outputs": [
        {
          "output_type": "execute_result",
          "data": {
            "text/plain": [
              "ComplEx(\n",
              "  (ent_embeddings): Embedding(1383, 100, padding_idx=0)\n",
              "  (rel_embeddings): Embedding(49, 100, padding_idx=0)\n",
              ")"
            ]
          },
          "metadata": {},
          "execution_count": 173
        }
      ]
    },
    {
      "cell_type": "code",
      "source": [
        "from torch.optim import Adam\n",
        "from torch.utils.data import DataLoader, TensorDataset\n",
        "\n",
        "# Fungsi untuk menghasilkan negative samples\n",
        "def generate_negative_samples(triples, num_entities, num_samples=1):\n",
        "    negatives = []\n",
        "    for (h, r, t) in triples:\n",
        "        for _ in range(num_samples):\n",
        "            negative_t = torch.randint(num_entities, (1,))\n",
        "            negatives.append((h, r, negative_t.item()))\n",
        "    return negatives\n",
        "\n",
        "# Mengonversi triples ke tensor\n",
        "triples_tensor = torch.LongTensor(triples_idx)\n",
        "\n",
        "# Negative sampling\n",
        "negative_samples = generate_negative_samples(triples_idx, num_entities, num_samples=1)\n",
        "negative_samples_tensor = torch.LongTensor(negative_samples)\n",
        "\n",
        "# Menyiapkan data loader\n",
        "batch_size = 32\n",
        "dataset = TensorDataset(triples_tensor, negative_samples_tensor)\n",
        "data_loader = DataLoader(dataset, batch_size=batch_size, shuffle=True)\n",
        "\n",
        "# Inisialisasi optimizer\n",
        "optimizer = Adam(model.parameters(), lr=0.001)\n",
        "\n",
        "# Fungsi loss\n",
        "def complex_loss(positive_scores, negative_scores):\n",
        "    return F.softplus(-positive_scores).mean() + F.softplus(negative_scores).mean()\n",
        "\n",
        "# Loop pelatihan\n",
        "num_epochs = 50  # Contoh jumlah epoch\n",
        "\n",
        "for epoch in range(num_epochs):\n",
        "    model.train()\n",
        "    running_loss = 0.0\n",
        "\n",
        "    for positive_triplets, negative_triplets in data_loader:\n",
        "        positive_scores = model(positive_triplets)\n",
        "        negative_scores = model(negative_triplets)\n",
        "\n",
        "        # Hitung loss\n",
        "        loss = complex_loss(positive_scores, negative_scores)\n",
        "\n",
        "        # Backpropagation\n",
        "        optimizer.zero_grad()\n",
        "        loss.backward()\n",
        "        optimizer.step()\n",
        "\n",
        "        running_loss += loss.item()\n",
        "\n",
        "    print(f\"Epoch {epoch + 1}/{num_epochs}, Loss: {running_loss / len(data_loader)}\")\n",
        "\n"
      ],
      "metadata": {
        "colab": {
          "base_uri": "https://localhost:8080/"
        },
        "id": "EaqgZVdauPZt",
        "outputId": "80537cd5-21a0-4b99-b874-5d6025525f96"
      },
      "execution_count": null,
      "outputs": [
        {
          "output_type": "stream",
          "name": "stdout",
          "text": [
            "Epoch 1/50, Loss: 1.3857556592569262\n",
            "Epoch 2/50, Loss: 1.360377686311586\n",
            "Epoch 3/50, Loss: 1.104496647883495\n",
            "Epoch 4/50, Loss: 0.7606944768421421\n",
            "Epoch 5/50, Loss: 0.5144821396184042\n",
            "Epoch 6/50, Loss: 0.3524058126259145\n",
            "Epoch 7/50, Loss: 0.2485986815379131\n",
            "Epoch 8/50, Loss: 0.18231694686338998\n",
            "Epoch 9/50, Loss: 0.13879623010339381\n",
            "Epoch 10/50, Loss: 0.10992074144237182\n",
            "Epoch 11/50, Loss: 0.09026811466243799\n",
            "Epoch 12/50, Loss: 0.07655411522155021\n",
            "Epoch 13/50, Loss: 0.06671753140806506\n",
            "Epoch 14/50, Loss: 0.05937338313347323\n",
            "Epoch 15/50, Loss: 0.05373738452376965\n",
            "Epoch 16/50, Loss: 0.04914070839125767\n",
            "Epoch 17/50, Loss: 0.04541033608680332\n",
            "Epoch 18/50, Loss: 0.042397904397931306\n",
            "Epoch 19/50, Loss: 0.03967023711909624\n",
            "Epoch 20/50, Loss: 0.03716628723698538\n",
            "Epoch 21/50, Loss: 0.03484417765740819\n",
            "Epoch 22/50, Loss: 0.032709841491206156\n",
            "Epoch 23/50, Loss: 0.030601823960874956\n",
            "Epoch 24/50, Loss: 0.028766998155626406\n",
            "Epoch 25/50, Loss: 0.026942203168096972\n",
            "Epoch 26/50, Loss: 0.025108166184419068\n",
            "Epoch 27/50, Loss: 0.02356584626952786\n",
            "Epoch 28/50, Loss: 0.021838903611568424\n",
            "Epoch 29/50, Loss: 0.020392415739434424\n",
            "Epoch 30/50, Loss: 0.018928881083647923\n",
            "Epoch 31/50, Loss: 0.017712119266901874\n",
            "Epoch 32/50, Loss: 0.016490607460007977\n",
            "Epoch 33/50, Loss: 0.01523175263469127\n",
            "Epoch 34/50, Loss: 0.01417987746746195\n",
            "Epoch 35/50, Loss: 0.013224002850744203\n",
            "Epoch 36/50, Loss: 0.01225124112264916\n",
            "Epoch 37/50, Loss: 0.011378055885814392\n",
            "Epoch 38/50, Loss: 0.010692622191631519\n",
            "Epoch 39/50, Loss: 0.009959419546093815\n",
            "Epoch 40/50, Loss: 0.009244181236543497\n",
            "Epoch 41/50, Loss: 0.008624396969901544\n",
            "Epoch 42/50, Loss: 0.008079534851825625\n",
            "Epoch 43/50, Loss: 0.007611439021877721\n",
            "Epoch 44/50, Loss: 0.007270279854380896\n",
            "Epoch 45/50, Loss: 0.006795355133509466\n",
            "Epoch 46/50, Loss: 0.006447667152142092\n",
            "Epoch 47/50, Loss: 0.006064144750054073\n",
            "Epoch 48/50, Loss: 0.005776277937010753\n",
            "Epoch 49/50, Loss: 0.00552136681870677\n",
            "Epoch 50/50, Loss: 0.005328938881655141\n"
          ]
        }
      ]
    },
    {
      "cell_type": "code",
      "source": [
        "import numpy as np\n",
        "import random\n",
        "def evaluate_model(model, triples, all_entities, num_samples=1000, k=10):\n",
        "    # Memilih subset acak dari triples untuk evaluasi\n",
        "    evaluation_triples = random.sample(triples, num_samples)\n",
        "\n",
        "    mrr_sum = 0.0\n",
        "    hits_at_k_sum = 0\n",
        "\n",
        "    for h, r, t in evaluation_triples:\n",
        "        # Menghasilkan kandidat prediksi dengan mengganti tail\n",
        "        candidate_triples = [(h, r, tail) for tail in all_entities]\n",
        "\n",
        "        # Menghitung skor untuk setiap kandidat\n",
        "        candidate_triples_tensor = torch.LongTensor(candidate_triples)\n",
        "        with torch.no_grad():\n",
        "            candidate_scores = model(candidate_triples_tensor).numpy()\n",
        "\n",
        "        # Mendapatkan peringkat entitas yang benar\n",
        "        correct_entity_score = candidate_scores[all_entities.index(t)]\n",
        "        ranked_scores = sorted(candidate_scores, reverse=True)\n",
        "        rank = ranked_scores.index(correct_entity_score) + 1\n",
        "\n",
        "        # Menghitung MRR dan Hits@K\n",
        "        mrr_sum += 1.0 / rank\n",
        "        if rank <= k:\n",
        "            hits_at_k_sum += 1\n",
        "\n",
        "    # Menghitung rata-rata MRR dan Hits@K\n",
        "    mrr = mrr_sum / num_samples\n",
        "    hits_at_k = hits_at_k_sum / num_samples\n",
        "\n",
        "    return mrr, hits_at_k\n",
        "\n",
        "# Mengumpulkan semua entitas sebagai daftar\n",
        "all_entities_list = list(range(num_entities))\n",
        "\n",
        "# Menjalankan evaluasi model\n",
        "mrr, hits_at_10 = evaluate_model(model, triples_idx, all_entities_list, num_samples=1000, k=10)\n",
        "\n",
        "mrr, hits_at_10\n",
        "\n"
      ],
      "metadata": {
        "colab": {
          "base_uri": "https://localhost:8080/"
        },
        "id": "O4KDBZXsuTa2",
        "outputId": "58014ff0-f591-43fe-ce99-66f7b745d2cb"
      },
      "execution_count": null,
      "outputs": [
        {
          "output_type": "execute_result",
          "data": {
            "text/plain": [
              "(0.42602688175755055, 0.831)"
            ]
          },
          "metadata": {},
          "execution_count": 175
        }
      ]
    },
    {
      "cell_type": "code",
      "source": [
        "# Mendapatkan embeddings dari model\n",
        "entity_embeddings = model.ent_embeddings.weight.data.numpy()\n",
        "relation_embeddings = model.rel_embeddings.weight.data.numpy()\n",
        "\n",
        "# Menampilkan sebagian dari embeddings\n",
        "# Kita akan menampilkan 5 embeddings pertama untuk entitas dan relasi\n",
        "print(\"Entity Embeddings (5 first embeddings):\")\n",
        "print(entity_embeddings[:5])\n",
        "print(\"\\nRelation Embeddings (5 first embeddings):\")\n",
        "print(relation_embeddings[:5])\n",
        "\n"
      ],
      "metadata": {
        "colab": {
          "base_uri": "https://localhost:8080/"
        },
        "id": "_NOeLnH0ujw2",
        "outputId": "f78a635b-cf56-497a-bd2f-bc78676ea7dd"
      },
      "execution_count": null,
      "outputs": [
        {
          "output_type": "stream",
          "name": "stdout",
          "text": [
            "Entity Embeddings (5 first embeddings):\n",
            "[[-1.17033515e-02 -2.70087328e-02 -4.30558296e-03  5.57463542e-02\n",
            "  -5.76175051e-03 -4.55176868e-02 -2.66688061e-03  4.58876230e-02\n",
            "   2.76797870e-03 -5.90096004e-02  3.48229264e-03  1.66784432e-02\n",
            "   1.49831147e-04  1.85855310e-02 -6.33144379e-02 -4.45767529e-02\n",
            "   2.95161977e-02  2.76767481e-02 -2.52503771e-02 -2.69212760e-02\n",
            "  -5.08249253e-02  1.78718679e-02  5.14928699e-02 -3.68539803e-02\n",
            "  -2.09536813e-02  3.07651348e-02  5.91657050e-02  3.80537510e-02\n",
            "   1.84917804e-02  2.89954059e-02 -3.16644944e-02  6.07302561e-02\n",
            "  -8.35305639e-03  3.67299244e-02  5.49945608e-02  4.42474522e-02\n",
            "   4.77859750e-02 -6.19881041e-02 -4.41236869e-02 -2.06321813e-02\n",
            "   1.09435506e-02 -1.95058547e-02  5.47475442e-02  4.56413254e-03\n",
            "  -6.46568416e-03  2.30432190e-02 -2.92992536e-02 -4.94251400e-02\n",
            "   2.09755264e-02 -2.86644045e-02 -3.18828709e-02  8.96722730e-03\n",
            "   4.04351801e-02  5.53297922e-02 -2.42402069e-02 -6.17176257e-02\n",
            "   3.00736893e-02 -5.63366618e-03 -4.88084294e-02  1.29209422e-02\n",
            "   1.66379232e-02 -3.90044525e-02 -5.16304411e-02  4.94799390e-02\n",
            "   4.22205515e-02 -4.79512736e-02 -4.71300073e-02 -4.49361205e-02\n",
            "  -3.50384675e-02 -2.11830605e-02  1.79895107e-02  3.85379270e-02\n",
            "  -3.80459661e-03  3.54726240e-02 -4.39272933e-02 -6.10354096e-02\n",
            "   2.19699629e-02 -2.50143697e-03  9.69313458e-03  6.33449629e-02\n",
            "   5.25187748e-03 -2.03060627e-05 -3.56241758e-03 -1.67024191e-02\n",
            "   5.89156859e-02  3.58354263e-02 -6.09955080e-02  1.13383131e-02\n",
            "   3.19104418e-02 -2.74367444e-02  1.24240126e-02  6.34655580e-02\n",
            "   6.56476524e-03  2.46349256e-02  1.80239212e-02 -5.59574515e-02\n",
            "   5.70022594e-03 -4.77349609e-02 -3.62070315e-02 -1.73706468e-02]\n",
            " [-6.59690380e-01 -5.33544958e-01 -4.81109917e-01  6.09372377e-01\n",
            "   1.28161520e-01 -5.74699819e-01  6.06280208e-01  5.18309057e-01\n",
            "  -9.98070762e-02 -5.11601567e-02  1.71911523e-01 -3.58402985e-03\n",
            "   1.00691192e-01  4.80508715e-01  6.91770613e-01 -5.54969132e-01\n",
            "   2.27204531e-01  2.18277633e-01 -2.91543692e-01 -7.54698157e-01\n",
            "   2.77577400e-01  7.01178908e-01 -7.30740607e-01 -1.28410983e+00\n",
            "   2.96990544e-01 -1.00821197e+00 -7.15661868e-02 -1.64230630e-01\n",
            "   9.11397636e-01 -2.31056631e-01 -7.17838824e-01  1.03053784e+00\n",
            "  -2.68245786e-01 -9.30501938e-01 -6.83591187e-01 -1.00317073e+00\n",
            "  -5.61358750e-01 -2.66761810e-01 -1.68000072e-01 -1.93353653e-01\n",
            "   9.76167381e-01 -7.87686765e-01  7.05453992e-01  4.69145775e-01\n",
            "   5.77011764e-01 -1.05312741e+00 -2.28904620e-01  8.07691932e-01\n",
            "  -8.45419466e-01  2.21726313e-01  4.84487489e-02  5.18414378e-01\n",
            "  -1.78318359e-02  1.68073311e-01 -2.20992491e-01 -4.61723000e-01\n",
            "  -3.70548666e-01  8.95310581e-01  1.03003681e+00  1.89653575e-01\n",
            "  -1.10252774e+00  9.47698712e-01  7.33871222e-01 -4.45324510e-01\n",
            "   2.54195511e-01  9.79329228e-01 -3.82482857e-01 -1.22187865e+00\n",
            "  -7.60348678e-01 -3.00512850e-01  5.05559802e-01  4.59268034e-01\n",
            "  -5.19780993e-01  3.18325013e-01 -3.17557186e-01  9.51112628e-01\n",
            "   1.07730436e+00 -7.66207516e-01 -7.39577889e-01  1.38762689e+00\n",
            "  -2.57951945e-01 -4.29771096e-01  7.28858352e-01  8.49462628e-01\n",
            "   1.02227139e+00 -1.99071631e-01  1.90665964e-02  5.14987111e-01\n",
            "  -8.00076365e-01 -7.00929284e-01  1.61647946e-02  9.75212634e-01\n",
            "  -1.20984149e+00  6.25311434e-02  1.62191451e-01 -2.05627859e-01\n",
            "  -6.55413032e-01  1.00265098e+00  5.35714393e-03  5.25707543e-01]\n",
            " [ 2.99217820e-01 -1.89133361e-01  1.78301811e-01 -3.31743419e-01\n",
            "   5.43112338e-01  9.71485823e-02 -7.56586432e-01 -5.77270329e-01\n",
            "   5.18393993e-01  3.18226933e-01 -1.86699018e-01  5.34690022e-01\n",
            "   2.82906145e-01 -2.49496132e-01 -6.74435973e-01  1.90049917e-01\n",
            "   3.11243922e-01  2.28072196e-01 -5.66807091e-01  3.03759784e-01\n",
            "  -6.49549842e-01 -2.81275641e-02 -7.39942312e-01  3.56014192e-01\n",
            "  -7.74447322e-01 -2.82714337e-01  5.47949135e-01  4.85819846e-01\n",
            "   4.64785665e-01 -6.69399977e-01 -1.88601818e-02  4.91604775e-01\n",
            "   4.56003904e-01 -5.86833477e-01 -4.00482267e-01  3.70871246e-01\n",
            "  -7.84429312e-02 -2.31149524e-01  3.03761244e-01  3.62715751e-01\n",
            "  -7.35590696e-01  4.40694511e-01 -7.94934154e-01  3.31281364e-01\n",
            "  -4.79688317e-01  1.98348314e-01  3.75909269e-01 -4.57634062e-01\n",
            "  -6.10828102e-01  2.03695729e-01  3.18248808e-01 -5.43388009e-01\n",
            "   8.34741116e-01 -8.19838583e-01  7.83531189e-01 -3.23535144e-01\n",
            "  -1.00708269e-01  7.54155517e-01  1.80137262e-01 -1.47421882e-01\n",
            "   3.01790863e-01  4.78656322e-01 -1.18071072e-01  5.01071751e-01\n",
            "   2.24749073e-01 -7.07041562e-01 -4.25281078e-01 -2.17523471e-01\n",
            "   6.74805343e-01 -2.92447984e-01  4.98710543e-01 -4.29303050e-01\n",
            "  -2.38009274e-01 -3.95396918e-01  4.00577843e-01  4.82210279e-01\n",
            "   2.85348576e-02  4.74827051e-01 -1.42473683e-01  6.39430702e-01\n",
            "  -9.66076180e-03  2.85091341e-01  8.70553434e-01  3.49702388e-01\n",
            "  -4.72967178e-01 -3.58458430e-01 -2.76842147e-01  7.21874237e-01\n",
            "   2.49030560e-01 -4.01376814e-01 -7.13025808e-01  1.44984961e-01\n",
            "  -6.50577366e-01  1.36987999e-01 -6.75821006e-01 -5.07371545e-01\n",
            "   2.93896288e-01  3.98875237e-01  1.20917685e-01  6.38253763e-02]\n",
            " [ 4.81096059e-01  8.37219417e-01  2.54318178e-01 -1.55020263e-02\n",
            "   8.56188685e-03  2.59713270e-02  1.02889076e-01  2.19629139e-01\n",
            "   4.73430902e-02 -5.54191887e-01  5.19024789e-01  6.86549321e-02\n",
            "   1.38098449e-01  1.54896423e-01  6.31840944e-01  6.02530316e-02\n",
            "  -5.43549955e-01 -3.80631238e-01  6.12394869e-01  7.07040966e-01\n",
            "   7.31234848e-01  7.07401812e-01 -2.51030326e-01  4.40163165e-01\n",
            "   4.38140780e-01 -2.96375632e-01 -8.64449322e-01  5.03576696e-01\n",
            "  -6.02443874e-01  4.43104416e-01 -2.81081885e-01  1.92638516e-01\n",
            "  -6.39074445e-01  4.58090812e-01 -6.30173504e-01 -3.95941496e-01\n",
            "   2.08817318e-01  1.41714767e-01 -3.22622418e-01 -1.53845862e-01\n",
            "  -5.47449172e-01 -4.67283577e-02  4.65152383e-01  1.90092221e-01\n",
            "   3.12441494e-03 -3.85640532e-01 -7.15214089e-02 -3.93687516e-01\n",
            "   4.97046977e-01  3.29075046e-02  6.80098653e-01  5.08821309e-01\n",
            "  -4.92207795e-01  3.64494547e-02  1.93400711e-01  2.90966898e-01\n",
            "   1.50646180e-01 -2.87917972e-01 -7.81668365e-01 -6.99030161e-01\n",
            "  -3.98770809e-01  2.00057048e-02  3.62492129e-02 -6.07552290e-01\n",
            "   5.40979922e-01 -1.04948044e+00 -8.53518665e-01  5.70493639e-01\n",
            "   2.45904565e-01 -5.24574816e-01 -6.27084255e-01 -5.66873431e-01\n",
            "  -3.38242054e-01  3.79534960e-01 -5.50282300e-01  7.44122922e-01\n",
            "  -4.74961400e-01 -1.52303681e-01  1.34549171e-01  5.05384147e-01\n",
            "   5.35358548e-01  2.36585140e-01 -5.11467934e-01 -4.64692622e-01\n",
            "   2.85262048e-01 -2.55842745e-01 -2.99664021e-01 -4.32611227e-01\n",
            "   6.80330992e-01  7.13604748e-01  1.93427742e-01 -2.70221028e-02\n",
            "   3.98364961e-02 -1.08460315e-01 -5.45895994e-01  9.51186866e-02\n",
            "   2.86936499e-02 -1.58558339e-01 -6.49958670e-01  2.50205934e-01]\n",
            " [ 1.41304225e-01 -3.08406413e-01  4.97118741e-01  2.42018655e-01\n",
            "   9.37005579e-02  5.37764072e-01 -7.99744725e-01  1.15626177e-03\n",
            "  -2.16788262e-01  3.46875578e-01  6.29108787e-01  1.38528809e-01\n",
            "   3.20851922e-01  7.00217128e-01 -1.21285215e-01 -1.14221208e-01\n",
            "   3.12006921e-01  2.98767507e-01 -6.21705472e-01 -6.16887689e-01\n",
            "  -9.10877347e-01 -6.49294257e-02 -9.55198944e-01 -3.01774621e-01\n",
            "  -2.52215177e-01 -3.33215922e-01  5.29833972e-01  1.62790477e-01\n",
            "   7.25212336e-01 -7.95612335e-01  5.28061800e-02  4.01222222e-02\n",
            "   7.29563057e-01 -3.09313815e-02 -9.62393999e-01  9.38435137e-01\n",
            "  -1.16230538e-02  7.75182769e-02  3.61477345e-01  6.56004608e-01\n",
            "  -4.11276519e-01  1.18331575e+00 -3.41663778e-01 -3.63247395e-01\n",
            "   5.35041571e-01 -1.39027834e-01  3.39377850e-01 -3.20307851e-01\n",
            "  -4.24928963e-01  3.61580908e-01 -2.11604804e-01 -3.81505549e-01\n",
            "   5.91077864e-01 -4.36184695e-03  4.44529861e-01  7.63005674e-01\n",
            "  -1.28840581e-01  4.96445894e-01 -3.96221764e-02 -4.60279323e-02\n",
            "   6.04123473e-01  1.33414537e-01 -2.78693169e-01  2.42490157e-01\n",
            "   5.91703773e-01 -1.57434076e-01 -5.96072197e-01 -4.08601582e-01\n",
            "   3.20332915e-01  4.87265997e-02  6.09630167e-01  1.00284800e-01\n",
            "  -6.60289288e-01 -1.61565840e-01  5.17596938e-02  7.21292555e-01\n",
            "   1.97482303e-01  9.24262941e-01 -6.32952809e-01 -9.51714907e-03\n",
            "  -7.94867694e-01  3.49786758e-01  5.07314026e-01 -1.32605001e-01\n",
            "  -6.08021080e-01 -2.36084372e-01  5.93718514e-02  3.36637795e-01\n",
            "   3.87904942e-01 -1.57115981e-01  1.37250260e-01 -4.59854782e-01\n",
            "  -1.20101440e+00 -7.91547820e-03  6.66079624e-03  1.43494643e-02\n",
            "  -4.16009724e-01  5.26985228e-01  4.55119789e-01 -5.59877992e-01]]\n",
            "\n",
            "Relation Embeddings (5 first embeddings):\n",
            "[[-1.89924568e-01  6.35782164e-03 -9.72384587e-02  1.64313577e-02\n",
            "  -8.27982053e-02 -1.67188302e-01 -1.17403328e-01 -9.95353311e-02\n",
            "  -1.77765489e-02  1.73251703e-01  7.38379881e-02  1.18436269e-01\n",
            "   3.28459218e-02  1.60689369e-01 -6.71380106e-03  1.24369077e-02\n",
            "  -1.56688765e-01 -2.77681537e-02  7.94061050e-02  1.43526867e-01\n",
            "  -1.10230833e-01  1.73712164e-01  1.31998673e-01  1.63186803e-01\n",
            "   1.42725175e-02 -1.20371133e-01  9.07801911e-02 -1.18864231e-01\n",
            "   1.31357551e-01 -1.63269371e-01  1.99415535e-01  3.49413939e-02\n",
            "  -1.84331670e-01  1.07027255e-02  9.32395831e-02 -1.81208834e-01\n",
            "   6.50812685e-02 -5.72950542e-02 -1.40270203e-01 -6.90230429e-02\n",
            "   1.01262793e-01  1.42679825e-01  8.22208747e-02 -1.02250852e-01\n",
            "   1.86162785e-01  1.13085218e-01 -1.51868537e-01 -1.28673866e-01\n",
            "   3.52237187e-02  2.72779493e-04 -1.05707973e-01 -8.02748650e-02\n",
            "  -6.84893504e-03 -5.99494129e-02  1.27529979e-01 -3.34344469e-02\n",
            "   1.42561123e-01  1.25361562e-01 -3.89796235e-02 -1.72320038e-01\n",
            "  -1.88988656e-01 -1.12192869e-01  1.16220117e-01 -1.17529877e-01\n",
            "   8.77566263e-02  9.52525735e-02  3.71676944e-02  6.07035905e-02\n",
            "   1.20060459e-01 -3.39139551e-02  1.13301858e-01 -9.40664858e-02\n",
            "  -9.66868480e-04 -6.00030683e-02 -1.92502260e-01 -6.45664707e-02\n",
            "   2.92019974e-02  1.82298005e-01 -1.07515521e-01  1.32702857e-01\n",
            "   1.18418641e-01 -5.30430861e-03  2.24391334e-02 -1.86032113e-02\n",
            "   2.28073373e-02  1.38237268e-01  9.05120745e-02  9.13840756e-02\n",
            "   1.51875064e-01 -5.12886681e-02  2.42436696e-02  1.75148278e-01\n",
            "   1.94344997e-01  6.22936450e-02  1.43830841e-02  1.92098409e-01\n",
            "   1.50917679e-01  1.21113762e-01  1.64204448e-01  1.69671878e-01]\n",
            " [ 1.76577878e+00 -2.16339540e+00  2.22216010e+00  1.94316208e+00\n",
            "  -1.91579545e+00  2.12801242e+00 -2.02369022e+00 -2.03403974e+00\n",
            "   6.48140073e-01 -1.75522709e+00  1.97708035e+00  1.36459959e+00\n",
            "   1.26765001e+00  1.00319946e+00 -3.11440539e+00  1.28440928e+00\n",
            "   1.06181443e+00  2.14579701e+00 -2.33355284e+00 -2.06134844e+00\n",
            "  -2.70666003e+00  1.78262770e+00  1.09737182e+00  1.77256846e+00\n",
            "  -2.17142868e+00  1.47399497e+00 -3.14483285e+00  2.44384289e+00\n",
            "  -2.56189966e+00 -2.23218822e+00  1.55426800e+00  1.86323524e+00\n",
            "  -2.28505874e+00  1.19407904e+00  1.05145001e+00 -2.33053708e+00\n",
            "  -1.64909625e+00 -1.28709054e+00 -1.88334703e+00 -2.34071374e+00\n",
            "   1.66195083e+00  1.11508417e+00 -1.51038814e+00 -1.96974087e+00\n",
            "  -2.13711810e+00 -2.12375784e+00  1.11442357e-01  1.78015673e+00\n",
            "  -1.60803163e+00 -1.92776406e+00 -1.83588862e+00 -2.22363830e+00\n",
            "  -2.67196059e+00 -1.59401453e+00  5.84171116e-01  1.90318072e+00\n",
            "   6.24227107e-01 -2.50543380e+00  1.99031293e+00 -1.18088686e+00\n",
            "  -2.04724789e+00  2.24686289e+00 -2.39339781e+00 -2.12283993e+00\n",
            "   1.58980966e+00  2.19486713e+00  2.05541706e+00 -2.61965609e+00\n",
            "   1.85757136e+00 -2.07479930e+00 -2.38567686e+00 -1.35989499e+00\n",
            "   2.39285088e+00 -1.90454328e+00 -1.85262609e+00  9.53287065e-01\n",
            "   1.45111787e+00 -2.39475682e-01 -2.09497571e+00  1.96080458e+00\n",
            "   9.03030157e-01  1.35123730e+00 -2.88555193e+00  2.33286333e+00\n",
            "   2.36119437e+00 -1.84659898e+00 -1.78509545e+00 -2.81730461e+00\n",
            "   1.65440965e+00 -2.64024138e+00 -2.28838706e+00 -1.11634684e+00\n",
            "  -2.63090611e+00 -2.02015138e+00  2.14077544e+00  1.69859314e+00\n",
            "  -2.16177559e+00 -2.36386323e+00 -1.95664692e+00  2.03682733e+00]\n",
            " [ 1.45695913e+00  9.15464818e-01  1.89560735e+00 -6.02858067e-01\n",
            "   1.20291102e+00  8.59543324e-01  8.54551613e-01  1.18075848e+00\n",
            "  -1.83323467e+00  1.33203709e+00  1.32974577e+00  2.70165563e+00\n",
            "  -1.94925416e+00 -1.91468561e+00 -1.22150727e-01  7.73483813e-01\n",
            "  -1.72509110e+00 -1.36165297e+00 -1.86512733e+00  1.41720617e+00\n",
            "  -2.70043063e+00 -1.56539404e+00  6.10703051e-01  1.26877165e+00\n",
            "  -2.54501486e+00 -1.20184398e+00 -2.60848880e+00  4.59336609e-01\n",
            "  -1.95620406e+00 -2.08771944e+00  4.78199035e-01  2.14295030e+00\n",
            "   1.82242379e-01 -1.51569605e+00 -1.86009705e+00 -8.53425622e-01\n",
            "  -2.06319165e+00  1.81910229e+00  1.82874942e+00 -2.15709066e+00\n",
            "   1.10517514e+00  2.16824198e+00  2.08392286e+00 -2.05436826e+00\n",
            "   5.88533282e-01 -1.18570149e+00 -1.86888850e+00 -1.84590268e+00\n",
            "  -2.01202869e+00 -1.75267494e+00  1.50063348e+00 -5.02297521e-01\n",
            "  -2.25948524e+00  2.16377497e+00 -2.15593815e+00  2.37478328e+00\n",
            "   1.88124704e+00 -2.33837652e+00 -4.93354797e-01  2.02953482e+00\n",
            "   3.71750712e-01 -1.88945127e+00  1.32392311e+00 -2.89069915e+00\n",
            "   1.13483274e+00 -1.82405186e+00  1.97521210e+00 -4.35089320e-01\n",
            "  -2.31237078e+00  1.45310235e+00 -2.08282661e+00  2.24991083e+00\n",
            "  -1.62157798e+00  8.93357277e-01  2.09542915e-01 -1.80529666e+00\n",
            "  -1.66378653e+00  2.12747359e+00 -2.07455158e+00  4.84789103e-01\n",
            "  -2.02016854e+00  2.07167196e+00 -1.93677366e+00 -2.10213280e+00\n",
            "   1.48871434e+00 -2.22927141e+00  1.53886688e+00 -2.10048604e+00\n",
            "  -1.86056340e+00 -2.49403656e-01 -5.62276363e-01  2.28863668e+00\n",
            "  -1.62159419e+00  1.71050644e+00  1.70233333e+00 -2.88954949e+00\n",
            "   2.94786543e-01 -2.01452303e+00 -4.35758494e-02 -1.02500856e+00]\n",
            " [ 2.21995044e+00  1.70517278e+00 -7.62391269e-01  1.21275353e+00\n",
            "  -7.97991395e-01  2.58247113e+00  1.95229053e+00  1.52206743e+00\n",
            "   6.69282913e-01 -7.15806708e-02  1.73165035e+00 -2.09218812e+00\n",
            "  -1.19028389e+00  7.98594534e-01  1.28464031e+00  2.34092402e+00\n",
            "  -4.75960970e-01  7.24518836e-01 -1.66715169e+00  1.88192201e+00\n",
            "  -5.82309425e-01 -4.54416752e-01 -1.43186879e+00  1.58962643e+00\n",
            "   4.32424068e-01 -2.07674956e+00 -2.86376762e+00  6.08195066e-01\n",
            "   9.99073505e-01 -7.33342826e-01 -9.42984939e-01  1.67797756e+00\n",
            "   1.27209079e+00  6.19160771e-01 -6.52366281e-01 -4.36511248e-01\n",
            "  -8.94776106e-01  2.19998527e+00  8.81699026e-01 -1.63873589e+00\n",
            "   2.10565519e+00 -6.37102187e-01  1.92819083e+00 -2.13616538e+00\n",
            "  -7.64984310e-01 -1.81760681e+00 -1.03049946e+00 -7.99006879e-01\n",
            "   1.38135540e+00 -1.72432041e+00 -3.62908840e-02  2.10588002e+00\n",
            "   1.72603583e+00  1.23055756e+00  1.12612081e+00 -8.12616289e-01\n",
            "   1.78292763e+00  9.62270677e-01  2.50559121e-01  2.14756966e+00\n",
            "  -1.97088861e+00 -1.65859401e+00  2.08091378e+00 -3.71228546e-01\n",
            "  -6.56714678e-01  1.04732358e+00  9.29459870e-01  4.41349953e-01\n",
            "  -1.22130930e+00  1.73774207e+00 -9.13224041e-01 -4.23633695e-01\n",
            "  -1.33635700e+00  4.54340369e-01  1.62082088e+00  7.43111730e-01\n",
            "   1.15346611e-01  1.35172486e+00 -1.09880105e-01 -3.15232188e-01\n",
            "  -5.71601272e-01  6.12334073e-01 -1.23345435e+00  1.14735030e-01\n",
            "   9.42254663e-01 -1.56783271e+00  6.27658784e-01 -1.60929894e+00\n",
            "   3.01220268e-01 -9.90161777e-01  2.23165464e+00  6.05580509e-01\n",
            "   1.64315677e+00  2.54045224e+00  2.04218078e+00  5.54600954e-01\n",
            "  -1.85928535e+00 -2.10699058e+00 -8.91760349e-01  1.27639925e+00]\n",
            " [ 8.74429941e-01  1.53781205e-01  1.43255329e+00  1.54071677e+00\n",
            "   7.97464922e-02  4.00265336e-01  2.03425694e+00 -1.44115508e-01\n",
            "  -8.97119522e-01  3.78247678e-01  1.14234400e+00  4.47451584e-02\n",
            "  -1.34302104e+00 -1.49058604e+00  1.78146863e+00  1.17650092e+00\n",
            "  -1.89710474e+00 -1.04993105e+00 -1.86565685e+00  1.00560641e+00\n",
            "  -1.72909296e+00 -1.15212858e+00 -1.93657422e+00 -6.44433320e-01\n",
            "  -1.68003154e+00 -2.03891897e+00 -1.40559399e+00  1.68263161e+00\n",
            "  -2.23840404e+00 -1.58336163e+00  1.26764452e+00  2.44355187e-01\n",
            "  -3.69356543e-01 -1.88620114e+00 -2.10886455e+00 -1.12910724e+00\n",
            "  -1.51749825e+00  1.65796590e+00  1.62098622e+00 -1.73832202e+00\n",
            "   1.51537216e+00  1.95531952e+00 -1.39102161e-01 -1.24048257e+00\n",
            "   1.99779630e+00 -1.83510029e+00 -2.50997138e+00 -1.50205100e+00\n",
            "  -1.39733291e+00 -1.37193048e+00  1.44294667e+00  8.68122816e-01\n",
            "  -2.17118502e+00  2.14049172e+00 -1.56969130e+00  2.23581648e+00\n",
            "   2.13820553e+00 -1.76328421e+00 -1.57303214e+00  1.55483568e+00\n",
            "   1.66853344e+00 -4.43140894e-01  7.08145320e-01 -1.18101291e-01\n",
            "   1.93978333e+00 -8.27324986e-01  1.45312226e+00  1.36740458e+00\n",
            "  -6.43422663e-01  1.67888093e+00 -1.99645758e+00  1.42832506e+00\n",
            "  -1.63960433e+00  1.45887554e+00  9.33553696e-01 -1.73270857e+00\n",
            "   7.73365974e-01  1.87096345e+00 -5.12121394e-02  9.37246740e-01\n",
            "  -1.00094604e+00  1.58524764e+00 -2.29294157e+00 -1.01994348e+00\n",
            "   9.28666055e-01 -1.82829905e+00  1.29180670e+00 -1.13939583e+00\n",
            "  -1.42041779e+00 -8.16949785e-01 -1.74015379e+00  1.84834778e+00\n",
            "  -2.07356381e+00  1.70151114e+00  1.16502845e+00 -1.53592372e+00\n",
            "   1.09498441e+00 -1.47332346e+00  2.32933145e-02 -1.94277763e+00]]\n"
          ]
        }
      ]
    },
    {
      "cell_type": "code",
      "source": [
        "# Batch size untuk proses prediksi\n",
        "batch_size_pred = 32\n",
        "\n",
        "# Mengumpulkan semua entitas sebagai daftar\n",
        "all_entities_list = list(range(num_entities))\n",
        "\n",
        "# Menyiapkan dataset untuk proses prediksi\n",
        "prediction_dataset = TensorDataset(triples_tensor)\n",
        "prediction_loader = DataLoader(prediction_dataset, batch_size=batch_size_pred, shuffle=False)\n",
        "\n",
        "# Fungsi untuk memprediksi triples menggunakan model\n",
        "def predict_triples(model, data_loader):\n",
        "    model.eval()  # Set model ke mode evaluasi\n",
        "    predicted_triples = []\n",
        "\n",
        "    with torch.no_grad():\n",
        "        for triplets in data_loader:\n",
        "            scores = model(triplets[0])\n",
        "            predicted_triples.extend(scores.tolist())\n",
        "\n",
        "    return predicted_triples\n",
        "\n",
        "# Prediksi triples\n",
        "predicted_triples = predict_triples(model, prediction_loader)\n",
        "predicted_triples[:5]"
      ],
      "metadata": {
        "colab": {
          "base_uri": "https://localhost:8080/"
        },
        "id": "PJQqclbZuojV",
        "outputId": "916f2ed9-4a15-42c9-f698-c8db54625430"
      },
      "execution_count": null,
      "outputs": [
        {
          "output_type": "execute_result",
          "data": {
            "text/plain": [
              "[0.044398628175258636,\n",
              " 23.521202087402344,\n",
              " 16.03199005126953,\n",
              " 22.245325088500977,\n",
              " 14.509486198425293]"
            ]
          },
          "metadata": {},
          "execution_count": 177
        }
      ]
    },
    {
      "cell_type": "code",
      "source": [
        "# Fungsi untuk memetakan kembali indeks ke URI\n",
        "def map_indices_to_uris(triples_idx, entity2idx, relation2idx):\n",
        "    # Membuat reverse mapping dari indeks ke URI\n",
        "    idx2entity = {idx: uri for uri, idx in entity2idx.items()}\n",
        "    idx2relation = {idx: uri for uri, idx in relation2idx.items()}\n",
        "\n",
        "    # Memetakan kembali indeks ke URI\n",
        "    triples_uri = [(idx2entity[h], idx2relation[r], idx2entity[t]) for h, r, t in triples_idx]\n",
        "    return triples_uri\n",
        "\n",
        "# Memetakan kembali triples indeks ke URI\n",
        "triples_uri = map_indices_to_uris(triples_idx, entity2idx, relation2idx)\n",
        "\n",
        "# Menyimpan triples URI dalam file teks\n",
        "output_file_path = 'predicted_triples_7_no_ontology.txt'\n",
        "with open(output_file_path, 'w') as file:\n",
        "    for triple in triples_uri:\n",
        "        file.write(f\"{triple[0]}, {triple[1]}, {triple[2]}\\n\")\n",
        "\n",
        "output_file_path\n"
      ],
      "metadata": {
        "colab": {
          "base_uri": "https://localhost:8080/",
          "height": 36
        },
        "id": "sNg3w9yrusm2",
        "outputId": "49e75845-8c41-4a80-846d-8857b600b4c3"
      },
      "execution_count": null,
      "outputs": [
        {
          "output_type": "execute_result",
          "data": {
            "text/plain": [
              "'predicted_triples_7_no_ontology.txt'"
            ],
            "application/vnd.google.colaboratory.intrinsic+json": {
              "type": "string"
            }
          },
          "metadata": {},
          "execution_count": 178
        }
      ]
    },
    {
      "cell_type": "markdown",
      "source": [
        "# **Ubah string ke URI-7**"
      ],
      "metadata": {
        "id": "21S3plEIuxuP"
      }
    },
    {
      "cell_type": "code",
      "source": [
        "# Membaca file\n",
        "file_path = '/content/predicted_triples_7_no_ontology.txt'\n",
        "\n",
        "with open(file_path, 'r') as file:\n",
        "    sample_lines = [next(file) for _ in range(5)]\n",
        "\n",
        "sample_lines\n"
      ],
      "metadata": {
        "colab": {
          "base_uri": "https://localhost:8080/"
        },
        "id": "zUrEkXjOuw5y",
        "outputId": "c660a320-b7dd-44e9-abf2-11382eb4749d"
      },
      "execution_count": null,
      "outputs": [
        {
          "output_type": "execute_result",
          "data": {
            "text/plain": [
              "['http://kgc.knowledge-graph.jp/data/SpeckledBand/283, http://kgc.knowledge-graph.jp/ontology/kgc.owl#hasPredicate, http://kgc.knowledge-graph.jp/data/SpeckledBand/sleep\\n',\n",
              " 'http://kgc.knowledge-graph.jp/data/SpeckledBand/373, http://www.w3.org/1999/02/22-rdf-syntax-ns#type, http://kgc.knowledge-graph.jp/ontology/kgc.owl#Scene\\n',\n",
              " 'http://kgc.knowledge-graph.jp/data/SpeckledBand/398, http://kgc.knowledge-graph.jp/ontology/kgc.owl#hasPart, http://kgc.knowledge-graph.jp/data/SpeckledBand/snake\\n',\n",
              " 'http://kgc.knowledge-graph.jp/data/SpeckledBand/370, http://www.w3.org/1999/02/22-rdf-syntax-ns#type, http://kgc.knowledge-graph.jp/ontology/kgc.owl#Scene\\n',\n",
              " 'http://kgc.knowledge-graph.jp/data/SpeckledBand/death_day_of_mother_of_Helen, http://kgc.knowledge-graph.jp/ontology/kgc.owl#ofWhole, http://kgc.knowledge-graph.jp/data/SpeckledBand/mother\\n']"
            ]
          },
          "metadata": {},
          "execution_count": 179
        }
      ]
    },
    {
      "cell_type": "code",
      "source": [
        "import re\n",
        "\n",
        "# base URI yang digunakan\n",
        "base_uri = \"http://kgc.knowledge-graph.jp/data/SpeckledBand/\"\n",
        "\n",
        "import re\n",
        "def is_uri(s):\n",
        "    return s.startswith('http://') or s.startswith('https://')\n",
        "\n",
        "def convert_to_uri(s, base_uri):\n",
        "    return base_uri + re.sub(r'\\s+', '_', s.strip())\n",
        "def process_triples_corrected(input_file_path, output_file_path, base_uri):\n",
        "    with open(input_file_path, 'r') as input_file, open(output_file_path, 'w') as output_file:\n",
        "        for line in input_file:\n",
        "            parts = line.split(',', maxsplit=2)\n",
        "            if len(parts) == 3:\n",
        "                subject, predicate, obj = [part.strip() for part in parts]\n",
        "\n",
        "                # Hanya mengubah menjadi URI jika belum dalam format URI\n",
        "                if not is_uri(subject):\n",
        "                    subject = convert_to_uri(subject, base_uri)\n",
        "                if not is_uri(predicate):\n",
        "                    predicate = convert_to_uri(predicate, base_uri)\n",
        "                if not is_uri(obj):\n",
        "                    obj = convert_to_uri(obj, base_uri)\n",
        "\n",
        "                output_file.write(f\"{subject}, {predicate}, {obj}\\n\")\n",
        "            else:\n",
        "                print(f\"Invalid line format: {line}\")\n",
        "\n",
        "process_triples_corrected('predicted_triples_7_no_ontology.txt', 'processed_triples_7_no_ontology.txt', base_uri)\n",
        "\n"
      ],
      "metadata": {
        "id": "mXQwYWBEu4eA"
      },
      "execution_count": null,
      "outputs": []
    },
    {
      "cell_type": "code",
      "source": [
        "def check_for_non_uri_entities(file_path, base_uri):\n",
        "    non_uri_entities = set()\n",
        "\n",
        "    with open(file_path, 'r') as file:\n",
        "        for line in file:\n",
        "            parts = line.split(',', maxsplit=2)\n",
        "            if len(parts) == 3:\n",
        "                subject, predicate, obj = [part.strip() for part in parts]\n",
        "\n",
        "                # Cek apakah subject, predicate, dan object sudah dalam format URI\n",
        "                if not is_uri(subject):\n",
        "                    non_uri_entities.add(subject)\n",
        "                if not is_uri(predicate):\n",
        "                    non_uri_entities.add(predicate)\n",
        "                if not is_uri(obj):\n",
        "                    non_uri_entities.add(obj)\n",
        "\n",
        "    return non_uri_entities\n",
        "\n",
        "# Menetapkan jalur file output yang benar\n",
        "corrected_output_file_path = '/content/processed_triples_7_no_ontology.txt'\n",
        "\n",
        "# Menjalankan fungsi untuk mengecek file yang telah diproses\n",
        "non_uri_entities_in_corrected_file = check_for_non_uri_entities(corrected_output_file_path, base_uri)\n",
        "non_uri_entities_in_corrected_file"
      ],
      "metadata": {
        "colab": {
          "base_uri": "https://localhost:8080/"
        },
        "id": "PdYnZCexu7uK",
        "outputId": "a54236dc-eb09-4fd6-be9a-0674a358dd1c"
      },
      "execution_count": null,
      "outputs": [
        {
          "output_type": "execute_result",
          "data": {
            "text/plain": [
              "set()"
            ]
          },
          "metadata": {},
          "execution_count": 182
        }
      ]
    },
    {
      "cell_type": "markdown",
      "source": [
        "# **Gabungkan hasil embedding ke new tripple - 7**"
      ],
      "metadata": {
        "id": "ole3BvYNvF2b"
      }
    },
    {
      "cell_type": "code",
      "source": [
        "# Membaca file file hasil embedding\n",
        "file_path = '/content/processed_triples_7_no_ontology.txt'\n",
        "\n",
        "with open(file_path, 'r') as file:\n",
        "    processed_triples_content = file.read()\n",
        "\n",
        "# Menanpilkan data\n",
        "print(processed_triples_content[:500])  # Menampilkan preview 500 karakter\n"
      ],
      "metadata": {
        "colab": {
          "base_uri": "https://localhost:8080/"
        },
        "id": "x2HznFEDvCvk",
        "outputId": "acd91c11-ba20-4d8f-c554-d02d81ac7073"
      },
      "execution_count": null,
      "outputs": [
        {
          "output_type": "stream",
          "name": "stdout",
          "text": [
            "http://kgc.knowledge-graph.jp/data/SpeckledBand/283, http://kgc.knowledge-graph.jp/ontology/kgc.owl#hasPredicate, http://kgc.knowledge-graph.jp/data/SpeckledBand/sleep\n",
            "http://kgc.knowledge-graph.jp/data/SpeckledBand/373, http://www.w3.org/1999/02/22-rdf-syntax-ns#type, http://kgc.knowledge-graph.jp/ontology/kgc.owl#Scene\n",
            "http://kgc.knowledge-graph.jp/data/SpeckledBand/398, http://kgc.knowledge-graph.jp/ontology/kgc.owl#hasPart, http://kgc.knowledge-graph.jp/data/SpeckledBand/snake\n",
            "http://kgc.kno\n"
          ]
        }
      ]
    },
    {
      "cell_type": "code",
      "source": [
        "# Membaca file\n",
        "file_path = '/content/new_triplets_reasoner_7_no_ontology.txt'\n",
        "\n",
        "with open(file_path, 'r') as file:\n",
        "    sample_lines = [next(file) for _ in range(5)]\n",
        "\n",
        "sample_lines\n"
      ],
      "metadata": {
        "colab": {
          "base_uri": "https://localhost:8080/"
        },
        "id": "5pUPvLlXvMNt",
        "outputId": "d76f68a9-a243-413b-9b91-9319edc33e07"
      },
      "execution_count": null,
      "outputs": [
        {
          "output_type": "execute_result",
          "data": {
            "text/plain": [
              "['http://kgc.knowledge-graph.jp/data/SpeckledBand/knee, http://www.w3.org/2000/01/rdf-schema#label, knee\\n',\n",
              " 'http://kgc.knowledge-graph.jp/data/SpeckledBand/115, http://kgc.knowledge-graph.jp/ontology/kgc.owl#source, There was a hole in the wall of bedroom of Helen.\\n',\n",
              " 'http://kgc.knowledge-graph.jp/data/SpeckledBand/78, http://kgc.knowledge-graph.jp/ontology/kgc.owl#time, 1881-12-02T00:00:00\\n',\n",
              " 'http://kgc.knowledge-graph.jp/data/SpeckledBand/61, http://kgc.knowledge-graph.jp/ontology/kgc.owl#source, Helen is sleeping\\n',\n",
              " 'http://kgc.knowledge-graph.jp/data/SpeckledBand/suspect, http://www.w3.org/2000/01/rdf-schema#label, suspect\\n']"
            ]
          },
          "metadata": {},
          "execution_count": 184
        }
      ]
    },
    {
      "cell_type": "code",
      "source": [
        "import re\n",
        "\n",
        "# base URI yang digunakan\n",
        "base_uri = \"http://kgc.knowledge-graph.jp/data/SpeckledBand/\"\n",
        "\n",
        "import re\n",
        "def is_uri(s):\n",
        "    return s.startswith('http://') or s.startswith('https://')\n",
        "\n",
        "def convert_to_uri(s, base_uri):\n",
        "    return base_uri + re.sub(r'\\s+', '_', s.strip())\n",
        "def process_triples_corrected(input_file_path, output_file_path, base_uri):\n",
        "    with open(input_file_path, 'r') as input_file, open(output_file_path, 'w') as output_file:\n",
        "        for line in input_file:\n",
        "            parts = line.split(',', maxsplit=2)\n",
        "            if len(parts) == 3:\n",
        "                subject, predicate, obj = [part.strip() for part in parts]\n",
        "\n",
        "                # Hanya mengubah menjadi URI jika belum dalam format URI\n",
        "                if not is_uri(subject):\n",
        "                    subject = convert_to_uri(subject, base_uri)\n",
        "                if not is_uri(predicate):\n",
        "                    predicate = convert_to_uri(predicate, base_uri)\n",
        "                if not is_uri(obj):\n",
        "                    obj = convert_to_uri(obj, base_uri)\n",
        "\n",
        "                output_file.write(f\"{subject}, {predicate}, {obj}\\n\")\n",
        "            else:\n",
        "                print(f\"Invalid line format: {line}\")\n",
        "\n",
        "process_triples_corrected('new_triplets_reasoner_7_no_ontology.txt', 'new_triplets_reasoner_7_no_ontology_cleaned.txt', base_uri)"
      ],
      "metadata": {
        "id": "1h3irIAKvNa3"
      },
      "execution_count": null,
      "outputs": []
    },
    {
      "cell_type": "code",
      "source": [
        "def check_for_non_uri_entities(file_path, base_uri):\n",
        "    non_uri_entities = set()\n",
        "\n",
        "    with open(file_path, 'r') as file:\n",
        "        for line in file:\n",
        "            parts = line.split(',', maxsplit=2)\n",
        "            if len(parts) == 3:\n",
        "                subject, predicate, obj = [part.strip() for part in parts]\n",
        "\n",
        "                # Cek apakah subject, predicate, dan object sudah dalam format URI\n",
        "                if not is_uri(subject):\n",
        "                    non_uri_entities.add(subject)\n",
        "                if not is_uri(predicate):\n",
        "                    non_uri_entities.add(predicate)\n",
        "                if not is_uri(obj):\n",
        "                    non_uri_entities.add(obj)\n",
        "\n",
        "    return non_uri_entities\n",
        "\n",
        "# Menetapkan jalur file output yang benar\n",
        "corrected_output_file_path = 'new_triplets_reasoner_7_no_ontology_cleaned.txt'\n",
        "\n",
        "# Menjalankan fungsi untuk mengecek file yang telah diproses\n",
        "non_uri_entities_in_corrected_file = check_for_non_uri_entities(corrected_output_file_path, base_uri)\n",
        "non_uri_entities_in_corrected_file"
      ],
      "metadata": {
        "colab": {
          "base_uri": "https://localhost:8080/"
        },
        "id": "Dr0t7at4vTaD",
        "outputId": "196da591-84b8-4109-9fdf-39b8609fb3c5"
      },
      "execution_count": null,
      "outputs": [
        {
          "output_type": "execute_result",
          "data": {
            "text/plain": [
              "set()"
            ]
          },
          "metadata": {},
          "execution_count": 186
        }
      ]
    },
    {
      "cell_type": "code",
      "source": [
        "# Lokasi file teks\n",
        "file_path_1 = 'processed_triples_7_no_ontology.txt'\n",
        "file_path_2 = 'new_triplets_reasoner_7_no_ontology_cleaned.txt'\n",
        "\n",
        "# Fungsi untuk membaca isi file\n",
        "def read_file(file_path):\n",
        "    with open(file_path, 'r') as file:\n",
        "        return file.readlines()\n",
        "\n",
        "# Baca kedua file\n",
        "content_1 = read_file(file_path_1)\n",
        "content_2 = read_file(file_path_2)\n",
        "\n",
        "# Gabungkan konten\n",
        "combined_content = content_1 + content_2\n",
        "\n",
        "# Lokasi file output\n",
        "output_file_path = 'combined_triples_7_no_ontology.txt'\n",
        "\n",
        "# Menulis konten gabungan ke file baru\n",
        "with open(output_file_path, 'w') as output_file:\n",
        "    output_file.writelines(combined_content)\n",
        "\n",
        "output_file_path\n"
      ],
      "metadata": {
        "colab": {
          "base_uri": "https://localhost:8080/",
          "height": 36
        },
        "id": "yo1dzbyJvXZD",
        "outputId": "a9bead5c-a9dc-4b6f-e660-546a903e549d"
      },
      "execution_count": null,
      "outputs": [
        {
          "output_type": "execute_result",
          "data": {
            "text/plain": [
              "'combined_triples_7_no_ontology.txt'"
            ],
            "application/vnd.google.colaboratory.intrinsic+json": {
              "type": "string"
            }
          },
          "metadata": {},
          "execution_count": 187
        }
      ]
    },
    {
      "cell_type": "code",
      "source": [
        "# Lokasi file teks\n",
        "file_path = 'combined_triples_7_no_ontology.txt'\n",
        "\n",
        "# Fungsi untuk membaca isi file dan memeriksa duplikasi\n",
        "def check_for_duplicates(file_path):\n",
        "    with open(file_path, 'r') as file:\n",
        "        triples = [line.strip() for line in file]\n",
        "\n",
        "    triples_set = set(triples)\n",
        "    return len(triples), len(triples_set), len(triples) != len(triples_set)\n",
        "\n",
        "# Memeriksa duplikasi\n",
        "total_triples, unique_triples, has_duplicates = check_for_duplicates(file_path)\n",
        "\n",
        "print(f\"Total Triplets: {total_triples}\")\n",
        "print(f\"Unique Triplets: {unique_triples}\")\n",
        "print(f\"Apakah ada duplikat? {'Ya' if has_duplicates else 'Tidak'}\")\n"
      ],
      "metadata": {
        "colab": {
          "base_uri": "https://localhost:8080/"
        },
        "id": "9_WmNPVVvc22",
        "outputId": "edf46669-1c60-47af-be4f-9e0c35fe0891"
      },
      "execution_count": null,
      "outputs": [
        {
          "output_type": "stream",
          "name": "stdout",
          "text": [
            "Total Triplets: 11293\n",
            "Unique Triplets: 10320\n",
            "Apakah ada duplikat? Ya\n"
          ]
        }
      ]
    },
    {
      "cell_type": "code",
      "source": [
        "# Lokasi file teks\n",
        "file_path = 'combined_triples_7_no_ontology.txt'\n",
        "\n",
        "# Fungsi untuk membaca isi file dan menemukan duplikasi\n",
        "def find_duplicates(file_path):\n",
        "    with open(file_path, 'r') as file:\n",
        "        triples = [line.strip() for line in file]\n",
        "\n",
        "    # Menemukan dan mengembalikan duplikasi\n",
        "    seen = set()\n",
        "    duplicates = set()\n",
        "    for triplet in triples:\n",
        "        if triplet in seen:\n",
        "            duplicates.add(triplet)\n",
        "        seen.add(triplet)\n",
        "\n",
        "    return duplicates\n",
        "\n",
        "# Menemukan duplikasi\n",
        "duplicates = find_duplicates(file_path)\n",
        "\n",
        "# Tampilkan beberapa duplikasi\n",
        "list(duplicates)[:10]  # Tampilkan 10 duplikasi pertama\n",
        "\n"
      ],
      "metadata": {
        "colab": {
          "base_uri": "https://localhost:8080/"
        },
        "id": "zfS1GpXxvgoj",
        "outputId": "3e6951c6-25c6-47c1-e0aa-d1efc45fb346"
      },
      "execution_count": null,
      "outputs": [
        {
          "output_type": "execute_result",
          "data": {
            "text/plain": [
              "['http://kgc.knowledge-graph.jp/data/SpeckledBand/283, http://kgc.knowledge-graph.jp/ontology/kgc.owl#source, http://kgc.knowledge-graph.jp/data/SpeckledBand/A_woman_is_sleeping_on_the_bed.',\n",
              " 'http://kgc.knowledge-graph.jp/data/SpeckledBand/end, http://www.w3.org/2000/01/rdf-schema#label, http://kgc.knowledge-graph.jp/data/SpeckledBand/end',\n",
              " 'http://kgc.knowledge-graph.jp/data/SpeckledBand/270, http://kgc.knowledge-graph.jp/ontology/kgc.owl#source, http://kgc.knowledge-graph.jp/data/SpeckledBand/Holmes_and_Watson_can_see_the_mansion_of_Stoke_Moran_from_the_Crown_Inn.',\n",
              " 'http://kgc.knowledge-graph.jp/data/SpeckledBand/exist, http://www.w3.org/2000/01/rdf-schema#label, http://kgc.knowledge-graph.jp/data/SpeckledBand/exist',\n",
              " 'http://kgc.knowledge-graph.jp/data/SpeckledBand/380, http://kgc.knowledge-graph.jp/ontology/kgc.owl#source, http://kgc.knowledge-graph.jp/data/SpeckledBand/Snake_poison_has_immediate_effect.',\n",
              " 'http://kgc.knowledge-graph.jp/data/SpeckledBand/247, http://kgc.knowledge-graph.jp/ontology/kgc.owl#source, http://kgc.knowledge-graph.jp/data/SpeckledBand/There_is_a_leopard_in_the_mansion.',\n",
              " 'http://kgc.knowledge-graph.jp/data/SpeckledBand/216, http://kgc.knowledge-graph.jp/ontology/kgc.owl#source, http://kgc.knowledge-graph.jp/data/SpeckledBand/The_pulling_rope_of_the_doorbell_is_tied_to_a_crochet_around_a_small_hole_for_vantilation.',\n",
              " 'http://kgc.knowledge-graph.jp/data/SpeckledBand/everything, http://www.w3.org/2000/01/rdf-schema#label, http://kgc.knowledge-graph.jp/data/SpeckledBand/everything',\n",
              " 'http://kgc.knowledge-graph.jp/data/SpeckledBand/262, http://kgc.knowledge-graph.jp/ontology/kgc.owl#source, http://kgc.knowledge-graph.jp/data/SpeckledBand/After_that,_Helen_goes_to_the_bedroom_of_Helen.',\n",
              " 'http://kgc.knowledge-graph.jp/data/SpeckledBand/living_room, http://www.w3.org/2000/01/rdf-schema#label, http://kgc.knowledge-graph.jp/data/SpeckledBand/living_room']"
            ]
          },
          "metadata": {},
          "execution_count": 189
        }
      ]
    },
    {
      "cell_type": "code",
      "source": [
        "# Lokasi file teks\n",
        "input_file_path = 'combined_triples_7_no_ontology.txt'\n",
        "output_file_path = 'combined_triples_removed_duplicate_7_no_ontology.txt'\n",
        "\n",
        "# Fungsi untuk membaca file dan menghilangkan duplikasi\n",
        "def remove_duplicates(input_file_path, output_file_path):\n",
        "    with open(input_file_path, 'r') as file:\n",
        "        unique_triples = set(file.readlines())\n",
        "\n",
        "    with open(output_file_path, 'w') as file:\n",
        "        file.writelines(unique_triples)\n",
        "\n",
        "    return output_file_path\n",
        "\n",
        "# Menghapus duplikasi dan menyimpan hasilnya\n",
        "unique_file_path = remove_duplicates(input_file_path, output_file_path)\n",
        "unique_file_path\n"
      ],
      "metadata": {
        "colab": {
          "base_uri": "https://localhost:8080/",
          "height": 36
        },
        "id": "SUwcTmgIvk85",
        "outputId": "4fdf5998-a572-4077-b4c3-fb5b0edebd35"
      },
      "execution_count": null,
      "outputs": [
        {
          "output_type": "execute_result",
          "data": {
            "text/plain": [
              "'combined_triples_removed_duplicate_7_no_ontology.txt'"
            ],
            "application/vnd.google.colaboratory.intrinsic+json": {
              "type": "string"
            }
          },
          "metadata": {},
          "execution_count": 190
        }
      ]
    },
    {
      "cell_type": "markdown",
      "source": [
        "#**Bandingkan merged result dan hasil ekstraksi tripple merged result iterasi ke 7**"
      ],
      "metadata": {
        "id": "eYKJJ_qKvrby"
      }
    },
    {
      "cell_type": "code",
      "source": [
        "# Membaca isi dari kedua file teks\n",
        "file_path_sb = '/content/triples_output_reasoner_6_no_ontology.txt'\n",
        "file_path_merged_result = 'combined_triples_removed_duplicate_7_no_ontology.txt'\n",
        "def read_triplets(file_path):\n",
        "    \"\"\" Membaca file teks dan mengembalikan set dari triplets. \"\"\"\n",
        "    with open(file_path, 'r') as file:\n",
        "        return set(file.readlines())\n",
        "\n",
        "# Membaca triplets dari kedua file\n",
        "triplets_sb = read_triplets(file_path_sb)\n",
        "triplets_merged_result = read_triplets(file_path_merged_result)\n",
        "\n",
        "# Mencari triplets baru yang unik di merged_result\n",
        "new_triplets = triplets_merged_result - triplets_sb\n",
        "\n",
        "# Jumlah new triplets\n",
        "len(new_triplets), list(new_triplets)[:10]  # Menampilkan 10 contoh triplets baru\n",
        "\n"
      ],
      "metadata": {
        "colab": {
          "base_uri": "https://localhost:8080/"
        },
        "id": "l-fJsLyNvwV_",
        "outputId": "f06f4bcc-9b78-4c80-ffa0-3ac1594208da"
      },
      "execution_count": null,
      "outputs": [
        {
          "output_type": "execute_result",
          "data": {
            "text/plain": [
              "(9,\n",
              " ['http://www.semanticweb.org/fadilalafgani/ontologies/2024/0/untitled-ontology-204, http://www.w3.org/1999/02/22-rdf-syntax-ns#type, http://www.w3.org/2002/07/owl#Ontology\\n',\n",
              "  'http://www.semanticweb.org/fadilalafgani/ontologies/2024/0/untitled-ontology-218, http://www.w3.org/1999/02/22-rdf-syntax-ns#type, http://www.w3.org/2002/07/owl#Ontology\\n',\n",
              "  'http://www.semanticweb.org/fadilalafgani/ontologies/2024/0/untitled-ontology-219, http://www.w3.org/1999/02/22-rdf-syntax-ns#type, http://www.w3.org/2002/07/owl#Ontology\\n',\n",
              "  'http://www.semanticweb.org/fadilalafgani/ontologies/2024/0/untitled-ontology-216, http://www.w3.org/1999/02/22-rdf-syntax-ns#type, http://www.w3.org/2002/07/owl#Ontology\\n',\n",
              "  'http://www.semanticweb.org/fadilalafgani/ontologies/2024/0/untitled-ontology-221, http://www.w3.org/1999/02/22-rdf-syntax-ns#type, http://www.w3.org/2002/07/owl#Ontology\\n',\n",
              "  'http://kgc.knowledge-graph.jp/data/SpeckledBand/internal:anonymous-constants, http://www.w3.org/1999/02/22-rdf-syntax-ns#type, http://www.w3.org/2000/01/rdf-schema#Datatype\\n',\n",
              "  'http://kgc.knowledge-graph.jp/data/SpeckledBand/nc19ee249a3424c2ea0de3d8314d33a5fb1, http://www.w3.org/1999/02/22-rdf-syntax-ns#type, http://www.w3.org/2002/07/owl#Ontology\\n',\n",
              "  'http://www.semanticweb.org/fadilalafgani/ontologies/2024/0/untitled-ontology-217, http://www.w3.org/1999/02/22-rdf-syntax-ns#type, http://www.w3.org/2002/07/owl#Ontology\\n',\n",
              "  'http://kgc.knowledge-graph.jp/ontology/kgc.owl#time, http://www.w3.org/1999/02/22-rdf-syntax-ns#type, http://www.w3.org/2002/07/owl#DatatypeProperty\\n'])"
            ]
          },
          "metadata": {},
          "execution_count": 191
        }
      ]
    },
    {
      "cell_type": "markdown",
      "source": [
        "#**Memasukan merged result ke knowledge graph - 7**"
      ],
      "metadata": {
        "id": "tuD53BZNv2h7"
      }
    },
    {
      "cell_type": "code",
      "source": [
        "from rdflib import Graph, URIRef, Literal, Namespace\n",
        "\n",
        "# Lokasi file\n",
        "file_txt_path = 'combined_triples_removed_duplicate_7_no_ontology.txt'\n",
        "file_ttl_path = 'SpeckledBand_updated_6.ttl'\n",
        "file_ttl_output_path = 'SpeckledBand_updated_7.ttl'\n",
        "\n",
        "# Membuat graf RDF dari file Turtle\n",
        "graph = Graph()\n",
        "graph.parse(file_ttl_path, format='ttl')\n",
        "\n",
        "# Membaca file teks dan menambahkan triplets\n",
        "with open(file_txt_path, 'r') as file:\n",
        "    for line in file:\n",
        "        parts = line.strip().split(', ')\n",
        "        if len(parts) >= 3:\n",
        "            s = parts[0]\n",
        "            p = parts[1]\n",
        "            o = ', '.join(parts[2:])  # Menggabungkan kembali bagian objek\n",
        "            # Membuat triple dengan format yang sesuai\n",
        "            subject = URIRef(s)\n",
        "            predicate = URIRef(p)\n",
        "            object = URIRef(o) if o.startswith('http') else Literal(o)\n",
        "            graph.add((subject, predicate, object))\n",
        "\n",
        "# Menyimpan graf yang telah diperbarui ke dalam file Turtle baru\n",
        "graph.serialize(destination=file_ttl_output_path, format='turtle')\n",
        "\n",
        "file_ttl_output_path\n"
      ],
      "metadata": {
        "colab": {
          "base_uri": "https://localhost:8080/",
          "height": 36
        },
        "id": "OzwpQqbvv3o7",
        "outputId": "23c1fb02-e754-41eb-d3db-93f9aa498a11"
      },
      "execution_count": null,
      "outputs": [
        {
          "output_type": "execute_result",
          "data": {
            "text/plain": [
              "'SpeckledBand_updated_7.ttl'"
            ],
            "application/vnd.google.colaboratory.intrinsic+json": {
              "type": "string"
            }
          },
          "metadata": {},
          "execution_count": 192
        }
      ]
    },
    {
      "cell_type": "code",
      "source": [],
      "metadata": {
        "id": "rH9XWLGfv7_s"
      },
      "execution_count": null,
      "outputs": []
    }
  ]
}